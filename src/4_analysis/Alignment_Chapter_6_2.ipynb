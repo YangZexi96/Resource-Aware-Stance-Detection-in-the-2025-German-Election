{
 "cells": [
  {
   "cell_type": "code",
   "execution_count": 5,
   "id": "075edd9e",
   "metadata": {},
   "outputs": [
    {
     "name": "stdout",
     "output_type": "stream",
     "text": [
      "Initialisierung abgeschlossen\n",
      "Stance Mirror: (772378, 15) | Stance Aug: (493426, 15) | Gesamt: (1265804, 15)\n",
      "Poll-Dateien geladen: 7 | Polls Shape: (113, 15)\n",
      "Election Results Shape: (7, 4)\n",
      "Export-Pfad: E:\\Final_Github_1\\MasterThesis_final\\data\\analysis\\Alignment_6_2\n"
     ]
    }
   ],
   "source": [
    "# Initialisierung und Daten laden\n",
    "\n",
    "# Imports\n",
    "import pandas as pd\n",
    "import numpy as np\n",
    "from scipy.stats import pearsonr, spearmanr\n",
    "from scipy.spatial import distance\n",
    "from pathlib import Path\n",
    "import json\n",
    "\n",
    "# Farbdefinitionen\n",
    "party_colors = {\n",
    "    \"CDU/CSU\": \"#000000\",\n",
    "    \"AfD\": \"#0056FF\",\n",
    "    \"SPD\": \"#E3000F\",\n",
    "    \"B90/GRÜNE\": \"#1FA12E\",\n",
    "    \"LINKE\": \"#A3488A\",\n",
    "    \"BSW\": \"#D77AFF\",\n",
    "    \"FDP\": \"#FFED00\",\n",
    "    \"FW\": \"#FF9900\",\n",
    "    \"Sonstige\": \"#B0B0B0\"\n",
    "}\n",
    "\n",
    "# Stance-Daten\n",
    "DATA_PATH1 = r\"E:\\Final_Github_1\\MasterThesis_final\\data\\processed\\preprocessing\\mirror\\mirror_llama_final.csv\"\n",
    "DATA_PATH2 = r\"E:\\Final_Github_1\\MasterThesis_final\\data\\processed\\preprocessing\\augmentation\\augmentation_llama_final.csv\"\n",
    "\n",
    "df_mirror = pd.read_csv(DATA_PATH1, sep=\";\", encoding=\"utf-8-sig\", dtype={\"timestamp\": str})\n",
    "df_aug    = pd.read_csv(DATA_PATH2, sep=\";\", encoding=\"utf-8-sig\", dtype={\"timestamp\": str})\n",
    "\n",
    "cdu_variants = [\"CDU\", \"CSU\", \"CDU/CSU\"]\n",
    "for df in [df_mirror, df_aug]:\n",
    "    if \"party\" in df.columns:\n",
    "        df[\"party\"] = df[\"party\"].replace(cdu_variants, \"CDU/CSU\")\n",
    "\n",
    "df_mirror[\"source\"] = \"Mirror\"\n",
    "df_aug[\"source\"]    = \"Augmentation\"\n",
    "df_all = pd.concat([df_mirror, df_aug], ignore_index=True)\n",
    "\n",
    "# Poll-Daten\n",
    "POLL_PATH = Path(r\"E:\\Final_Github_1\\MasterThesis_final\\data\\raw\\list\\polls\")\n",
    "poll_files = list(POLL_PATH.glob(\"*.csv\"))\n",
    "polls_all = pd.concat(\n",
    "    [pd.read_csv(f, sep=\";\", encoding=\"utf-8-sig\", dtype=str).assign(source_file=f.name) for f in poll_files],\n",
    "    ignore_index=True\n",
    ")\n",
    "\n",
    "# Election Results\n",
    "ELECTION_PATH = Path(r\"E:\\Final_Github_1\\MasterThesis_final\\data\\raw\\list\\election_results_2021_2025.csv\")\n",
    "election_results = pd.read_csv(ELECTION_PATH, sep=\";\", encoding=\"utf-8-sig\", dtype=str)\n",
    "\n",
    "# Jensen-Shannon Divergenz\n",
    "def jensen_shannon(p, q):\n",
    "    p = np.array(p, dtype=float); p = p / p.sum() if p.sum() != 0 else p\n",
    "    q = np.array(q, dtype=float); q = q / q.sum() if q.sum() != 0 else q\n",
    "    m = 0.5 * (p + q)\n",
    "    p = np.where(p == 0, 1e-12, p)\n",
    "    q = np.where(q == 0, 1e-12, q)\n",
    "    m = np.where(m == 0, 1e-12, m)\n",
    "    kl_pm = np.sum(p * np.log(p / m))\n",
    "    kl_qm = np.sum(q * np.log(q / m))\n",
    "    return 0.5 * (kl_pm + kl_qm)\n",
    "\n",
    "# Export-Pfad für Analysen\n",
    "EXPORT_PATH = Path(r\"E:\\Final_Github_1\\MasterThesis_final\\data\\analysis\\Alignment_6_2\")\n",
    "EXPORT_PATH.mkdir(parents=True, exist_ok=True)\n",
    "\n",
    "# Hilfsfunktionen zum Speichern\n",
    "def save_df(df: pd.DataFrame, filename: str):\n",
    "    \"\"\"Speichert einen DataFrame im EXPORT_PATH.\"\"\"\n",
    "    out_path = EXPORT_PATH / filename\n",
    "    df.to_csv(out_path, sep=\";\", index=False, encoding=\"utf-8-sig\")\n",
    "    print(f\"[OK] DataFrame gespeichert: {out_path}\")\n",
    "\n",
    "def save_json(obj: dict, filename: str):\n",
    "    \"\"\"Speichert ein Dictionary/Objekt als JSON im EXPORT_PATH.\"\"\"\n",
    "    out_path = EXPORT_PATH / filename\n",
    "    with open(out_path, \"w\", encoding=\"utf-8\") as f:\n",
    "        json.dump(obj, f, indent=2, ensure_ascii=False)\n",
    "    print(f\"[OK] JSON gespeichert: {out_path}\")\n",
    "\n",
    "print(\"Initialisierung abgeschlossen\")\n",
    "print(\"Stance Mirror:\", df_mirror.shape, \"| Stance Aug:\", df_aug.shape, \"| Gesamt:\", df_all.shape)\n",
    "print(\"Poll-Dateien geladen:\", len(poll_files), \"| Polls Shape:\", polls_all.shape)\n",
    "print(\"Election Results Shape:\", election_results.shape)\n",
    "print(\"Export-Pfad:\", EXPORT_PATH)\n"
   ]
  },
  {
   "cell_type": "code",
   "execution_count": 6,
   "id": "ce8feca4",
   "metadata": {},
   "outputs": [
    {
     "name": "stdout",
     "output_type": "stream",
     "text": [
      "       party        VI       NSI        SR       WSI       ASI  SupportSum  \\\n",
      "0        AfD  0.127409 -0.432938  0.251548 -0.055160  0.285985       35346   \n",
      "1  B90/GRÜNE  0.219859 -0.661995  0.127387 -0.145545  0.257855       31492   \n",
      "2        BSW  0.040796 -0.632727  0.128468 -0.025813  0.037007        5649   \n",
      "3    CDU/CSU  0.359797 -0.706180  0.103872 -0.254081  0.419152       42167   \n",
      "4        FDP  0.110122 -0.622298  0.147520 -0.068529  0.137855       18152   \n",
      "5      LINKE  0.039635 -0.625015  0.141216 -0.024772  0.053965        6171   \n",
      "6        SPD  0.102382 -0.739141  0.086164 -0.075674  0.057456        9972   \n",
      "\n",
      "   RejectSum  SupportDist  RejectDist  \n",
      "0     105168     0.237303    0.108288  \n",
      "1     215724     0.211428    0.222125  \n",
      "2      38323     0.037926    0.039460  \n",
      "3     363784     0.283097    0.374578  \n",
      "4     104896     0.121867    0.108008  \n",
      "5      37528     0.041430    0.038641  \n",
      "6     105761     0.066949    0.108899  \n",
      "[OK] Metriken gespeichert: E:\\Final_Github_1\\MasterThesis_final\\data\\analysis\\Alignment_6_2\\metrics_per_party.csv\n"
     ]
    }
   ],
   "source": [
    "# Berechnung der Online-Metriken pro Partei (inkl. korrigiertem ASI)\n",
    "\n",
    "metrics = []\n",
    "total_tweets = len(df_all)\n",
    "\n",
    "# Zähle pro User, wie viele Zustimmungen zu jeder Partei existieren\n",
    "user_party_support = (\n",
    "    df_all[df_all[\"pred\"] == \"Zustimmung\"]\n",
    "    .groupby([\"username\", \"party\"])\n",
    "    .size()\n",
    "    .reset_index(name=\"support_count\")\n",
    ")\n",
    "\n",
    "# Finde alle assigned users (mindestens 3 Zustimmungen für irgendeine Partei)\n",
    "assigned_global = user_party_support[user_party_support[\"support_count\"] >= 3][\"username\"].unique()\n",
    "total_assigned_users = len(assigned_global)\n",
    "\n",
    "for party, group in df_all.groupby(\"party\"):\n",
    "    S = (group[\"pred\"] == \"Zustimmung\").sum()\n",
    "    R = (group[\"pred\"] == \"Ablehnung\").sum()\n",
    "    N = (group[\"pred\"] == \"Neutral\").sum()\n",
    "    T = len(group)\n",
    "\n",
    "    # Volume Index (VI)\n",
    "    VI = T / total_tweets if total_tweets > 0 else 0\n",
    "\n",
    "    # Net Stance Index (NSI)\n",
    "    NSI = (S - R) / (S + R + N) if (S + R + N) > 0 else 0\n",
    "\n",
    "    # Support Ratio (SR)\n",
    "    SR = S / (S + R) if (S + R) > 0 else 0\n",
    "\n",
    "    # Weighted Stance Index (WSI)\n",
    "    WSI = NSI * VI\n",
    "\n",
    "    # Assigned Supporter Index (ASI)\n",
    "    assigned_users_party = user_party_support[\n",
    "        (user_party_support[\"party\"] == party) & (user_party_support[\"support_count\"] >= 3)\n",
    "    ][\"username\"].nunique()\n",
    "    ASI = assigned_users_party / total_assigned_users if total_assigned_users > 0 else 0\n",
    "\n",
    "    metrics.append([party, VI, NSI, SR, WSI, ASI, S, R])\n",
    "\n",
    "metrics_df = pd.DataFrame(\n",
    "    metrics,\n",
    "    columns=[\"party\", \"VI\", \"NSI\", \"SR\", \"WSI\", \"ASI\", \"SupportSum\", \"RejectSum\"]\n",
    ")\n",
    "\n",
    "# Support/Reject Distribution\n",
    "total_support = metrics_df[\"SupportSum\"].sum()\n",
    "total_reject = metrics_df[\"RejectSum\"].sum()\n",
    "metrics_df[\"SupportDist\"] = metrics_df[\"SupportSum\"] / total_support if total_support > 0 else 0\n",
    "metrics_df[\"RejectDist\"] = metrics_df[\"RejectSum\"] / total_reject if total_reject > 0 else 0\n",
    "\n",
    "print(metrics_df)\n",
    "\n",
    "# Ergebnisse nur als CSV speichern\n",
    "csv_path = EXPORT_PATH / \"metrics_per_party.csv\"\n",
    "metrics_df.to_csv(csv_path, sep=\";\", index=False, encoding=\"utf-8-sig\")\n",
    "\n",
    "print(f\"[OK] Metriken gespeichert: {csv_path}\")\n",
    "\n",
    "\n"
   ]
  },
  {
   "cell_type": "code",
   "execution_count": 7,
   "id": "a7a6f858",
   "metadata": {},
   "outputs": [
    {
     "name": "stdout",
     "output_type": "stream",
     "text": [
      "KL- und JSD-Divergenz gegen Wahl 2025\n"
     ]
    },
    {
     "data": {
      "text/html": [
       "<div>\n",
       "<style scoped>\n",
       "    .dataframe tbody tr th:only-of-type {\n",
       "        vertical-align: middle;\n",
       "    }\n",
       "\n",
       "    .dataframe tbody tr th {\n",
       "        vertical-align: top;\n",
       "    }\n",
       "\n",
       "    .dataframe thead th {\n",
       "        text-align: right;\n",
       "    }\n",
       "</style>\n",
       "<table border=\"1\" class=\"dataframe\">\n",
       "  <thead>\n",
       "    <tr style=\"text-align: right;\">\n",
       "      <th></th>\n",
       "      <th>metric</th>\n",
       "      <th>KL</th>\n",
       "      <th>JSD</th>\n",
       "    </tr>\n",
       "  </thead>\n",
       "  <tbody>\n",
       "    <tr>\n",
       "      <th>0</th>\n",
       "      <td>VI</td>\n",
       "      <td>0.1303</td>\n",
       "      <td>0.0318</td>\n",
       "    </tr>\n",
       "    <tr>\n",
       "      <th>1</th>\n",
       "      <td>ASI</td>\n",
       "      <td>0.1478</td>\n",
       "      <td>0.0387</td>\n",
       "    </tr>\n",
       "    <tr>\n",
       "      <th>2</th>\n",
       "      <td>SupportDist</td>\n",
       "      <td>0.1345</td>\n",
       "      <td>0.0331</td>\n",
       "    </tr>\n",
       "    <tr>\n",
       "      <th>3</th>\n",
       "      <td>RejectDist</td>\n",
       "      <td>0.1426</td>\n",
       "      <td>0.0353</td>\n",
       "    </tr>\n",
       "  </tbody>\n",
       "</table>\n",
       "</div>"
      ],
      "text/plain": [
       "        metric      KL     JSD\n",
       "0           VI  0.1303  0.0318\n",
       "1          ASI  0.1478  0.0387\n",
       "2  SupportDist  0.1345  0.0331\n",
       "3   RejectDist  0.1426  0.0353"
      ]
     },
     "metadata": {},
     "output_type": "display_data"
    },
    {
     "name": "stdout",
     "output_type": "stream",
     "text": [
      "[OK] Ergebnisse gespeichert: E:\\Final_Github_1\\MasterThesis_final\\data\\analysis\\Alignment_6_2\\kl_jsd_results.csv\n",
      "[OK] Ergebnisse gespeichert: E:\\Final_Github_1\\MasterThesis_final\\data\\analysis\\Alignment_6_2\\kl_jsd_results.json\n"
     ]
    }
   ],
   "source": [
    "# KL- und JSD-Berechnung: Online-Metriken vs. Wahlergebnisse 2025\n",
    "\n",
    "from scipy.spatial import distance\n",
    "import json\n",
    "\n",
    "# Hilfsfunktionen\n",
    "def kl_divergence(p, q):\n",
    "    p = np.array(p, dtype=float); q = np.array(q, dtype=float)\n",
    "    p = p / p.sum() if p.sum() != 0 else np.ones_like(p) / len(p)\n",
    "    q = q / q.sum() if q.sum() != 0 else np.ones_like(q) / len(q)\n",
    "    return np.sum(np.where(p != 0, p * np.log(p / q), 0))\n",
    "\n",
    "def jensen_shannon(p, q):\n",
    "    p = np.array(p, dtype=float); q = np.array(q, dtype=float)\n",
    "    if np.isnan(p).any() or np.isnan(q).any():\n",
    "        return np.nan\n",
    "    p = p / p.sum() if p.sum() != 0 else np.ones_like(p) / len(p)\n",
    "    q = q / q.sum() if q.sum() != 0 else np.ones_like(q) / len(q)\n",
    "    m = 0.5 * (p + q)\n",
    "    return 0.5 * distance.rel_entr(p, m).sum() + 0.5 * distance.rel_entr(q, m).sum()\n",
    "\n",
    "# Wahlergebnisse vorbereiten\n",
    "election_results = pd.read_csv(\n",
    "    r\"E:\\Final_Github_1\\MasterThesis_final\\data\\raw\\list\\election_results_2021_2025.csv\",\n",
    "    sep=\";\", encoding=\"utf-8-sig\"\n",
    ")\n",
    "election_results[\"vote_share_2025\"] = (\n",
    "    election_results[\"vote_share_2025\"]\n",
    "    .astype(str).str.replace(\",\", \".\", regex=False).str.strip()\n",
    ")\n",
    "election_results[\"vote_share_2025\"] = pd.to_numeric(\n",
    "    election_results[\"vote_share_2025\"], errors=\"coerce\"\n",
    ")\n",
    "\n",
    "# Merge Metrics + Election Results\n",
    "df_compare = metrics_df.merge(election_results[[\"party\", \"vote_share_2025\"]], on=\"party\", how=\"inner\")\n",
    "\n",
    "# Nur Verteilungen testen\n",
    "distribution_metrics = [\"VI\", \"ASI\", \"SupportDist\", \"RejectDist\"]\n",
    "\n",
    "results = []\n",
    "for metric in distribution_metrics:\n",
    "    P = df_compare[metric].values\n",
    "    Q = df_compare[\"vote_share_2025\"].values\n",
    "\n",
    "    kl_val = kl_divergence(P, Q)\n",
    "    jsd_val = jensen_shannon(P, Q)\n",
    "\n",
    "    results.append({\n",
    "        \"metric\": metric,\n",
    "        \"KL\": round(kl_val, 4),\n",
    "        \"JSD\": round(jsd_val, 4)\n",
    "    })\n",
    "\n",
    "results_df = pd.DataFrame(results)\n",
    "\n",
    "# Export Ergebnisse\n",
    "csv_path = EXPORT_PATH / \"kl_jsd_results.csv\"\n",
    "json_path = EXPORT_PATH / \"kl_jsd_results.json\"\n",
    "\n",
    "results_df.to_csv(csv_path, sep=\";\", index=False, encoding=\"utf-8-sig\")\n",
    "with open(json_path, \"w\", encoding=\"utf-8\") as f:\n",
    "    json.dump(results, f, indent=2, ensure_ascii=False)\n",
    "\n",
    "print(\"KL- und JSD-Divergenz gegen Wahl 2025\")\n",
    "display(results_df)\n",
    "print(f\"[OK] Ergebnisse gespeichert: {csv_path}\")\n",
    "print(f\"[OK] Ergebnisse gespeichert: {json_path}\")\n"
   ]
  },
  {
   "cell_type": "code",
   "execution_count": 8,
   "id": "046495de",
   "metadata": {},
   "outputs": [
    {
     "data": {
      "image/png": "[encoded data removed]",
      "text/plain": [
       "<Figure size 1400x1000 with 4 Axes>"
      ]
     },
     "metadata": {},
     "output_type": "display_data"
    },
    {
     "name": "stdout",
     "output_type": "stream",
     "text": [
      "[OK] Plot gespeichert: E:\\Final_Github_1\\MasterThesis_final\\data\\analysis\\Alignment_6_2\\vergleich_wahl_vs_metriken.png\n"
     ]
    }
   ],
   "source": [
    "# Vergleichsplots: Wahlergebnis 2025 vs. Online-Metriken (in %)\n",
    "\n",
    "import matplotlib.pyplot as plt\n",
    "\n",
    "# Falls Wahlwerte noch in Prozent (0–100) sind, auf 0–1 normalisieren\n",
    "vote_share = df_compare[\"vote_share_2025\"].copy()\n",
    "if vote_share.max() > 1:\n",
    "    vote_share = vote_share / 100.0\n",
    "\n",
    "metrics = [\"VI\", \"ASI\", \"SupportDist\", \"RejectDist\"]\n",
    "titles = [\"Volume Index (VI)\", \"Assigned Supporter Index (ASI)\",\n",
    "          \"Support Distribution\", \"Rejection Distribution\"]\n",
    "\n",
    "fig, axes = plt.subplots(2, 2, figsize=(14, 10), sharey=True)\n",
    "\n",
    "for ax, metric, title in zip(axes.flatten(), metrics, titles):\n",
    "    width = 0.35\n",
    "    x = range(len(df_compare))\n",
    "\n",
    "    # Werte in %\n",
    "    election_pct = vote_share * 100\n",
    "    metric_pct = df_compare[metric] * 100\n",
    "\n",
    "    ax.bar(x, election_pct, width, label=\"Wahl 2025\", alpha=0.7)\n",
    "    ax.bar([i + width for i in x], metric_pct, width, label=metric, alpha=0.7)\n",
    "\n",
    "    ax.set_xticks([i + width/2 for i in x])\n",
    "    ax.set_xticklabels(df_compare[\"party\"], rotation=45, ha=\"right\")\n",
    "    ax.set_ylabel(\"Anteil (%)\")\n",
    "    ax.set_title(title)\n",
    "    ax.legend()\n",
    "\n",
    "fig.suptitle(\"Vergleich Wahlergebnisse 2025 vs. Online-Metriken (in %)\", fontsize=16)\n",
    "plt.tight_layout(rect=[0, 0, 1, 0.96])\n",
    "\n",
    "# Export als PNG\n",
    "plot_path = EXPORT_PATH / \"vergleich_wahl_vs_metriken.png\"\n",
    "plt.savefig(plot_path, dpi=300)\n",
    "plt.show()\n",
    "\n",
    "print(f\"[OK] Plot gespeichert: {plot_path}\")\n",
    "\n"
   ]
  },
  {
   "cell_type": "code",
   "execution_count": 10,
   "id": "20b97c11",
   "metadata": {},
   "outputs": [
    {
     "data": {
      "application/vnd.plotly.v1+json": {
       "config": {
        "plotlyServerURL": "https://plot.ly"
       },
       "data": [
        {
         "marker": {
          "color": "#005AA9"
         },
         "name": "Election 2025",
         "opacity": 0.9,
         "showlegend": true,
         "type": "bar",
         "x": [
          "AfD",
          "B90/GRÜNE",
          "BSW",
          "CDU/CSU",
          "FDP",
          "LINKE",
          "SPD"
         ],
         "xaxis": "x",
         "y": {
          "bdata": "zczMzMzMNEAzMzMzMzMnQAAAAAAAABRAAAAAAACAPEAzMzMzMzMRQJqZmZmZmSFAZmZmZmZmMEA=",
          "dtype": "f8"
         },
         "yaxis": "y"
        },
        {
         "marker": {
          "color": "orange"
         },
         "name": "Online metric",
         "opacity": 0.8,
         "showlegend": true,
         "type": "bar",
         "x": [
          "AfD",
          "B90/GRÜNE",
          "BSW",
          "CDU/CSU",
          "FDP",
          "LINKE",
          "SPD"
         ],
         "xaxis": "x",
         "y": {
          "bdata": "XfXzFll7KUDqCevcYfw1QAmDGAyIURBA+9D4j2X9QUC3eL9xQAYmQEz0IKA5tQ9AT9SntO95JEA=",
          "dtype": "f8"
         },
         "yaxis": "y"
        },
        {
         "marker": {
          "color": "#005AA9"
         },
         "name": "Election 2025",
         "opacity": 0.9,
         "showlegend": false,
         "type": "bar",
         "x": [
          "AfD",
          "B90/GRÜNE",
          "BSW",
          "CDU/CSU",
          "FDP",
          "LINKE",
          "SPD"
         ],
         "xaxis": "x2",
         "y": {
          "bdata": "zczMzMzMNEAzMzMzMzMnQAAAAAAAABRAAAAAAACAPEAzMzMzMzMRQJqZmZmZmSFAZmZmZmZmMEA=",
          "dtype": "f8"
         },
         "yaxis": "y2"
        },
        {
         "marker": {
          "color": "orange"
         },
         "name": "Online metric",
         "opacity": 0.8,
         "showlegend": false,
         "type": "bar",
         "x": [
          "AfD",
          "B90/GRÜNE",
          "BSW",
          "CDU/CSU",
          "FDP",
          "LINKE",
          "SPD"
         ],
         "xaxis": "x2",
         "y": {
          "bdata": "U56IijeZPEDNT9PlGMk5QLSG3dUhmw1AhTB0qiX1RECan6bLMZIrQFxwUGIGlhVAc4zk+of7FkA=",
          "dtype": "f8"
         },
         "yaxis": "y2"
        },
        {
         "marker": {
          "color": "#005AA9"
         },
         "name": "Election 2025",
         "opacity": 0.9,
         "showlegend": false,
         "type": "bar",
         "x": [
          "AfD",
          "B90/GRÜNE",
          "BSW",
          "CDU/CSU",
          "FDP",
          "LINKE",
          "SPD"
         ],
         "xaxis": "x3",
         "y": {
          "bdata": "zczMzMzMNEAzMzMzMzMnQAAAAAAAABRAAAAAAACAPEAzMzMzMzMRQJqZmZmZmSFAZmZmZmZmMEA=",
          "dtype": "f8"
         },
         "yaxis": "y3"
        },
        {
         "marker": {
          "color": "orange"
         },
         "name": "Online metric",
         "opacity": 0.8,
         "showlegend": false,
         "type": "bar",
         "x": [
          "AfD",
          "B90/GRÜNE",
          "BSW",
          "CDU/CSU",
          "FDP",
          "LINKE",
          "SPD"
         ],
         "xaxis": "x3",
         "y": {
          "bdata": "W08U+/K6N0C5kmgEjyQ1QPT0LqswVw5AtAM+1kdPPEBWwTj6mV8oQOWRwiV2khBA1tlIOZbHGkA=",
          "dtype": "f8"
         },
         "yaxis": "y3"
        },
        {
         "marker": {
          "color": "#005AA9"
         },
         "name": "Election 2025",
         "opacity": 0.9,
         "showlegend": false,
         "type": "bar",
         "x": [
          "AfD",
          "B90/GRÜNE",
          "BSW",
          "CDU/CSU",
          "FDP",
          "LINKE",
          "SPD"
         ],
         "xaxis": "x4",
         "y": {
          "bdata": "zczMzMzMNEAzMzMzMzMnQAAAAAAAABRAAAAAAACAPEAzMzMzMzMRQJqZmZmZmSFAZmZmZmZmMEA=",
          "dtype": "f8"
         },
         "yaxis": "y4"
        },
        {
         "marker": {
          "color": "orange"
         },
         "name": "Online metric",
         "opacity": 0.8,
         "showlegend": false,
         "type": "bar",
         "x": [
          "AfD",
          "B90/GRÜNE",
          "BSW",
          "CDU/CSU",
          "FDP",
          "LINKE",
          "SPD"
         ],
         "xaxis": "x4",
         "y": {
          "bdata": "IiqOPF6oJUCUR2+9ZDY2QK6qcbtskQ9Ac/48ppi6QkB6WtxLB5olQFHYUh/H6Q5Ar9ERbaHHJUA=",
          "dtype": "f8"
         },
         "yaxis": "y4"
        }
       ],
       "layout": {
        "annotations": [
         {
          "font": {
           "size": 16
          },
          "showarrow": false,
          "text": "Volume Index (VI)",
          "x": 0.2275,
          "xanchor": "center",
          "xref": "paper",
          "y": 1,
          "yanchor": "bottom",
          "yref": "paper"
         },
         {
          "font": {
           "size": 16
          },
          "showarrow": false,
          "text": "Assigned Supporter Index (ASI)",
          "x": 0.7725,
          "xanchor": "center",
          "xref": "paper",
          "y": 1,
          "yanchor": "bottom",
          "yref": "paper"
         },
         {
          "font": {
           "size": 16
          },
          "showarrow": false,
          "text": "Support Distribution",
          "x": 0.2275,
          "xanchor": "center",
          "xref": "paper",
          "y": 0.4,
          "yanchor": "bottom",
          "yref": "paper"
         },
         {
          "font": {
           "size": 16
          },
          "showarrow": false,
          "text": "Opposition Distribution",
          "x": 0.7725,
          "xanchor": "center",
          "xref": "paper",
          "y": 0.4,
          "yanchor": "bottom",
          "yref": "paper"
         }
        ],
        "bargap": 0.15,
        "barmode": "group",
        "height": 700,
        "legend": {
         "orientation": "h",
         "y": -0.1
        },
        "template": {
         "data": {
          "bar": [
           {
            "error_x": {
             "color": "#2a3f5f"
            },
            "error_y": {
             "color": "#2a3f5f"
            },
            "marker": {
             "line": {
              "color": "#E5ECF6",
              "width": 0.5
             },
             "pattern": {
              "fillmode": "overlay",
              "size": 10,
              "solidity": 0.2
             }
            },
            "type": "bar"
           }
          ],
          "barpolar": [
           {
            "marker": {
             "line": {
              "color": "#E5ECF6",
              "width": 0.5
             },
             "pattern": {
              "fillmode": "overlay",
              "size": 10,
              "solidity": 0.2
             }
            },
            "type": "barpolar"
           }
          ],
          "carpet": [
           {
            "aaxis": {
             "endlinecolor": "#2a3f5f",
             "gridcolor": "white",
             "linecolor": "white",
             "minorgridcolor": "white",
             "startlinecolor": "#2a3f5f"
            },
            "baxis": {
             "endlinecolor": "#2a3f5f",
             "gridcolor": "white",
             "linecolor": "white",
             "minorgridcolor": "white",
             "startlinecolor": "#2a3f5f"
            },
            "type": "carpet"
           }
          ],
          "choropleth": [
           {
            "colorbar": {
             "outlinewidth": 0,
             "ticks": ""
            },
            "type": "choropleth"
           }
          ],
          "contour": [
           {
            "colorbar": {
             "outlinewidth": 0,
             "ticks": ""
            },
            "colorscale": [
             [
              0,
              "#0d0887"
             ],
             [
              0.1111111111111111,
              "#46039f"
             ],
             [
              0.2222222222222222,
              "#7201a8"
             ],
             [
              0.3333333333333333,
              "#9c179e"
             ],
             [
              0.4444444444444444,
              "#bd3786"
             ],
             [
              0.5555555555555556,
              "#d8576b"
             ],
             [
              0.6666666666666666,
              "#ed7953"
             ],
             [
              0.7777777777777778,
              "#fb9f3a"
             ],
             [
              0.8888888888888888,
              "#fdca26"
             ],
             [
              1,
              "#f0f921"
             ]
            ],
            "type": "contour"
           }
          ],
          "contourcarpet": [
           {
            "colorbar": {
             "outlinewidth": 0,
             "ticks": ""
            },
            "type": "contourcarpet"
           }
          ],
          "heatmap": [
           {
            "colorbar": {
             "outlinewidth": 0,
             "ticks": ""
            },
            "colorscale": [
             [
              0,
              "#0d0887"
             ],
             [
              0.1111111111111111,
              "#46039f"
             ],
             [
              0.2222222222222222,
              "#7201a8"
             ],
             [
              0.3333333333333333,
              "#9c179e"
             ],
             [
              0.4444444444444444,
              "#bd3786"
             ],
             [
              0.5555555555555556,
              "#d8576b"
             ],
             [
              0.6666666666666666,
              "#ed7953"
             ],
             [
              0.7777777777777778,
              "#fb9f3a"
             ],
             [
              0.8888888888888888,
              "#fdca26"
             ],
             [
              1,
              "#f0f921"
             ]
            ],
            "type": "heatmap"
           }
          ],
          "histogram": [
           {
            "marker": {
             "pattern": {
              "fillmode": "overlay",
              "size": 10,
              "solidity": 0.2
             }
            },
            "type": "histogram"
           }
          ],
          "histogram2d": [
           {
            "colorbar": {
             "outlinewidth": 0,
             "ticks": ""
            },
            "colorscale": [
             [
              0,
              "#0d0887"
             ],
             [
              0.1111111111111111,
              "#46039f"
             ],
             [
              0.2222222222222222,
              "#7201a8"
             ],
             [
              0.3333333333333333,
              "#9c179e"
             ],
             [
              0.4444444444444444,
              "#bd3786"
             ],
             [
              0.5555555555555556,
              "#d8576b"
             ],
             [
              0.6666666666666666,
              "#ed7953"
             ],
             [
              0.7777777777777778,
              "#fb9f3a"
             ],
             [
              0.8888888888888888,
              "#fdca26"
             ],
             [
              1,
              "#f0f921"
             ]
            ],
            "type": "histogram2d"
           }
          ],
          "histogram2dcontour": [
           {
            "colorbar": {
             "outlinewidth": 0,
             "ticks": ""
            },
            "colorscale": [
             [
              0,
              "#0d0887"
             ],
             [
              0.1111111111111111,
              "#46039f"
             ],
             [
              0.2222222222222222,
              "#7201a8"
             ],
             [
              0.3333333333333333,
              "#9c179e"
             ],
             [
              0.4444444444444444,
              "#bd3786"
             ],
             [
              0.5555555555555556,
              "#d8576b"
             ],
             [
              0.6666666666666666,
              "#ed7953"
             ],
             [
              0.7777777777777778,
              "#fb9f3a"
             ],
             [
              0.8888888888888888,
              "#fdca26"
             ],
             [
              1,
              "#f0f921"
             ]
            ],
            "type": "histogram2dcontour"
           }
          ],
          "mesh3d": [
           {
            "colorbar": {
             "outlinewidth": 0,
             "ticks": ""
            },
            "type": "mesh3d"
           }
          ],
          "parcoords": [
           {
            "line": {
             "colorbar": {
              "outlinewidth": 0,
              "ticks": ""
             }
            },
            "type": "parcoords"
           }
          ],
          "pie": [
           {
            "automargin": true,
            "type": "pie"
           }
          ],
          "scatter": [
           {
            "fillpattern": {
             "fillmode": "overlay",
             "size": 10,
             "solidity": 0.2
            },
            "type": "scatter"
           }
          ],
          "scatter3d": [
           {
            "line": {
             "colorbar": {
              "outlinewidth": 0,
              "ticks": ""
             }
            },
            "marker": {
             "colorbar": {
              "outlinewidth": 0,
              "ticks": ""
             }
            },
            "type": "scatter3d"
           }
          ],
          "scattercarpet": [
           {
            "marker": {
             "colorbar": {
              "outlinewidth": 0,
              "ticks": ""
             }
            },
            "type": "scattercarpet"
           }
          ],
          "scattergeo": [
           {
            "marker": {
             "colorbar": {
              "outlinewidth": 0,
              "ticks": ""
             }
            },
            "type": "scattergeo"
           }
          ],
          "scattergl": [
           {
            "marker": {
             "colorbar": {
              "outlinewidth": 0,
              "ticks": ""
             }
            },
            "type": "scattergl"
           }
          ],
          "scattermap": [
           {
            "marker": {
             "colorbar": {
              "outlinewidth": 0,
              "ticks": ""
             }
            },
            "type": "scattermap"
           }
          ],
          "scattermapbox": [
           {
            "marker": {
             "colorbar": {
              "outlinewidth": 0,
              "ticks": ""
             }
            },
            "type": "scattermapbox"
           }
          ],
          "scatterpolar": [
           {
            "marker": {
             "colorbar": {
              "outlinewidth": 0,
              "ticks": ""
             }
            },
            "type": "scatterpolar"
           }
          ],
          "scatterpolargl": [
           {
            "marker": {
             "colorbar": {
              "outlinewidth": 0,
              "ticks": ""
             }
            },
            "type": "scatterpolargl"
           }
          ],
          "scatterternary": [
           {
            "marker": {
             "colorbar": {
              "outlinewidth": 0,
              "ticks": ""
             }
            },
            "type": "scatterternary"
           }
          ],
          "surface": [
           {
            "colorbar": {
             "outlinewidth": 0,
             "ticks": ""
            },
            "colorscale": [
             [
              0,
              "#0d0887"
             ],
             [
              0.1111111111111111,
              "#46039f"
             ],
             [
              0.2222222222222222,
              "#7201a8"
             ],
             [
              0.3333333333333333,
              "#9c179e"
             ],
             [
              0.4444444444444444,
              "#bd3786"
             ],
             [
              0.5555555555555556,
              "#d8576b"
             ],
             [
              0.6666666666666666,
              "#ed7953"
             ],
             [
              0.7777777777777778,
              "#fb9f3a"
             ],
             [
              0.8888888888888888,
              "#fdca26"
             ],
             [
              1,
              "#f0f921"
             ]
            ],
            "type": "surface"
           }
          ],
          "table": [
           {
            "cells": {
             "fill": {
              "color": "#EBF0F8"
             },
             "line": {
              "color": "white"
             }
            },
            "header": {
             "fill": {
              "color": "#C8D4E3"
             },
             "line": {
              "color": "white"
             }
            },
            "type": "table"
           }
          ]
         },
         "layout": {
          "annotationdefaults": {
           "arrowcolor": "#2a3f5f",
           "arrowhead": 0,
           "arrowwidth": 1
          },
          "autotypenumbers": "strict",
          "coloraxis": {
           "colorbar": {
            "outlinewidth": 0,
            "ticks": ""
           }
          },
          "colorscale": {
           "diverging": [
            [
             0,
             "#8e0152"
            ],
            [
             0.1,
             "#c51b7d"
            ],
            [
             0.2,
             "#de77ae"
            ],
            [
             0.3,
             "#f1b6da"
            ],
            [
             0.4,
             "#fde0ef"
            ],
            [
             0.5,
             "#f7f7f7"
            ],
            [
             0.6,
             "#e6f5d0"
            ],
            [
             0.7,
             "#b8e186"
            ],
            [
             0.8,
             "#7fbc41"
            ],
            [
             0.9,
             "#4d9221"
            ],
            [
             1,
             "#276419"
            ]
           ],
           "sequential": [
            [
             0,
             "#0d0887"
            ],
            [
             0.1111111111111111,
             "#46039f"
            ],
            [
             0.2222222222222222,
             "#7201a8"
            ],
            [
             0.3333333333333333,
             "#9c179e"
            ],
            [
             0.4444444444444444,
             "#bd3786"
            ],
            [
             0.5555555555555556,
             "#d8576b"
            ],
            [
             0.6666666666666666,
             "#ed7953"
            ],
            [
             0.7777777777777778,
             "#fb9f3a"
            ],
            [
             0.8888888888888888,
             "#fdca26"
            ],
            [
             1,
             "#f0f921"
            ]
           ],
           "sequentialminus": [
            [
             0,
             "#0d0887"
            ],
            [
             0.1111111111111111,
             "#46039f"
            ],
            [
             0.2222222222222222,
             "#7201a8"
            ],
            [
             0.3333333333333333,
             "#9c179e"
            ],
            [
             0.4444444444444444,
             "#bd3786"
            ],
            [
             0.5555555555555556,
             "#d8576b"
            ],
            [
             0.6666666666666666,
             "#ed7953"
            ],
            [
             0.7777777777777778,
             "#fb9f3a"
            ],
            [
             0.8888888888888888,
             "#fdca26"
            ],
            [
             1,
             "#f0f921"
            ]
           ]
          },
          "colorway": [
           "#636efa",
           "#EF553B",
           "#00cc96",
           "#ab63fa",
           "#FFA15A",
           "#19d3f3",
           "#FF6692",
           "#B6E880",
           "#FF97FF",
           "#FECB52"
          ],
          "font": {
           "color": "#2a3f5f"
          },
          "geo": {
           "bgcolor": "white",
           "lakecolor": "white",
           "landcolor": "#E5ECF6",
           "showlakes": true,
           "showland": true,
           "subunitcolor": "white"
          },
          "hoverlabel": {
           "align": "left"
          },
          "hovermode": "closest",
          "mapbox": {
           "style": "light"
          },
          "paper_bgcolor": "white",
          "plot_bgcolor": "#E5ECF6",
          "polar": {
           "angularaxis": {
            "gridcolor": "white",
            "linecolor": "white",
            "ticks": ""
           },
           "bgcolor": "#E5ECF6",
           "radialaxis": {
            "gridcolor": "white",
            "linecolor": "white",
            "ticks": ""
           }
          },
          "scene": {
           "xaxis": {
            "backgroundcolor": "#E5ECF6",
            "gridcolor": "white",
            "gridwidth": 2,
            "linecolor": "white",
            "showbackground": true,
            "ticks": "",
            "zerolinecolor": "white"
           },
           "yaxis": {
            "backgroundcolor": "#E5ECF6",
            "gridcolor": "white",
            "gridwidth": 2,
            "linecolor": "white",
            "showbackground": true,
            "ticks": "",
            "zerolinecolor": "white"
           },
           "zaxis": {
            "backgroundcolor": "#E5ECF6",
            "gridcolor": "white",
            "gridwidth": 2,
            "linecolor": "white",
            "showbackground": true,
            "ticks": "",
            "zerolinecolor": "white"
           }
          },
          "shapedefaults": {
           "line": {
            "color": "#2a3f5f"
           }
          },
          "ternary": {
           "aaxis": {
            "gridcolor": "white",
            "linecolor": "white",
            "ticks": ""
           },
           "baxis": {
            "gridcolor": "white",
            "linecolor": "white",
            "ticks": ""
           },
           "bgcolor": "#E5ECF6",
           "caxis": {
            "gridcolor": "white",
            "linecolor": "white",
            "ticks": ""
           }
          },
          "title": {
           "x": 0.05
          },
          "xaxis": {
           "automargin": true,
           "gridcolor": "white",
           "linecolor": "white",
           "ticks": "",
           "title": {
            "standoff": 15
           },
           "zerolinecolor": "white",
           "zerolinewidth": 2
          },
          "yaxis": {
           "automargin": true,
           "gridcolor": "white",
           "linecolor": "white",
           "ticks": "",
           "title": {
            "standoff": 15
           },
           "zerolinecolor": "white",
           "zerolinewidth": 2
          }
         }
        },
        "title": {},
        "width": 950,
        "xaxis": {
         "anchor": "y",
         "domain": [
          0,
          0.455
         ]
        },
        "xaxis2": {
         "anchor": "y2",
         "domain": [
          0.545,
          1
         ]
        },
        "xaxis3": {
         "anchor": "y3",
         "domain": [
          0,
          0.455
         ]
        },
        "xaxis4": {
         "anchor": "y4",
         "domain": [
          0.545,
          1
         ]
        },
        "yaxis": {
         "anchor": "x",
         "domain": [
          0.6000000000000001,
          1
         ],
         "title": {
          "text": "Share (%)"
         }
        },
        "yaxis2": {
         "anchor": "x2",
         "domain": [
          0.6000000000000001,
          1
         ],
         "matches": "y",
         "showticklabels": false,
         "title": {
          "text": "Share (%)"
         }
        },
        "yaxis3": {
         "anchor": "x3",
         "domain": [
          0,
          0.4
         ],
         "title": {
          "text": "Share (%)"
         }
        },
        "yaxis4": {
         "anchor": "x4",
         "domain": [
          0,
          0.4
         ],
         "matches": "y3",
         "showticklabels": false,
         "title": {
          "text": "Share (%)"
         }
        }
       }
      }
     },
     "metadata": {},
     "output_type": "display_data"
    },
    {
     "name": "stdout",
     "output_type": "stream",
     "text": [
      "[OK] Interaktiver Plot gespeichert: E:\\Final_Github_1\\MasterThesis_final\\data\\analysis\\Alignment_6_2\\vergleich_wahl_vs_metriken_interaktiv.html\n",
      "[OK] Statischer Plot gespeichert: E:\\Final_Github_1\\MasterThesis_final\\data\\analysis\\Alignment_6_2\\vergleich_wahl_vs_metriken.png\n"
     ]
    }
   ],
   "source": [
    "import plotly.graph_objects as go\n",
    "from plotly.subplots import make_subplots\n",
    "\n",
    "# Ensure numeric (Komma → Punkt)\n",
    "df_compare[\"vote_share_2025\"] = (\n",
    "    df_compare[\"vote_share_2025\"]\n",
    "    .astype(str)\n",
    "    .str.replace(\",\", \".\")\n",
    "    .astype(float)\n",
    ")\n",
    "\n",
    "# Ensure election results are in percent\n",
    "vote_share = df_compare[\"vote_share_2025\"].copy()\n",
    "if vote_share.max() <= 1:\n",
    "    vote_share = vote_share * 100\n",
    "\n",
    "metrics = [\"VI\", \"ASI\", \"SupportDist\", \"RejectDist\"]\n",
    "titles = [\"Volume Index (VI)\", \"Assigned Supporter Index (ASI)\",\n",
    "          \"Support Distribution\", \"Opposition Distribution\"]\n",
    "\n",
    "# Weniger Abstand zwischen Subplots\n",
    "fig = make_subplots(\n",
    "    rows=2, cols=2,\n",
    "    subplot_titles=titles,\n",
    "    shared_yaxes=True,\n",
    "    vertical_spacing=0.20,\n",
    "    horizontal_spacing=0.09\n",
    ")\n",
    "\n",
    "for i, (metric, title) in enumerate(zip(metrics, titles)):\n",
    "    row = i // 2 + 1\n",
    "    col = i % 2 + 1\n",
    "\n",
    "    election_pct = vote_share\n",
    "    metric_pct = df_compare[metric] * 100\n",
    "\n",
    "    fig.add_trace(\n",
    "        go.Bar(\n",
    "            x=df_compare[\"party\"],\n",
    "            y=election_pct,\n",
    "            name=\"Election 2025\",\n",
    "            marker_color=\"#005AA9\",\n",
    "            opacity=0.9,\n",
    "            showlegend=(i == 0)\n",
    "        ),\n",
    "        row=row, col=col\n",
    "    )\n",
    "\n",
    "    fig.add_trace(\n",
    "        go.Bar(\n",
    "            x=df_compare[\"party\"],\n",
    "            y=metric_pct,\n",
    "            name=\"Online metric\",\n",
    "            marker_color=\"orange\",\n",
    "            opacity=0.8,\n",
    "            showlegend=(i == 0)\n",
    "        ),\n",
    "        row=row, col=col\n",
    "    )\n",
    "\n",
    "fig.update_layout(\n",
    "    barmode=\"group\",\n",
    "    height=700,\n",
    "    width=950,\n",
    "    legend=dict(orientation=\"h\", y=-0.1),\n",
    "    title=None,\n",
    "    bargap=0.15\n",
    ")\n",
    "\n",
    "fig.update_yaxes(title_text=\"Share (%)\")\n",
    "\n",
    "# Anzeigen\n",
    "fig.show()\n",
    "\n",
    "# Export\n",
    "plot_html = EXPORT_PATH / \"vergleich_wahl_vs_metriken_interaktiv.html\"\n",
    "plot_png  = EXPORT_PATH / \"vergleich_wahl_vs_metriken.png\"\n",
    "\n",
    "fig.write_html(plot_html)\n",
    "fig.write_image(plot_png, scale=2)  # requires kaleido\n",
    "\n",
    "print(f\"[OK] Interaktiver Plot gespeichert: {plot_html}\")\n",
    "print(f\"[OK] Statischer Plot gespeichert: {plot_png}\")\n",
    "\n",
    "\n",
    "\n"
   ]
  },
  {
   "cell_type": "code",
   "execution_count": 11,
   "id": "5ca9b85f",
   "metadata": {},
   "outputs": [
    {
     "name": "stdout",
     "output_type": "stream",
     "text": [
      "Korrelationen Online-Metriken vs. Wahlergebnisse 2025\n"
     ]
    },
    {
     "data": {
      "text/html": [
       "<div>\n",
       "<style scoped>\n",
       "    .dataframe tbody tr th:only-of-type {\n",
       "        vertical-align: middle;\n",
       "    }\n",
       "\n",
       "    .dataframe tbody tr th {\n",
       "        vertical-align: top;\n",
       "    }\n",
       "\n",
       "    .dataframe thead th {\n",
       "        text-align: right;\n",
       "    }\n",
       "</style>\n",
       "<table border=\"1\" class=\"dataframe\">\n",
       "  <thead>\n",
       "    <tr style=\"text-align: right;\">\n",
       "      <th></th>\n",
       "      <th>metric</th>\n",
       "      <th>Pearson_r</th>\n",
       "      <th>Pearson_p</th>\n",
       "      <th>Spearman_rho</th>\n",
       "      <th>Spearman_p</th>\n",
       "    </tr>\n",
       "  </thead>\n",
       "  <tbody>\n",
       "    <tr>\n",
       "      <th>0</th>\n",
       "      <td>VI</td>\n",
       "      <td>0.754</td>\n",
       "      <td>0.0503</td>\n",
       "      <td>0.607</td>\n",
       "      <td>0.1482</td>\n",
       "    </tr>\n",
       "    <tr>\n",
       "      <th>1</th>\n",
       "      <td>NSI</td>\n",
       "      <td>-0.006</td>\n",
       "      <td>0.9903</td>\n",
       "      <td>-0.357</td>\n",
       "      <td>0.4316</td>\n",
       "    </tr>\n",
       "    <tr>\n",
       "      <th>2</th>\n",
       "      <td>SR</td>\n",
       "      <td>0.058</td>\n",
       "      <td>0.9024</td>\n",
       "      <td>-0.357</td>\n",
       "      <td>0.4316</td>\n",
       "    </tr>\n",
       "    <tr>\n",
       "      <th>3</th>\n",
       "      <td>WSI</td>\n",
       "      <td>-0.715</td>\n",
       "      <td>0.0707</td>\n",
       "      <td>-0.536</td>\n",
       "      <td>0.2152</td>\n",
       "    </tr>\n",
       "    <tr>\n",
       "      <th>4</th>\n",
       "      <td>ASI</td>\n",
       "      <td>0.783</td>\n",
       "      <td>0.0375</td>\n",
       "      <td>0.714</td>\n",
       "      <td>0.0713</td>\n",
       "    </tr>\n",
       "    <tr>\n",
       "      <th>5</th>\n",
       "      <td>SupportDist</td>\n",
       "      <td>0.750</td>\n",
       "      <td>0.0523</td>\n",
       "      <td>0.714</td>\n",
       "      <td>0.0713</td>\n",
       "    </tr>\n",
       "    <tr>\n",
       "      <th>6</th>\n",
       "      <td>RejectDist</td>\n",
       "      <td>0.738</td>\n",
       "      <td>0.0582</td>\n",
       "      <td>0.714</td>\n",
       "      <td>0.0713</td>\n",
       "    </tr>\n",
       "  </tbody>\n",
       "</table>\n",
       "</div>"
      ],
      "text/plain": [
       "        metric  Pearson_r  Pearson_p  Spearman_rho  Spearman_p\n",
       "0           VI      0.754     0.0503         0.607      0.1482\n",
       "1          NSI     -0.006     0.9903        -0.357      0.4316\n",
       "2           SR      0.058     0.9024        -0.357      0.4316\n",
       "3          WSI     -0.715     0.0707        -0.536      0.2152\n",
       "4          ASI      0.783     0.0375         0.714      0.0713\n",
       "5  SupportDist      0.750     0.0523         0.714      0.0713\n",
       "6   RejectDist      0.738     0.0582         0.714      0.0713"
      ]
     },
     "metadata": {},
     "output_type": "display_data"
    },
    {
     "name": "stdout",
     "output_type": "stream",
     "text": [
      "[OK] Ergebnisse gespeichert: E:\\Final_Github_1\\MasterThesis_final\\data\\analysis\\Alignment_6_2\\correlations_online_vs_election.csv\n"
     ]
    }
   ],
   "source": [
    "# Korrelationsanalyse: Online-Metriken vs. Wahlergebnisse 2025\n",
    "\n",
    "from scipy.stats import pearsonr, spearmanr\n",
    "\n",
    "# Wahlanteile vorbereiten (auf 0–1 normalisieren, falls in % gespeichert)\n",
    "vote_share = df_compare[\"vote_share_2025\"].copy()\n",
    "if vote_share.max() > 1:\n",
    "    vote_share = vote_share / 100.0\n",
    "\n",
    "# Alle interessanten Metriken (inkl. Support/Reject-Distributions)\n",
    "correlation_metrics = [\"VI\", \"NSI\", \"SR\", \"WSI\", \"ASI\", \"SupportDist\", \"RejectDist\"]\n",
    "\n",
    "results = []\n",
    "for metric in correlation_metrics:\n",
    "    x = df_compare[metric].astype(float).values\n",
    "    y = vote_share.values\n",
    "\n",
    "    pearson_val, pearson_p = pearsonr(x, y)\n",
    "    spearman_val, spearman_p = spearmanr(x, y)\n",
    "\n",
    "    results.append({\n",
    "        \"metric\": metric,\n",
    "        \"Pearson_r\": round(pearson_val, 3),\n",
    "        \"Pearson_p\": round(pearson_p, 4),\n",
    "        \"Spearman_rho\": round(spearman_val, 3),\n",
    "        \"Spearman_p\": round(spearman_p, 4)\n",
    "    })\n",
    "\n",
    "correlation_df = pd.DataFrame(results)\n",
    "\n",
    "print(\"Korrelationen Online-Metriken vs. Wahlergebnisse 2025\")\n",
    "display(correlation_df)\n",
    "\n",
    "# Ergebnisse exportieren (nur CSV)\n",
    "csv_path = EXPORT_PATH / \"correlations_online_vs_election.csv\"\n",
    "correlation_df.to_csv(csv_path, sep=\";\", index=False, encoding=\"utf-8-sig\")\n",
    "\n",
    "print(f\"[OK] Ergebnisse gespeichert: {csv_path}\")\n"
   ]
  },
  {
   "cell_type": "code",
   "execution_count": 12,
   "id": "ca325928",
   "metadata": {},
   "outputs": [
    {
     "name": "stdout",
     "output_type": "stream",
     "text": [
      "✅ Monatsmetriken berechnet\n",
      "     month      party        VI       NSI        SR       WSI       ASI  \\\n",
      "0  2024-09        AfD  0.096165 -0.557371  0.179600 -0.053599  0.136020   \n",
      "1  2024-09  B90/GRÜNE  0.216138 -0.724072  0.094516 -0.156500  0.110831   \n",
      "2  2024-09        BSW  0.081086 -0.644780  0.116160 -0.052283  0.085642   \n",
      "3  2024-09    CDU/CSU  0.303856 -0.702248  0.101392 -0.213382  0.418136   \n",
      "4  2024-09        FDP  0.129126 -0.651854  0.127787 -0.084171  0.143577   \n",
      "\n",
      "   SupportSum  RejectSum  SupportDist  RejectDist  \n",
      "0        1597       7295     0.151907    0.087750  \n",
      "1        1939      18576     0.184438    0.223446  \n",
      "2         841       6399     0.079996    0.076972  \n",
      "3        2885      25569     0.274422    0.307564  \n",
      "4        1536      10484     0.146105    0.126110  \n",
      "[OK] Monatsmetriken gespeichert: E:\\Final_Github_1\\MasterThesis_final\\data\\analysis\\Alignment_6_2\\metrics_per_party_month.csv\n"
     ]
    }
   ],
   "source": [
    "# Berechnung der Online-Metriken pro Partei und Monat\n",
    "# inkl. korrigiertem ASI (ein Nutzer nur eine Partei/Monat) und Support/Reject-Distributions\n",
    "\n",
    "import pandas as pd\n",
    "\n",
    "# --- Timestamp bereinigen & Monat extrahieren ---\n",
    "df_all[\"timestamp_clean\"] = (\n",
    "    df_all[\"timestamp\"]\n",
    "    .str.replace(\"·\", \"\", regex=False)   # störendes Zeichen entfernen\n",
    "    .str.replace(\"UTC\", \"\", regex=False) # UTC entfernen\n",
    "    .str.strip()\n",
    ")\n",
    "\n",
    "df_all[\"month\"] = pd.to_datetime(df_all[\"timestamp_clean\"], errors=\"coerce\").dt.to_period(\"M\").astype(str)\n",
    "\n",
    "# --- Metriken berechnen ---\n",
    "metrics = []\n",
    "\n",
    "for month, df_month in df_all.groupby(\"month\"):\n",
    "    total_tweets = len(df_month)\n",
    "\n",
    "    # Support pro User & Partei (in diesem Monat)\n",
    "    user_party_support = (\n",
    "        df_month[df_month[\"pred\"] == \"Zustimmung\"]\n",
    "        .groupby([\"username\", \"party\"])\n",
    "        .size()\n",
    "        .reset_index(name=\"support_count\")\n",
    "    )\n",
    "\n",
    "    # Nur Nutzer mit >=3 Supports\n",
    "    user_party_support = user_party_support[user_party_support[\"support_count\"] >= 3]\n",
    "\n",
    "    # Einzigartige Zuweisung: Partei mit den meisten Supports behalten\n",
    "    user_party_unique = (\n",
    "        user_party_support.sort_values([\"username\", \"support_count\"], ascending=[True, False])\n",
    "        .drop_duplicates(subset=\"username\", keep=\"first\")\n",
    "    )\n",
    "\n",
    "    # Anzahl aller zugewiesenen Nutzer in diesem Monat\n",
    "    total_assigned_users = user_party_unique[\"username\"].nunique()\n",
    "\n",
    "    for party, group in df_month.groupby(\"party\"):\n",
    "        S = (group[\"pred\"] == \"Zustimmung\").sum()\n",
    "        R = (group[\"pred\"] == \"Ablehnung\").sum()\n",
    "        N = (group[\"pred\"] == \"Neutral\").sum()\n",
    "        T = len(group)\n",
    "\n",
    "        # Volume Index (VI)\n",
    "        VI = T / total_tweets if total_tweets > 0 else 0\n",
    "\n",
    "        # Net Stance Index (NSI)\n",
    "        NSI = (S - R) / (S + R + N) if (S + R + N) > 0 else 0\n",
    "\n",
    "        # Support Ratio (SR)\n",
    "        SR = S / (S + R) if (S + R) > 0 else 0\n",
    "\n",
    "        # Weighted Stance Index (WSI)\n",
    "        WSI = NSI * VI\n",
    "\n",
    "        # Assigned Supporter Index (ASI, eindeutig pro Monat)\n",
    "        assigned_users_party = user_party_unique[user_party_unique[\"party\"] == party][\"username\"].nunique()\n",
    "        ASI = assigned_users_party / total_assigned_users if total_assigned_users > 0 else 0\n",
    "\n",
    "        metrics.append([month, party, VI, NSI, SR, WSI, ASI, S, R])\n",
    "\n",
    "# --- DataFrame erstellen ---\n",
    "metrics_month_df = pd.DataFrame(\n",
    "    metrics,\n",
    "    columns=[\"month\", \"party\", \"VI\", \"NSI\", \"SR\", \"WSI\", \"ASI\", \"SupportSum\", \"RejectSum\"]\n",
    ")\n",
    "\n",
    "# --- Support/Reject Distribution (monatlich normiert) ---\n",
    "metrics_month_df[\"SupportDist\"] = metrics_month_df.groupby(\"month\")[\"SupportSum\"].transform(\n",
    "    lambda x: x / x.sum() if x.sum() > 0 else 0\n",
    ")\n",
    "metrics_month_df[\"RejectDist\"] = metrics_month_df.groupby(\"month\")[\"RejectSum\"].transform(\n",
    "    lambda x: x / x.sum() if x.sum() > 0 else 0\n",
    ")\n",
    "\n",
    "# --- Ergebnis ---\n",
    "print(\"✅ Monatsmetriken berechnet\")\n",
    "print(metrics_month_df.head())\n",
    "\n",
    "# --- Export ---\n",
    "csv_path = EXPORT_PATH / \"metrics_per_party_month.csv\"\n",
    "metrics_month_df.to_csv(csv_path, sep=\";\", index=False, encoding=\"utf-8-sig\")\n",
    "\n",
    "print(f\"[OK] Monatsmetriken gespeichert: {csv_path}\")\n",
    "\n",
    "\n"
   ]
  },
  {
   "cell_type": "code",
   "execution_count": 17,
   "id": "5cfcdd82",
   "metadata": {},
   "outputs": [
    {
     "name": "stdout",
     "output_type": "stream",
     "text": [
      "✅ Poll-Daten aggregiert und gespeichert\n",
      "     month   CDU/CSU    SPD     GRÜNE       FDP   LINKE    AfD    FW    BSW  \\\n",
      "0  2024-01  0.315000  0.165  0.105000  0.035000  0.0300  0.170   NaN  0.070   \n",
      "1  2024-03  0.320000  0.150  0.115000  0.040000  0.0350  0.175   NaN  0.055   \n",
      "2  2024-04  0.310000  0.160  0.110000  0.040000  0.0300  0.170  0.03  0.070   \n",
      "3  2024-05  0.318333  0.165  0.118333  0.036667  0.0300  0.175  0.01  0.065   \n",
      "4  2024-06  0.320000  0.150  0.122500  0.040000  0.0325  0.170   NaN  0.070   \n",
      "\n",
      "   Sonstige     sample  field_time  method  \n",
      "0  0.110000  19.720000         NaN     NaN  \n",
      "1  0.110000  25.050000         NaN     NaN  \n",
      "2  0.080000  14.520000         NaN     NaN  \n",
      "3  0.091667  18.956667         NaN     NaN  \n",
      "4  0.095000  14.037500         NaN     NaN  \n",
      "[OK] Datei gespeichert: E:\\Final_Github_1\\MasterThesis_final\\data\\analysis\\Alignment_6_2\\polls_month.csv\n"
     ]
    },
    {
     "name": "stderr",
     "output_type": "stream",
     "text": [
      "C:\\Users\\Admin\\AppData\\Local\\Temp\\ipykernel_3008\\1571195605.py:30: UserWarning:\n",
      "\n",
      "Parsing dates in DD/MM/YYYY format when dayfirst=False (the default) was specified. This may lead to inconsistently parsed dates! Specify a format to ensure consistent parsing.\n",
      "\n"
     ]
    }
   ],
   "source": [
    "# ===============================\n",
    "# Poll-Daten aggregieren (Monatsbasis)\n",
    "# ===============================\n",
    "\n",
    "import pandas as pd\n",
    "from pathlib import Path\n",
    "\n",
    "# Pfad zu den Poll-Dateien (jede CSV = ein Institut oder ein Monat)\n",
    "POLL_PATH = Path(r\"E:\\Final_Github_1\\MasterThesis_final\\data\\raw\\list\\polls\")\n",
    "poll_files = list(POLL_PATH.glob(\"*.csv\"))\n",
    "\n",
    "polls_list = []\n",
    "for file in poll_files:\n",
    "    df = pd.read_csv(file, sep=\";\", encoding=\"utf-8-sig\", dtype=str)\n",
    "    df[\"source_file\"] = file.name\n",
    "    polls_list.append(df)\n",
    "\n",
    "polls_all = pd.concat(polls_list, ignore_index=True)\n",
    "\n",
    "# Spaltennamen bereinigen\n",
    "polls_all.columns = [c.strip() for c in polls_all.columns]\n",
    "\n",
    "# Datumsbereinigung → Monatsspalte erzeugen\n",
    "polls_all[\"date_clean\"] = (\n",
    "    polls_all[\"date\"]\n",
    "    .str.replace(\"·\", \"\", regex=False)\n",
    "    .str.replace(\"UTC\", \"\", regex=False)\n",
    "    .str.strip()\n",
    ")\n",
    "polls_all[\"month\"] = pd.to_datetime(\n",
    "    polls_all[\"date_clean\"], \n",
    "    errors=\"coerce\"\n",
    ").dt.to_period(\"M\").astype(str)\n",
    "\n",
    "# Prozentwerte umwandeln (Komma → Punkt → float → 0–1-Skala)\n",
    "for col in polls_all.columns:\n",
    "    if col not in [\"month\", \"institute\", \"source_file\", \"date\", \"date_clean\"]:\n",
    "        polls_all[col] = (\n",
    "            polls_all[col]\n",
    "            .astype(str)\n",
    "            .str.replace(\",\", \".\", regex=False)\n",
    "            .str.replace(\"%\", \"\", regex=False)\n",
    "            .str.strip()\n",
    "        )\n",
    "        polls_all[col] = pd.to_numeric(polls_all[col], errors=\"coerce\")\n",
    "        if polls_all[col].max() > 1:  # falls noch 0–100 Werte\n",
    "            polls_all[col] = polls_all[col] / 100\n",
    "\n",
    "# Schritt 1: Aggregation pro Monat & Institut\n",
    "polls_inst = polls_all.groupby([\"month\", \"institute\"]).mean(numeric_only=True).reset_index()\n",
    "\n",
    "# Schritt 2: Aggregation über Institute pro Monat\n",
    "polls_month = polls_inst.groupby(\"month\").mean(numeric_only=True).reset_index()\n",
    "\n",
    "# --- Ergebnisse speichern ---\n",
    "csv_path = EXPORT_PATH / \"polls_month.csv\"\n",
    "polls_month.to_csv(csv_path, sep=\";\", index=False, encoding=\"utf-8-sig\")\n",
    "\n",
    "print(\"✅ Poll-Daten aggregiert und gespeichert\")\n",
    "print(polls_month.head())\n",
    "print(f\"[OK] Datei gespeichert: {csv_path}\")\n"
   ]
  },
  {
   "cell_type": "code",
   "execution_count": 18,
   "id": "703a0fcc",
   "metadata": {},
   "outputs": [
    {
     "name": "stdout",
     "output_type": "stream",
     "text": [
      "✅ Korrelationen Online-Metriken vs. Polls (Monatsbasis)\n"
     ]
    },
    {
     "data": {
      "text/html": [
       "<div>\n",
       "<style scoped>\n",
       "    .dataframe tbody tr th:only-of-type {\n",
       "        vertical-align: middle;\n",
       "    }\n",
       "\n",
       "    .dataframe tbody tr th {\n",
       "        vertical-align: top;\n",
       "    }\n",
       "\n",
       "    .dataframe thead th {\n",
       "        text-align: right;\n",
       "    }\n",
       "</style>\n",
       "<table border=\"1\" class=\"dataframe\">\n",
       "  <thead>\n",
       "    <tr style=\"text-align: right;\">\n",
       "      <th></th>\n",
       "      <th>metric</th>\n",
       "      <th>Pearson_r</th>\n",
       "      <th>Pearson_p</th>\n",
       "      <th>Spearman_rho</th>\n",
       "      <th>Spearman_p</th>\n",
       "      <th>N</th>\n",
       "    </tr>\n",
       "  </thead>\n",
       "  <tbody>\n",
       "    <tr>\n",
       "      <th>0</th>\n",
       "      <td>VI</td>\n",
       "      <td>0.827</td>\n",
       "      <td>0.0000</td>\n",
       "      <td>0.685</td>\n",
       "      <td>0.0000</td>\n",
       "      <td>42</td>\n",
       "    </tr>\n",
       "    <tr>\n",
       "      <th>1</th>\n",
       "      <td>NSI</td>\n",
       "      <td>-0.123</td>\n",
       "      <td>0.4388</td>\n",
       "      <td>-0.253</td>\n",
       "      <td>0.1058</td>\n",
       "      <td>42</td>\n",
       "    </tr>\n",
       "    <tr>\n",
       "      <th>2</th>\n",
       "      <td>SR</td>\n",
       "      <td>-0.058</td>\n",
       "      <td>0.7168</td>\n",
       "      <td>-0.218</td>\n",
       "      <td>0.1657</td>\n",
       "      <td>42</td>\n",
       "    </tr>\n",
       "    <tr>\n",
       "      <th>3</th>\n",
       "      <td>WSI</td>\n",
       "      <td>-0.792</td>\n",
       "      <td>0.0000</td>\n",
       "      <td>-0.630</td>\n",
       "      <td>0.0000</td>\n",
       "      <td>42</td>\n",
       "    </tr>\n",
       "    <tr>\n",
       "      <th>4</th>\n",
       "      <td>ASI</td>\n",
       "      <td>0.803</td>\n",
       "      <td>0.0000</td>\n",
       "      <td>0.635</td>\n",
       "      <td>0.0000</td>\n",
       "      <td>42</td>\n",
       "    </tr>\n",
       "    <tr>\n",
       "      <th>5</th>\n",
       "      <td>SupportDist</td>\n",
       "      <td>0.777</td>\n",
       "      <td>0.0000</td>\n",
       "      <td>0.715</td>\n",
       "      <td>0.0000</td>\n",
       "      <td>42</td>\n",
       "    </tr>\n",
       "    <tr>\n",
       "      <th>6</th>\n",
       "      <td>RejectDist</td>\n",
       "      <td>0.817</td>\n",
       "      <td>0.0000</td>\n",
       "      <td>0.672</td>\n",
       "      <td>0.0000</td>\n",
       "      <td>42</td>\n",
       "    </tr>\n",
       "  </tbody>\n",
       "</table>\n",
       "</div>"
      ],
      "text/plain": [
       "        metric  Pearson_r  Pearson_p  Spearman_rho  Spearman_p   N\n",
       "0           VI      0.827     0.0000         0.685      0.0000  42\n",
       "1          NSI     -0.123     0.4388        -0.253      0.1058  42\n",
       "2           SR     -0.058     0.7168        -0.218      0.1657  42\n",
       "3          WSI     -0.792     0.0000        -0.630      0.0000  42\n",
       "4          ASI      0.803     0.0000         0.635      0.0000  42\n",
       "5  SupportDist      0.777     0.0000         0.715      0.0000  42\n",
       "6   RejectDist      0.817     0.0000         0.672      0.0000  42"
      ]
     },
     "metadata": {},
     "output_type": "display_data"
    },
    {
     "name": "stdout",
     "output_type": "stream",
     "text": [
      "[OK] Ergebnisse gespeichert: E:\\Final_Github_1\\MasterThesis_final\\data\\analysis\\Alignment_6_2\\correlations_online_vs_polls.csv\n"
     ]
    }
   ],
   "source": [
    "# =====================================\n",
    "# Korrelation: Online-Metriken vs. Polls\n",
    "# =====================================\n",
    "\n",
    "from scipy.stats import pearsonr, spearmanr\n",
    "\n",
    "# Polls ins Long-Format bringen\n",
    "polls_long = polls_month.melt(id_vars=\"month\", var_name=\"party\", value_name=\"poll_share\")\n",
    "\n",
    "# Merge mit Online-Metriken\n",
    "df_poll_metrics = metrics_month_df.merge(polls_long, on=[\"month\", \"party\"], how=\"inner\")\n",
    "\n",
    "# Alle interessanten Metriken\n",
    "correlation_metrics = [\"VI\", \"NSI\", \"SR\", \"WSI\", \"ASI\", \"SupportDist\", \"RejectDist\"]\n",
    "\n",
    "results = []\n",
    "for metric in correlation_metrics:\n",
    "    x = df_poll_metrics[metric].astype(float).values\n",
    "    y = df_poll_metrics[\"poll_share\"].astype(float).values\n",
    "\n",
    "    pearson_val, pearson_p = pearsonr(x, y)\n",
    "    spearman_val, spearman_p = spearmanr(x, y)\n",
    "\n",
    "    results.append({\n",
    "        \"metric\": metric,\n",
    "        \"Pearson_r\": round(pearson_val, 3),\n",
    "        \"Pearson_p\": round(pearson_p, 4),\n",
    "        \"Spearman_rho\": round(spearman_val, 3),\n",
    "        \"Spearman_p\": round(spearman_p, 4),\n",
    "        \"N\": len(x)\n",
    "    })\n",
    "\n",
    "correlation_polls_df = pd.DataFrame(results)\n",
    "\n",
    "print(\"✅ Korrelationen Online-Metriken vs. Polls (Monatsbasis)\")\n",
    "display(correlation_polls_df)\n",
    "\n",
    "# --- Export als CSV ---\n",
    "csv_path = EXPORT_PATH / \"correlations_online_vs_polls.csv\"\n",
    "correlation_polls_df.to_csv(csv_path, sep=\";\", index=False, encoding=\"utf-8-sig\")\n",
    "\n",
    "print(f\"[OK] Ergebnisse gespeichert: {csv_path}\")\n"
   ]
  },
  {
   "cell_type": "code",
   "execution_count": null,
   "id": "d6c8cfc4",
   "metadata": {},
   "outputs": [],
   "source": []
  },
  {
   "cell_type": "code",
   "execution_count": 46,
   "id": "68c61d7b",
   "metadata": {},
   "outputs": [
    {
     "name": "stdout",
     "output_type": "stream",
     "text": [
      "Bewertete Metriken (inkl. Score aus Polls):\n"
     ]
    },
    {
     "data": {
      "text/html": [
       "<div>\n",
       "<style scoped>\n",
       "    .dataframe tbody tr th:only-of-type {\n",
       "        vertical-align: middle;\n",
       "    }\n",
       "\n",
       "    .dataframe tbody tr th {\n",
       "        vertical-align: top;\n",
       "    }\n",
       "\n",
       "    .dataframe thead th {\n",
       "        text-align: right;\n",
       "    }\n",
       "</style>\n",
       "<table border=\"1\" class=\"dataframe\">\n",
       "  <thead>\n",
       "    <tr style=\"text-align: right;\">\n",
       "      <th></th>\n",
       "      <th>metric</th>\n",
       "      <th>pearson</th>\n",
       "      <th>spearman</th>\n",
       "      <th>KL</th>\n",
       "      <th>JSD</th>\n",
       "      <th>KL_inv</th>\n",
       "      <th>JSD_inv</th>\n",
       "      <th>pearson_s</th>\n",
       "      <th>spearman_s</th>\n",
       "      <th>KL_s</th>\n",
       "      <th>JSD_s</th>\n",
       "      <th>score</th>\n",
       "    </tr>\n",
       "  </thead>\n",
       "  <tbody>\n",
       "    <tr>\n",
       "      <th>0</th>\n",
       "      <td>VI</td>\n",
       "      <td>0.827</td>\n",
       "      <td>0.685</td>\n",
       "      <td>0.133929</td>\n",
       "      <td>0.029457</td>\n",
       "      <td>-0.133929</td>\n",
       "      <td>-0.029457</td>\n",
       "      <td>1.000000</td>\n",
       "      <td>0.977695</td>\n",
       "      <td>0.275276</td>\n",
       "      <td>0.351582</td>\n",
       "      <td>0.651138</td>\n",
       "    </tr>\n",
       "    <tr>\n",
       "      <th>1</th>\n",
       "      <td>ASI</td>\n",
       "      <td>0.809</td>\n",
       "      <td>0.658</td>\n",
       "      <td>0.184800</td>\n",
       "      <td>0.045429</td>\n",
       "      <td>-0.184800</td>\n",
       "      <td>-0.045429</td>\n",
       "      <td>0.988882</td>\n",
       "      <td>0.957621</td>\n",
       "      <td>0.000000</td>\n",
       "      <td>0.000000</td>\n",
       "      <td>0.486626</td>\n",
       "    </tr>\n",
       "    <tr>\n",
       "      <th>2</th>\n",
       "      <td>SupportDist</td>\n",
       "      <td>0.777</td>\n",
       "      <td>0.715</td>\n",
       "      <td>0.164343</td>\n",
       "      <td>0.035786</td>\n",
       "      <td>-0.164343</td>\n",
       "      <td>-0.035786</td>\n",
       "      <td>0.969117</td>\n",
       "      <td>1.000000</td>\n",
       "      <td>0.110698</td>\n",
       "      <td>0.212265</td>\n",
       "      <td>0.573020</td>\n",
       "    </tr>\n",
       "    <tr>\n",
       "      <th>3</th>\n",
       "      <td>RejectDist</td>\n",
       "      <td>0.817</td>\n",
       "      <td>0.672</td>\n",
       "      <td>0.141829</td>\n",
       "      <td>0.031886</td>\n",
       "      <td>-0.141829</td>\n",
       "      <td>-0.031886</td>\n",
       "      <td>0.993823</td>\n",
       "      <td>0.968030</td>\n",
       "      <td>0.232527</td>\n",
       "      <td>0.298114</td>\n",
       "      <td>0.623123</td>\n",
       "    </tr>\n",
       "    <tr>\n",
       "      <th>4</th>\n",
       "      <td>WSI</td>\n",
       "      <td>-0.792</td>\n",
       "      <td>-0.630</td>\n",
       "      <td>NaN</td>\n",
       "      <td>NaN</td>\n",
       "      <td>NaN</td>\n",
       "      <td>NaN</td>\n",
       "      <td>0.000000</td>\n",
       "      <td>0.000000</td>\n",
       "      <td>1.000000</td>\n",
       "      <td>1.000000</td>\n",
       "      <td>0.500000</td>\n",
       "    </tr>\n",
       "  </tbody>\n",
       "</table>\n",
       "</div>"
      ],
      "text/plain": [
       "        metric  pearson  spearman        KL       JSD    KL_inv   JSD_inv  \\\n",
       "0           VI    0.827     0.685  0.133929  0.029457 -0.133929 -0.029457   \n",
       "1          ASI    0.809     0.658  0.184800  0.045429 -0.184800 -0.045429   \n",
       "2  SupportDist    0.777     0.715  0.164343  0.035786 -0.164343 -0.035786   \n",
       "3   RejectDist    0.817     0.672  0.141829  0.031886 -0.141829 -0.031886   \n",
       "4          WSI   -0.792    -0.630       NaN       NaN       NaN       NaN   \n",
       "\n",
       "   pearson_s  spearman_s      KL_s     JSD_s     score  \n",
       "0   1.000000    0.977695  0.275276  0.351582  0.651138  \n",
       "1   0.988882    0.957621  0.000000  0.000000  0.486626  \n",
       "2   0.969117    1.000000  0.110698  0.212265  0.573020  \n",
       "3   0.993823    0.968030  0.232527  0.298114  0.623123  \n",
       "4   0.000000    0.000000  1.000000  1.000000  0.500000  "
      ]
     },
     "metadata": {},
     "output_type": "display_data"
    },
    {
     "name": "stdout",
     "output_type": "stream",
     "text": [
      "\n",
      "Endgültige Gewichte (Poll-basiert, WSI als Korrekturfaktor):\n",
      "metric\n",
      "VI             0.438935\n",
      "ASI            0.328037\n",
      "SupportDist    0.111634\n",
      "RejectDist     0.121395\n",
      "Name: score, dtype: float64\n",
      "\n",
      "Evaluation Hybrid-Distribution (gegen Wahlergebnisse 2025):\n",
      "KL: 0.1703 | JSD: 0.0303 | Pearson: 0.783 | Spearman: 0.643\n"
     ]
    },
    {
     "data": {
      "application/vnd.plotly.v1+json": {
       "config": {
        "plotlyServerURL": "https://plot.ly"
       },
       "data": [
        {
         "marker": {
          "color": "blue"
         },
         "name": "Hybrid (Poll-gewichtet)",
         "type": "bar",
         "x": [
          "AfD",
          "B90/GRÜNE",
          "BSW",
          "CDU/CSU",
          "FDP",
          "LINKE",
          "SPD"
         ],
         "y": {
          "bdata": "I5sNRwjYxT8nfsWv4H3LP3DNJ0GUw6I/G4frp4YV1j+iug9j73q8P1xzCY2m7qQ//1WDqAaqtD8=",
          "dtype": "f8"
         }
        },
        {
         "marker": {
          "color": "red"
         },
         "name": "Wahlergebnis 2025",
         "opacity": 0.6,
         "type": "bar",
         "x": [
          "CDU/CSU",
          "SPD",
          "AfD",
          "FDP",
          "B90/GRÜNE",
          "LINKE",
          "BSW"
         ],
         "y": {
          "bdata": "PQrXo3A90j/KoUW28/3EPzq0yHa+n8o/arx0kxgEpj8YBFYOLbK9P7tJDAIrh7Y/mpmZmZmZqT8=",
          "dtype": "f8"
         }
        }
       ],
       "layout": {
        "barmode": "group",
        "template": {
         "data": {
          "bar": [
           {
            "error_x": {
             "color": "#2a3f5f"
            },
            "error_y": {
             "color": "#2a3f5f"
            },
            "marker": {
             "line": {
              "color": "#E5ECF6",
              "width": 0.5
             },
             "pattern": {
              "fillmode": "overlay",
              "size": 10,
              "solidity": 0.2
             }
            },
            "type": "bar"
           }
          ],
          "barpolar": [
           {
            "marker": {
             "line": {
              "color": "#E5ECF6",
              "width": 0.5
             },
             "pattern": {
              "fillmode": "overlay",
              "size": 10,
              "solidity": 0.2
             }
            },
            "type": "barpolar"
           }
          ],
          "carpet": [
           {
            "aaxis": {
             "endlinecolor": "#2a3f5f",
             "gridcolor": "white",
             "linecolor": "white",
             "minorgridcolor": "white",
             "startlinecolor": "#2a3f5f"
            },
            "baxis": {
             "endlinecolor": "#2a3f5f",
             "gridcolor": "white",
             "linecolor": "white",
             "minorgridcolor": "white",
             "startlinecolor": "#2a3f5f"
            },
            "type": "carpet"
           }
          ],
          "choropleth": [
           {
            "colorbar": {
             "outlinewidth": 0,
             "ticks": ""
            },
            "type": "choropleth"
           }
          ],
          "contour": [
           {
            "colorbar": {
             "outlinewidth": 0,
             "ticks": ""
            },
            "colorscale": [
             [
              0,
              "#0d0887"
             ],
             [
              0.1111111111111111,
              "#46039f"
             ],
             [
              0.2222222222222222,
              "#7201a8"
             ],
             [
              0.3333333333333333,
              "#9c179e"
             ],
             [
              0.4444444444444444,
              "#bd3786"
             ],
             [
              0.5555555555555556,
              "#d8576b"
             ],
             [
              0.6666666666666666,
              "#ed7953"
             ],
             [
              0.7777777777777778,
              "#fb9f3a"
             ],
             [
              0.8888888888888888,
              "#fdca26"
             ],
             [
              1,
              "#f0f921"
             ]
            ],
            "type": "contour"
           }
          ],
          "contourcarpet": [
           {
            "colorbar": {
             "outlinewidth": 0,
             "ticks": ""
            },
            "type": "contourcarpet"
           }
          ],
          "heatmap": [
           {
            "colorbar": {
             "outlinewidth": 0,
             "ticks": ""
            },
            "colorscale": [
             [
              0,
              "#0d0887"
             ],
             [
              0.1111111111111111,
              "#46039f"
             ],
             [
              0.2222222222222222,
              "#7201a8"
             ],
             [
              0.3333333333333333,
              "#9c179e"
             ],
             [
              0.4444444444444444,
              "#bd3786"
             ],
             [
              0.5555555555555556,
              "#d8576b"
             ],
             [
              0.6666666666666666,
              "#ed7953"
             ],
             [
              0.7777777777777778,
              "#fb9f3a"
             ],
             [
              0.8888888888888888,
              "#fdca26"
             ],
             [
              1,
              "#f0f921"
             ]
            ],
            "type": "heatmap"
           }
          ],
          "histogram": [
           {
            "marker": {
             "pattern": {
              "fillmode": "overlay",
              "size": 10,
              "solidity": 0.2
             }
            },
            "type": "histogram"
           }
          ],
          "histogram2d": [
           {
            "colorbar": {
             "outlinewidth": 0,
             "ticks": ""
            },
            "colorscale": [
             [
              0,
              "#0d0887"
             ],
             [
              0.1111111111111111,
              "#46039f"
             ],
             [
              0.2222222222222222,
              "#7201a8"
             ],
             [
              0.3333333333333333,
              "#9c179e"
             ],
             [
              0.4444444444444444,
              "#bd3786"
             ],
             [
              0.5555555555555556,
              "#d8576b"
             ],
             [
              0.6666666666666666,
              "#ed7953"
             ],
             [
              0.7777777777777778,
              "#fb9f3a"
             ],
             [
              0.8888888888888888,
              "#fdca26"
             ],
             [
              1,
              "#f0f921"
             ]
            ],
            "type": "histogram2d"
           }
          ],
          "histogram2dcontour": [
           {
            "colorbar": {
             "outlinewidth": 0,
             "ticks": ""
            },
            "colorscale": [
             [
              0,
              "#0d0887"
             ],
             [
              0.1111111111111111,
              "#46039f"
             ],
             [
              0.2222222222222222,
              "#7201a8"
             ],
             [
              0.3333333333333333,
              "#9c179e"
             ],
             [
              0.4444444444444444,
              "#bd3786"
             ],
             [
              0.5555555555555556,
              "#d8576b"
             ],
             [
              0.6666666666666666,
              "#ed7953"
             ],
             [
              0.7777777777777778,
              "#fb9f3a"
             ],
             [
              0.8888888888888888,
              "#fdca26"
             ],
             [
              1,
              "#f0f921"
             ]
            ],
            "type": "histogram2dcontour"
           }
          ],
          "mesh3d": [
           {
            "colorbar": {
             "outlinewidth": 0,
             "ticks": ""
            },
            "type": "mesh3d"
           }
          ],
          "parcoords": [
           {
            "line": {
             "colorbar": {
              "outlinewidth": 0,
              "ticks": ""
             }
            },
            "type": "parcoords"
           }
          ],
          "pie": [
           {
            "automargin": true,
            "type": "pie"
           }
          ],
          "scatter": [
           {
            "fillpattern": {
             "fillmode": "overlay",
             "size": 10,
             "solidity": 0.2
            },
            "type": "scatter"
           }
          ],
          "scatter3d": [
           {
            "line": {
             "colorbar": {
              "outlinewidth": 0,
              "ticks": ""
             }
            },
            "marker": {
             "colorbar": {
              "outlinewidth": 0,
              "ticks": ""
             }
            },
            "type": "scatter3d"
           }
          ],
          "scattercarpet": [
           {
            "marker": {
             "colorbar": {
              "outlinewidth": 0,
              "ticks": ""
             }
            },
            "type": "scattercarpet"
           }
          ],
          "scattergeo": [
           {
            "marker": {
             "colorbar": {
              "outlinewidth": 0,
              "ticks": ""
             }
            },
            "type": "scattergeo"
           }
          ],
          "scattergl": [
           {
            "marker": {
             "colorbar": {
              "outlinewidth": 0,
              "ticks": ""
             }
            },
            "type": "scattergl"
           }
          ],
          "scattermap": [
           {
            "marker": {
             "colorbar": {
              "outlinewidth": 0,
              "ticks": ""
             }
            },
            "type": "scattermap"
           }
          ],
          "scattermapbox": [
           {
            "marker": {
             "colorbar": {
              "outlinewidth": 0,
              "ticks": ""
             }
            },
            "type": "scattermapbox"
           }
          ],
          "scatterpolar": [
           {
            "marker": {
             "colorbar": {
              "outlinewidth": 0,
              "ticks": ""
             }
            },
            "type": "scatterpolar"
           }
          ],
          "scatterpolargl": [
           {
            "marker": {
             "colorbar": {
              "outlinewidth": 0,
              "ticks": ""
             }
            },
            "type": "scatterpolargl"
           }
          ],
          "scatterternary": [
           {
            "marker": {
             "colorbar": {
              "outlinewidth": 0,
              "ticks": ""
             }
            },
            "type": "scatterternary"
           }
          ],
          "surface": [
           {
            "colorbar": {
             "outlinewidth": 0,
             "ticks": ""
            },
            "colorscale": [
             [
              0,
              "#0d0887"
             ],
             [
              0.1111111111111111,
              "#46039f"
             ],
             [
              0.2222222222222222,
              "#7201a8"
             ],
             [
              0.3333333333333333,
              "#9c179e"
             ],
             [
              0.4444444444444444,
              "#bd3786"
             ],
             [
              0.5555555555555556,
              "#d8576b"
             ],
             [
              0.6666666666666666,
              "#ed7953"
             ],
             [
              0.7777777777777778,
              "#fb9f3a"
             ],
             [
              0.8888888888888888,
              "#fdca26"
             ],
             [
              1,
              "#f0f921"
             ]
            ],
            "type": "surface"
           }
          ],
          "table": [
           {
            "cells": {
             "fill": {
              "color": "#EBF0F8"
             },
             "line": {
              "color": "white"
             }
            },
            "header": {
             "fill": {
              "color": "#C8D4E3"
             },
             "line": {
              "color": "white"
             }
            },
            "type": "table"
           }
          ]
         },
         "layout": {
          "annotationdefaults": {
           "arrowcolor": "#2a3f5f",
           "arrowhead": 0,
           "arrowwidth": 1
          },
          "autotypenumbers": "strict",
          "coloraxis": {
           "colorbar": {
            "outlinewidth": 0,
            "ticks": ""
           }
          },
          "colorscale": {
           "diverging": [
            [
             0,
             "#8e0152"
            ],
            [
             0.1,
             "#c51b7d"
            ],
            [
             0.2,
             "#de77ae"
            ],
            [
             0.3,
             "#f1b6da"
            ],
            [
             0.4,
             "#fde0ef"
            ],
            [
             0.5,
             "#f7f7f7"
            ],
            [
             0.6,
             "#e6f5d0"
            ],
            [
             0.7,
             "#b8e186"
            ],
            [
             0.8,
             "#7fbc41"
            ],
            [
             0.9,
             "#4d9221"
            ],
            [
             1,
             "#276419"
            ]
           ],
           "sequential": [
            [
             0,
             "#0d0887"
            ],
            [
             0.1111111111111111,
             "#46039f"
            ],
            [
             0.2222222222222222,
             "#7201a8"
            ],
            [
             0.3333333333333333,
             "#9c179e"
            ],
            [
             0.4444444444444444,
             "#bd3786"
            ],
            [
             0.5555555555555556,
             "#d8576b"
            ],
            [
             0.6666666666666666,
             "#ed7953"
            ],
            [
             0.7777777777777778,
             "#fb9f3a"
            ],
            [
             0.8888888888888888,
             "#fdca26"
            ],
            [
             1,
             "#f0f921"
            ]
           ],
           "sequentialminus": [
            [
             0,
             "#0d0887"
            ],
            [
             0.1111111111111111,
             "#46039f"
            ],
            [
             0.2222222222222222,
             "#7201a8"
            ],
            [
             0.3333333333333333,
             "#9c179e"
            ],
            [
             0.4444444444444444,
             "#bd3786"
            ],
            [
             0.5555555555555556,
             "#d8576b"
            ],
            [
             0.6666666666666666,
             "#ed7953"
            ],
            [
             0.7777777777777778,
             "#fb9f3a"
            ],
            [
             0.8888888888888888,
             "#fdca26"
            ],
            [
             1,
             "#f0f921"
            ]
           ]
          },
          "colorway": [
           "#636efa",
           "#EF553B",
           "#00cc96",
           "#ab63fa",
           "#FFA15A",
           "#19d3f3",
           "#FF6692",
           "#B6E880",
           "#FF97FF",
           "#FECB52"
          ],
          "font": {
           "color": "#2a3f5f"
          },
          "geo": {
           "bgcolor": "white",
           "lakecolor": "white",
           "landcolor": "#E5ECF6",
           "showlakes": true,
           "showland": true,
           "subunitcolor": "white"
          },
          "hoverlabel": {
           "align": "left"
          },
          "hovermode": "closest",
          "mapbox": {
           "style": "light"
          },
          "paper_bgcolor": "white",
          "plot_bgcolor": "#E5ECF6",
          "polar": {
           "angularaxis": {
            "gridcolor": "white",
            "linecolor": "white",
            "ticks": ""
           },
           "bgcolor": "#E5ECF6",
           "radialaxis": {
            "gridcolor": "white",
            "linecolor": "white",
            "ticks": ""
           }
          },
          "scene": {
           "xaxis": {
            "backgroundcolor": "#E5ECF6",
            "gridcolor": "white",
            "gridwidth": 2,
            "linecolor": "white",
            "showbackground": true,
            "ticks": "",
            "zerolinecolor": "white"
           },
           "yaxis": {
            "backgroundcolor": "#E5ECF6",
            "gridcolor": "white",
            "gridwidth": 2,
            "linecolor": "white",
            "showbackground": true,
            "ticks": "",
            "zerolinecolor": "white"
           },
           "zaxis": {
            "backgroundcolor": "#E5ECF6",
            "gridcolor": "white",
            "gridwidth": 2,
            "linecolor": "white",
            "showbackground": true,
            "ticks": "",
            "zerolinecolor": "white"
           }
          },
          "shapedefaults": {
           "line": {
            "color": "#2a3f5f"
           }
          },
          "ternary": {
           "aaxis": {
            "gridcolor": "white",
            "linecolor": "white",
            "ticks": ""
           },
           "baxis": {
            "gridcolor": "white",
            "linecolor": "white",
            "ticks": ""
           },
           "bgcolor": "#E5ECF6",
           "caxis": {
            "gridcolor": "white",
            "linecolor": "white",
            "ticks": ""
           }
          },
          "title": {
           "x": 0.05
          },
          "xaxis": {
           "automargin": true,
           "gridcolor": "white",
           "linecolor": "white",
           "ticks": "",
           "title": {
            "standoff": 15
           },
           "zerolinecolor": "white",
           "zerolinewidth": 2
          },
          "yaxis": {
           "automargin": true,
           "gridcolor": "white",
           "linecolor": "white",
           "ticks": "",
           "title": {
            "standoff": 15
           },
           "zerolinecolor": "white",
           "zerolinewidth": 2
          }
         }
        },
        "title": {
         "text": "Hybrid-Distribution (aus Polls gewichtet) vs. Wahlergebnisse 2025"
        },
        "yaxis": {
         "title": {
          "text": "Anteil"
         }
        }
       }
      }
     },
     "metadata": {},
     "output_type": "display_data"
    }
   ],
   "source": [
    "# ============================\n",
    "# Hybrid-Distribution (aus Polls gewichtet) vs. Wahlergebnisse\n",
    "# ============================\n",
    "\n",
    "import numpy as np\n",
    "import pandas as pd\n",
    "from sklearn.preprocessing import MinMaxScaler\n",
    "from scipy.stats import pearsonr, spearmanr\n",
    "from scipy.spatial import distance\n",
    "import plotly.graph_objects as go\n",
    "\n",
    "# --- 1) Eval-DataFrame (Poll-Korrelationen + KL/JSD) ---\n",
    "df_eval = pd.DataFrame({\n",
    "    \"metric\": [\"VI\", \"ASI\", \"SupportDist\", \"RejectDist\", \"WSI\"],\n",
    "    \"pearson\": [0.827, 0.809, 0.777, 0.817, -0.792],\n",
    "    \"spearman\": [0.685, 0.658, 0.715, 0.672, -0.630],\n",
    "    \"KL\": [0.133929, 0.184800, 0.164343, 0.141829, np.nan],\n",
    "    \"JSD\": [0.029457, 0.045429, 0.035786, 0.031886, np.nan]\n",
    "})\n",
    "\n",
    "# --- 2) Normierung & Score ---\n",
    "scaler = MinMaxScaler()\n",
    "df_eval[\"KL_inv\"] = -df_eval[\"KL\"]\n",
    "df_eval[\"JSD_inv\"] = -df_eval[\"JSD\"]\n",
    "\n",
    "to_scale = df_eval[[\"pearson\", \"spearman\", \"KL_inv\", \"JSD_inv\"]].fillna(0)\n",
    "scaled = scaler.fit_transform(to_scale)\n",
    "df_eval[[\"pearson_s\", \"spearman_s\", \"KL_s\", \"JSD_s\"]] = scaled\n",
    "df_eval[\"score\"] = df_eval[[\"pearson_s\", \"spearman_s\", \"KL_s\", \"JSD_s\"]].mean(axis=1)\n",
    "\n",
    "print(\"Bewertete Metriken (inkl. Score aus Polls):\")\n",
    "display(df_eval)\n",
    "\n",
    "# --- 3) Gewichte berechnen (nur Distributionsmetriken) ---\n",
    "metrics_for_hybrid = [\"ASI\", \"VI\", \"SupportDist\", \"RejectDist\"]\n",
    "weights = df_eval[df_eval[\"metric\"].isin(metrics_for_hybrid)].set_index(\"metric\")[\"score\"]\n",
    "\n",
    "# WSI als Korrekturfaktor: wenn stark negativ korreliert → reduziert den Einfluss von Support/Reject etwas\n",
    "if \"WSI\" in df_eval[\"metric\"].values:\n",
    "    wsi_corr = (df_eval.loc[df_eval[\"metric\"]==\"WSI\", \"pearson\"].values[0] +\n",
    "                df_eval.loc[df_eval[\"metric\"]==\"WSI\", \"spearman\"].values[0]) / 2\n",
    "    correction = 1 - abs(wsi_corr)  # je negativer, desto kleinerer Faktor\n",
    "    # leichte Anpassung: SupportDist/RejectDist stärker abgewichtet\n",
    "    for m in [\"SupportDist\",\"RejectDist\"]:\n",
    "        if m in weights.index:\n",
    "            weights[m] = weights[m] * correction\n",
    "\n",
    "weights = weights / weights.sum()  # Normierung\n",
    "print(\"\\nEndgültige Gewichte (Poll-basiert, WSI als Korrekturfaktor):\")\n",
    "print(weights)\n",
    "\n",
    "# --- 4) Hybrid-Distribution erstellen ---\n",
    "def hybrid_distribution(metrics_df, weights):\n",
    "    normed = {}\n",
    "    for m in weights.index:\n",
    "        vals = metrics_df.set_index(\"party\")[m]\n",
    "        normed[m] = vals / vals.sum() if vals.sum() > 0 else vals\n",
    "    normed_df = pd.DataFrame(normed)\n",
    "    return (normed_df * weights).sum(axis=1)\n",
    "\n",
    "hybrid = hybrid_distribution(metrics_df, weights)\n",
    "\n",
    "# --- 5) Vergleich mit Wahlergebnissen (Ground Truth) ---\n",
    "# Wahlergebnisse laden (already preprocessed to 0–1 share)\n",
    "election_results = pd.read_csv(\n",
    "    r\"E:\\Final_Github_1\\MasterThesis_final\\data\\raw\\list\\election_results_2021_2025.csv\",\n",
    "    sep=\";\", encoding=\"utf-8-sig\"\n",
    ")\n",
    "election_results[\"vote_share_2025\"] = election_results[\"vote_share_2025\"].astype(str).str.replace(\",\",\".\").astype(float)\n",
    "if election_results[\"vote_share_2025\"].max() > 1:\n",
    "    election_results[\"vote_share_2025\"] = election_results[\"vote_share_2025\"] / 100\n",
    "vote_ref = election_results.set_index(\"party\")[\"vote_share_2025\"]\n",
    "\n",
    "# Evaluation\n",
    "def jensen_shannon(p, q):\n",
    "    p = np.array(p, dtype=float); q = np.array(q, dtype=float)\n",
    "    p = p / p.sum() if p.sum() != 0 else np.ones_like(p)/len(p)\n",
    "    q = q / q.sum() if q.sum() != 0 else np.ones_like(q)/len(q)\n",
    "    m = 0.5 * (p + q)\n",
    "    return 0.5 * distance.rel_entr(p, m).sum() + 0.5 * distance.rel_entr(q, m).sum()\n",
    "\n",
    "common_parties = hybrid.index.intersection(vote_ref.index)\n",
    "p = hybrid.loc[common_parties].values\n",
    "q = vote_ref.loc[common_parties].values\n",
    "\n",
    "kl = distance.rel_entr(p, q).sum()\n",
    "jsd = jensen_shannon(p, q)\n",
    "pear, _ = pearsonr(p, q)\n",
    "spear, _ = spearmanr(p, q)\n",
    "\n",
    "print(\"\\nEvaluation Hybrid-Distribution (gegen Wahlergebnisse 2025):\")\n",
    "print(f\"KL: {kl:.4f} | JSD: {jsd:.4f} | Pearson: {pear:.3f} | Spearman: {spear:.3f}\")\n",
    "\n",
    "# --- 6) Plot ---\n",
    "fig = go.Figure()\n",
    "fig.add_trace(go.Bar(x=hybrid.index, y=hybrid.values,\n",
    "                     name=\"Hybrid (Poll-gewichtet)\", marker_color=\"blue\"))\n",
    "fig.add_trace(go.Bar(x=vote_ref.index, y=vote_ref.values,\n",
    "                     name=\"Wahlergebnis 2025\", marker_color=\"red\", opacity=0.6))\n",
    "\n",
    "fig.update_layout(\n",
    "    title=\"Hybrid-Distribution (aus Polls gewichtet) vs. Wahlergebnisse 2025\",\n",
    "    barmode=\"group\",\n",
    "    yaxis_title=\"Anteil\"\n",
    ")\n",
    "fig.show()\n",
    "\n",
    "\n"
   ]
  },
  {
   "cell_type": "code",
   "execution_count": 8,
   "id": "fdce371f",
   "metadata": {},
   "outputs": [
    {
     "ename": "KeyboardInterrupt",
     "evalue": "",
     "output_type": "error",
     "traceback": [
      "\u001b[1;31m---------------------------------------------------------------------------\u001b[0m",
      "\u001b[1;31mKeyboardInterrupt\u001b[0m                         Traceback (most recent call last)",
      "\u001b[1;32m~\\AppData\\Local\\Temp\\ipykernel_10244\\2088089389.py\u001b[0m in \u001b[0;36m?\u001b[1;34m()\u001b[0m\n\u001b[0;32m     49\u001b[0m \u001b[1;31m# 3) Apply assignment per user\u001b[0m\u001b[1;33m\u001b[0m\u001b[1;33m\u001b[0m\u001b[0m\n\u001b[0;32m     50\u001b[0m user_assignments = (\n\u001b[0;32m     51\u001b[0m     \u001b[0muser_party_means\u001b[0m\u001b[1;33m.\u001b[0m\u001b[0mgroupby\u001b[0m\u001b[1;33m(\u001b[0m\u001b[1;34m\"username\"\u001b[0m\u001b[1;33m)\u001b[0m\u001b[1;33m.\u001b[0m\u001b[0mfirst\u001b[0m\u001b[1;33m(\u001b[0m\u001b[1;33m)\u001b[0m\u001b[1;33m.\u001b[0m\u001b[0mreset_index\u001b[0m\u001b[1;33m(\u001b[0m\u001b[1;33m)\u001b[0m\u001b[1;33m[\u001b[0m\u001b[1;33m[\u001b[0m\u001b[1;34m\"username\"\u001b[0m\u001b[1;33m]\u001b[0m\u001b[1;33m]\u001b[0m\u001b[1;33m\u001b[0m\u001b[1;33m\u001b[0m\u001b[0m\n\u001b[0;32m     52\u001b[0m )\n\u001b[1;32m---> 53\u001b[1;33m \u001b[0muser_assignments\u001b[0m\u001b[1;33m[\u001b[0m\u001b[1;34m\"assigned_party\"\u001b[0m\u001b[1;33m]\u001b[0m \u001b[1;33m=\u001b[0m \u001b[0muser_assignments\u001b[0m\u001b[1;33m[\u001b[0m\u001b[1;34m\"username\"\u001b[0m\u001b[1;33m]\u001b[0m\u001b[1;33m.\u001b[0m\u001b[0mapply\u001b[0m\u001b[1;33m(\u001b[0m\u001b[0massign_party\u001b[0m\u001b[1;33m)\u001b[0m\u001b[1;33m\u001b[0m\u001b[1;33m\u001b[0m\u001b[0m\n\u001b[0m\u001b[0;32m     54\u001b[0m \u001b[1;33m\u001b[0m\u001b[0m\n\u001b[0;32m     55\u001b[0m \u001b[1;31m# Merge back (optional)\u001b[0m\u001b[1;33m\u001b[0m\u001b[1;33m\u001b[0m\u001b[0m\n\u001b[0;32m     56\u001b[0m \u001b[0mdata\u001b[0m \u001b[1;33m=\u001b[0m \u001b[0mdata\u001b[0m\u001b[1;33m.\u001b[0m\u001b[0mmerge\u001b[0m\u001b[1;33m(\u001b[0m\u001b[0muser_assignments\u001b[0m\u001b[1;33m,\u001b[0m \u001b[0mon\u001b[0m\u001b[1;33m=\u001b[0m\u001b[1;34m\"username\"\u001b[0m\u001b[1;33m,\u001b[0m \u001b[0mhow\u001b[0m\u001b[1;33m=\u001b[0m\u001b[1;34m\"left\"\u001b[0m\u001b[1;33m)\u001b[0m\u001b[1;33m\u001b[0m\u001b[1;33m\u001b[0m\u001b[0m\n",
      "\u001b[1;32mc:\\Users\\Admin\\AppData\\Local\\Programs\\Python\\Python310\\lib\\site-packages\\pandas\\core\\series.py\u001b[0m in \u001b[0;36m?\u001b[1;34m(self, func, convert_dtype, args, **kwargs)\u001b[0m\n\u001b[0;32m   4767\u001b[0m         \u001b[0mNew\u001b[0m \u001b[0mYork\u001b[0m    \u001b[1;36m3.044522\u001b[0m\u001b[1;33m\u001b[0m\u001b[1;33m\u001b[0m\u001b[0m\n\u001b[0;32m   4768\u001b[0m         \u001b[0mHelsinki\u001b[0m    \u001b[1;36m2.484907\u001b[0m\u001b[1;33m\u001b[0m\u001b[1;33m\u001b[0m\u001b[0m\n\u001b[0;32m   4769\u001b[0m         \u001b[0mdtype\u001b[0m\u001b[1;33m:\u001b[0m \u001b[0mfloat64\u001b[0m\u001b[1;33m\u001b[0m\u001b[1;33m\u001b[0m\u001b[0m\n\u001b[0;32m   4770\u001b[0m         \"\"\"\n\u001b[1;32m-> 4771\u001b[1;33m         \u001b[1;32mreturn\u001b[0m \u001b[0mSeriesApply\u001b[0m\u001b[1;33m(\u001b[0m\u001b[0mself\u001b[0m\u001b[1;33m,\u001b[0m \u001b[0mfunc\u001b[0m\u001b[1;33m,\u001b[0m \u001b[0mconvert_dtype\u001b[0m\u001b[1;33m,\u001b[0m \u001b[0margs\u001b[0m\u001b[1;33m,\u001b[0m \u001b[0mkwargs\u001b[0m\u001b[1;33m)\u001b[0m\u001b[1;33m.\u001b[0m\u001b[0mapply\u001b[0m\u001b[1;33m(\u001b[0m\u001b[1;33m)\u001b[0m\u001b[1;33m\u001b[0m\u001b[1;33m\u001b[0m\u001b[0m\n\u001b[0m",
      "\u001b[1;32mc:\\Users\\Admin\\AppData\\Local\\Programs\\Python\\Python310\\lib\\site-packages\\pandas\\core\\apply.py\u001b[0m in \u001b[0;36m?\u001b[1;34m(self)\u001b[0m\n\u001b[0;32m   1119\u001b[0m             \u001b[1;31m# if we are a string, try to dispatch\u001b[0m\u001b[1;33m\u001b[0m\u001b[1;33m\u001b[0m\u001b[0m\n\u001b[0;32m   1120\u001b[0m             \u001b[1;32mreturn\u001b[0m \u001b[0mself\u001b[0m\u001b[1;33m.\u001b[0m\u001b[0mapply_str\u001b[0m\u001b[1;33m(\u001b[0m\u001b[1;33m)\u001b[0m\u001b[1;33m\u001b[0m\u001b[1;33m\u001b[0m\u001b[0m\n\u001b[0;32m   1121\u001b[0m \u001b[1;33m\u001b[0m\u001b[0m\n\u001b[0;32m   1122\u001b[0m         \u001b[1;31m# self.f is Callable\u001b[0m\u001b[1;33m\u001b[0m\u001b[1;33m\u001b[0m\u001b[0m\n\u001b[1;32m-> 1123\u001b[1;33m         \u001b[1;32mreturn\u001b[0m \u001b[0mself\u001b[0m\u001b[1;33m.\u001b[0m\u001b[0mapply_standard\u001b[0m\u001b[1;33m(\u001b[0m\u001b[1;33m)\u001b[0m\u001b[1;33m\u001b[0m\u001b[1;33m\u001b[0m\u001b[0m\n\u001b[0m",
      "\u001b[1;32mc:\\Users\\Admin\\AppData\\Local\\Programs\\Python\\Python310\\lib\\site-packages\\pandas\\core\\apply.py\u001b[0m in \u001b[0;36m?\u001b[1;34m(self)\u001b[0m\n\u001b[0;32m   1170\u001b[0m                 \u001b[1;31m# GH#23179 some EAs do not have `map`\u001b[0m\u001b[1;33m\u001b[0m\u001b[1;33m\u001b[0m\u001b[0m\n\u001b[0;32m   1171\u001b[0m                 \u001b[0mmapped\u001b[0m \u001b[1;33m=\u001b[0m \u001b[0mobj\u001b[0m\u001b[1;33m.\u001b[0m\u001b[0m_values\u001b[0m\u001b[1;33m.\u001b[0m\u001b[0mmap\u001b[0m\u001b[1;33m(\u001b[0m\u001b[0mf\u001b[0m\u001b[1;33m)\u001b[0m\u001b[1;33m\u001b[0m\u001b[1;33m\u001b[0m\u001b[0m\n\u001b[0;32m   1172\u001b[0m             \u001b[1;32melse\u001b[0m\u001b[1;33m:\u001b[0m\u001b[1;33m\u001b[0m\u001b[1;33m\u001b[0m\u001b[0m\n\u001b[0;32m   1173\u001b[0m                 \u001b[0mvalues\u001b[0m \u001b[1;33m=\u001b[0m \u001b[0mobj\u001b[0m\u001b[1;33m.\u001b[0m\u001b[0mastype\u001b[0m\u001b[1;33m(\u001b[0m\u001b[0mobject\u001b[0m\u001b[1;33m)\u001b[0m\u001b[1;33m.\u001b[0m\u001b[0m_values\u001b[0m\u001b[1;33m\u001b[0m\u001b[1;33m\u001b[0m\u001b[0m\n\u001b[1;32m-> 1174\u001b[1;33m                 mapped = lib.map_infer(\n\u001b[0m\u001b[0;32m   1175\u001b[0m                     \u001b[0mvalues\u001b[0m\u001b[1;33m,\u001b[0m\u001b[1;33m\u001b[0m\u001b[1;33m\u001b[0m\u001b[0m\n\u001b[0;32m   1176\u001b[0m                     \u001b[0mf\u001b[0m\u001b[1;33m,\u001b[0m\u001b[1;33m\u001b[0m\u001b[1;33m\u001b[0m\u001b[0m\n\u001b[0;32m   1177\u001b[0m                     \u001b[0mconvert\u001b[0m\u001b[1;33m=\u001b[0m\u001b[0mself\u001b[0m\u001b[1;33m.\u001b[0m\u001b[0mconvert_dtype\u001b[0m\u001b[1;33m,\u001b[0m\u001b[1;33m\u001b[0m\u001b[1;33m\u001b[0m\u001b[0m\n",
      "\u001b[1;32mpandas\\_libs\\lib.pyx\u001b[0m in \u001b[0;36m?\u001b[1;34m()\u001b[0m\n\u001b[1;32m-> 2924\u001b[1;33m \u001b[1;34m'Could not get source, probably due dynamically evaluated source code.'\u001b[0m\u001b[1;33m\u001b[0m\u001b[1;33m\u001b[0m\u001b[0m\n\u001b[0m",
      "\u001b[1;32m~\\AppData\\Local\\Temp\\ipykernel_10244\\2088089389.py\u001b[0m in \u001b[0;36m?\u001b[1;34m(user)\u001b[0m\n\u001b[0;32m     27\u001b[0m \u001b[1;32mdef\u001b[0m \u001b[0massign_party\u001b[0m\u001b[1;33m(\u001b[0m\u001b[0muser\u001b[0m\u001b[1;33m)\u001b[0m\u001b[1;33m:\u001b[0m\u001b[1;33m\u001b[0m\u001b[1;33m\u001b[0m\u001b[0m\n\u001b[1;32m---> 28\u001b[1;33m     \u001b[0mmeans\u001b[0m \u001b[1;33m=\u001b[0m \u001b[0muser_party_means\u001b[0m\u001b[1;33m[\u001b[0m\u001b[0muser_party_means\u001b[0m\u001b[1;33m[\u001b[0m\u001b[1;34m\"username\"\u001b[0m\u001b[1;33m]\u001b[0m \u001b[1;33m==\u001b[0m \u001b[0muser\u001b[0m\u001b[1;33m]\u001b[0m\u001b[1;33m\u001b[0m\u001b[1;33m\u001b[0m\u001b[0m\n\u001b[0m\u001b[0;32m     29\u001b[0m     \u001b[0mvalues\u001b[0m \u001b[1;33m=\u001b[0m \u001b[0mmeans\u001b[0m\u001b[1;33m[\u001b[0m\u001b[1;34m\"stance_score\"\u001b[0m\u001b[1;33m]\u001b[0m\u001b[1;33m.\u001b[0m\u001b[0mvalues\u001b[0m\u001b[1;33m\u001b[0m\u001b[1;33m\u001b[0m\u001b[0m\n\u001b[0;32m     30\u001b[0m \u001b[1;33m\u001b[0m\u001b[0m\n\u001b[0;32m     31\u001b[0m     \u001b[1;31m# Case 1: All -1\u001b[0m\u001b[1;33m\u001b[0m\u001b[1;33m\u001b[0m\u001b[0m\n",
      "\u001b[1;32mc:\\Users\\Admin\\AppData\\Local\\Programs\\Python\\Python310\\lib\\site-packages\\pandas\\core\\frame.py\u001b[0m in \u001b[0;36m?\u001b[1;34m(self, key)\u001b[0m\n\u001b[0;32m   3794\u001b[0m             \u001b[1;32mreturn\u001b[0m \u001b[0mself\u001b[0m\u001b[1;33m.\u001b[0m\u001b[0mwhere\u001b[0m\u001b[1;33m(\u001b[0m\u001b[0mkey\u001b[0m\u001b[1;33m)\u001b[0m\u001b[1;33m\u001b[0m\u001b[1;33m\u001b[0m\u001b[0m\n\u001b[0;32m   3795\u001b[0m \u001b[1;33m\u001b[0m\u001b[0m\n\u001b[0;32m   3796\u001b[0m         \u001b[1;31m# Do we have a (boolean) 1d indexer?\u001b[0m\u001b[1;33m\u001b[0m\u001b[1;33m\u001b[0m\u001b[0m\n\u001b[0;32m   3797\u001b[0m         \u001b[1;32mif\u001b[0m \u001b[0mcom\u001b[0m\u001b[1;33m.\u001b[0m\u001b[0mis_bool_indexer\u001b[0m\u001b[1;33m(\u001b[0m\u001b[0mkey\u001b[0m\u001b[1;33m)\u001b[0m\u001b[1;33m:\u001b[0m\u001b[1;33m\u001b[0m\u001b[1;33m\u001b[0m\u001b[0m\n\u001b[1;32m-> 3798\u001b[1;33m             \u001b[1;32mreturn\u001b[0m \u001b[0mself\u001b[0m\u001b[1;33m.\u001b[0m\u001b[0m_getitem_bool_array\u001b[0m\u001b[1;33m(\u001b[0m\u001b[0mkey\u001b[0m\u001b[1;33m)\u001b[0m\u001b[1;33m\u001b[0m\u001b[1;33m\u001b[0m\u001b[0m\n\u001b[0m\u001b[0;32m   3799\u001b[0m \u001b[1;33m\u001b[0m\u001b[0m\n\u001b[0;32m   3800\u001b[0m         \u001b[1;31m# We are left with two options: a single key, and a collection of keys,\u001b[0m\u001b[1;33m\u001b[0m\u001b[1;33m\u001b[0m\u001b[0m\n\u001b[0;32m   3801\u001b[0m         \u001b[1;31m# We interpret tuples as collections only for non-MultiIndex\u001b[0m\u001b[1;33m\u001b[0m\u001b[1;33m\u001b[0m\u001b[0m\n",
      "\u001b[1;32mc:\\Users\\Admin\\AppData\\Local\\Programs\\Python\\Python310\\lib\\site-packages\\pandas\\core\\frame.py\u001b[0m in \u001b[0;36m?\u001b[1;34m(self, key)\u001b[0m\n\u001b[0;32m   3848\u001b[0m \u001b[1;33m\u001b[0m\u001b[0m\n\u001b[0;32m   3849\u001b[0m         \u001b[1;31m# check_bool_indexer will throw exception if Series key cannot\u001b[0m\u001b[1;33m\u001b[0m\u001b[1;33m\u001b[0m\u001b[0m\n\u001b[0;32m   3850\u001b[0m         \u001b[1;31m# be reindexed to match DataFrame rows\u001b[0m\u001b[1;33m\u001b[0m\u001b[1;33m\u001b[0m\u001b[0m\n\u001b[0;32m   3851\u001b[0m         \u001b[0mkey\u001b[0m \u001b[1;33m=\u001b[0m \u001b[0mcheck_bool_indexer\u001b[0m\u001b[1;33m(\u001b[0m\u001b[0mself\u001b[0m\u001b[1;33m.\u001b[0m\u001b[0mindex\u001b[0m\u001b[1;33m,\u001b[0m \u001b[0mkey\u001b[0m\u001b[1;33m)\u001b[0m\u001b[1;33m\u001b[0m\u001b[1;33m\u001b[0m\u001b[0m\n\u001b[1;32m-> 3852\u001b[1;33m         \u001b[0mindexer\u001b[0m \u001b[1;33m=\u001b[0m \u001b[0mkey\u001b[0m\u001b[1;33m.\u001b[0m\u001b[0mnonzero\u001b[0m\u001b[1;33m(\u001b[0m\u001b[1;33m)\u001b[0m\u001b[1;33m[\u001b[0m\u001b[1;36m0\u001b[0m\u001b[1;33m]\u001b[0m\u001b[1;33m\u001b[0m\u001b[1;33m\u001b[0m\u001b[0m\n\u001b[0m\u001b[0;32m   3853\u001b[0m         \u001b[1;32mreturn\u001b[0m \u001b[0mself\u001b[0m\u001b[1;33m.\u001b[0m\u001b[0m_take_with_is_copy\u001b[0m\u001b[1;33m(\u001b[0m\u001b[0mindexer\u001b[0m\u001b[1;33m,\u001b[0m \u001b[0maxis\u001b[0m\u001b[1;33m=\u001b[0m\u001b[1;36m0\u001b[0m\u001b[1;33m)\u001b[0m\u001b[1;33m\u001b[0m\u001b[1;33m\u001b[0m\u001b[0m\n",
      "\u001b[1;31mKeyboardInterrupt\u001b[0m: "
     ]
    }
   ],
   "source": [
    "# ================================\n",
    "# Assign individuals to parties based on mean stance (NaN=0, ties unassigned)\n",
    "# ================================\n",
    "\n",
    "import numpy as np\n",
    "import pandas as pd\n",
    "\n",
    "try:\n",
    "    data = df_assigned.copy()\n",
    "except NameError:\n",
    "    data = df.copy()\n",
    "\n",
    "# Mapping stance labels (German)\n",
    "stance_map = {\"Zustimmung\": 1, \"Neutral\": 0, \"Ablehnung\": -1}\n",
    "data[\"stance_score\"] = data[\"pred\"].map(stance_map)\n",
    "\n",
    "# 1) Mean stance per user and party\n",
    "user_party_means = (\n",
    "    data.groupby([\"username\", \"party\"], as_index=False)[\"stance_score\"]\n",
    "    .mean()\n",
    ")\n",
    "\n",
    "# Treat NaN as 0 (no tweets = neutral stance)\n",
    "user_party_means[\"stance_score\"] = user_party_means[\"stance_score\"].fillna(0)\n",
    "\n",
    "# 2) Assignment function\n",
    "def assign_party(user):\n",
    "    means = user_party_means[user_party_means[\"username\"] == user]\n",
    "    values = means[\"stance_score\"].values\n",
    "\n",
    "    # Case 1: All -1\n",
    "    if (len(values) > 0) and np.all(values == -1):\n",
    "        return \"Unassigned\"\n",
    "\n",
    "    # Case 2: All -1 except one\n",
    "    non_rejected = means[means[\"stance_score\"] != -1]\n",
    "    if len(non_rejected) == 1:\n",
    "        return non_rejected[\"party\"].values[0]\n",
    "\n",
    "    # Case 3: Normal assignment\n",
    "    max_val = means[\"stance_score\"].max()\n",
    "    top_parties = means[means[\"stance_score\"] == max_val][\"party\"].tolist()\n",
    "\n",
    "    if len(top_parties) == 1:   # unique max\n",
    "        return top_parties[0]\n",
    "    else:                       # tie\n",
    "        return \"Unassigned\"\n",
    "\n",
    "# 3) Apply assignment per user\n",
    "user_assignments = (\n",
    "    user_party_means.groupby(\"username\").first().reset_index()[[\"username\"]]\n",
    ")\n",
    "user_assignments[\"assigned_party\"] = user_assignments[\"username\"].apply(assign_party)\n",
    "\n",
    "# Merge back (optional)\n",
    "data = data.merge(user_assignments, on=\"username\", how=\"left\")\n",
    "\n",
    "# 4) Summary: counts + shares\n",
    "counts = user_assignments[\"assigned_party\"].value_counts()\n",
    "shares = (counts / counts.sum() * 100).round(2)\n",
    "summary_table = pd.DataFrame({\"count\": counts, \"share_%\": shares})\n",
    "\n",
    "print(\"✅ User assignment complete\\n\")\n",
    "print(summary_table)\n",
    "\n",
    "# Preview\n",
    "data.head()\n"
   ]
  }
 ],
 "metadata": {
  "kernelspec": {
   "display_name": "Python 3",
   "language": "python",
   "name": "python3"
  },
  "language_info": {
   "codemirror_mode": {
    "name": "ipython",
    "version": 3
   },
   "file_extension": ".py",
   "mimetype": "text/x-python",
   "name": "python",
   "nbconvert_exporter": "python",
   "pygments_lexer": "ipython3",
   "version": "3.10.9"
  }
 },
 "nbformat": 4,
 "nbformat_minor": 5
}
