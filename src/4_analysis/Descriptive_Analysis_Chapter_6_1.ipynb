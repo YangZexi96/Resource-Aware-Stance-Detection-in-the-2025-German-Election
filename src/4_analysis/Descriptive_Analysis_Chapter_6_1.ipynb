{
 "cells": [
  {
   "cell_type": "code",
   "execution_count": 1,
   "id": "b47ca557",
   "metadata": {},
   "outputs": [
    {
     "name": "stdout",
     "output_type": "stream",
     "text": [
      "Mirror: (772378, 15) | Augmentation: (493426, 15) | Gesamt: (1265804, 15)\n",
      "Parteien: ['B90/GRÜNE' 'AfD' 'BSW' 'LINKE' 'CDU/CSU' 'FDP' 'SPD' nan]\n",
      "Labels: ['Ablehnung' 'Neutral' 'Zustimmung']\n",
      "Unique Users: 149607\n",
      "Export Path: E:\\Final_Github_1\\MasterThesis_final\\data\\analysis\\Descriptive_Analyis_6_1\n"
     ]
    }
   ],
   "source": [
    "# Imports\n",
    "import pandas as pd\n",
    "import matplotlib.pyplot as plt\n",
    "import seaborn as sns\n",
    "from pathlib import Path\n",
    "import numpy as np\n",
    "\n",
    "# Farbdefinitionen\n",
    "party_colors = {\n",
    "    \"CDU/CSU\": \"#000000\",\n",
    "    \"AfD\": \"#0056FF\",\n",
    "    \"SPD\": \"#E3000F\",\n",
    "    \"B90/GRÜNE\": \"#1FA12E\",\n",
    "    \"LINKE\": \"#A3488A\",\n",
    "    \"BSW\": \"#D77AFF\",\n",
    "    \"FDP\": \"#FFED00\",\n",
    "}\n",
    "\n",
    "label_colors = {\n",
    "    \"Zustimmung\": \"#1FA12E\",\n",
    "    \"Ablehnung\": \"#E3000F\",\n",
    "    \"Neutral\": \"#B0B0B0\"\n",
    "}\n",
    "\n",
    "# Daten laden\n",
    "DATA_PATH1 = r\"E:\\Final_Github_1\\MasterThesis_final\\data\\processed\\preprocessing\\mirror\\mirror_llama_final.csv\"\n",
    "DATA_PATH2 = r\"E:\\Final_Github_1\\MasterThesis_final\\data\\processed\\preprocessing\\augmentation\\augmentation_llama_final.csv\"\n",
    "\n",
    "df_mirror = pd.read_csv(DATA_PATH1, sep=\";\", encoding=\"utf-8-sig\", dtype={\"timestamp\": str})\n",
    "df_aug    = pd.read_csv(DATA_PATH2, sep=\";\", encoding=\"utf-8-sig\", dtype={\"timestamp\": str})\n",
    "\n",
    "# Partei-Mapping\n",
    "cdu_variants = [\"CDU\", \"CSU\", \"CDU/CSU\"]\n",
    "for df in [df_mirror, df_aug]:\n",
    "    if \"party\" in df.columns:\n",
    "        df[\"party\"] = df[\"party\"].replace(cdu_variants, \"CDU/CSU\")\n",
    "\n",
    "df_mirror[\"source\"] = \"Mirror\"\n",
    "df_aug[\"source\"]    = \"Augmentation\"\n",
    "\n",
    "# Daten kombinieren\n",
    "df_all = pd.concat([df_mirror, df_aug], ignore_index=True)\n",
    "\n",
    "# Export-Pfad für alle Tabellen/Figuren aus Kapitel 6.1\n",
    "EXPORT_PATH = Path(r\"E:\\Final_Github_1\\MasterThesis_final\\data\\analysis\\Descriptive_Analyis_6_1\")\n",
    "EXPORT_PATH.mkdir(parents=True, exist_ok=True)\n",
    "\n",
    "# Übersicht\n",
    "print(\"Mirror:\", df_mirror.shape, \"| Augmentation:\", df_aug.shape, \"| Gesamt:\", df_all.shape)\n",
    "print(\"Parteien:\", df_all['party'].unique())\n",
    "print(\"Labels:\", df_all['pred'].unique())\n",
    "print(\"Unique Users:\", df_all['username'].nunique())\n",
    "print(\"Export Path:\", EXPORT_PATH)\n",
    "\n"
   ]
  },
  {
   "cell_type": "code",
   "execution_count": 2,
   "id": "0e24fcf7",
   "metadata": {},
   "outputs": [
    {
     "name": "stdout",
     "output_type": "stream",
     "text": [
      "            X_handle  tweet_count\n",
      "60    _FriedrichMerz       145597\n",
      "41     Markus_Soeder       100905\n",
      "100     roberthabeck        81612\n",
      "2       Alice_Weidel        76429\n",
      "70               cdu        60396\n",
      "69         c_lindner        58102\n",
      "75       die_gruenen        53739\n",
      "61               afd        39046\n",
      "0          ABaerbock        38370\n",
      "80               fdp        31618\n",
      "102            spdde        29618\n",
      "74               csu        28567\n",
      "71          cducsubt        27980\n",
      "28   Karl_Lauterbach        27708\n",
      "51      Ricarda_Lang        26204\n",
      "88         jensspahn        23416\n",
      "19    GoeringEckardt        22853\n",
      "32           KrahMax        19598\n",
      "27    JuliaKloeckner        15828\n",
      "45        OlafScholz        15374\n",
      "Exported: E:\\Final_Github_1\\MasterThesis_final\\data\\analysis\\Descriptive_Analyis_6_1\\tweet_counts_per_handle.csv\n"
     ]
    }
   ],
   "source": [
    "# Anzahl Tweets pro Handle (username) berechnen\n",
    "tweet_counts = (\n",
    "    df_all.groupby(\"X_handle\")\n",
    "    .size()\n",
    "    .reset_index(name=\"tweet_count\")\n",
    "    .sort_values(\"tweet_count\", ascending=False)\n",
    ")\n",
    "\n",
    "# Vorschau\n",
    "print(tweet_counts.head(20))\n",
    "\n",
    "# Optional: Als CSV exportieren für späteres Join mit den Account-Listen\n",
    "tweet_counts.to_csv(EXPORT_PATH / \"tweet_counts_per_handle.csv\", index=False, encoding=\"utf-8-sig\")\n",
    "print(\"Exported:\", EXPORT_PATH / \"tweet_counts_per_handle.csv\")\n"
   ]
  },
  {
   "cell_type": "code",
   "execution_count": 3,
   "id": "eb84cd31",
   "metadata": {},
   "outputs": [
    {
     "name": "stdout",
     "output_type": "stream",
     "text": [
      "🔎 Fehlende Matches – Top 3 Parteien: []\n",
      "🔎 Fehlende Matches – Top 10 Kandidaten: ['brihasselmann']\n",
      "✅ Dateien gespeichert als top3_with_counts.csv und top10_with_counts.csv\n"
     ]
    }
   ],
   "source": [
    "import pandas as pd\n",
    "from pathlib import Path\n",
    "\n",
    "# Pfad anpassen\n",
    "LIST_PATH = Path(r\"E:\\Final_Github_1\\MasterThesis_final\\data\\raw\\list\")\n",
    "\n",
    "# Dateien laden\n",
    "top3_path = LIST_PATH / \"top3_per_party.csv\"\n",
    "top10_path = LIST_PATH / \"top10_per_party.csv\"\n",
    "counts_path = LIST_PATH / \"tweet_counts_per_handle.csv\"\n",
    "\n",
    "top3 = pd.read_csv(top3_path, sep=\";\", encoding=\"utf-8-sig\", dtype=str)\n",
    "top10 = pd.read_csv(top10_path, sep=\";\", encoding=\"utf-8-sig\", dtype=str)\n",
    "tweet_counts = pd.read_csv(counts_path, encoding=\"utf-8-sig\", dtype=str)\n",
    "\n",
    "# Handles normalisieren (kleinbuchstaben, @ entfernen, whitespaces trimmen)\n",
    "for df in [top3, top10]:\n",
    "    df[\"handle\"] = df[\"handle\"].str.lower().str.lstrip(\"@\").str.strip()\n",
    "\n",
    "tweet_counts.rename(columns={\"X_handle\": \"handle\"}, inplace=True)\n",
    "tweet_counts[\"handle\"] = tweet_counts[\"handle\"].str.lower().str.lstrip(\"@\").str.strip()\n",
    "tweet_counts[\"tweet_count\"] = pd.to_numeric(tweet_counts[\"tweet_count\"], errors=\"coerce\")\n",
    "\n",
    "# Merge Counts\n",
    "top3_merged = top3.merge(tweet_counts, on=\"handle\", how=\"left\")\n",
    "top10_merged = top10.merge(tweet_counts, on=\"handle\", how=\"left\")\n",
    "\n",
    "# Fehlende Matches finden\n",
    "missing_top3 = top3_merged[top3_merged[\"tweet_count\"].isna()][\"handle\"].unique().tolist()\n",
    "missing_top10 = top10_merged[top10_merged[\"tweet_count\"].isna()][\"handle\"].unique().tolist()\n",
    "\n",
    "print(\"🔎 Fehlende Matches – Top 3 Parteien:\", missing_top3)\n",
    "print(\"🔎 Fehlende Matches – Top 10 Kandidaten:\", missing_top10)\n",
    "\n",
    "# Optional: Ergebnisse abspeichern\n",
    "top3_merged.to_csv(LIST_PATH / \"top3_with_counts.csv\", sep=\";\", index=False, encoding=\"utf-8-sig\")\n",
    "top10_merged.to_csv(LIST_PATH / \"top10_with_counts.csv\", sep=\";\", index=False, encoding=\"utf-8-sig\")\n",
    "\n",
    "print(\"✅ Dateien gespeichert als top3_with_counts.csv und top10_with_counts.csv\")\n"
   ]
  },
  {
   "cell_type": "code",
   "execution_count": 4,
   "id": "66fb1185",
   "metadata": {},
   "outputs": [
    {
     "name": "stdout",
     "output_type": "stream",
     "text": [
      "CSVs gespeichert:\n",
      "Mirror: E:\\Final_Github_1\\MasterThesis_final\\data\\analysis\\Descriptive_Analyis_6_1\\volume_distribution_mirror.csv\n"
     ]
    },
    {
     "data": {
      "text/html": [
       "<div>\n",
       "<style scoped>\n",
       "    .dataframe tbody tr th:only-of-type {\n",
       "        vertical-align: middle;\n",
       "    }\n",
       "\n",
       "    .dataframe tbody tr th {\n",
       "        vertical-align: top;\n",
       "    }\n",
       "\n",
       "    .dataframe thead th {\n",
       "        text-align: right;\n",
       "    }\n",
       "</style>\n",
       "<table border=\"1\" class=\"dataframe\">\n",
       "  <thead>\n",
       "    <tr style=\"text-align: right;\">\n",
       "      <th></th>\n",
       "      <th>party</th>\n",
       "      <th>Tweets</th>\n",
       "      <th>Tokens</th>\n",
       "      <th>Avg_Tweet_Length</th>\n",
       "      <th>%</th>\n",
       "      <th>source</th>\n",
       "    </tr>\n",
       "  </thead>\n",
       "  <tbody>\n",
       "    <tr>\n",
       "      <th>0</th>\n",
       "      <td>CDU/CSU</td>\n",
       "      <td>276858</td>\n",
       "      <td>5277183</td>\n",
       "      <td>19.060973</td>\n",
       "      <td>35.8</td>\n",
       "      <td>Mirror</td>\n",
       "    </tr>\n",
       "    <tr>\n",
       "      <th>1</th>\n",
       "      <td>SPD</td>\n",
       "      <td>75322</td>\n",
       "      <td>1421679</td>\n",
       "      <td>18.874685</td>\n",
       "      <td>9.8</td>\n",
       "      <td>Mirror</td>\n",
       "    </tr>\n",
       "    <tr>\n",
       "      <th>2</th>\n",
       "      <td>B90/GRÜNE</td>\n",
       "      <td>185869</td>\n",
       "      <td>3307294</td>\n",
       "      <td>17.793683</td>\n",
       "      <td>24.1</td>\n",
       "      <td>Mirror</td>\n",
       "    </tr>\n",
       "    <tr>\n",
       "      <th>3</th>\n",
       "      <td>FDP</td>\n",
       "      <td>80685</td>\n",
       "      <td>1552535</td>\n",
       "      <td>19.241928</td>\n",
       "      <td>10.4</td>\n",
       "      <td>Mirror</td>\n",
       "    </tr>\n",
       "    <tr>\n",
       "      <th>4</th>\n",
       "      <td>AfD</td>\n",
       "      <td>88938</td>\n",
       "      <td>1655807</td>\n",
       "      <td>18.617543</td>\n",
       "      <td>11.5</td>\n",
       "      <td>Mirror</td>\n",
       "    </tr>\n",
       "    <tr>\n",
       "      <th>5</th>\n",
       "      <td>LINKE</td>\n",
       "      <td>31873</td>\n",
       "      <td>595038</td>\n",
       "      <td>18.669030</td>\n",
       "      <td>4.1</td>\n",
       "      <td>Mirror</td>\n",
       "    </tr>\n",
       "    <tr>\n",
       "      <th>6</th>\n",
       "      <td>BSW</td>\n",
       "      <td>32833</td>\n",
       "      <td>655584</td>\n",
       "      <td>19.967228</td>\n",
       "      <td>4.3</td>\n",
       "      <td>Mirror</td>\n",
       "    </tr>\n",
       "    <tr>\n",
       "      <th>7</th>\n",
       "      <td>Total</td>\n",
       "      <td>772378</td>\n",
       "      <td>14465120</td>\n",
       "      <td>18.728032</td>\n",
       "      <td>100.0</td>\n",
       "      <td>Mirror</td>\n",
       "    </tr>\n",
       "  </tbody>\n",
       "</table>\n",
       "</div>"
      ],
      "text/plain": [
       "       party  Tweets    Tokens  Avg_Tweet_Length      %  source\n",
       "0    CDU/CSU  276858   5277183         19.060973   35.8  Mirror\n",
       "1        SPD   75322   1421679         18.874685    9.8  Mirror\n",
       "2  B90/GRÜNE  185869   3307294         17.793683   24.1  Mirror\n",
       "3        FDP   80685   1552535         19.241928   10.4  Mirror\n",
       "4        AfD   88938   1655807         18.617543   11.5  Mirror\n",
       "5      LINKE   31873    595038         18.669030    4.1  Mirror\n",
       "6        BSW   32833    655584         19.967228    4.3  Mirror\n",
       "7      Total  772378  14465120         18.728032  100.0  Mirror"
      ]
     },
     "metadata": {},
     "output_type": "display_data"
    },
    {
     "name": "stdout",
     "output_type": "stream",
     "text": [
      "Augmentation: E:\\Final_Github_1\\MasterThesis_final\\data\\analysis\\Descriptive_Analyis_6_1\\volume_distribution_augmentation.csv\n"
     ]
    },
    {
     "data": {
      "text/html": [
       "<div>\n",
       "<style scoped>\n",
       "    .dataframe tbody tr th:only-of-type {\n",
       "        vertical-align: middle;\n",
       "    }\n",
       "\n",
       "    .dataframe tbody tr th {\n",
       "        vertical-align: top;\n",
       "    }\n",
       "\n",
       "    .dataframe thead th {\n",
       "        text-align: right;\n",
       "    }\n",
       "</style>\n",
       "<table border=\"1\" class=\"dataframe\">\n",
       "  <thead>\n",
       "    <tr style=\"text-align: right;\">\n",
       "      <th></th>\n",
       "      <th>party</th>\n",
       "      <th>Tweets</th>\n",
       "      <th>Tokens</th>\n",
       "      <th>Avg_Tweet_Length</th>\n",
       "      <th>%</th>\n",
       "      <th>source</th>\n",
       "    </tr>\n",
       "  </thead>\n",
       "  <tbody>\n",
       "    <tr>\n",
       "      <th>0</th>\n",
       "      <td>CDU/CSU</td>\n",
       "      <td>178574</td>\n",
       "      <td>3396486</td>\n",
       "      <td>19.020048</td>\n",
       "      <td>36.2</td>\n",
       "      <td>Augmentation</td>\n",
       "    </tr>\n",
       "    <tr>\n",
       "      <th>1</th>\n",
       "      <td>SPD</td>\n",
       "      <td>54273</td>\n",
       "      <td>982746</td>\n",
       "      <td>18.107457</td>\n",
       "      <td>11.0</td>\n",
       "      <td>Augmentation</td>\n",
       "    </tr>\n",
       "    <tr>\n",
       "      <th>2</th>\n",
       "      <td>B90/GRÜNE</td>\n",
       "      <td>92429</td>\n",
       "      <td>1624999</td>\n",
       "      <td>17.581051</td>\n",
       "      <td>18.7</td>\n",
       "      <td>Augmentation</td>\n",
       "    </tr>\n",
       "    <tr>\n",
       "      <th>3</th>\n",
       "      <td>FDP</td>\n",
       "      <td>58708</td>\n",
       "      <td>1112432</td>\n",
       "      <td>18.948559</td>\n",
       "      <td>11.9</td>\n",
       "      <td>Augmentation</td>\n",
       "    </tr>\n",
       "    <tr>\n",
       "      <th>4</th>\n",
       "      <td>AfD</td>\n",
       "      <td>72337</td>\n",
       "      <td>1301292</td>\n",
       "      <td>17.989300</td>\n",
       "      <td>14.7</td>\n",
       "      <td>Augmentation</td>\n",
       "    </tr>\n",
       "    <tr>\n",
       "      <th>5</th>\n",
       "      <td>LINKE</td>\n",
       "      <td>18297</td>\n",
       "      <td>306176</td>\n",
       "      <td>16.733672</td>\n",
       "      <td>3.7</td>\n",
       "      <td>Augmentation</td>\n",
       "    </tr>\n",
       "    <tr>\n",
       "      <th>6</th>\n",
       "      <td>BSW</td>\n",
       "      <td>18807</td>\n",
       "      <td>361371</td>\n",
       "      <td>19.214707</td>\n",
       "      <td>3.8</td>\n",
       "      <td>Augmentation</td>\n",
       "    </tr>\n",
       "    <tr>\n",
       "      <th>7</th>\n",
       "      <td>Total</td>\n",
       "      <td>493425</td>\n",
       "      <td>9085502</td>\n",
       "      <td>18.413124</td>\n",
       "      <td>100.0</td>\n",
       "      <td>Augmentation</td>\n",
       "    </tr>\n",
       "  </tbody>\n",
       "</table>\n",
       "</div>"
      ],
      "text/plain": [
       "       party  Tweets   Tokens  Avg_Tweet_Length      %        source\n",
       "0    CDU/CSU  178574  3396486         19.020048   36.2  Augmentation\n",
       "1        SPD   54273   982746         18.107457   11.0  Augmentation\n",
       "2  B90/GRÜNE   92429  1624999         17.581051   18.7  Augmentation\n",
       "3        FDP   58708  1112432         18.948559   11.9  Augmentation\n",
       "4        AfD   72337  1301292         17.989300   14.7  Augmentation\n",
       "5      LINKE   18297   306176         16.733672    3.7  Augmentation\n",
       "6        BSW   18807   361371         19.214707    3.8  Augmentation\n",
       "7      Total  493425  9085502         18.413124  100.0  Augmentation"
      ]
     },
     "metadata": {},
     "output_type": "display_data"
    },
    {
     "name": "stdout",
     "output_type": "stream",
     "text": [
      "Combined: E:\\Final_Github_1\\MasterThesis_final\\data\\analysis\\Descriptive_Analyis_6_1\\volume_distribution_combined.csv\n"
     ]
    },
    {
     "data": {
      "text/html": [
       "<div>\n",
       "<style scoped>\n",
       "    .dataframe tbody tr th:only-of-type {\n",
       "        vertical-align: middle;\n",
       "    }\n",
       "\n",
       "    .dataframe tbody tr th {\n",
       "        vertical-align: top;\n",
       "    }\n",
       "\n",
       "    .dataframe thead th {\n",
       "        text-align: right;\n",
       "    }\n",
       "</style>\n",
       "<table border=\"1\" class=\"dataframe\">\n",
       "  <thead>\n",
       "    <tr style=\"text-align: right;\">\n",
       "      <th></th>\n",
       "      <th>party</th>\n",
       "      <th>Tweets</th>\n",
       "      <th>Tokens</th>\n",
       "      <th>Avg_Tweet_Length</th>\n",
       "      <th>%</th>\n",
       "      <th>source</th>\n",
       "    </tr>\n",
       "  </thead>\n",
       "  <tbody>\n",
       "    <tr>\n",
       "      <th>0</th>\n",
       "      <td>CDU/CSU</td>\n",
       "      <td>455432</td>\n",
       "      <td>8673669</td>\n",
       "      <td>19.044927</td>\n",
       "      <td>36.0</td>\n",
       "      <td>Combined</td>\n",
       "    </tr>\n",
       "    <tr>\n",
       "      <th>1</th>\n",
       "      <td>SPD</td>\n",
       "      <td>129595</td>\n",
       "      <td>2404425</td>\n",
       "      <td>18.553378</td>\n",
       "      <td>10.2</td>\n",
       "      <td>Combined</td>\n",
       "    </tr>\n",
       "    <tr>\n",
       "      <th>2</th>\n",
       "      <td>B90/GRÜNE</td>\n",
       "      <td>278298</td>\n",
       "      <td>4932293</td>\n",
       "      <td>17.723063</td>\n",
       "      <td>22.0</td>\n",
       "      <td>Combined</td>\n",
       "    </tr>\n",
       "    <tr>\n",
       "      <th>3</th>\n",
       "      <td>FDP</td>\n",
       "      <td>139393</td>\n",
       "      <td>2664967</td>\n",
       "      <td>19.118370</td>\n",
       "      <td>11.0</td>\n",
       "      <td>Combined</td>\n",
       "    </tr>\n",
       "    <tr>\n",
       "      <th>4</th>\n",
       "      <td>AfD</td>\n",
       "      <td>161275</td>\n",
       "      <td>2957099</td>\n",
       "      <td>18.335756</td>\n",
       "      <td>12.7</td>\n",
       "      <td>Combined</td>\n",
       "    </tr>\n",
       "    <tr>\n",
       "      <th>5</th>\n",
       "      <td>LINKE</td>\n",
       "      <td>50170</td>\n",
       "      <td>901214</td>\n",
       "      <td>17.963205</td>\n",
       "      <td>4.0</td>\n",
       "      <td>Combined</td>\n",
       "    </tr>\n",
       "    <tr>\n",
       "      <th>6</th>\n",
       "      <td>BSW</td>\n",
       "      <td>51640</td>\n",
       "      <td>1016955</td>\n",
       "      <td>19.693164</td>\n",
       "      <td>4.1</td>\n",
       "      <td>Combined</td>\n",
       "    </tr>\n",
       "    <tr>\n",
       "      <th>7</th>\n",
       "      <td>Total</td>\n",
       "      <td>1265803</td>\n",
       "      <td>23550622</td>\n",
       "      <td>18.605277</td>\n",
       "      <td>100.0</td>\n",
       "      <td>Combined</td>\n",
       "    </tr>\n",
       "  </tbody>\n",
       "</table>\n",
       "</div>"
      ],
      "text/plain": [
       "       party   Tweets    Tokens  Avg_Tweet_Length      %    source\n",
       "0    CDU/CSU   455432   8673669         19.044927   36.0  Combined\n",
       "1        SPD   129595   2404425         18.553378   10.2  Combined\n",
       "2  B90/GRÜNE   278298   4932293         17.723063   22.0  Combined\n",
       "3        FDP   139393   2664967         19.118370   11.0  Combined\n",
       "4        AfD   161275   2957099         18.335756   12.7  Combined\n",
       "5      LINKE    50170    901214         17.963205    4.0  Combined\n",
       "6        BSW    51640   1016955         19.693164    4.1  Combined\n",
       "7      Total  1265803  23550622         18.605277  100.0  Combined"
      ]
     },
     "metadata": {},
     "output_type": "display_data"
    }
   ],
   "source": [
    "# Volume Distribution \n",
    "\n",
    "def make_volume_table(df, label):\n",
    "    table = (\n",
    "        df.groupby(\"party\")\n",
    "        .agg(\n",
    "            Tweets=(\"tweet_text\", \"count\"),\n",
    "            Tokens=(\"tweet_text\", lambda x: x.str.split().str.len().sum()),\n",
    "            Avg_Tweet_Length=(\"tweet_text\", lambda x: x.str.split().str.len().mean())\n",
    "        )\n",
    "        .reset_index()\n",
    "    )\n",
    "\n",
    "    total_tweets = table[\"Tweets\"].sum()\n",
    "    table[\"%\"] = (table[\"Tweets\"] / total_tweets * 100).round(1)\n",
    "\n",
    "    party_order = [\"CDU/CSU\", \"SPD\", \"B90/GRÜNE\", \"FDP\", \"AfD\", \"LINKE\", \"BSW\"]\n",
    "    table = table.set_index(\"party\").reindex(party_order).reset_index()\n",
    "\n",
    "    total_row = pd.DataFrame({\n",
    "        \"party\": [\"Total\"],\n",
    "        \"Tweets\": [total_tweets],\n",
    "        \"%\": [100.0],\n",
    "        \"Tokens\": [table[\"Tokens\"].sum()],\n",
    "        \"Avg_Tweet_Length\": [df[\"tweet_text\"].str.split().str.len().mean()]\n",
    "    })\n",
    "    table = pd.concat([table, total_row], ignore_index=True)\n",
    "    table[\"source\"] = label\n",
    "    return table\n",
    "\n",
    "# Tabellen erstellen\n",
    "volume_mirror = make_volume_table(df_mirror, \"Mirror\")\n",
    "volume_aug    = make_volume_table(df_aug, \"Augmentation\")\n",
    "volume_all    = make_volume_table(df_all, \"Combined\")\n",
    "\n",
    "# Export als einzelne CSVs\n",
    "out_file_mirror = EXPORT_PATH / \"volume_distribution_mirror.csv\"\n",
    "out_file_aug    = EXPORT_PATH / \"volume_distribution_augmentation.csv\"\n",
    "out_file_all    = EXPORT_PATH / \"volume_distribution_combined.csv\"\n",
    "\n",
    "volume_mirror.to_csv(out_file_mirror, sep=\";\", encoding=\"utf-8-sig\", index=False)\n",
    "volume_aug.to_csv(out_file_aug, sep=\";\", encoding=\"utf-8-sig\", index=False)\n",
    "volume_all.to_csv(out_file_all, sep=\";\", encoding=\"utf-8-sig\", index=False)\n",
    "\n",
    "print(\"CSVs gespeichert:\")\n",
    "print(\"Mirror:\", out_file_mirror)\n",
    "display(volume_mirror)\n",
    "print(\"Augmentation:\", out_file_aug)\n",
    "display(volume_aug)\n",
    "print(\"Combined:\", out_file_all)\n",
    "display(volume_all)\n",
    "\n"
   ]
  },
  {
   "cell_type": "code",
   "execution_count": 5,
   "id": "66b898a4",
   "metadata": {},
   "outputs": [
    {
     "name": "stdout",
     "output_type": "stream",
     "text": [
      "Random: E:\\Final_Github_1\\MasterThesis_final\\data\\analysis\\Descriptive_Analyis_6_1\\stance_distribution_random.csv\n"
     ]
    },
    {
     "data": {
      "text/html": [
       "<div>\n",
       "<style scoped>\n",
       "    .dataframe tbody tr th:only-of-type {\n",
       "        vertical-align: middle;\n",
       "    }\n",
       "\n",
       "    .dataframe tbody tr th {\n",
       "        vertical-align: top;\n",
       "    }\n",
       "\n",
       "    .dataframe thead th {\n",
       "        text-align: right;\n",
       "    }\n",
       "</style>\n",
       "<table border=\"1\" class=\"dataframe\">\n",
       "  <thead>\n",
       "    <tr style=\"text-align: right;\">\n",
       "      <th>stance</th>\n",
       "      <th>party</th>\n",
       "      <th>Neutral</th>\n",
       "      <th>Opposition</th>\n",
       "      <th>Support</th>\n",
       "      <th>Total</th>\n",
       "      <th>Support_share</th>\n",
       "      <th>Neutral_share</th>\n",
       "      <th>Opposition_share</th>\n",
       "      <th>NSI</th>\n",
       "      <th>source</th>\n",
       "    </tr>\n",
       "  </thead>\n",
       "  <tbody>\n",
       "    <tr>\n",
       "      <th>0</th>\n",
       "      <td>AfD</td>\n",
       "      <td>11758</td>\n",
       "      <td>58669</td>\n",
       "      <td>18511</td>\n",
       "      <td>88938</td>\n",
       "      <td>20.81</td>\n",
       "      <td>13.22</td>\n",
       "      <td>65.97</td>\n",
       "      <td>-45.152803</td>\n",
       "      <td>Random</td>\n",
       "    </tr>\n",
       "    <tr>\n",
       "      <th>1</th>\n",
       "      <td>B90/GRÜNE</td>\n",
       "      <td>20662</td>\n",
       "      <td>144347</td>\n",
       "      <td>20860</td>\n",
       "      <td>185869</td>\n",
       "      <td>11.22</td>\n",
       "      <td>11.12</td>\n",
       "      <td>77.66</td>\n",
       "      <td>-66.437652</td>\n",
       "      <td>Random</td>\n",
       "    </tr>\n",
       "    <tr>\n",
       "      <th>2</th>\n",
       "      <td>BSW</td>\n",
       "      <td>4990</td>\n",
       "      <td>24345</td>\n",
       "      <td>3498</td>\n",
       "      <td>32833</td>\n",
       "      <td>10.65</td>\n",
       "      <td>15.20</td>\n",
       "      <td>74.15</td>\n",
       "      <td>-63.494046</td>\n",
       "      <td>Random</td>\n",
       "    </tr>\n",
       "    <tr>\n",
       "      <th>3</th>\n",
       "      <td>CDU/CSU</td>\n",
       "      <td>30614</td>\n",
       "      <td>221229</td>\n",
       "      <td>25015</td>\n",
       "      <td>276858</td>\n",
       "      <td>9.04</td>\n",
       "      <td>11.06</td>\n",
       "      <td>79.91</td>\n",
       "      <td>-70.871710</td>\n",
       "      <td>Random</td>\n",
       "    </tr>\n",
       "    <tr>\n",
       "      <th>4</th>\n",
       "      <td>FDP</td>\n",
       "      <td>9569</td>\n",
       "      <td>60939</td>\n",
       "      <td>10177</td>\n",
       "      <td>80685</td>\n",
       "      <td>12.61</td>\n",
       "      <td>11.86</td>\n",
       "      <td>75.53</td>\n",
       "      <td>-62.913801</td>\n",
       "      <td>Random</td>\n",
       "    </tr>\n",
       "    <tr>\n",
       "      <th>5</th>\n",
       "      <td>LINKE</td>\n",
       "      <td>4426</td>\n",
       "      <td>23648</td>\n",
       "      <td>3799</td>\n",
       "      <td>31873</td>\n",
       "      <td>11.92</td>\n",
       "      <td>13.89</td>\n",
       "      <td>74.19</td>\n",
       "      <td>-62.275280</td>\n",
       "      <td>Random</td>\n",
       "    </tr>\n",
       "    <tr>\n",
       "      <th>6</th>\n",
       "      <td>SPD</td>\n",
       "      <td>8374</td>\n",
       "      <td>61002</td>\n",
       "      <td>5946</td>\n",
       "      <td>75322</td>\n",
       "      <td>7.89</td>\n",
       "      <td>11.12</td>\n",
       "      <td>80.99</td>\n",
       "      <td>-73.094182</td>\n",
       "      <td>Random</td>\n",
       "    </tr>\n",
       "  </tbody>\n",
       "</table>\n",
       "</div>"
      ],
      "text/plain": [
       "stance      party  Neutral  Opposition  Support   Total  Support_share  \\\n",
       "0             AfD    11758       58669    18511   88938          20.81   \n",
       "1       B90/GRÜNE    20662      144347    20860  185869          11.22   \n",
       "2             BSW     4990       24345     3498   32833          10.65   \n",
       "3         CDU/CSU    30614      221229    25015  276858           9.04   \n",
       "4             FDP     9569       60939    10177   80685          12.61   \n",
       "5           LINKE     4426       23648     3799   31873          11.92   \n",
       "6             SPD     8374       61002     5946   75322           7.89   \n",
       "\n",
       "stance  Neutral_share  Opposition_share        NSI  source  \n",
       "0               13.22             65.97 -45.152803  Random  \n",
       "1               11.12             77.66 -66.437652  Random  \n",
       "2               15.20             74.15 -63.494046  Random  \n",
       "3               11.06             79.91 -70.871710  Random  \n",
       "4               11.86             75.53 -62.913801  Random  \n",
       "5               13.89             74.19 -62.275280  Random  \n",
       "6               11.12             80.99 -73.094182  Random  "
      ]
     },
     "metadata": {},
     "output_type": "display_data"
    },
    {
     "name": "stdout",
     "output_type": "stream",
     "text": [
      "Augmentation: E:\\Final_Github_1\\MasterThesis_final\\data\\analysis\\Descriptive_Analyis_6_1\\stance_distribution_augmentation.csv\n"
     ]
    },
    {
     "data": {
      "text/html": [
       "<div>\n",
       "<style scoped>\n",
       "    .dataframe tbody tr th:only-of-type {\n",
       "        vertical-align: middle;\n",
       "    }\n",
       "\n",
       "    .dataframe tbody tr th {\n",
       "        vertical-align: top;\n",
       "    }\n",
       "\n",
       "    .dataframe thead th {\n",
       "        text-align: right;\n",
       "    }\n",
       "</style>\n",
       "<table border=\"1\" class=\"dataframe\">\n",
       "  <thead>\n",
       "    <tr style=\"text-align: right;\">\n",
       "      <th>stance</th>\n",
       "      <th>party</th>\n",
       "      <th>Neutral</th>\n",
       "      <th>Opposition</th>\n",
       "      <th>Support</th>\n",
       "      <th>Total</th>\n",
       "      <th>Support_share</th>\n",
       "      <th>Neutral_share</th>\n",
       "      <th>Opposition_share</th>\n",
       "      <th>NSI</th>\n",
       "      <th>source</th>\n",
       "    </tr>\n",
       "  </thead>\n",
       "  <tbody>\n",
       "    <tr>\n",
       "      <th>0</th>\n",
       "      <td>AfD</td>\n",
       "      <td>9003</td>\n",
       "      <td>46499</td>\n",
       "      <td>16835</td>\n",
       "      <td>72337</td>\n",
       "      <td>23.27</td>\n",
       "      <td>12.45</td>\n",
       "      <td>64.28</td>\n",
       "      <td>-41.008059</td>\n",
       "      <td>Augmentation</td>\n",
       "    </tr>\n",
       "    <tr>\n",
       "      <th>1</th>\n",
       "      <td>B90/GRÜNE</td>\n",
       "      <td>10420</td>\n",
       "      <td>71377</td>\n",
       "      <td>10632</td>\n",
       "      <td>92429</td>\n",
       "      <td>11.50</td>\n",
       "      <td>11.27</td>\n",
       "      <td>77.22</td>\n",
       "      <td>-65.720715</td>\n",
       "      <td>Augmentation</td>\n",
       "    </tr>\n",
       "    <tr>\n",
       "      <th>2</th>\n",
       "      <td>BSW</td>\n",
       "      <td>2678</td>\n",
       "      <td>13978</td>\n",
       "      <td>2151</td>\n",
       "      <td>18807</td>\n",
       "      <td>11.44</td>\n",
       "      <td>14.24</td>\n",
       "      <td>74.32</td>\n",
       "      <td>-62.886159</td>\n",
       "      <td>Augmentation</td>\n",
       "    </tr>\n",
       "    <tr>\n",
       "      <th>3</th>\n",
       "      <td>CDU/CSU</td>\n",
       "      <td>18867</td>\n",
       "      <td>142555</td>\n",
       "      <td>17152</td>\n",
       "      <td>178574</td>\n",
       "      <td>9.60</td>\n",
       "      <td>10.57</td>\n",
       "      <td>79.83</td>\n",
       "      <td>-70.224669</td>\n",
       "      <td>Augmentation</td>\n",
       "    </tr>\n",
       "    <tr>\n",
       "      <th>4</th>\n",
       "      <td>FDP</td>\n",
       "      <td>6776</td>\n",
       "      <td>43957</td>\n",
       "      <td>7975</td>\n",
       "      <td>58708</td>\n",
       "      <td>13.58</td>\n",
       "      <td>11.54</td>\n",
       "      <td>74.87</td>\n",
       "      <td>-61.289773</td>\n",
       "      <td>Augmentation</td>\n",
       "    </tr>\n",
       "    <tr>\n",
       "      <th>5</th>\n",
       "      <td>LINKE</td>\n",
       "      <td>2045</td>\n",
       "      <td>13880</td>\n",
       "      <td>2372</td>\n",
       "      <td>18297</td>\n",
       "      <td>12.96</td>\n",
       "      <td>11.18</td>\n",
       "      <td>75.86</td>\n",
       "      <td>-62.895557</td>\n",
       "      <td>Augmentation</td>\n",
       "    </tr>\n",
       "    <tr>\n",
       "      <th>6</th>\n",
       "      <td>SPD</td>\n",
       "      <td>5488</td>\n",
       "      <td>44759</td>\n",
       "      <td>4026</td>\n",
       "      <td>54273</td>\n",
       "      <td>7.42</td>\n",
       "      <td>10.11</td>\n",
       "      <td>82.47</td>\n",
       "      <td>-75.052052</td>\n",
       "      <td>Augmentation</td>\n",
       "    </tr>\n",
       "  </tbody>\n",
       "</table>\n",
       "</div>"
      ],
      "text/plain": [
       "stance      party  Neutral  Opposition  Support   Total  Support_share  \\\n",
       "0             AfD     9003       46499    16835   72337          23.27   \n",
       "1       B90/GRÜNE    10420       71377    10632   92429          11.50   \n",
       "2             BSW     2678       13978     2151   18807          11.44   \n",
       "3         CDU/CSU    18867      142555    17152  178574           9.60   \n",
       "4             FDP     6776       43957     7975   58708          13.58   \n",
       "5           LINKE     2045       13880     2372   18297          12.96   \n",
       "6             SPD     5488       44759     4026   54273           7.42   \n",
       "\n",
       "stance  Neutral_share  Opposition_share        NSI        source  \n",
       "0               12.45             64.28 -41.008059  Augmentation  \n",
       "1               11.27             77.22 -65.720715  Augmentation  \n",
       "2               14.24             74.32 -62.886159  Augmentation  \n",
       "3               10.57             79.83 -70.224669  Augmentation  \n",
       "4               11.54             74.87 -61.289773  Augmentation  \n",
       "5               11.18             75.86 -62.895557  Augmentation  \n",
       "6               10.11             82.47 -75.052052  Augmentation  "
      ]
     },
     "metadata": {},
     "output_type": "display_data"
    },
    {
     "name": "stdout",
     "output_type": "stream",
     "text": [
      "Combined: E:\\Final_Github_1\\MasterThesis_final\\data\\analysis\\Descriptive_Analyis_6_1\\stance_distribution_combined.csv\n"
     ]
    },
    {
     "data": {
      "text/html": [
       "<div>\n",
       "<style scoped>\n",
       "    .dataframe tbody tr th:only-of-type {\n",
       "        vertical-align: middle;\n",
       "    }\n",
       "\n",
       "    .dataframe tbody tr th {\n",
       "        vertical-align: top;\n",
       "    }\n",
       "\n",
       "    .dataframe thead th {\n",
       "        text-align: right;\n",
       "    }\n",
       "</style>\n",
       "<table border=\"1\" class=\"dataframe\">\n",
       "  <thead>\n",
       "    <tr style=\"text-align: right;\">\n",
       "      <th>stance</th>\n",
       "      <th>party</th>\n",
       "      <th>Neutral</th>\n",
       "      <th>Opposition</th>\n",
       "      <th>Support</th>\n",
       "      <th>Total</th>\n",
       "      <th>Support_share</th>\n",
       "      <th>Neutral_share</th>\n",
       "      <th>Opposition_share</th>\n",
       "      <th>NSI</th>\n",
       "      <th>source</th>\n",
       "    </tr>\n",
       "  </thead>\n",
       "  <tbody>\n",
       "    <tr>\n",
       "      <th>0</th>\n",
       "      <td>AfD</td>\n",
       "      <td>20761</td>\n",
       "      <td>105168</td>\n",
       "      <td>35346</td>\n",
       "      <td>161275</td>\n",
       "      <td>21.92</td>\n",
       "      <td>12.87</td>\n",
       "      <td>65.21</td>\n",
       "      <td>-43.293753</td>\n",
       "      <td>Combined</td>\n",
       "    </tr>\n",
       "    <tr>\n",
       "      <th>1</th>\n",
       "      <td>B90/GRÜNE</td>\n",
       "      <td>31082</td>\n",
       "      <td>215724</td>\n",
       "      <td>31492</td>\n",
       "      <td>278298</td>\n",
       "      <td>11.32</td>\n",
       "      <td>11.17</td>\n",
       "      <td>77.52</td>\n",
       "      <td>-66.199541</td>\n",
       "      <td>Combined</td>\n",
       "    </tr>\n",
       "    <tr>\n",
       "      <th>2</th>\n",
       "      <td>BSW</td>\n",
       "      <td>7668</td>\n",
       "      <td>38323</td>\n",
       "      <td>5649</td>\n",
       "      <td>51640</td>\n",
       "      <td>10.94</td>\n",
       "      <td>14.85</td>\n",
       "      <td>74.21</td>\n",
       "      <td>-63.272657</td>\n",
       "      <td>Combined</td>\n",
       "    </tr>\n",
       "    <tr>\n",
       "      <th>3</th>\n",
       "      <td>CDU/CSU</td>\n",
       "      <td>49481</td>\n",
       "      <td>363784</td>\n",
       "      <td>42167</td>\n",
       "      <td>455432</td>\n",
       "      <td>9.26</td>\n",
       "      <td>10.86</td>\n",
       "      <td>79.88</td>\n",
       "      <td>-70.618007</td>\n",
       "      <td>Combined</td>\n",
       "    </tr>\n",
       "    <tr>\n",
       "      <th>4</th>\n",
       "      <td>FDP</td>\n",
       "      <td>16345</td>\n",
       "      <td>104896</td>\n",
       "      <td>18152</td>\n",
       "      <td>139393</td>\n",
       "      <td>13.02</td>\n",
       "      <td>11.73</td>\n",
       "      <td>75.25</td>\n",
       "      <td>-62.229811</td>\n",
       "      <td>Combined</td>\n",
       "    </tr>\n",
       "    <tr>\n",
       "      <th>5</th>\n",
       "      <td>LINKE</td>\n",
       "      <td>6471</td>\n",
       "      <td>37528</td>\n",
       "      <td>6171</td>\n",
       "      <td>50170</td>\n",
       "      <td>12.30</td>\n",
       "      <td>12.90</td>\n",
       "      <td>74.80</td>\n",
       "      <td>-62.501495</td>\n",
       "      <td>Combined</td>\n",
       "    </tr>\n",
       "    <tr>\n",
       "      <th>6</th>\n",
       "      <td>SPD</td>\n",
       "      <td>13862</td>\n",
       "      <td>105761</td>\n",
       "      <td>9972</td>\n",
       "      <td>129595</td>\n",
       "      <td>7.69</td>\n",
       "      <td>10.70</td>\n",
       "      <td>81.61</td>\n",
       "      <td>-73.914117</td>\n",
       "      <td>Combined</td>\n",
       "    </tr>\n",
       "  </tbody>\n",
       "</table>\n",
       "</div>"
      ],
      "text/plain": [
       "stance      party  Neutral  Opposition  Support   Total  Support_share  \\\n",
       "0             AfD    20761      105168    35346  161275          21.92   \n",
       "1       B90/GRÜNE    31082      215724    31492  278298          11.32   \n",
       "2             BSW     7668       38323     5649   51640          10.94   \n",
       "3         CDU/CSU    49481      363784    42167  455432           9.26   \n",
       "4             FDP    16345      104896    18152  139393          13.02   \n",
       "5           LINKE     6471       37528     6171   50170          12.30   \n",
       "6             SPD    13862      105761     9972  129595           7.69   \n",
       "\n",
       "stance  Neutral_share  Opposition_share        NSI    source  \n",
       "0               12.87             65.21 -43.293753  Combined  \n",
       "1               11.17             77.52 -66.199541  Combined  \n",
       "2               14.85             74.21 -63.272657  Combined  \n",
       "3               10.86             79.88 -70.618007  Combined  \n",
       "4               11.73             75.25 -62.229811  Combined  \n",
       "5               12.90             74.80 -62.501495  Combined  \n",
       "6               10.70             81.61 -73.914117  Combined  "
      ]
     },
     "metadata": {},
     "output_type": "display_data"
    },
    {
     "data": {
      "application/vnd.plotly.v1+json": {
       "config": {
        "plotlyServerURL": "https://plot.ly"
       },
       "data": [
        {
         "hovertemplate": "stance=Support<br>party=%{x}<br>percent=%{y}<br>text=%{text}<extra></extra>",
         "legendgroup": "Support",
         "marker": {
          "color": "green",
          "pattern": {
           "shape": ""
          }
         },
         "name": "Support",
         "orientation": "v",
         "showlegend": true,
         "text": [
          "20.8%",
          "11.2%",
          "10.7%",
          "9.0%",
          "12.6%",
          "11.9%",
          "7.9%"
         ],
         "textposition": "inside",
         "type": "bar",
         "x": [
          "AfD",
          "B90/GRÜNE",
          "BSW",
          "CDU/CSU",
          "FDP",
          "LINKE",
          "SPD"
         ],
         "xaxis": "x",
         "y": {
          "bdata": "cjVMYjnQNEDz3JGQJ3ImQAhWZvvNTiVAAeHXKhUSIkBixbbH+zkpQCxsZKme1idAuTOzCZGTH0A=",
          "dtype": "f8"
         },
         "yaxis": "y"
        },
        {
         "hovertemplate": "stance=Neutral<br>party=%{x}<br>percent=%{y}<br>text=%{text}<extra></extra>",
         "legendgroup": "Neutral",
         "marker": {
          "color": "lightgrey",
          "pattern": {
           "shape": ""
          }
         },
         "name": "Neutral",
         "orientation": "v",
         "showlegend": true,
         "text": [
          "13.2%",
          "11.1%",
          "15.2%",
          "11.1%",
          "11.9%",
          "13.9%",
          "11.1%"
         ],
         "textposition": "inside",
         "type": "bar",
         "x": [
          "AfD",
          "B90/GRÜNE",
          "BSW",
          "CDU/CSU",
          "FDP",
          "LINKE",
          "SPD"
         ],
         "xaxis": "x",
         "y": {
          "bdata": "30lgQt5wKkCURq7nnDsmQPSV4HxwZS5A4aO41oQdJkDcixDFKrgnQA6/lSzRxStAcuhcTDY8JkA=",
          "dtype": "f8"
         },
         "yaxis": "y"
        },
        {
         "hovertemplate": "stance=Opposition<br>party=%{x}<br>percent=%{y}<br>text=%{text}<extra></extra>",
         "legendgroup": "Opposition",
         "marker": {
          "color": "red",
          "pattern": {
           "shape": ""
          }
         },
         "name": "Opposition",
         "orientation": "v",
         "showlegend": true,
         "text": [
          "66.0%",
          "77.7%",
          "74.1%",
          "79.9%",
          "75.5%",
          "74.2%",
          "81.0%"
         ],
         "textposition": "inside",
         "type": "bar",
         "x": [
          "AfD",
          "B90/GRÜNE",
          "BSW",
          "CDU/CSU",
          "FDP",
          "LINKE",
          "SPD"
         ],
         "xaxis": "x",
         "y": {
          "bdata": "aOkg39V9UECP+/dwR2pTQIAi9zB4iVJAZO/Nvwz6U0DYFWcuu+FSQJm6QAVyjFJAti/ZJUA/VEA=",
          "dtype": "f8"
         },
         "yaxis": "y"
        },
        {
         "hovertemplate": "<b>%{x}</b><br>NSI: %{y:.1f}%<extra></extra>",
         "line": {
          "color": "purple",
          "width": 3
         },
         "mode": "markers+lines+text",
         "name": "NSI",
         "text": [
          "-45.2%",
          "-66.4%",
          "-63.5%",
          "-70.9%",
          "-62.9%",
          "-62.3%",
          "-73.1%"
         ],
         "textfont": {
          "color": "purple"
         },
         "textposition": "top center",
         "type": "scatter",
         "x": [
          "AfD",
          "B90/GRÜNE",
          "BSW",
          "CDU/CSU",
          "FDP",
          "LINKE",
          "SPD"
         ],
         "xaxis": "x",
         "y": {
          "bdata": "FrgbDY+TRsDxv+V+ApxQwH+vFOM8v0/ARPNyGsq3UcBYeuBq93RPwCdaKGA8I0/Aevw9FQdGUsA=",
          "dtype": "f8"
         },
         "yaxis": "y2"
        }
       ],
       "layout": {
        "barmode": "stack",
        "legend": {
         "title": {
          "text": "Stance"
         }
        },
        "margin": {
         "b": 40,
         "l": 40,
         "r": 40,
         "t": 50
        },
        "shapes": [
         {
          "line": {
           "color": "gray",
           "dash": "dot",
           "width": 1
          },
          "type": "line",
          "x0": 0,
          "x1": 1,
          "xref": "x domain",
          "y0": 0,
          "y1": 0,
          "yref": "y2"
         }
        ],
        "template": {
         "data": {
          "bar": [
           {
            "error_x": {
             "color": "#2a3f5f"
            },
            "error_y": {
             "color": "#2a3f5f"
            },
            "marker": {
             "line": {
              "color": "#E5ECF6",
              "width": 0.5
             },
             "pattern": {
              "fillmode": "overlay",
              "size": 10,
              "solidity": 0.2
             }
            },
            "type": "bar"
           }
          ],
          "barpolar": [
           {
            "marker": {
             "line": {
              "color": "#E5ECF6",
              "width": 0.5
             },
             "pattern": {
              "fillmode": "overlay",
              "size": 10,
              "solidity": 0.2
             }
            },
            "type": "barpolar"
           }
          ],
          "carpet": [
           {
            "aaxis": {
             "endlinecolor": "#2a3f5f",
             "gridcolor": "white",
             "linecolor": "white",
             "minorgridcolor": "white",
             "startlinecolor": "#2a3f5f"
            },
            "baxis": {
             "endlinecolor": "#2a3f5f",
             "gridcolor": "white",
             "linecolor": "white",
             "minorgridcolor": "white",
             "startlinecolor": "#2a3f5f"
            },
            "type": "carpet"
           }
          ],
          "choropleth": [
           {
            "colorbar": {
             "outlinewidth": 0,
             "ticks": ""
            },
            "type": "choropleth"
           }
          ],
          "contour": [
           {
            "colorbar": {
             "outlinewidth": 0,
             "ticks": ""
            },
            "colorscale": [
             [
              0,
              "#0d0887"
             ],
             [
              0.1111111111111111,
              "#46039f"
             ],
             [
              0.2222222222222222,
              "#7201a8"
             ],
             [
              0.3333333333333333,
              "#9c179e"
             ],
             [
              0.4444444444444444,
              "#bd3786"
             ],
             [
              0.5555555555555556,
              "#d8576b"
             ],
             [
              0.6666666666666666,
              "#ed7953"
             ],
             [
              0.7777777777777778,
              "#fb9f3a"
             ],
             [
              0.8888888888888888,
              "#fdca26"
             ],
             [
              1,
              "#f0f921"
             ]
            ],
            "type": "contour"
           }
          ],
          "contourcarpet": [
           {
            "colorbar": {
             "outlinewidth": 0,
             "ticks": ""
            },
            "type": "contourcarpet"
           }
          ],
          "heatmap": [
           {
            "colorbar": {
             "outlinewidth": 0,
             "ticks": ""
            },
            "colorscale": [
             [
              0,
              "#0d0887"
             ],
             [
              0.1111111111111111,
              "#46039f"
             ],
             [
              0.2222222222222222,
              "#7201a8"
             ],
             [
              0.3333333333333333,
              "#9c179e"
             ],
             [
              0.4444444444444444,
              "#bd3786"
             ],
             [
              0.5555555555555556,
              "#d8576b"
             ],
             [
              0.6666666666666666,
              "#ed7953"
             ],
             [
              0.7777777777777778,
              "#fb9f3a"
             ],
             [
              0.8888888888888888,
              "#fdca26"
             ],
             [
              1,
              "#f0f921"
             ]
            ],
            "type": "heatmap"
           }
          ],
          "histogram": [
           {
            "marker": {
             "pattern": {
              "fillmode": "overlay",
              "size": 10,
              "solidity": 0.2
             }
            },
            "type": "histogram"
           }
          ],
          "histogram2d": [
           {
            "colorbar": {
             "outlinewidth": 0,
             "ticks": ""
            },
            "colorscale": [
             [
              0,
              "#0d0887"
             ],
             [
              0.1111111111111111,
              "#46039f"
             ],
             [
              0.2222222222222222,
              "#7201a8"
             ],
             [
              0.3333333333333333,
              "#9c179e"
             ],
             [
              0.4444444444444444,
              "#bd3786"
             ],
             [
              0.5555555555555556,
              "#d8576b"
             ],
             [
              0.6666666666666666,
              "#ed7953"
             ],
             [
              0.7777777777777778,
              "#fb9f3a"
             ],
             [
              0.8888888888888888,
              "#fdca26"
             ],
             [
              1,
              "#f0f921"
             ]
            ],
            "type": "histogram2d"
           }
          ],
          "histogram2dcontour": [
           {
            "colorbar": {
             "outlinewidth": 0,
             "ticks": ""
            },
            "colorscale": [
             [
              0,
              "#0d0887"
             ],
             [
              0.1111111111111111,
              "#46039f"
             ],
             [
              0.2222222222222222,
              "#7201a8"
             ],
             [
              0.3333333333333333,
              "#9c179e"
             ],
             [
              0.4444444444444444,
              "#bd3786"
             ],
             [
              0.5555555555555556,
              "#d8576b"
             ],
             [
              0.6666666666666666,
              "#ed7953"
             ],
             [
              0.7777777777777778,
              "#fb9f3a"
             ],
             [
              0.8888888888888888,
              "#fdca26"
             ],
             [
              1,
              "#f0f921"
             ]
            ],
            "type": "histogram2dcontour"
           }
          ],
          "mesh3d": [
           {
            "colorbar": {
             "outlinewidth": 0,
             "ticks": ""
            },
            "type": "mesh3d"
           }
          ],
          "parcoords": [
           {
            "line": {
             "colorbar": {
              "outlinewidth": 0,
              "ticks": ""
             }
            },
            "type": "parcoords"
           }
          ],
          "pie": [
           {
            "automargin": true,
            "type": "pie"
           }
          ],
          "scatter": [
           {
            "fillpattern": {
             "fillmode": "overlay",
             "size": 10,
             "solidity": 0.2
            },
            "type": "scatter"
           }
          ],
          "scatter3d": [
           {
            "line": {
             "colorbar": {
              "outlinewidth": 0,
              "ticks": ""
             }
            },
            "marker": {
             "colorbar": {
              "outlinewidth": 0,
              "ticks": ""
             }
            },
            "type": "scatter3d"
           }
          ],
          "scattercarpet": [
           {
            "marker": {
             "colorbar": {
              "outlinewidth": 0,
              "ticks": ""
             }
            },
            "type": "scattercarpet"
           }
          ],
          "scattergeo": [
           {
            "marker": {
             "colorbar": {
              "outlinewidth": 0,
              "ticks": ""
             }
            },
            "type": "scattergeo"
           }
          ],
          "scattergl": [
           {
            "marker": {
             "colorbar": {
              "outlinewidth": 0,
              "ticks": ""
             }
            },
            "type": "scattergl"
           }
          ],
          "scattermap": [
           {
            "marker": {
             "colorbar": {
              "outlinewidth": 0,
              "ticks": ""
             }
            },
            "type": "scattermap"
           }
          ],
          "scattermapbox": [
           {
            "marker": {
             "colorbar": {
              "outlinewidth": 0,
              "ticks": ""
             }
            },
            "type": "scattermapbox"
           }
          ],
          "scatterpolar": [
           {
            "marker": {
             "colorbar": {
              "outlinewidth": 0,
              "ticks": ""
             }
            },
            "type": "scatterpolar"
           }
          ],
          "scatterpolargl": [
           {
            "marker": {
             "colorbar": {
              "outlinewidth": 0,
              "ticks": ""
             }
            },
            "type": "scatterpolargl"
           }
          ],
          "scatterternary": [
           {
            "marker": {
             "colorbar": {
              "outlinewidth": 0,
              "ticks": ""
             }
            },
            "type": "scatterternary"
           }
          ],
          "surface": [
           {
            "colorbar": {
             "outlinewidth": 0,
             "ticks": ""
            },
            "colorscale": [
             [
              0,
              "#0d0887"
             ],
             [
              0.1111111111111111,
              "#46039f"
             ],
             [
              0.2222222222222222,
              "#7201a8"
             ],
             [
              0.3333333333333333,
              "#9c179e"
             ],
             [
              0.4444444444444444,
              "#bd3786"
             ],
             [
              0.5555555555555556,
              "#d8576b"
             ],
             [
              0.6666666666666666,
              "#ed7953"
             ],
             [
              0.7777777777777778,
              "#fb9f3a"
             ],
             [
              0.8888888888888888,
              "#fdca26"
             ],
             [
              1,
              "#f0f921"
             ]
            ],
            "type": "surface"
           }
          ],
          "table": [
           {
            "cells": {
             "fill": {
              "color": "#EBF0F8"
             },
             "line": {
              "color": "white"
             }
            },
            "header": {
             "fill": {
              "color": "#C8D4E3"
             },
             "line": {
              "color": "white"
             }
            },
            "type": "table"
           }
          ]
         },
         "layout": {
          "annotationdefaults": {
           "arrowcolor": "#2a3f5f",
           "arrowhead": 0,
           "arrowwidth": 1
          },
          "autotypenumbers": "strict",
          "coloraxis": {
           "colorbar": {
            "outlinewidth": 0,
            "ticks": ""
           }
          },
          "colorscale": {
           "diverging": [
            [
             0,
             "#8e0152"
            ],
            [
             0.1,
             "#c51b7d"
            ],
            [
             0.2,
             "#de77ae"
            ],
            [
             0.3,
             "#f1b6da"
            ],
            [
             0.4,
             "#fde0ef"
            ],
            [
             0.5,
             "#f7f7f7"
            ],
            [
             0.6,
             "#e6f5d0"
            ],
            [
             0.7,
             "#b8e186"
            ],
            [
             0.8,
             "#7fbc41"
            ],
            [
             0.9,
             "#4d9221"
            ],
            [
             1,
             "#276419"
            ]
           ],
           "sequential": [
            [
             0,
             "#0d0887"
            ],
            [
             0.1111111111111111,
             "#46039f"
            ],
            [
             0.2222222222222222,
             "#7201a8"
            ],
            [
             0.3333333333333333,
             "#9c179e"
            ],
            [
             0.4444444444444444,
             "#bd3786"
            ],
            [
             0.5555555555555556,
             "#d8576b"
            ],
            [
             0.6666666666666666,
             "#ed7953"
            ],
            [
             0.7777777777777778,
             "#fb9f3a"
            ],
            [
             0.8888888888888888,
             "#fdca26"
            ],
            [
             1,
             "#f0f921"
            ]
           ],
           "sequentialminus": [
            [
             0,
             "#0d0887"
            ],
            [
             0.1111111111111111,
             "#46039f"
            ],
            [
             0.2222222222222222,
             "#7201a8"
            ],
            [
             0.3333333333333333,
             "#9c179e"
            ],
            [
             0.4444444444444444,
             "#bd3786"
            ],
            [
             0.5555555555555556,
             "#d8576b"
            ],
            [
             0.6666666666666666,
             "#ed7953"
            ],
            [
             0.7777777777777778,
             "#fb9f3a"
            ],
            [
             0.8888888888888888,
             "#fdca26"
            ],
            [
             1,
             "#f0f921"
            ]
           ]
          },
          "colorway": [
           "#636efa",
           "#EF553B",
           "#00cc96",
           "#ab63fa",
           "#FFA15A",
           "#19d3f3",
           "#FF6692",
           "#B6E880",
           "#FF97FF",
           "#FECB52"
          ],
          "font": {
           "color": "#2a3f5f"
          },
          "geo": {
           "bgcolor": "white",
           "lakecolor": "white",
           "landcolor": "#E5ECF6",
           "showlakes": true,
           "showland": true,
           "subunitcolor": "white"
          },
          "hoverlabel": {
           "align": "left"
          },
          "hovermode": "closest",
          "mapbox": {
           "style": "light"
          },
          "paper_bgcolor": "white",
          "plot_bgcolor": "#E5ECF6",
          "polar": {
           "angularaxis": {
            "gridcolor": "white",
            "linecolor": "white",
            "ticks": ""
           },
           "bgcolor": "#E5ECF6",
           "radialaxis": {
            "gridcolor": "white",
            "linecolor": "white",
            "ticks": ""
           }
          },
          "scene": {
           "xaxis": {
            "backgroundcolor": "#E5ECF6",
            "gridcolor": "white",
            "gridwidth": 2,
            "linecolor": "white",
            "showbackground": true,
            "ticks": "",
            "zerolinecolor": "white"
           },
           "yaxis": {
            "backgroundcolor": "#E5ECF6",
            "gridcolor": "white",
            "gridwidth": 2,
            "linecolor": "white",
            "showbackground": true,
            "ticks": "",
            "zerolinecolor": "white"
           },
           "zaxis": {
            "backgroundcolor": "#E5ECF6",
            "gridcolor": "white",
            "gridwidth": 2,
            "linecolor": "white",
            "showbackground": true,
            "ticks": "",
            "zerolinecolor": "white"
           }
          },
          "shapedefaults": {
           "line": {
            "color": "#2a3f5f"
           }
          },
          "ternary": {
           "aaxis": {
            "gridcolor": "white",
            "linecolor": "white",
            "ticks": ""
           },
           "baxis": {
            "gridcolor": "white",
            "linecolor": "white",
            "ticks": ""
           },
           "bgcolor": "#E5ECF6",
           "caxis": {
            "gridcolor": "white",
            "linecolor": "white",
            "ticks": ""
           }
          },
          "title": {
           "x": 0.05
          },
          "xaxis": {
           "automargin": true,
           "gridcolor": "white",
           "linecolor": "white",
           "ticks": "",
           "title": {
            "standoff": 15
           },
           "zerolinecolor": "white",
           "zerolinewidth": 2
          },
          "yaxis": {
           "automargin": true,
           "gridcolor": "white",
           "linecolor": "white",
           "ticks": "",
           "title": {
            "standoff": 15
           },
           "zerolinecolor": "white",
           "zerolinewidth": 2
          }
         }
        },
        "title": {
         "text": "Stance Distribution (Random)"
        },
        "width": 1100,
        "xaxis": {
         "anchor": "y",
         "domain": [
          0,
          0.94
         ],
         "title": {
          "text": "Party"
         }
        },
        "yaxis": {
         "anchor": "x",
         "domain": [
          0,
          1
         ],
         "range": [
          0,
          100
         ],
         "title": {
          "text": "Proportion (%)"
         }
        },
        "yaxis2": {
         "anchor": "x",
         "overlaying": "y",
         "range": [
          -100,
          0
         ],
         "side": "right",
         "title": {
          "text": "NSI"
         }
        }
       }
      }
     },
     "metadata": {},
     "output_type": "display_data"
    },
    {
     "data": {
      "application/vnd.plotly.v1+json": {
       "config": {
        "plotlyServerURL": "https://plot.ly"
       },
       "data": [
        {
         "hovertemplate": "stance=Support<br>party=%{x}<br>percent=%{y}<br>text=%{text}<extra></extra>",
         "legendgroup": "Support",
         "marker": {
          "color": "green",
          "pattern": {
           "shape": ""
          }
         },
         "name": "Support",
         "orientation": "v",
         "showlegend": true,
         "text": [
          "23.3%",
          "11.5%",
          "11.4%",
          "9.6%",
          "13.6%",
          "13.0%",
          "7.4%"
         ],
         "textposition": "inside",
         "type": "bar",
         "x": [
          "AfD",
          "B90/GRÜNE",
          "BSW",
          "CDU/CSU",
          "FDP",
          "LINKE",
          "SPD"
         ],
         "xaxis": "x",
         "y": {
          "bdata": "FNqqO+RFN0Cin0zreQEnQNnowrfc3yZA9orrKMA1I0DVPYuNGSsrQD2h3N+A7SlAHPm0IRasHUA=",
          "dtype": "f8"
         },
         "yaxis": "y"
        },
        {
         "hovertemplate": "stance=Neutral<br>party=%{x}<br>percent=%{y}<br>text=%{text}<extra></extra>",
         "legendgroup": "Neutral",
         "marker": {
          "color": "lightgrey",
          "pattern": {
           "shape": ""
          }
         },
         "name": "Neutral",
         "orientation": "v",
         "showlegend": true,
         "text": [
          "12.4%",
          "11.3%",
          "14.2%",
          "10.6%",
          "11.5%",
          "11.2%",
          "10.1%"
         ],
         "textposition": "inside",
         "type": "bar",
         "x": [
          "AfD",
          "B90/GRÜNE",
          "BSW",
          "CDU/CSU",
          "FDP",
          "LINKE",
          "SPD"
         ],
         "xaxis": "x",
         "y": {
          "bdata": "Jd1osU7kKEDLx92OCowmQBYZ2+CPeixALK1e5XchJUBRVKbAbxUnQOqRm9l3WiZABZM/WkM5JEA=",
          "dtype": "f8"
         },
         "yaxis": "y"
        },
        {
         "hovertemplate": "stance=Opposition<br>party=%{x}<br>percent=%{y}<br>text=%{text}<extra></extra>",
         "legendgroup": "Opposition",
         "marker": {
          "color": "red",
          "pattern": {
           "shape": ""
          }
         },
         "name": "Opposition",
         "orientation": "v",
         "showlegend": true,
         "text": [
          "64.3%",
          "77.2%",
          "74.3%",
          "79.8%",
          "74.9%",
          "75.9%",
          "82.5%"
         ],
         "textposition": "inside",
         "type": "bar",
         "x": [
          "AfD",
          "B90/GRÜNE",
          "BSW",
          "CDU/CSU",
          "FDP",
          "LINKE",
          "SPD"
         ],
         "xaxis": "x",
         "y": {
          "bdata": "1i3oGv0RUEASs7pwT05TQMI/7GyylFJA/Lg2/hj1U0C7zTnW7rdSQJv50OgA91JADr6cMhaeVEA=",
          "dtype": "f8"
         },
         "yaxis": "y"
        },
        {
         "hovertemplate": "<b>%{x}</b><br>NSI: %{y:.1f}%<extra></extra>",
         "line": {
          "color": "purple",
          "width": 3
         },
         "mode": "markers+lines+text",
         "name": "NSI",
         "text": [
          "-41.0%",
          "-65.7%",
          "-62.9%",
          "-70.2%",
          "-61.3%",
          "-62.9%",
          "-75.1%"
         ],
         "textfont": {
          "color": "purple"
         },
         "textposition": "top center",
         "type": "scatter",
         "x": [
          "AfD",
          "B90/GRÜNE",
          "BSW",
          "CDU/CSU",
          "FDP",
          "LINKE",
          "SPD"
         ],
         "xaxis": "x",
         "y": {
          "bdata": "ou76FwiBRMAeH1EzIG5QwE7F56ttcU/AnUcZ+WCOUcABzBBJF6VOwOfKqpmhck/AfG6B0FTDUsA=",
          "dtype": "f8"
         },
         "yaxis": "y2"
        }
       ],
       "layout": {
        "barmode": "stack",
        "legend": {
         "title": {
          "text": "Stance"
         }
        },
        "margin": {
         "b": 40,
         "l": 40,
         "r": 40,
         "t": 50
        },
        "shapes": [
         {
          "line": {
           "color": "gray",
           "dash": "dot",
           "width": 1
          },
          "type": "line",
          "x0": 0,
          "x1": 1,
          "xref": "x domain",
          "y0": 0,
          "y1": 0,
          "yref": "y2"
         }
        ],
        "template": {
         "data": {
          "bar": [
           {
            "error_x": {
             "color": "#2a3f5f"
            },
            "error_y": {
             "color": "#2a3f5f"
            },
            "marker": {
             "line": {
              "color": "#E5ECF6",
              "width": 0.5
             },
             "pattern": {
              "fillmode": "overlay",
              "size": 10,
              "solidity": 0.2
             }
            },
            "type": "bar"
           }
          ],
          "barpolar": [
           {
            "marker": {
             "line": {
              "color": "#E5ECF6",
              "width": 0.5
             },
             "pattern": {
              "fillmode": "overlay",
              "size": 10,
              "solidity": 0.2
             }
            },
            "type": "barpolar"
           }
          ],
          "carpet": [
           {
            "aaxis": {
             "endlinecolor": "#2a3f5f",
             "gridcolor": "white",
             "linecolor": "white",
             "minorgridcolor": "white",
             "startlinecolor": "#2a3f5f"
            },
            "baxis": {
             "endlinecolor": "#2a3f5f",
             "gridcolor": "white",
             "linecolor": "white",
             "minorgridcolor": "white",
             "startlinecolor": "#2a3f5f"
            },
            "type": "carpet"
           }
          ],
          "choropleth": [
           {
            "colorbar": {
             "outlinewidth": 0,
             "ticks": ""
            },
            "type": "choropleth"
           }
          ],
          "contour": [
           {
            "colorbar": {
             "outlinewidth": 0,
             "ticks": ""
            },
            "colorscale": [
             [
              0,
              "#0d0887"
             ],
             [
              0.1111111111111111,
              "#46039f"
             ],
             [
              0.2222222222222222,
              "#7201a8"
             ],
             [
              0.3333333333333333,
              "#9c179e"
             ],
             [
              0.4444444444444444,
              "#bd3786"
             ],
             [
              0.5555555555555556,
              "#d8576b"
             ],
             [
              0.6666666666666666,
              "#ed7953"
             ],
             [
              0.7777777777777778,
              "#fb9f3a"
             ],
             [
              0.8888888888888888,
              "#fdca26"
             ],
             [
              1,
              "#f0f921"
             ]
            ],
            "type": "contour"
           }
          ],
          "contourcarpet": [
           {
            "colorbar": {
             "outlinewidth": 0,
             "ticks": ""
            },
            "type": "contourcarpet"
           }
          ],
          "heatmap": [
           {
            "colorbar": {
             "outlinewidth": 0,
             "ticks": ""
            },
            "colorscale": [
             [
              0,
              "#0d0887"
             ],
             [
              0.1111111111111111,
              "#46039f"
             ],
             [
              0.2222222222222222,
              "#7201a8"
             ],
             [
              0.3333333333333333,
              "#9c179e"
             ],
             [
              0.4444444444444444,
              "#bd3786"
             ],
             [
              0.5555555555555556,
              "#d8576b"
             ],
             [
              0.6666666666666666,
              "#ed7953"
             ],
             [
              0.7777777777777778,
              "#fb9f3a"
             ],
             [
              0.8888888888888888,
              "#fdca26"
             ],
             [
              1,
              "#f0f921"
             ]
            ],
            "type": "heatmap"
           }
          ],
          "histogram": [
           {
            "marker": {
             "pattern": {
              "fillmode": "overlay",
              "size": 10,
              "solidity": 0.2
             }
            },
            "type": "histogram"
           }
          ],
          "histogram2d": [
           {
            "colorbar": {
             "outlinewidth": 0,
             "ticks": ""
            },
            "colorscale": [
             [
              0,
              "#0d0887"
             ],
             [
              0.1111111111111111,
              "#46039f"
             ],
             [
              0.2222222222222222,
              "#7201a8"
             ],
             [
              0.3333333333333333,
              "#9c179e"
             ],
             [
              0.4444444444444444,
              "#bd3786"
             ],
             [
              0.5555555555555556,
              "#d8576b"
             ],
             [
              0.6666666666666666,
              "#ed7953"
             ],
             [
              0.7777777777777778,
              "#fb9f3a"
             ],
             [
              0.8888888888888888,
              "#fdca26"
             ],
             [
              1,
              "#f0f921"
             ]
            ],
            "type": "histogram2d"
           }
          ],
          "histogram2dcontour": [
           {
            "colorbar": {
             "outlinewidth": 0,
             "ticks": ""
            },
            "colorscale": [
             [
              0,
              "#0d0887"
             ],
             [
              0.1111111111111111,
              "#46039f"
             ],
             [
              0.2222222222222222,
              "#7201a8"
             ],
             [
              0.3333333333333333,
              "#9c179e"
             ],
             [
              0.4444444444444444,
              "#bd3786"
             ],
             [
              0.5555555555555556,
              "#d8576b"
             ],
             [
              0.6666666666666666,
              "#ed7953"
             ],
             [
              0.7777777777777778,
              "#fb9f3a"
             ],
             [
              0.8888888888888888,
              "#fdca26"
             ],
             [
              1,
              "#f0f921"
             ]
            ],
            "type": "histogram2dcontour"
           }
          ],
          "mesh3d": [
           {
            "colorbar": {
             "outlinewidth": 0,
             "ticks": ""
            },
            "type": "mesh3d"
           }
          ],
          "parcoords": [
           {
            "line": {
             "colorbar": {
              "outlinewidth": 0,
              "ticks": ""
             }
            },
            "type": "parcoords"
           }
          ],
          "pie": [
           {
            "automargin": true,
            "type": "pie"
           }
          ],
          "scatter": [
           {
            "fillpattern": {
             "fillmode": "overlay",
             "size": 10,
             "solidity": 0.2
            },
            "type": "scatter"
           }
          ],
          "scatter3d": [
           {
            "line": {
             "colorbar": {
              "outlinewidth": 0,
              "ticks": ""
             }
            },
            "marker": {
             "colorbar": {
              "outlinewidth": 0,
              "ticks": ""
             }
            },
            "type": "scatter3d"
           }
          ],
          "scattercarpet": [
           {
            "marker": {
             "colorbar": {
              "outlinewidth": 0,
              "ticks": ""
             }
            },
            "type": "scattercarpet"
           }
          ],
          "scattergeo": [
           {
            "marker": {
             "colorbar": {
              "outlinewidth": 0,
              "ticks": ""
             }
            },
            "type": "scattergeo"
           }
          ],
          "scattergl": [
           {
            "marker": {
             "colorbar": {
              "outlinewidth": 0,
              "ticks": ""
             }
            },
            "type": "scattergl"
           }
          ],
          "scattermap": [
           {
            "marker": {
             "colorbar": {
              "outlinewidth": 0,
              "ticks": ""
             }
            },
            "type": "scattermap"
           }
          ],
          "scattermapbox": [
           {
            "marker": {
             "colorbar": {
              "outlinewidth": 0,
              "ticks": ""
             }
            },
            "type": "scattermapbox"
           }
          ],
          "scatterpolar": [
           {
            "marker": {
             "colorbar": {
              "outlinewidth": 0,
              "ticks": ""
             }
            },
            "type": "scatterpolar"
           }
          ],
          "scatterpolargl": [
           {
            "marker": {
             "colorbar": {
              "outlinewidth": 0,
              "ticks": ""
             }
            },
            "type": "scatterpolargl"
           }
          ],
          "scatterternary": [
           {
            "marker": {
             "colorbar": {
              "outlinewidth": 0,
              "ticks": ""
             }
            },
            "type": "scatterternary"
           }
          ],
          "surface": [
           {
            "colorbar": {
             "outlinewidth": 0,
             "ticks": ""
            },
            "colorscale": [
             [
              0,
              "#0d0887"
             ],
             [
              0.1111111111111111,
              "#46039f"
             ],
             [
              0.2222222222222222,
              "#7201a8"
             ],
             [
              0.3333333333333333,
              "#9c179e"
             ],
             [
              0.4444444444444444,
              "#bd3786"
             ],
             [
              0.5555555555555556,
              "#d8576b"
             ],
             [
              0.6666666666666666,
              "#ed7953"
             ],
             [
              0.7777777777777778,
              "#fb9f3a"
             ],
             [
              0.8888888888888888,
              "#fdca26"
             ],
             [
              1,
              "#f0f921"
             ]
            ],
            "type": "surface"
           }
          ],
          "table": [
           {
            "cells": {
             "fill": {
              "color": "#EBF0F8"
             },
             "line": {
              "color": "white"
             }
            },
            "header": {
             "fill": {
              "color": "#C8D4E3"
             },
             "line": {
              "color": "white"
             }
            },
            "type": "table"
           }
          ]
         },
         "layout": {
          "annotationdefaults": {
           "arrowcolor": "#2a3f5f",
           "arrowhead": 0,
           "arrowwidth": 1
          },
          "autotypenumbers": "strict",
          "coloraxis": {
           "colorbar": {
            "outlinewidth": 0,
            "ticks": ""
           }
          },
          "colorscale": {
           "diverging": [
            [
             0,
             "#8e0152"
            ],
            [
             0.1,
             "#c51b7d"
            ],
            [
             0.2,
             "#de77ae"
            ],
            [
             0.3,
             "#f1b6da"
            ],
            [
             0.4,
             "#fde0ef"
            ],
            [
             0.5,
             "#f7f7f7"
            ],
            [
             0.6,
             "#e6f5d0"
            ],
            [
             0.7,
             "#b8e186"
            ],
            [
             0.8,
             "#7fbc41"
            ],
            [
             0.9,
             "#4d9221"
            ],
            [
             1,
             "#276419"
            ]
           ],
           "sequential": [
            [
             0,
             "#0d0887"
            ],
            [
             0.1111111111111111,
             "#46039f"
            ],
            [
             0.2222222222222222,
             "#7201a8"
            ],
            [
             0.3333333333333333,
             "#9c179e"
            ],
            [
             0.4444444444444444,
             "#bd3786"
            ],
            [
             0.5555555555555556,
             "#d8576b"
            ],
            [
             0.6666666666666666,
             "#ed7953"
            ],
            [
             0.7777777777777778,
             "#fb9f3a"
            ],
            [
             0.8888888888888888,
             "#fdca26"
            ],
            [
             1,
             "#f0f921"
            ]
           ],
           "sequentialminus": [
            [
             0,
             "#0d0887"
            ],
            [
             0.1111111111111111,
             "#46039f"
            ],
            [
             0.2222222222222222,
             "#7201a8"
            ],
            [
             0.3333333333333333,
             "#9c179e"
            ],
            [
             0.4444444444444444,
             "#bd3786"
            ],
            [
             0.5555555555555556,
             "#d8576b"
            ],
            [
             0.6666666666666666,
             "#ed7953"
            ],
            [
             0.7777777777777778,
             "#fb9f3a"
            ],
            [
             0.8888888888888888,
             "#fdca26"
            ],
            [
             1,
             "#f0f921"
            ]
           ]
          },
          "colorway": [
           "#636efa",
           "#EF553B",
           "#00cc96",
           "#ab63fa",
           "#FFA15A",
           "#19d3f3",
           "#FF6692",
           "#B6E880",
           "#FF97FF",
           "#FECB52"
          ],
          "font": {
           "color": "#2a3f5f"
          },
          "geo": {
           "bgcolor": "white",
           "lakecolor": "white",
           "landcolor": "#E5ECF6",
           "showlakes": true,
           "showland": true,
           "subunitcolor": "white"
          },
          "hoverlabel": {
           "align": "left"
          },
          "hovermode": "closest",
          "mapbox": {
           "style": "light"
          },
          "paper_bgcolor": "white",
          "plot_bgcolor": "#E5ECF6",
          "polar": {
           "angularaxis": {
            "gridcolor": "white",
            "linecolor": "white",
            "ticks": ""
           },
           "bgcolor": "#E5ECF6",
           "radialaxis": {
            "gridcolor": "white",
            "linecolor": "white",
            "ticks": ""
           }
          },
          "scene": {
           "xaxis": {
            "backgroundcolor": "#E5ECF6",
            "gridcolor": "white",
            "gridwidth": 2,
            "linecolor": "white",
            "showbackground": true,
            "ticks": "",
            "zerolinecolor": "white"
           },
           "yaxis": {
            "backgroundcolor": "#E5ECF6",
            "gridcolor": "white",
            "gridwidth": 2,
            "linecolor": "white",
            "showbackground": true,
            "ticks": "",
            "zerolinecolor": "white"
           },
           "zaxis": {
            "backgroundcolor": "#E5ECF6",
            "gridcolor": "white",
            "gridwidth": 2,
            "linecolor": "white",
            "showbackground": true,
            "ticks": "",
            "zerolinecolor": "white"
           }
          },
          "shapedefaults": {
           "line": {
            "color": "#2a3f5f"
           }
          },
          "ternary": {
           "aaxis": {
            "gridcolor": "white",
            "linecolor": "white",
            "ticks": ""
           },
           "baxis": {
            "gridcolor": "white",
            "linecolor": "white",
            "ticks": ""
           },
           "bgcolor": "#E5ECF6",
           "caxis": {
            "gridcolor": "white",
            "linecolor": "white",
            "ticks": ""
           }
          },
          "title": {
           "x": 0.05
          },
          "xaxis": {
           "automargin": true,
           "gridcolor": "white",
           "linecolor": "white",
           "ticks": "",
           "title": {
            "standoff": 15
           },
           "zerolinecolor": "white",
           "zerolinewidth": 2
          },
          "yaxis": {
           "automargin": true,
           "gridcolor": "white",
           "linecolor": "white",
           "ticks": "",
           "title": {
            "standoff": 15
           },
           "zerolinecolor": "white",
           "zerolinewidth": 2
          }
         }
        },
        "title": {
         "text": "Stance Distribution (Augmentation)"
        },
        "width": 1100,
        "xaxis": {
         "anchor": "y",
         "domain": [
          0,
          0.94
         ],
         "title": {
          "text": "Party"
         }
        },
        "yaxis": {
         "anchor": "x",
         "domain": [
          0,
          1
         ],
         "range": [
          0,
          100
         ],
         "title": {
          "text": "Proportion (%)"
         }
        },
        "yaxis2": {
         "anchor": "x",
         "overlaying": "y",
         "range": [
          -100,
          0
         ],
         "side": "right",
         "title": {
          "text": "NSI"
         }
        }
       }
      }
     },
     "metadata": {},
     "output_type": "display_data"
    },
    {
     "data": {
      "application/vnd.plotly.v1+json": {
       "config": {
        "plotlyServerURL": "https://plot.ly"
       },
       "data": [
        {
         "hovertemplate": "stance=Support<br>party=%{x}<br>percent=%{y}<br>text=%{text}<extra></extra>",
         "legendgroup": "Support",
         "marker": {
          "color": "green",
          "pattern": {
           "shape": ""
          }
         },
         "name": "Support",
         "orientation": "v",
         "showlegend": true,
         "text": [
          "21.9%",
          "11.3%",
          "10.9%",
          "9.3%",
          "13.0%",
          "12.3%",
          "7.7%"
         ],
         "textposition": "inside",
         "type": "bar",
         "x": [
          "AfD",
          "B90/GRÜNE",
          "BSW",
          "CDU/CSU",
          "FDP",
          "LINKE",
          "SPD"
         ],
         "xaxis": "x",
         "y": {
          "bdata": "GgIJb6bqNUBoatpAwaEmQFUfZhfe4CVAvLEc83GEIkAVffR7WgsqQJeZ7hyxmShAaFANRGrHHkA=",
          "dtype": "f8"
         },
         "yaxis": "y"
        },
        {
         "hovertemplate": "stance=Neutral<br>party=%{x}<br>percent=%{y}<br>text=%{text}<extra></extra>",
         "legendgroup": "Neutral",
         "marker": {
          "color": "lightgrey",
          "pattern": {
           "shape": ""
          }
         },
         "name": "Neutral",
         "orientation": "v",
         "showlegend": true,
         "text": [
          "12.9%",
          "11.2%",
          "14.8%",
          "10.9%",
          "11.7%",
          "12.9%",
          "10.7%"
         ],
         "textposition": "inside",
         "type": "bar",
         "x": [
          "AfD",
          "B90/GRÜNE",
          "BSW",
          "CDU/CSU",
          "FDP",
          "LINKE",
          "SPD"
         ],
         "xaxis": "x",
         "y": {
          "bdata": "qLLue/++KUBgG6UwU1YmQITySyOqsi1AouEAvLC6JUApgUhJoXMnQD0iCdXZyylAVcBRlY5kJUA=",
          "dtype": "f8"
         },
         "yaxis": "y"
        },
        {
         "hovertemplate": "stance=Opposition<br>party=%{x}<br>percent=%{y}<br>text=%{text}<extra></extra>",
         "legendgroup": "Opposition",
         "marker": {
          "color": "red",
          "pattern": {
           "shape": ""
          }
         },
         "name": "Opposition",
         "orientation": "v",
         "showlegend": true,
         "text": [
          "65.2%",
          "77.5%",
          "74.2%",
          "79.9%",
          "75.3%",
          "74.8%",
          "81.6%"
         ],
         "textposition": "inside",
         "type": "bar",
         "x": [
          "AfD",
          "B90/GRÜNE",
          "BSW",
          "CDU/CSU",
          "FDP",
          "LINKE",
          "SPD"
         ],
         "xaxis": "x",
         "y": {
          "bdata": "JOm/dHZNUEBHD9Bx/WBTQMW9qfiOjVJAlE0cqhv4U0A4YFiHINBSQIUIwaFOs1JA7/IUifdmVEA=",
          "dtype": "f8"
         },
         "yaxis": "y"
        },
        {
         "hovertemplate": "<b>%{x}</b><br>NSI: %{y:.1f}%<extra></extra>",
         "line": {
          "color": "purple",
          "width": 3
         },
         "mode": "markers+lines+text",
         "name": "NSI",
         "text": [
          "-43.3%",
          "-66.2%",
          "-63.3%",
          "-70.6%",
          "-62.2%",
          "-62.5%",
          "-73.9%"
         ],
         "textfont": {
          "color": "purple"
         },
         "textposition": "top center",
         "type": "scatter",
         "x": [
          "AfD",
          "B90/GRÜNE",
          "BSW",
          "CDU/CSU",
          "FDP",
          "LINKE",
          "SPD"
         ],
         "xaxis": "x",
         "y": {
          "bdata": "O1H7sZmlRcD6wbRJxYxQwLTzeWvmok/AXbe4a42nUcArobNvah1PwKVqRvwwQE/A6B3U5IB6UsA=",
          "dtype": "f8"
         },
         "yaxis": "y2"
        }
       ],
       "layout": {
        "barmode": "stack",
        "legend": {
         "title": {
          "text": "Stance"
         }
        },
        "margin": {
         "b": 40,
         "l": 40,
         "r": 40,
         "t": 50
        },
        "shapes": [
         {
          "line": {
           "color": "gray",
           "dash": "dot",
           "width": 1
          },
          "type": "line",
          "x0": 0,
          "x1": 1,
          "xref": "x domain",
          "y0": 0,
          "y1": 0,
          "yref": "y2"
         }
        ],
        "template": {
         "data": {
          "bar": [
           {
            "error_x": {
             "color": "#2a3f5f"
            },
            "error_y": {
             "color": "#2a3f5f"
            },
            "marker": {
             "line": {
              "color": "#E5ECF6",
              "width": 0.5
             },
             "pattern": {
              "fillmode": "overlay",
              "size": 10,
              "solidity": 0.2
             }
            },
            "type": "bar"
           }
          ],
          "barpolar": [
           {
            "marker": {
             "line": {
              "color": "#E5ECF6",
              "width": 0.5
             },
             "pattern": {
              "fillmode": "overlay",
              "size": 10,
              "solidity": 0.2
             }
            },
            "type": "barpolar"
           }
          ],
          "carpet": [
           {
            "aaxis": {
             "endlinecolor": "#2a3f5f",
             "gridcolor": "white",
             "linecolor": "white",
             "minorgridcolor": "white",
             "startlinecolor": "#2a3f5f"
            },
            "baxis": {
             "endlinecolor": "#2a3f5f",
             "gridcolor": "white",
             "linecolor": "white",
             "minorgridcolor": "white",
             "startlinecolor": "#2a3f5f"
            },
            "type": "carpet"
           }
          ],
          "choropleth": [
           {
            "colorbar": {
             "outlinewidth": 0,
             "ticks": ""
            },
            "type": "choropleth"
           }
          ],
          "contour": [
           {
            "colorbar": {
             "outlinewidth": 0,
             "ticks": ""
            },
            "colorscale": [
             [
              0,
              "#0d0887"
             ],
             [
              0.1111111111111111,
              "#46039f"
             ],
             [
              0.2222222222222222,
              "#7201a8"
             ],
             [
              0.3333333333333333,
              "#9c179e"
             ],
             [
              0.4444444444444444,
              "#bd3786"
             ],
             [
              0.5555555555555556,
              "#d8576b"
             ],
             [
              0.6666666666666666,
              "#ed7953"
             ],
             [
              0.7777777777777778,
              "#fb9f3a"
             ],
             [
              0.8888888888888888,
              "#fdca26"
             ],
             [
              1,
              "#f0f921"
             ]
            ],
            "type": "contour"
           }
          ],
          "contourcarpet": [
           {
            "colorbar": {
             "outlinewidth": 0,
             "ticks": ""
            },
            "type": "contourcarpet"
           }
          ],
          "heatmap": [
           {
            "colorbar": {
             "outlinewidth": 0,
             "ticks": ""
            },
            "colorscale": [
             [
              0,
              "#0d0887"
             ],
             [
              0.1111111111111111,
              "#46039f"
             ],
             [
              0.2222222222222222,
              "#7201a8"
             ],
             [
              0.3333333333333333,
              "#9c179e"
             ],
             [
              0.4444444444444444,
              "#bd3786"
             ],
             [
              0.5555555555555556,
              "#d8576b"
             ],
             [
              0.6666666666666666,
              "#ed7953"
             ],
             [
              0.7777777777777778,
              "#fb9f3a"
             ],
             [
              0.8888888888888888,
              "#fdca26"
             ],
             [
              1,
              "#f0f921"
             ]
            ],
            "type": "heatmap"
           }
          ],
          "histogram": [
           {
            "marker": {
             "pattern": {
              "fillmode": "overlay",
              "size": 10,
              "solidity": 0.2
             }
            },
            "type": "histogram"
           }
          ],
          "histogram2d": [
           {
            "colorbar": {
             "outlinewidth": 0,
             "ticks": ""
            },
            "colorscale": [
             [
              0,
              "#0d0887"
             ],
             [
              0.1111111111111111,
              "#46039f"
             ],
             [
              0.2222222222222222,
              "#7201a8"
             ],
             [
              0.3333333333333333,
              "#9c179e"
             ],
             [
              0.4444444444444444,
              "#bd3786"
             ],
             [
              0.5555555555555556,
              "#d8576b"
             ],
             [
              0.6666666666666666,
              "#ed7953"
             ],
             [
              0.7777777777777778,
              "#fb9f3a"
             ],
             [
              0.8888888888888888,
              "#fdca26"
             ],
             [
              1,
              "#f0f921"
             ]
            ],
            "type": "histogram2d"
           }
          ],
          "histogram2dcontour": [
           {
            "colorbar": {
             "outlinewidth": 0,
             "ticks": ""
            },
            "colorscale": [
             [
              0,
              "#0d0887"
             ],
             [
              0.1111111111111111,
              "#46039f"
             ],
             [
              0.2222222222222222,
              "#7201a8"
             ],
             [
              0.3333333333333333,
              "#9c179e"
             ],
             [
              0.4444444444444444,
              "#bd3786"
             ],
             [
              0.5555555555555556,
              "#d8576b"
             ],
             [
              0.6666666666666666,
              "#ed7953"
             ],
             [
              0.7777777777777778,
              "#fb9f3a"
             ],
             [
              0.8888888888888888,
              "#fdca26"
             ],
             [
              1,
              "#f0f921"
             ]
            ],
            "type": "histogram2dcontour"
           }
          ],
          "mesh3d": [
           {
            "colorbar": {
             "outlinewidth": 0,
             "ticks": ""
            },
            "type": "mesh3d"
           }
          ],
          "parcoords": [
           {
            "line": {
             "colorbar": {
              "outlinewidth": 0,
              "ticks": ""
             }
            },
            "type": "parcoords"
           }
          ],
          "pie": [
           {
            "automargin": true,
            "type": "pie"
           }
          ],
          "scatter": [
           {
            "fillpattern": {
             "fillmode": "overlay",
             "size": 10,
             "solidity": 0.2
            },
            "type": "scatter"
           }
          ],
          "scatter3d": [
           {
            "line": {
             "colorbar": {
              "outlinewidth": 0,
              "ticks": ""
             }
            },
            "marker": {
             "colorbar": {
              "outlinewidth": 0,
              "ticks": ""
             }
            },
            "type": "scatter3d"
           }
          ],
          "scattercarpet": [
           {
            "marker": {
             "colorbar": {
              "outlinewidth": 0,
              "ticks": ""
             }
            },
            "type": "scattercarpet"
           }
          ],
          "scattergeo": [
           {
            "marker": {
             "colorbar": {
              "outlinewidth": 0,
              "ticks": ""
             }
            },
            "type": "scattergeo"
           }
          ],
          "scattergl": [
           {
            "marker": {
             "colorbar": {
              "outlinewidth": 0,
              "ticks": ""
             }
            },
            "type": "scattergl"
           }
          ],
          "scattermap": [
           {
            "marker": {
             "colorbar": {
              "outlinewidth": 0,
              "ticks": ""
             }
            },
            "type": "scattermap"
           }
          ],
          "scattermapbox": [
           {
            "marker": {
             "colorbar": {
              "outlinewidth": 0,
              "ticks": ""
             }
            },
            "type": "scattermapbox"
           }
          ],
          "scatterpolar": [
           {
            "marker": {
             "colorbar": {
              "outlinewidth": 0,
              "ticks": ""
             }
            },
            "type": "scatterpolar"
           }
          ],
          "scatterpolargl": [
           {
            "marker": {
             "colorbar": {
              "outlinewidth": 0,
              "ticks": ""
             }
            },
            "type": "scatterpolargl"
           }
          ],
          "scatterternary": [
           {
            "marker": {
             "colorbar": {
              "outlinewidth": 0,
              "ticks": ""
             }
            },
            "type": "scatterternary"
           }
          ],
          "surface": [
           {
            "colorbar": {
             "outlinewidth": 0,
             "ticks": ""
            },
            "colorscale": [
             [
              0,
              "#0d0887"
             ],
             [
              0.1111111111111111,
              "#46039f"
             ],
             [
              0.2222222222222222,
              "#7201a8"
             ],
             [
              0.3333333333333333,
              "#9c179e"
             ],
             [
              0.4444444444444444,
              "#bd3786"
             ],
             [
              0.5555555555555556,
              "#d8576b"
             ],
             [
              0.6666666666666666,
              "#ed7953"
             ],
             [
              0.7777777777777778,
              "#fb9f3a"
             ],
             [
              0.8888888888888888,
              "#fdca26"
             ],
             [
              1,
              "#f0f921"
             ]
            ],
            "type": "surface"
           }
          ],
          "table": [
           {
            "cells": {
             "fill": {
              "color": "#EBF0F8"
             },
             "line": {
              "color": "white"
             }
            },
            "header": {
             "fill": {
              "color": "#C8D4E3"
             },
             "line": {
              "color": "white"
             }
            },
            "type": "table"
           }
          ]
         },
         "layout": {
          "annotationdefaults": {
           "arrowcolor": "#2a3f5f",
           "arrowhead": 0,
           "arrowwidth": 1
          },
          "autotypenumbers": "strict",
          "coloraxis": {
           "colorbar": {
            "outlinewidth": 0,
            "ticks": ""
           }
          },
          "colorscale": {
           "diverging": [
            [
             0,
             "#8e0152"
            ],
            [
             0.1,
             "#c51b7d"
            ],
            [
             0.2,
             "#de77ae"
            ],
            [
             0.3,
             "#f1b6da"
            ],
            [
             0.4,
             "#fde0ef"
            ],
            [
             0.5,
             "#f7f7f7"
            ],
            [
             0.6,
             "#e6f5d0"
            ],
            [
             0.7,
             "#b8e186"
            ],
            [
             0.8,
             "#7fbc41"
            ],
            [
             0.9,
             "#4d9221"
            ],
            [
             1,
             "#276419"
            ]
           ],
           "sequential": [
            [
             0,
             "#0d0887"
            ],
            [
             0.1111111111111111,
             "#46039f"
            ],
            [
             0.2222222222222222,
             "#7201a8"
            ],
            [
             0.3333333333333333,
             "#9c179e"
            ],
            [
             0.4444444444444444,
             "#bd3786"
            ],
            [
             0.5555555555555556,
             "#d8576b"
            ],
            [
             0.6666666666666666,
             "#ed7953"
            ],
            [
             0.7777777777777778,
             "#fb9f3a"
            ],
            [
             0.8888888888888888,
             "#fdca26"
            ],
            [
             1,
             "#f0f921"
            ]
           ],
           "sequentialminus": [
            [
             0,
             "#0d0887"
            ],
            [
             0.1111111111111111,
             "#46039f"
            ],
            [
             0.2222222222222222,
             "#7201a8"
            ],
            [
             0.3333333333333333,
             "#9c179e"
            ],
            [
             0.4444444444444444,
             "#bd3786"
            ],
            [
             0.5555555555555556,
             "#d8576b"
            ],
            [
             0.6666666666666666,
             "#ed7953"
            ],
            [
             0.7777777777777778,
             "#fb9f3a"
            ],
            [
             0.8888888888888888,
             "#fdca26"
            ],
            [
             1,
             "#f0f921"
            ]
           ]
          },
          "colorway": [
           "#636efa",
           "#EF553B",
           "#00cc96",
           "#ab63fa",
           "#FFA15A",
           "#19d3f3",
           "#FF6692",
           "#B6E880",
           "#FF97FF",
           "#FECB52"
          ],
          "font": {
           "color": "#2a3f5f"
          },
          "geo": {
           "bgcolor": "white",
           "lakecolor": "white",
           "landcolor": "#E5ECF6",
           "showlakes": true,
           "showland": true,
           "subunitcolor": "white"
          },
          "hoverlabel": {
           "align": "left"
          },
          "hovermode": "closest",
          "mapbox": {
           "style": "light"
          },
          "paper_bgcolor": "white",
          "plot_bgcolor": "#E5ECF6",
          "polar": {
           "angularaxis": {
            "gridcolor": "white",
            "linecolor": "white",
            "ticks": ""
           },
           "bgcolor": "#E5ECF6",
           "radialaxis": {
            "gridcolor": "white",
            "linecolor": "white",
            "ticks": ""
           }
          },
          "scene": {
           "xaxis": {
            "backgroundcolor": "#E5ECF6",
            "gridcolor": "white",
            "gridwidth": 2,
            "linecolor": "white",
            "showbackground": true,
            "ticks": "",
            "zerolinecolor": "white"
           },
           "yaxis": {
            "backgroundcolor": "#E5ECF6",
            "gridcolor": "white",
            "gridwidth": 2,
            "linecolor": "white",
            "showbackground": true,
            "ticks": "",
            "zerolinecolor": "white"
           },
           "zaxis": {
            "backgroundcolor": "#E5ECF6",
            "gridcolor": "white",
            "gridwidth": 2,
            "linecolor": "white",
            "showbackground": true,
            "ticks": "",
            "zerolinecolor": "white"
           }
          },
          "shapedefaults": {
           "line": {
            "color": "#2a3f5f"
           }
          },
          "ternary": {
           "aaxis": {
            "gridcolor": "white",
            "linecolor": "white",
            "ticks": ""
           },
           "baxis": {
            "gridcolor": "white",
            "linecolor": "white",
            "ticks": ""
           },
           "bgcolor": "#E5ECF6",
           "caxis": {
            "gridcolor": "white",
            "linecolor": "white",
            "ticks": ""
           }
          },
          "title": {
           "x": 0.05
          },
          "xaxis": {
           "automargin": true,
           "gridcolor": "white",
           "linecolor": "white",
           "ticks": "",
           "title": {
            "standoff": 15
           },
           "zerolinecolor": "white",
           "zerolinewidth": 2
          },
          "yaxis": {
           "automargin": true,
           "gridcolor": "white",
           "linecolor": "white",
           "ticks": "",
           "title": {
            "standoff": 15
           },
           "zerolinecolor": "white",
           "zerolinewidth": 2
          }
         }
        },
        "title": {
         "text": "Stance Distribution (Combined)"
        },
        "width": 1100,
        "xaxis": {
         "anchor": "y",
         "domain": [
          0,
          0.94
         ],
         "title": {
          "text": "Party"
         }
        },
        "yaxis": {
         "anchor": "x",
         "domain": [
          0,
          1
         ],
         "range": [
          0,
          100
         ],
         "title": {
          "text": "Proportion (%)"
         }
        },
        "yaxis2": {
         "anchor": "x",
         "overlaying": "y",
         "range": [
          -100,
          0
         ],
         "side": "right",
         "title": {
          "text": "NSI"
         }
        }
       }
      }
     },
     "metadata": {},
     "output_type": "display_data"
    }
   ],
   "source": [
    "# Stance Distribution (Table + Plots)\n",
    "\n",
    "from plotly.subplots import make_subplots\n",
    "import plotly.express as px\n",
    "import plotly.graph_objects as go\n",
    "import numpy as np\n",
    "import pandas as pd\n",
    "\n",
    "STANCE_ORDER = [\"Support\", \"Neutral\", \"Opposition\"]\n",
    "label_colors = {\"Support\": \"green\", \"Neutral\": \"lightgrey\", \"Opposition\": \"red\"}\n",
    "\n",
    "def make_stance_table(df, label):\n",
    "    mapping = {\"Zustimmung\": \"Support\", \"Ablehnung\": \"Opposition\", \"Neutral\": \"Neutral\"}\n",
    "    stance_df = df.copy()\n",
    "    stance_df[\"stance\"] = stance_df[\"pred\"].map(mapping).fillna(df[\"pred\"])\n",
    "\n",
    "    stance_counts = stance_df.groupby([\"party\", \"stance\"]).size().reset_index(name=\"count\")\n",
    "    stance_pivot = stance_counts.pivot_table(index=\"party\", columns=\"stance\", values=\"count\", fill_value=0)\n",
    "    stance_pivot[\"Total\"] = stance_pivot.sum(axis=1)\n",
    "\n",
    "    for col in [\"Support\", \"Neutral\", \"Opposition\"]:\n",
    "        stance_pivot[f\"{col}_share\"] = (stance_pivot[col] / stance_pivot[\"Total\"] * 100).round(2)\n",
    "\n",
    "    stance_pivot[\"NSI\"] = (\n",
    "        (stance_pivot[\"Support\"] - stance_pivot[\"Opposition\"]) /\n",
    "        stance_pivot[\"Total\"].replace(0, np.nan)\n",
    "    ) * 100\n",
    "\n",
    "    # NSI-Werte bei max. 0 kappen\n",
    "    stance_pivot[\"NSI\"] = stance_pivot[\"NSI\"].clip(upper=0)\n",
    "\n",
    "    stance_pivot = stance_pivot.reset_index()\n",
    "    stance_pivot[\"source\"] = label\n",
    "    return stance_pivot\n",
    "\n",
    "def plot_stance_distribution(df, label):\n",
    "    mapping = {\"Zustimmung\": \"Support\", \"Ablehnung\": \"Opposition\", \"Neutral\": \"Neutral\"}\n",
    "    stance_df = df.copy()\n",
    "    stance_df[\"stance\"] = stance_df[\"pred\"].map(mapping).fillna(df[\"pred\"])\n",
    "\n",
    "    stance_counts = stance_df.groupby([\"party\", \"stance\"]).size().reset_index(name=\"count\")\n",
    "    parties = sorted(stance_counts[\"party\"].unique().tolist())\n",
    "    full_index = pd.MultiIndex.from_product([parties, STANCE_ORDER], names=[\"party\", \"stance\"])\n",
    "    stance_counts = stance_counts.set_index([\"party\", \"stance\"]).reindex(full_index, fill_value=0).reset_index()\n",
    "\n",
    "    stance_counts[\"percent\"] = stance_counts.groupby(\"party\")[\"count\"].transform(\n",
    "        lambda x: 100 * x / max(x.sum(), 1)\n",
    "    )\n",
    "\n",
    "    count_pivot = stance_counts.pivot_table(index=\"party\", columns=\"stance\", values=\"count\", fill_value=0)\n",
    "    count_pivot[\"NSI\"] = (\n",
    "        (count_pivot[\"Support\"] - count_pivot[\"Opposition\"]) /\n",
    "        (count_pivot[\"Support\"] + count_pivot[\"Opposition\"] + count_pivot[\"Neutral\"]).replace(0, np.nan)\n",
    "    ) * 100\n",
    "\n",
    "    # NSI-Werte bei max. 0 kappen\n",
    "    net_df = count_pivot.reset_index()[[\"party\", \"NSI\"]]\n",
    "    net_df[\"NSI\"] = net_df[\"NSI\"].clip(upper=0)\n",
    "\n",
    "    fig_bars = px.bar(\n",
    "        stance_counts,\n",
    "        x=\"party\", y=\"percent\",\n",
    "        color=\"stance\",\n",
    "        text=stance_counts[\"percent\"].round(1).astype(str) + \"%\",\n",
    "        color_discrete_map=label_colors,\n",
    "        category_orders={\"stance\": STANCE_ORDER},\n",
    "    )\n",
    "\n",
    "    fig = make_subplots(specs=[[{\"secondary_y\": True}]] )\n",
    "    \n",
    "    for tr in fig_bars.data:\n",
    "        fig.add_trace(tr, secondary_y=False)\n",
    "\n",
    "    fig.add_trace(\n",
    "        go.Scatter(\n",
    "            x=net_df[\"party\"],\n",
    "            y=net_df[\"NSI\"],\n",
    "            mode=\"markers+lines+text\",\n",
    "            name=\"NSI\",\n",
    "            text=[f\"{v:+.1f}%\" for v in net_df[\"NSI\"]],\n",
    "            textposition=\"top center\",\n",
    "            line=dict(color=\"purple\", width=3),\n",
    "            textfont=dict(color=\"purple\"),\n",
    "            hovertemplate=\"<b>%{x}</b><br>NSI: %{y:.1f}%<extra></extra>\",\n",
    "        ),\n",
    "        secondary_y=True,\n",
    "    )\n",
    "\n",
    "    fig.update_traces(textposition=\"inside\", selector=dict(type=\"bar\"))\n",
    "    fig.update_layout(\n",
    "        barmode=\"stack\",\n",
    "        xaxis_title=\"Party\",\n",
    "        legend_title=\"Stance\",\n",
    "        title=f\"Stance Distribution ({label})\",\n",
    "        width=1100,\n",
    "        margin=dict(t=50, l=40, r=40, b=40),\n",
    "    )\n",
    "\n",
    "    fig.update_yaxes(title_text=\"Proportion (%)\", range=[0, 100], secondary_y=False)\n",
    "    fig.update_yaxes(title_text=\"NSI\", range=[-100, 0], secondary_y=True)\n",
    "\n",
    "    fig.add_hline(y=0, line_width=1, line_dash=\"dot\", line_color=\"gray\", secondary_y=True)\n",
    "\n",
    "    fig.show()\n",
    "\n",
    "\n",
    "# Tabellen erzeugen\n",
    "stance_random = make_stance_table(df_mirror, \"Random\")  # ehemals Mirror → Random\n",
    "stance_aug    = make_stance_table(df_aug, \"Augmentation\")\n",
    "stance_all    = make_stance_table(df_all, \"Combined\")\n",
    "\n",
    "stance_random.to_csv(EXPORT_PATH / \"stance_distribution_random.csv\", sep=\";\", encoding=\"utf-8-sig\", index=False)\n",
    "stance_aug.to_csv(EXPORT_PATH / \"stance_distribution_augmentation.csv\", sep=\";\", encoding=\"utf-8-sig\", index=False)\n",
    "stance_all.to_csv(EXPORT_PATH / \"stance_distribution_combined.csv\", sep=\";\", encoding=\"utf-8-sig\", index=False)\n",
    "\n",
    "print(\"Random:\", EXPORT_PATH / \"stance_distribution_random.csv\")\n",
    "display(stance_random)\n",
    "print(\"Augmentation:\", EXPORT_PATH / \"stance_distribution_augmentation.csv\")\n",
    "display(stance_aug)\n",
    "print(\"Combined:\", EXPORT_PATH / \"stance_distribution_combined.csv\")\n",
    "display(stance_all)\n",
    "\n",
    "# Plots erzeugen\n",
    "plot_stance_distribution(df_mirror, \"Random\")\n",
    "plot_stance_distribution(df_aug, \"Augmentation\")\n",
    "plot_stance_distribution(df_all, \"Combined\")\n",
    "\n"
   ]
  },
  {
   "cell_type": "code",
   "execution_count": 6,
   "id": "e1a5a137",
   "metadata": {},
   "outputs": [
    {
     "data": {
      "text/html": [
       "<div>\n",
       "<style scoped>\n",
       "    .dataframe tbody tr th:only-of-type {\n",
       "        vertical-align: middle;\n",
       "    }\n",
       "\n",
       "    .dataframe tbody tr th {\n",
       "        vertical-align: top;\n",
       "    }\n",
       "\n",
       "    .dataframe thead th {\n",
       "        text-align: right;\n",
       "    }\n",
       "</style>\n",
       "<table border=\"1\" class=\"dataframe\">\n",
       "  <thead>\n",
       "    <tr style=\"text-align: right;\">\n",
       "      <th>stance</th>\n",
       "      <th>party</th>\n",
       "      <th>Neutral</th>\n",
       "      <th>Opposition</th>\n",
       "      <th>Support</th>\n",
       "      <th>Total</th>\n",
       "      <th>Support_share</th>\n",
       "      <th>Neutral_share</th>\n",
       "      <th>Opposition_share</th>\n",
       "      <th>NSI</th>\n",
       "      <th>source</th>\n",
       "    </tr>\n",
       "  </thead>\n",
       "  <tbody>\n",
       "    <tr>\n",
       "      <th>0</th>\n",
       "      <td>AfD</td>\n",
       "      <td>20761</td>\n",
       "      <td>105168</td>\n",
       "      <td>35346</td>\n",
       "      <td>161275</td>\n",
       "      <td>21.92</td>\n",
       "      <td>12.87</td>\n",
       "      <td>65.21</td>\n",
       "      <td>-43.293753</td>\n",
       "      <td>Combined</td>\n",
       "    </tr>\n",
       "    <tr>\n",
       "      <th>1</th>\n",
       "      <td>B90/GRÜNE</td>\n",
       "      <td>31082</td>\n",
       "      <td>215724</td>\n",
       "      <td>31492</td>\n",
       "      <td>278298</td>\n",
       "      <td>11.32</td>\n",
       "      <td>11.17</td>\n",
       "      <td>77.52</td>\n",
       "      <td>-66.199541</td>\n",
       "      <td>Combined</td>\n",
       "    </tr>\n",
       "    <tr>\n",
       "      <th>2</th>\n",
       "      <td>BSW</td>\n",
       "      <td>7668</td>\n",
       "      <td>38323</td>\n",
       "      <td>5649</td>\n",
       "      <td>51640</td>\n",
       "      <td>10.94</td>\n",
       "      <td>14.85</td>\n",
       "      <td>74.21</td>\n",
       "      <td>-63.272657</td>\n",
       "      <td>Combined</td>\n",
       "    </tr>\n",
       "    <tr>\n",
       "      <th>3</th>\n",
       "      <td>CDU/CSU</td>\n",
       "      <td>49481</td>\n",
       "      <td>363784</td>\n",
       "      <td>42167</td>\n",
       "      <td>455432</td>\n",
       "      <td>9.26</td>\n",
       "      <td>10.86</td>\n",
       "      <td>79.88</td>\n",
       "      <td>-70.618007</td>\n",
       "      <td>Combined</td>\n",
       "    </tr>\n",
       "    <tr>\n",
       "      <th>4</th>\n",
       "      <td>FDP</td>\n",
       "      <td>16345</td>\n",
       "      <td>104896</td>\n",
       "      <td>18152</td>\n",
       "      <td>139393</td>\n",
       "      <td>13.02</td>\n",
       "      <td>11.73</td>\n",
       "      <td>75.25</td>\n",
       "      <td>-62.229811</td>\n",
       "      <td>Combined</td>\n",
       "    </tr>\n",
       "    <tr>\n",
       "      <th>5</th>\n",
       "      <td>LINKE</td>\n",
       "      <td>6471</td>\n",
       "      <td>37528</td>\n",
       "      <td>6171</td>\n",
       "      <td>50170</td>\n",
       "      <td>12.30</td>\n",
       "      <td>12.90</td>\n",
       "      <td>74.80</td>\n",
       "      <td>-62.501495</td>\n",
       "      <td>Combined</td>\n",
       "    </tr>\n",
       "    <tr>\n",
       "      <th>6</th>\n",
       "      <td>SPD</td>\n",
       "      <td>13862</td>\n",
       "      <td>105761</td>\n",
       "      <td>9972</td>\n",
       "      <td>129595</td>\n",
       "      <td>7.69</td>\n",
       "      <td>10.70</td>\n",
       "      <td>81.61</td>\n",
       "      <td>-73.914117</td>\n",
       "      <td>Combined</td>\n",
       "    </tr>\n",
       "  </tbody>\n",
       "</table>\n",
       "</div>"
      ],
      "text/plain": [
       "stance      party  Neutral  Opposition  Support   Total  Support_share  \\\n",
       "0             AfD    20761      105168    35346  161275          21.92   \n",
       "1       B90/GRÜNE    31082      215724    31492  278298          11.32   \n",
       "2             BSW     7668       38323     5649   51640          10.94   \n",
       "3         CDU/CSU    49481      363784    42167  455432           9.26   \n",
       "4             FDP    16345      104896    18152  139393          13.02   \n",
       "5           LINKE     6471       37528     6171   50170          12.30   \n",
       "6             SPD    13862      105761     9972  129595           7.69   \n",
       "\n",
       "stance  Neutral_share  Opposition_share        NSI    source  \n",
       "0               12.87             65.21 -43.293753  Combined  \n",
       "1               11.17             77.52 -66.199541  Combined  \n",
       "2               14.85             74.21 -63.272657  Combined  \n",
       "3               10.86             79.88 -70.618007  Combined  \n",
       "4               11.73             75.25 -62.229811  Combined  \n",
       "5               12.90             74.80 -62.501495  Combined  \n",
       "6               10.70             81.61 -73.914117  Combined  "
      ]
     },
     "metadata": {},
     "output_type": "display_data"
    },
    {
     "name": "stdout",
     "output_type": "stream",
     "text": [
      "Verteilung der zugewiesenen User inkl. Stance Shares:\n",
      "CSV gespeichert:\n",
      "User Distribution: E:\\Final_Github_1\\MasterThesis_final\\data\\analysis\\Descriptive_Analyis_6_1\\user_distribution_full.csv\n"
     ]
    },
    {
     "data": {
      "text/html": [
       "<div>\n",
       "<style scoped>\n",
       "    .dataframe tbody tr th:only-of-type {\n",
       "        vertical-align: middle;\n",
       "    }\n",
       "\n",
       "    .dataframe tbody tr th {\n",
       "        vertical-align: top;\n",
       "    }\n",
       "\n",
       "    .dataframe thead th {\n",
       "        text-align: right;\n",
       "    }\n",
       "</style>\n",
       "<table border=\"1\" class=\"dataframe\">\n",
       "  <thead>\n",
       "    <tr style=\"text-align: right;\">\n",
       "      <th></th>\n",
       "      <th>party</th>\n",
       "      <th>assigned_users</th>\n",
       "      <th>Ablehnung</th>\n",
       "      <th>Neutral</th>\n",
       "      <th>Zustimmung</th>\n",
       "      <th>total_support_tweets</th>\n",
       "      <th>avg_support_tweets_per_user</th>\n",
       "      <th>Zustimmung_share</th>\n",
       "      <th>Neutral_share</th>\n",
       "      <th>Ablehnung_share</th>\n",
       "    </tr>\n",
       "  </thead>\n",
       "  <tbody>\n",
       "    <tr>\n",
       "      <th>0</th>\n",
       "      <td>AfD</td>\n",
       "      <td>2867</td>\n",
       "      <td>27118</td>\n",
       "      <td>6392</td>\n",
       "      <td>15961</td>\n",
       "      <td>15961</td>\n",
       "      <td>5.57</td>\n",
       "      <td>32.26</td>\n",
       "      <td>12.92</td>\n",
       "      <td>54.82</td>\n",
       "    </tr>\n",
       "    <tr>\n",
       "      <th>1</th>\n",
       "      <td>B90/GRÜNE</td>\n",
       "      <td>2585</td>\n",
       "      <td>62743</td>\n",
       "      <td>10487</td>\n",
       "      <td>16183</td>\n",
       "      <td>16183</td>\n",
       "      <td>6.26</td>\n",
       "      <td>18.10</td>\n",
       "      <td>11.73</td>\n",
       "      <td>70.17</td>\n",
       "    </tr>\n",
       "    <tr>\n",
       "      <th>2</th>\n",
       "      <td>BSW</td>\n",
       "      <td>371</td>\n",
       "      <td>11198</td>\n",
       "      <td>2544</td>\n",
       "      <td>2660</td>\n",
       "      <td>2660</td>\n",
       "      <td>7.17</td>\n",
       "      <td>16.22</td>\n",
       "      <td>15.51</td>\n",
       "      <td>68.27</td>\n",
       "    </tr>\n",
       "    <tr>\n",
       "      <th>3</th>\n",
       "      <td>CDU/CSU</td>\n",
       "      <td>4202</td>\n",
       "      <td>112199</td>\n",
       "      <td>17787</td>\n",
       "      <td>24179</td>\n",
       "      <td>24179</td>\n",
       "      <td>5.75</td>\n",
       "      <td>15.68</td>\n",
       "      <td>11.54</td>\n",
       "      <td>72.78</td>\n",
       "    </tr>\n",
       "    <tr>\n",
       "      <th>4</th>\n",
       "      <td>FDP</td>\n",
       "      <td>1382</td>\n",
       "      <td>33449</td>\n",
       "      <td>6126</td>\n",
       "      <td>9038</td>\n",
       "      <td>9038</td>\n",
       "      <td>6.54</td>\n",
       "      <td>18.59</td>\n",
       "      <td>12.60</td>\n",
       "      <td>68.81</td>\n",
       "    </tr>\n",
       "    <tr>\n",
       "      <th>5</th>\n",
       "      <td>LINKE</td>\n",
       "      <td>541</td>\n",
       "      <td>10248</td>\n",
       "      <td>2079</td>\n",
       "      <td>3278</td>\n",
       "      <td>3278</td>\n",
       "      <td>6.06</td>\n",
       "      <td>21.01</td>\n",
       "      <td>13.32</td>\n",
       "      <td>65.67</td>\n",
       "    </tr>\n",
       "    <tr>\n",
       "      <th>6</th>\n",
       "      <td>SPD</td>\n",
       "      <td>576</td>\n",
       "      <td>31005</td>\n",
       "      <td>4679</td>\n",
       "      <td>4637</td>\n",
       "      <td>4637</td>\n",
       "      <td>8.05</td>\n",
       "      <td>11.50</td>\n",
       "      <td>11.60</td>\n",
       "      <td>76.90</td>\n",
       "    </tr>\n",
       "    <tr>\n",
       "      <th>7</th>\n",
       "      <td>TOTAL</td>\n",
       "      <td>12524</td>\n",
       "      <td>287960</td>\n",
       "      <td>50094</td>\n",
       "      <td>75936</td>\n",
       "      <td>75936</td>\n",
       "      <td>6.49</td>\n",
       "      <td>18.34</td>\n",
       "      <td>12.10</td>\n",
       "      <td>69.56</td>\n",
       "    </tr>\n",
       "  </tbody>\n",
       "</table>\n",
       "</div>"
      ],
      "text/plain": [
       "       party  assigned_users  Ablehnung  Neutral  Zustimmung  \\\n",
       "0        AfD            2867      27118     6392       15961   \n",
       "1  B90/GRÜNE            2585      62743    10487       16183   \n",
       "2        BSW             371      11198     2544        2660   \n",
       "3    CDU/CSU            4202     112199    17787       24179   \n",
       "4        FDP            1382      33449     6126        9038   \n",
       "5      LINKE             541      10248     2079        3278   \n",
       "6        SPD             576      31005     4679        4637   \n",
       "7      TOTAL           12524     287960    50094       75936   \n",
       "\n",
       "   total_support_tweets  avg_support_tweets_per_user  Zustimmung_share  \\\n",
       "0                 15961                         5.57             32.26   \n",
       "1                 16183                         6.26             18.10   \n",
       "2                  2660                         7.17             16.22   \n",
       "3                 24179                         5.75             15.68   \n",
       "4                  9038                         6.54             18.59   \n",
       "5                  3278                         6.06             21.01   \n",
       "6                  4637                         8.05             11.50   \n",
       "7                 75936                         6.49             18.34   \n",
       "\n",
       "   Neutral_share  Ablehnung_share  \n",
       "0          12.92            54.82  \n",
       "1          11.73            70.17  \n",
       "2          15.51            68.27  \n",
       "3          11.54            72.78  \n",
       "4          12.60            68.81  \n",
       "5          13.32            65.67  \n",
       "6          11.60            76.90  \n",
       "7          12.10            69.56  "
      ]
     },
     "metadata": {},
     "output_type": "display_data"
    },
    {
     "name": "stdout",
     "output_type": "stream",
     "text": [
      "\n",
      "Nutzerbasis:\n",
      "- Gesamtzahl individueller User im Corpus: 149,607\n",
      "- Davon zugewiesen (ASI >=3 Supports): 10,025 (6.7%)\n"
     ]
    }
   ],
   "source": [
    "# Nutzer-Zuordnung & Stance-Distribution auf User-Ebene\n",
    "\n",
    "# Zustimmung-Tweets\n",
    "df_support = df_all[df_all[\"pred\"] == \"Zustimmung\"]\n",
    "\n",
    "# Zustimmung pro User und Partei\n",
    "user_party_counts = (\n",
    "    df_support.groupby([\"username\", \"party\"])\n",
    "    .size()\n",
    "    .reset_index(name=\"support_count\")\n",
    ")\n",
    "\n",
    "# Nur User mit ≥3 Zustimmungen (ASI-Definition)\n",
    "user_party_assigned = user_party_counts[user_party_counts[\"support_count\"] >= 3]\n",
    "\n",
    "# Anzahl zugewiesener User pro Partei\n",
    "assigned_users = (\n",
    "    user_party_assigned.groupby(\"party\")[\"username\"]\n",
    "    .nunique()\n",
    "    .reset_index(name=\"assigned_users\")\n",
    ")\n",
    "\n",
    "# Tweets (alle Stance-Klassen) dieser User zählen\n",
    "stance_counts = (\n",
    "    df_all[df_all[\"username\"].isin(user_party_assigned[\"username\"])]\n",
    "    .groupby([\"party\", \"pred\"])\n",
    "    .size()\n",
    "    .unstack(fill_value=0)\n",
    "    .reset_index()\n",
    ")\n",
    "\n",
    "# Merge\n",
    "user_table = assigned_users.merge(stance_counts, on=\"party\", how=\"left\")\n",
    "\n",
    "# Total Support Tweets\n",
    "user_table[\"total_support_tweets\"] = (\n",
    "    df_support[df_support[\"username\"].isin(user_party_assigned[\"username\"])]\n",
    "    .groupby(\"party\")[\"pred\"]\n",
    "    .count()\n",
    "    .reindex(user_table[\"party\"])\n",
    "    .fillna(0)\n",
    "    .astype(int)\n",
    "    .values\n",
    ")\n",
    "\n",
    "# Durchschnittliche Support-Tweets pro User\n",
    "user_table[\"avg_support_tweets_per_user\"] = (\n",
    "    user_table[\"total_support_tweets\"] / user_table[\"assigned_users\"]\n",
    ").round(2)\n",
    "\n",
    "# Prozentuale Shares pro Partei\n",
    "total_by_party = user_table[[\"Zustimmung\", \"Neutral\", \"Ablehnung\"]].sum(axis=1)\n",
    "for col in [\"Zustimmung\", \"Neutral\", \"Ablehnung\"]:\n",
    "    user_table[f\"{col}_share\"] = (user_table[col] / total_by_party * 100).round(2)\n",
    "\n",
    "# Total-Zeile\n",
    "total_row = pd.DataFrame({\n",
    "    \"party\": [\"TOTAL\"],\n",
    "    \"assigned_users\": [user_table[\"assigned_users\"].sum()],\n",
    "    \"total_support_tweets\": [user_table[\"total_support_tweets\"].sum()],\n",
    "    \"Ablehnung\": [user_table[\"Ablehnung\"].sum()],\n",
    "    \"Neutral\": [user_table[\"Neutral\"].sum()],\n",
    "    \"Zustimmung\": [user_table[\"Zustimmung\"].sum()],\n",
    "    \"avg_support_tweets_per_user\": [round(user_table[\"avg_support_tweets_per_user\"].mean(), 2)],\n",
    "    \"Zustimmung_share\": [round(user_table[\"Zustimmung\"].sum() / total_by_party.sum() * 100, 2)],\n",
    "    \"Neutral_share\": [round(user_table[\"Neutral\"].sum() / total_by_party.sum() * 100, 2)],\n",
    "    \"Ablehnung_share\": [round(user_table[\"Ablehnung\"].sum() / total_by_party.sum() * 100, 2)],\n",
    "})\n",
    "user_table = pd.concat([user_table, total_row], ignore_index=True)\n",
    "\n",
    "# Reihenfolge Parteien\n",
    "party_order = [\"AfD\", \"B90/GRÜNE\", \"BSW\", \"CDU/CSU\", \"FDP\", \"LINKE\", \"SPD\", \"TOTAL\"]\n",
    "user_table = user_table.set_index(\"party\").reindex(party_order).reset_index()\n",
    "\n",
    "# Export\n",
    "out_file_users = EXPORT_PATH / \"user_distribution_full.csv\"\n",
    "user_table.to_csv(out_file_users, sep=\";\", encoding=\"utf-8-sig\", index=False)\n",
    "\n",
    "\n",
    "display(stance_all)\n",
    "# Nutzerbasis\n",
    "total_users = df_all[\"username\"].nunique()\n",
    "total_assigned_unique = user_party_assigned[\"username\"].nunique()\n",
    "share_assigned_total = round(total_assigned_unique / total_users * 100, 2)\n",
    "\n",
    "print(\"Verteilung der zugewiesenen User inkl. Stance Shares:\")\n",
    "print(\"CSV gespeichert:\")\n",
    "print(\"User Distribution:\", out_file_users)\n",
    "display(user_table)\n",
    "\n",
    "\n",
    "print(\"\\nNutzerbasis:\")\n",
    "print(f\"- Gesamtzahl individueller User im Corpus: {total_users:,}\")\n",
    "print(f\"- Davon zugewiesen (ASI >=3 Supports): {total_assigned_unique:,} ({share_assigned_total}%)\")\n",
    "\n"
   ]
  },
  {
   "cell_type": "code",
   "execution_count": 7,
   "id": "5cac8220",
   "metadata": {},
   "outputs": [
    {
     "name": "stdout",
     "output_type": "stream",
     "text": [
      "CSV gespeichert: E:\\Final_Github_1\\MasterThesis_final\\data\\analysis\\Descriptive_Analyis_6_1\\user_distribution_unique_assignment.csv\n"
     ]
    },
    {
     "data": {
      "text/html": [
       "<div>\n",
       "<style scoped>\n",
       "    .dataframe tbody tr th:only-of-type {\n",
       "        vertical-align: middle;\n",
       "    }\n",
       "\n",
       "    .dataframe tbody tr th {\n",
       "        vertical-align: top;\n",
       "    }\n",
       "\n",
       "    .dataframe thead th {\n",
       "        text-align: right;\n",
       "    }\n",
       "</style>\n",
       "<table border=\"1\" class=\"dataframe\">\n",
       "  <thead>\n",
       "    <tr style=\"text-align: right;\">\n",
       "      <th></th>\n",
       "      <th>party</th>\n",
       "      <th>assigned_users</th>\n",
       "      <th>Ablehnung</th>\n",
       "      <th>Neutral</th>\n",
       "      <th>Zustimmung</th>\n",
       "      <th>total_support_tweets</th>\n",
       "      <th>avg_support_tweets_per_user</th>\n",
       "      <th>Zustimmung_share</th>\n",
       "      <th>Neutral_share</th>\n",
       "      <th>Ablehnung_share</th>\n",
       "    </tr>\n",
       "  </thead>\n",
       "  <tbody>\n",
       "    <tr>\n",
       "      <th>0</th>\n",
       "      <td>AfD</td>\n",
       "      <td>2638</td>\n",
       "      <td>27118</td>\n",
       "      <td>6392</td>\n",
       "      <td>15961</td>\n",
       "      <td>15961</td>\n",
       "      <td>6.05</td>\n",
       "      <td>32.26</td>\n",
       "      <td>12.92</td>\n",
       "      <td>54.82</td>\n",
       "    </tr>\n",
       "    <tr>\n",
       "      <th>1</th>\n",
       "      <td>B90/GRÜNE</td>\n",
       "      <td>2063</td>\n",
       "      <td>62743</td>\n",
       "      <td>10487</td>\n",
       "      <td>16183</td>\n",
       "      <td>16183</td>\n",
       "      <td>7.84</td>\n",
       "      <td>18.10</td>\n",
       "      <td>11.73</td>\n",
       "      <td>70.17</td>\n",
       "    </tr>\n",
       "    <tr>\n",
       "      <th>2</th>\n",
       "      <td>BSW</td>\n",
       "      <td>301</td>\n",
       "      <td>11198</td>\n",
       "      <td>2544</td>\n",
       "      <td>2660</td>\n",
       "      <td>2660</td>\n",
       "      <td>8.84</td>\n",
       "      <td>16.22</td>\n",
       "      <td>15.51</td>\n",
       "      <td>68.27</td>\n",
       "    </tr>\n",
       "    <tr>\n",
       "      <th>3</th>\n",
       "      <td>CDU/CSU</td>\n",
       "      <td>3420</td>\n",
       "      <td>112199</td>\n",
       "      <td>17787</td>\n",
       "      <td>24179</td>\n",
       "      <td>24179</td>\n",
       "      <td>7.07</td>\n",
       "      <td>15.68</td>\n",
       "      <td>11.54</td>\n",
       "      <td>72.78</td>\n",
       "    </tr>\n",
       "    <tr>\n",
       "      <th>4</th>\n",
       "      <td>FDP</td>\n",
       "      <td>886</td>\n",
       "      <td>33449</td>\n",
       "      <td>6126</td>\n",
       "      <td>9038</td>\n",
       "      <td>9038</td>\n",
       "      <td>10.20</td>\n",
       "      <td>18.59</td>\n",
       "      <td>12.60</td>\n",
       "      <td>68.81</td>\n",
       "    </tr>\n",
       "    <tr>\n",
       "      <th>5</th>\n",
       "      <td>LINKE</td>\n",
       "      <td>441</td>\n",
       "      <td>10248</td>\n",
       "      <td>2079</td>\n",
       "      <td>3278</td>\n",
       "      <td>3278</td>\n",
       "      <td>7.43</td>\n",
       "      <td>21.01</td>\n",
       "      <td>13.32</td>\n",
       "      <td>65.67</td>\n",
       "    </tr>\n",
       "    <tr>\n",
       "      <th>6</th>\n",
       "      <td>SPD</td>\n",
       "      <td>276</td>\n",
       "      <td>31005</td>\n",
       "      <td>4679</td>\n",
       "      <td>4637</td>\n",
       "      <td>4637</td>\n",
       "      <td>16.80</td>\n",
       "      <td>11.50</td>\n",
       "      <td>11.60</td>\n",
       "      <td>76.90</td>\n",
       "    </tr>\n",
       "    <tr>\n",
       "      <th>7</th>\n",
       "      <td>TOTAL</td>\n",
       "      <td>10025</td>\n",
       "      <td>287960</td>\n",
       "      <td>50094</td>\n",
       "      <td>75936</td>\n",
       "      <td>75936</td>\n",
       "      <td>7.57</td>\n",
       "      <td>18.34</td>\n",
       "      <td>12.10</td>\n",
       "      <td>69.56</td>\n",
       "    </tr>\n",
       "  </tbody>\n",
       "</table>\n",
       "</div>"
      ],
      "text/plain": [
       "       party  assigned_users  Ablehnung  Neutral  Zustimmung  \\\n",
       "0        AfD            2638      27118     6392       15961   \n",
       "1  B90/GRÜNE            2063      62743    10487       16183   \n",
       "2        BSW             301      11198     2544        2660   \n",
       "3    CDU/CSU            3420     112199    17787       24179   \n",
       "4        FDP             886      33449     6126        9038   \n",
       "5      LINKE             441      10248     2079        3278   \n",
       "6        SPD             276      31005     4679        4637   \n",
       "7      TOTAL           10025     287960    50094       75936   \n",
       "\n",
       "   total_support_tweets  avg_support_tweets_per_user  Zustimmung_share  \\\n",
       "0                 15961                         6.05             32.26   \n",
       "1                 16183                         7.84             18.10   \n",
       "2                  2660                         8.84             16.22   \n",
       "3                 24179                         7.07             15.68   \n",
       "4                  9038                        10.20             18.59   \n",
       "5                  3278                         7.43             21.01   \n",
       "6                  4637                        16.80             11.50   \n",
       "7                 75936                         7.57             18.34   \n",
       "\n",
       "   Neutral_share  Ablehnung_share  \n",
       "0          12.92            54.82  \n",
       "1          11.73            70.17  \n",
       "2          15.51            68.27  \n",
       "3          11.54            72.78  \n",
       "4          12.60            68.81  \n",
       "5          13.32            65.67  \n",
       "6          11.60            76.90  \n",
       "7          12.10            69.56  "
      ]
     },
     "metadata": {},
     "output_type": "display_data"
    },
    {
     "name": "stdout",
     "output_type": "stream",
     "text": [
      "\n",
      "Nutzerbasis:\n",
      "- Gesamtzahl individueller User im Corpus: 149,607\n",
      "- Davon eindeutig zugewiesen (ASI >=3 Supports): 10,025 (6.7%)\n"
     ]
    }
   ],
   "source": [
    "# Zustimmung-Tweets filtern\n",
    "df_support = df_all[df_all[\"pred\"] == \"Zustimmung\"]\n",
    "\n",
    "# Zustimmung pro User und Partei zählen\n",
    "user_party_counts = (\n",
    "    df_support.groupby([\"username\", \"party\"])\n",
    "    .size()\n",
    "    .reset_index(name=\"support_count\")\n",
    ")\n",
    "\n",
    "# Nur User mit ≥3 Zustimmungen (ASI-Definition)\n",
    "user_party_assigned = user_party_counts[user_party_counts[\"support_count\"] >= 3]\n",
    "\n",
    "# Jeder User → Partei mit den meisten Zustimmungen (tie-break: erste Partei alphabetisch)\n",
    "user_max_party = (\n",
    "    user_party_assigned.sort_values([\"username\", \"support_count\"], ascending=[True, False])\n",
    "    .drop_duplicates(subset=[\"username\"], keep=\"first\")\n",
    ")\n",
    "\n",
    "# Merge zurück zu df_all → nur die eindeutig zugewiesenen User\n",
    "assigned_users_list = user_max_party[\"username\"].tolist()\n",
    "df_assigned = df_all[df_all[\"username\"].isin(assigned_users_list)]\n",
    "\n",
    "# Tweets (alle Stance-Klassen) dieser User zählen\n",
    "stance_counts = (\n",
    "    df_assigned.groupby([\"party\", \"pred\"])\n",
    "    .size()\n",
    "    .unstack(fill_value=0)\n",
    "    .reset_index()\n",
    ")\n",
    "\n",
    "# Anzahl zugewiesener User pro Partei\n",
    "assigned_users = (\n",
    "    user_max_party.groupby(\"party\")[\"username\"]\n",
    "    .nunique()\n",
    "    .reset_index(name=\"assigned_users\")\n",
    ")\n",
    "\n",
    "# Merge\n",
    "user_table = assigned_users.merge(stance_counts, on=\"party\", how=\"left\")\n",
    "\n",
    "# Total Support Tweets (eindeutig zugewiesene User)\n",
    "user_table[\"total_support_tweets\"] = (\n",
    "    df_support[df_support[\"username\"].isin(assigned_users_list)]\n",
    "    .groupby(\"party\")[\"pred\"]\n",
    "    .count()\n",
    "    .reindex(user_table[\"party\"])\n",
    "    .fillna(0)\n",
    "    .astype(int)\n",
    "    .values\n",
    ")\n",
    "\n",
    "# Durchschnittliche Support-Tweets pro User\n",
    "user_table[\"avg_support_tweets_per_user\"] = (\n",
    "    user_table[\"total_support_tweets\"] / user_table[\"assigned_users\"]\n",
    ").round(2)\n",
    "\n",
    "# Prozentuale Shares pro Partei\n",
    "total_by_party = user_table[[\"Zustimmung\", \"Neutral\", \"Ablehnung\"]].sum(axis=1)\n",
    "for col in [\"Zustimmung\", \"Neutral\", \"Ablehnung\"]:\n",
    "    user_table[f\"{col}_share\"] = (user_table[col] / total_by_party * 100).round(2)\n",
    "\n",
    "# TOTAL-Zeile mit unique Nutzern\n",
    "total_row = pd.DataFrame({\n",
    "    \"party\": [\"TOTAL\"],\n",
    "    \"assigned_users\": [user_max_party[\"username\"].nunique()],\n",
    "    \"total_support_tweets\": [user_table[\"total_support_tweets\"].sum()],\n",
    "    \"Ablehnung\": [user_table[\"Ablehnung\"].sum()],\n",
    "    \"Neutral\": [user_table[\"Neutral\"].sum()],\n",
    "    \"Zustimmung\": [user_table[\"Zustimmung\"].sum()],\n",
    "    \"avg_support_tweets_per_user\": [round(\n",
    "        user_table[\"total_support_tweets\"].sum() / user_max_party[\"username\"].nunique(), 2\n",
    "    )],\n",
    "    \"Zustimmung_share\": [round(user_table[\"Zustimmung\"].sum() / total_by_party.sum() * 100, 2)],\n",
    "    \"Neutral_share\": [round(user_table[\"Neutral\"].sum() / total_by_party.sum() * 100, 2)],\n",
    "    \"Ablehnung_share\": [round(user_table[\"Ablehnung\"].sum() / total_by_party.sum() * 100, 2)],\n",
    "})\n",
    "user_table = pd.concat([user_table, total_row], ignore_index=True)\n",
    "\n",
    "# Reihenfolge Parteien\n",
    "party_order = [\"AfD\", \"B90/GRÜNE\", \"BSW\", \"CDU/CSU\", \"FDP\", \"LINKE\", \"SPD\", \"TOTAL\"]\n",
    "user_table = user_table.set_index(\"party\").reindex(party_order).reset_index()\n",
    "\n",
    "# Export\n",
    "out_file_users = EXPORT_PATH / \"user_distribution_unique_assignment.csv\"\n",
    "user_table.to_csv(out_file_users, sep=\";\", encoding=\"utf-8-sig\", index=False)\n",
    "\n",
    "print(\"CSV gespeichert:\", out_file_users)\n",
    "display(user_table)\n",
    "\n",
    "# Nutzerbasis\n",
    "total_users = df_all[\"username\"].nunique()\n",
    "total_assigned_unique = user_max_party[\"username\"].nunique()\n",
    "share_assigned_total = round(total_assigned_unique / total_users * 100, 2)\n",
    "\n",
    "print(\"\\nNutzerbasis:\")\n",
    "print(f\"- Gesamtzahl individueller User im Corpus: {total_users:,}\")\n",
    "print(f\"- Davon eindeutig zugewiesen (ASI >=3 Supports): {total_assigned_unique:,} ({share_assigned_total}%)\")\n"
   ]
  },
  {
   "cell_type": "code",
   "execution_count": 8,
   "id": "54615118",
   "metadata": {},
   "outputs": [
    {
     "name": "stdout",
     "output_type": "stream",
     "text": [
      "CSV gespeichert: E:\\Final_Github_1\\MasterThesis_final\\data\\analysis\\Descriptive_Analyis_6_1\\user_distribution_sender_assignment.csv\n"
     ]
    },
    {
     "data": {
      "text/html": [
       "<div>\n",
       "<style scoped>\n",
       "    .dataframe tbody tr th:only-of-type {\n",
       "        vertical-align: middle;\n",
       "    }\n",
       "\n",
       "    .dataframe tbody tr th {\n",
       "        vertical-align: top;\n",
       "    }\n",
       "\n",
       "    .dataframe thead th {\n",
       "        text-align: right;\n",
       "    }\n",
       "</style>\n",
       "<table border=\"1\" class=\"dataframe\">\n",
       "  <thead>\n",
       "    <tr style=\"text-align: right;\">\n",
       "      <th></th>\n",
       "      <th>party</th>\n",
       "      <th>assigned_users</th>\n",
       "      <th>Ablehnung</th>\n",
       "      <th>Neutral</th>\n",
       "      <th>Zustimmung</th>\n",
       "      <th>total_support_tweets</th>\n",
       "      <th>avg_support_tweets_per_user</th>\n",
       "      <th>Zustimmung_share</th>\n",
       "      <th>Neutral_share</th>\n",
       "      <th>Ablehnung_share</th>\n",
       "    </tr>\n",
       "  </thead>\n",
       "  <tbody>\n",
       "    <tr>\n",
       "      <th>0</th>\n",
       "      <td>AfD</td>\n",
       "      <td>2638</td>\n",
       "      <td>58333</td>\n",
       "      <td>8538</td>\n",
       "      <td>17840</td>\n",
       "      <td>17840</td>\n",
       "      <td>6.76</td>\n",
       "      <td>21.06</td>\n",
       "      <td>10.08</td>\n",
       "      <td>68.86</td>\n",
       "    </tr>\n",
       "    <tr>\n",
       "      <th>1</th>\n",
       "      <td>B90/GRÜNE</td>\n",
       "      <td>2063</td>\n",
       "      <td>69159</td>\n",
       "      <td>12277</td>\n",
       "      <td>17152</td>\n",
       "      <td>17152</td>\n",
       "      <td>8.31</td>\n",
       "      <td>17.40</td>\n",
       "      <td>12.45</td>\n",
       "      <td>70.15</td>\n",
       "    </tr>\n",
       "    <tr>\n",
       "      <th>2</th>\n",
       "      <td>BSW</td>\n",
       "      <td>301</td>\n",
       "      <td>7688</td>\n",
       "      <td>1729</td>\n",
       "      <td>2195</td>\n",
       "      <td>2195</td>\n",
       "      <td>7.29</td>\n",
       "      <td>18.90</td>\n",
       "      <td>14.89</td>\n",
       "      <td>66.21</td>\n",
       "    </tr>\n",
       "    <tr>\n",
       "      <th>3</th>\n",
       "      <td>CDU/CSU</td>\n",
       "      <td>3420</td>\n",
       "      <td>114162</td>\n",
       "      <td>19054</td>\n",
       "      <td>27470</td>\n",
       "      <td>27470</td>\n",
       "      <td>8.03</td>\n",
       "      <td>17.10</td>\n",
       "      <td>11.86</td>\n",
       "      <td>71.05</td>\n",
       "    </tr>\n",
       "    <tr>\n",
       "      <th>4</th>\n",
       "      <td>FDP</td>\n",
       "      <td>886</td>\n",
       "      <td>23645</td>\n",
       "      <td>5207</td>\n",
       "      <td>6618</td>\n",
       "      <td>6618</td>\n",
       "      <td>7.47</td>\n",
       "      <td>18.66</td>\n",
       "      <td>14.68</td>\n",
       "      <td>66.66</td>\n",
       "    </tr>\n",
       "    <tr>\n",
       "      <th>5</th>\n",
       "      <td>LINKE</td>\n",
       "      <td>441</td>\n",
       "      <td>7337</td>\n",
       "      <td>1755</td>\n",
       "      <td>2671</td>\n",
       "      <td>2671</td>\n",
       "      <td>6.06</td>\n",
       "      <td>22.71</td>\n",
       "      <td>14.92</td>\n",
       "      <td>62.37</td>\n",
       "    </tr>\n",
       "    <tr>\n",
       "      <th>6</th>\n",
       "      <td>SPD</td>\n",
       "      <td>276</td>\n",
       "      <td>7637</td>\n",
       "      <td>1534</td>\n",
       "      <td>1990</td>\n",
       "      <td>1990</td>\n",
       "      <td>7.21</td>\n",
       "      <td>17.83</td>\n",
       "      <td>13.74</td>\n",
       "      <td>68.43</td>\n",
       "    </tr>\n",
       "    <tr>\n",
       "      <th>7</th>\n",
       "      <td>TOTAL</td>\n",
       "      <td>10025</td>\n",
       "      <td>287961</td>\n",
       "      <td>50094</td>\n",
       "      <td>75936</td>\n",
       "      <td>75936</td>\n",
       "      <td>7.57</td>\n",
       "      <td>18.34</td>\n",
       "      <td>12.10</td>\n",
       "      <td>69.56</td>\n",
       "    </tr>\n",
       "  </tbody>\n",
       "</table>\n",
       "</div>"
      ],
      "text/plain": [
       "       party  assigned_users  Ablehnung  Neutral  Zustimmung  \\\n",
       "0        AfD            2638      58333     8538       17840   \n",
       "1  B90/GRÜNE            2063      69159    12277       17152   \n",
       "2        BSW             301       7688     1729        2195   \n",
       "3    CDU/CSU            3420     114162    19054       27470   \n",
       "4        FDP             886      23645     5207        6618   \n",
       "5      LINKE             441       7337     1755        2671   \n",
       "6        SPD             276       7637     1534        1990   \n",
       "7      TOTAL           10025     287961    50094       75936   \n",
       "\n",
       "   total_support_tweets  avg_support_tweets_per_user  Zustimmung_share  \\\n",
       "0                 17840                         6.76             21.06   \n",
       "1                 17152                         8.31             17.40   \n",
       "2                  2195                         7.29             18.90   \n",
       "3                 27470                         8.03             17.10   \n",
       "4                  6618                         7.47             18.66   \n",
       "5                  2671                         6.06             22.71   \n",
       "6                  1990                         7.21             17.83   \n",
       "7                 75936                         7.57             18.34   \n",
       "\n",
       "   Neutral_share  Ablehnung_share  \n",
       "0          10.08            68.86  \n",
       "1          12.45            70.15  \n",
       "2          14.89            66.21  \n",
       "3          11.86            71.05  \n",
       "4          14.68            66.66  \n",
       "5          14.92            62.37  \n",
       "6          13.74            68.43  \n",
       "7          12.10            69.56  "
      ]
     },
     "metadata": {},
     "output_type": "display_data"
    },
    {
     "name": "stdout",
     "output_type": "stream",
     "text": [
      "\n",
      "Nutzerbasis:\n",
      "- Gesamtzahl individueller User im Corpus: 149,607\n",
      "- Davon eindeutig zugewiesen (ASI >=3 Supports): 10,025 (6.7%)\n"
     ]
    }
   ],
   "source": [
    "# ============================================\n",
    "# Distribution: Alle Tweets von eindeutig zugewiesenen Usern (Sender-Perspektive)\n",
    "# ============================================\n",
    "\n",
    "# 1. Zustimmung-Tweets filtern\n",
    "df_support = df_all[df_all[\"pred\"] == \"Zustimmung\"]\n",
    "\n",
    "# 2. Zustimmung pro User und Partei zählen\n",
    "user_party_counts = (\n",
    "    df_support.groupby([\"username\", \"party\"])\n",
    "    .size()\n",
    "    .reset_index(name=\"support_count\")\n",
    ")\n",
    "\n",
    "# 3. Nur User mit ≥3 Zustimmungen (ASI-Definition)\n",
    "user_party_assigned = user_party_counts[user_party_counts[\"support_count\"] >= 3]\n",
    "\n",
    "# 4. Jeder User → Partei mit den meisten Zustimmungen\n",
    "user_max_party = (\n",
    "    user_party_assigned.sort_values([\"username\", \"support_count\"], ascending=[True, False])\n",
    "    .drop_duplicates(subset=[\"username\"], keep=\"first\")\n",
    "    .rename(columns={\"party\": \"user_party\"})\n",
    ")\n",
    "\n",
    "# 5. Merge: Alle Tweets dieser eindeutig zugewiesenen User\n",
    "df_assigned = df_all.merge(user_max_party[[\"username\", \"user_party\"]], on=\"username\", how=\"inner\")\n",
    "\n",
    "# 6. Tweets (alle Stance-Klassen) dieser User zählen – nach Sender-Partei\n",
    "stance_counts = (\n",
    "    df_assigned.groupby([\"user_party\", \"pred\"])\n",
    "    .size()\n",
    "    .unstack(fill_value=0)\n",
    "    .reset_index()\n",
    "    .rename(columns={\"user_party\": \"party\"})\n",
    ")\n",
    "\n",
    "# 7. Anzahl zugewiesener User pro Partei\n",
    "assigned_users = (\n",
    "    user_max_party.groupby(\"user_party\")[\"username\"]\n",
    "    .nunique()\n",
    "    .reset_index(name=\"assigned_users\")\n",
    "    .rename(columns={\"user_party\": \"party\"})\n",
    ")\n",
    "\n",
    "# 8. Merge\n",
    "user_table = assigned_users.merge(stance_counts, on=\"party\", how=\"left\")\n",
    "\n",
    "# 9. Total Support Tweets (Sender-Perspektive)\n",
    "user_table[\"total_support_tweets\"] = (\n",
    "    df_assigned[df_assigned[\"pred\"] == \"Zustimmung\"]\n",
    "    .groupby(\"user_party\")[\"pred\"]\n",
    "    .count()\n",
    "    .reindex(user_table[\"party\"])\n",
    "    .fillna(0)\n",
    "    .astype(int)\n",
    "    .values\n",
    ")\n",
    "\n",
    "# 10. Durchschnittliche Support-Tweets pro User\n",
    "user_table[\"avg_support_tweets_per_user\"] = (\n",
    "    user_table[\"total_support_tweets\"] / user_table[\"assigned_users\"]\n",
    ").round(2)\n",
    "\n",
    "# 11. Prozentuale Shares pro Partei (alle Tweets = Ablehnung+Neutral+Zustimmung)\n",
    "total_by_party = user_table[[\"Zustimmung\", \"Neutral\", \"Ablehnung\"]].sum(axis=1)\n",
    "for col in [\"Zustimmung\", \"Neutral\", \"Ablehnung\"]:\n",
    "    user_table[f\"{col}_share\"] = (user_table[col] / total_by_party * 100).round(2)\n",
    "\n",
    "# 12. TOTAL-Zeile\n",
    "total_row = pd.DataFrame({\n",
    "    \"party\": [\"TOTAL\"],\n",
    "    \"assigned_users\": [user_max_party[\"username\"].nunique()],\n",
    "    \"total_support_tweets\": [user_table[\"total_support_tweets\"].sum()],\n",
    "    \"Ablehnung\": [user_table[\"Ablehnung\"].sum()],\n",
    "    \"Neutral\": [user_table[\"Neutral\"].sum()],\n",
    "    \"Zustimmung\": [user_table[\"Zustimmung\"].sum()],\n",
    "    \"avg_support_tweets_per_user\": [round(\n",
    "        user_table[\"total_support_tweets\"].sum() / user_max_party[\"username\"].nunique(), 2\n",
    "    )],\n",
    "    \"Zustimmung_share\": [round(user_table[\"Zustimmung\"].sum() / total_by_party.sum() * 100, 2)],\n",
    "    \"Neutral_share\": [round(user_table[\"Neutral\"].sum() / total_by_party.sum() * 100, 2)],\n",
    "    \"Ablehnung_share\": [round(user_table[\"Ablehnung\"].sum() / total_by_party.sum() * 100, 2)],\n",
    "})\n",
    "user_table = pd.concat([user_table, total_row], ignore_index=True)\n",
    "\n",
    "# 13. Reihenfolge Parteien\n",
    "party_order = [\"AfD\", \"B90/GRÜNE\", \"BSW\", \"CDU/CSU\", \"FDP\", \"LINKE\", \"SPD\", \"TOTAL\"]\n",
    "user_table = user_table.set_index(\"party\").reindex(party_order).reset_index()\n",
    "\n",
    "# 14. Export\n",
    "out_file_users = EXPORT_PATH / \"user_distribution_sender_assignment.csv\"\n",
    "user_table.to_csv(out_file_users, sep=\";\", encoding=\"utf-8-sig\", index=False)\n",
    "\n",
    "print(\"CSV gespeichert:\", out_file_users)\n",
    "display(user_table)\n",
    "\n",
    "# 15. Nutzerbasis\n",
    "total_users = df_all[\"username\"].nunique()\n",
    "total_assigned_unique = user_max_party[\"username\"].nunique()\n",
    "share_assigned_total = round(total_assigned_unique / total_users * 100, 2)\n",
    "\n",
    "print(\"\\nNutzerbasis:\")\n",
    "print(f\"- Gesamtzahl individueller User im Corpus: {total_users:,}\")\n",
    "print(f\"- Davon eindeutig zugewiesen (ASI >=3 Supports): {total_assigned_unique:,} ({share_assigned_total}%)\")\n"
   ]
  },
  {
   "cell_type": "code",
   "execution_count": 9,
   "id": "26d251c7",
   "metadata": {},
   "outputs": [
    {
     "name": "stderr",
     "output_type": "stream",
     "text": [
      "C:\\Users\\Admin\\AppData\\Local\\Temp\\ipykernel_23948\\156088882.py:20: UserWarning:\n",
      "\n",
      "Converting to PeriodArray/Index representation will drop timezone information.\n",
      "\n"
     ]
    },
    {
     "data": {
      "application/vnd.plotly.v1+json": {
       "config": {
        "plotlyServerURL": "https://plot.ly"
       },
       "data": [
        {
         "legendgroup": "AfD",
         "line": {
          "color": "#0056FF",
          "width": 2
         },
         "mode": "lines",
         "name": "AfD",
         "showlegend": true,
         "type": "scatter",
         "x": [
          "2024-09-01T00:00:00.000000000",
          "2024-10-01T00:00:00.000000000",
          "2024-11-01T00:00:00.000000000",
          "2024-12-01T00:00:00.000000000",
          "2025-01-01T00:00:00.000000000",
          "2025-02-01T00:00:00.000000000",
          "2025-03-01T00:00:00.000000000"
         ],
         "xaxis": "x",
         "y": {
          "bdata": "vQ5DGGMahie+Yf9XxDg=",
          "dtype": "i2"
         },
         "yaxis": "y"
        },
        {
         "legendgroup": "AfD",
         "line": {
          "color": "#0056FF",
          "width": 2
         },
         "mode": "lines",
         "name": "AfD",
         "showlegend": false,
         "type": "scatter",
         "x": [
          "2024-09-01T00:00:00.000000000",
          "2024-10-01T00:00:00.000000000",
          "2024-11-01T00:00:00.000000000",
          "2024-12-01T00:00:00.000000000",
          "2025-01-01T00:00:00.000000000",
          "2025-02-01T00:00:00.000000000",
          "2025-03-01T00:00:00.000000000"
         ],
         "xaxis": "x2",
         "y": {
          "bdata": "QdlWABexTsBxVY3JIjxPwEKzQmDcY0fA80KHRbZ6ScC1tsGbPFJFwGKYYYxBiD7A6m76ftbcS8A=",
          "dtype": "f8"
         },
         "yaxis": "y2"
        },
        {
         "legendgroup": "B90/GRÜNE",
         "line": {
          "color": "#1FA12E",
          "width": 2
         },
         "mode": "lines",
         "name": "B90/GRÜNE",
         "showlegend": true,
         "type": "scatter",
         "x": [
          "2024-09-01T00:00:00.000000000",
          "2024-10-01T00:00:00.000000000",
          "2024-11-01T00:00:00.000000000",
          "2024-12-01T00:00:00.000000000",
          "2025-01-01T00:00:00.000000000",
          "2025-02-01T00:00:00.000000000",
          "2025-03-01T00:00:00.000000000"
         ],
         "xaxis": "x",
         "y": {
          "bdata": "RDkAAJw0AAB32gAA008AADiAAAB6mgAAMSMAAA==",
          "dtype": "i4"
         },
         "yaxis": "y"
        },
        {
         "legendgroup": "B90/GRÜNE",
         "line": {
          "color": "#1FA12E",
          "width": 2
         },
         "mode": "lines",
         "name": "B90/GRÜNE",
         "showlegend": false,
         "type": "scatter",
         "x": [
          "2024-09-01T00:00:00.000000000",
          "2024-10-01T00:00:00.000000000",
          "2024-11-01T00:00:00.000000000",
          "2024-12-01T00:00:00.000000000",
          "2025-01-01T00:00:00.000000000",
          "2025-02-01T00:00:00.000000000",
          "2025-03-01T00:00:00.000000000"
         ],
         "xaxis": "x2",
         "y": {
          "bdata": "GI1c43n/UcAdCo3Xy6FQwDWn6f13tk/AA5QjeA5vUMAH8Y/bdylRwBLdUVHDelDA9LQgUSnyUcA=",
          "dtype": "f8"
         },
         "yaxis": "y2"
        },
        {
         "legendgroup": "BSW",
         "line": {
          "color": "#D77AFF",
          "width": 2
         },
         "mode": "lines",
         "name": "BSW",
         "showlegend": true,
         "type": "scatter",
         "x": [
          "2024-09-01T00:00:00.000000000",
          "2024-10-01T00:00:00.000000000",
          "2024-11-01T00:00:00.000000000",
          "2024-12-01T00:00:00.000000000",
          "2025-01-01T00:00:00.000000000",
          "2025-02-01T00:00:00.000000000",
          "2025-03-01T00:00:00.000000000"
         ],
         "xaxis": "x",
         "y": {
          "bdata": "Yg+EDYoKHA9UCmAmARk=",
          "dtype": "i2"
         },
         "yaxis": "y"
        },
        {
         "legendgroup": "BSW",
         "line": {
          "color": "#D77AFF",
          "width": 2
         },
         "mode": "lines",
         "name": "BSW",
         "showlegend": false,
         "type": "scatter",
         "x": [
          "2024-09-01T00:00:00.000000000",
          "2024-10-01T00:00:00.000000000",
          "2024-11-01T00:00:00.000000000",
          "2024-12-01T00:00:00.000000000",
          "2025-01-01T00:00:00.000000000",
          "2025-02-01T00:00:00.000000000",
          "2025-03-01T00:00:00.000000000"
         ],
         "xaxis": "x2",
         "y": {
          "bdata": "EpoPCGLuUMDzTHzcdwtRwINPOarzzE7AR37FOs7jT8BfHzOMvoRQwPjN0/bIRUzAWUNsbVAlUcA=",
          "dtype": "f8"
         },
         "yaxis": "y2"
        },
        {
         "legendgroup": "CDU/CSU",
         "line": {
          "color": "#000000",
          "width": 2
         },
         "mode": "lines",
         "name": "CDU/CSU",
         "showlegend": true,
         "type": "scatter",
         "x": [
          "2024-09-01T00:00:00.000000000",
          "2024-10-01T00:00:00.000000000",
          "2024-11-01T00:00:00.000000000",
          "2024-12-01T00:00:00.000000000",
          "2025-01-01T00:00:00.000000000",
          "2025-02-01T00:00:00.000000000",
          "2025-03-01T00:00:00.000000000"
         ],
         "xaxis": "x",
         "y": {
          "bdata": "hioAAOxNAACLugAAYsMAAP74AACFngAAmKsAAA==",
          "dtype": "i4"
         },
         "yaxis": "y"
        },
        {
         "legendgroup": "CDU/CSU",
         "line": {
          "color": "#000000",
          "width": 2
         },
         "mode": "lines",
         "name": "CDU/CSU",
         "showlegend": false,
         "type": "scatter",
         "x": [
          "2024-09-01T00:00:00.000000000",
          "2024-10-01T00:00:00.000000000",
          "2024-11-01T00:00:00.000000000",
          "2024-12-01T00:00:00.000000000",
          "2025-01-01T00:00:00.000000000",
          "2025-02-01T00:00:00.000000000",
          "2025-03-01T00:00:00.000000000"
         ],
         "xaxis": "x2",
         "y": {
          "bdata": "cQo2wfxWUMCNjIrPD6RRwGAD3suWGlLAS+jLMLECUsBtwwo8s6pQwHH1gZtxO1HAulqCnNFQU8A=",
          "dtype": "f8"
         },
         "yaxis": "y2"
        },
        {
         "legendgroup": "FDP",
         "line": {
          "color": "#FFED00",
          "width": 2
         },
         "mode": "lines",
         "name": "FDP",
         "showlegend": true,
         "type": "scatter",
         "x": [
          "2024-09-01T00:00:00.000000000",
          "2024-10-01T00:00:00.000000000",
          "2024-11-01T00:00:00.000000000",
          "2024-12-01T00:00:00.000000000",
          "2025-01-01T00:00:00.000000000",
          "2025-02-01T00:00:00.000000000",
          "2025-03-01T00:00:00.000000000"
         ],
         "xaxis": "x",
         "y": {
          "bdata": "ThKKJE5YDDBWKdxLyQY=",
          "dtype": "i2"
         },
         "yaxis": "y"
        },
        {
         "legendgroup": "FDP",
         "line": {
          "color": "#FFED00",
          "width": 2
         },
         "mode": "lines",
         "name": "FDP",
         "showlegend": false,
         "type": "scatter",
         "x": [
          "2024-09-01T00:00:00.000000000",
          "2024-10-01T00:00:00.000000000",
          "2024-11-01T00:00:00.000000000",
          "2024-12-01T00:00:00.000000000",
          "2025-01-01T00:00:00.000000000",
          "2025-02-01T00:00:00.000000000",
          "2025-03-01T00:00:00.000000000"
         ],
         "xaxis": "x2",
         "y": {
          "bdata": "6Ijtrqn5TsCkJiYb0O5PwIYGIPYrnVDAZHA+BudjUMBXxHI0TItPwOIVZ0tm9EzAlPstiEQ3ScA=",
          "dtype": "f8"
         },
         "yaxis": "y2"
        },
        {
         "legendgroup": "LINKE",
         "line": {
          "color": "#A3488A",
          "width": 2
         },
         "mode": "lines",
         "name": "LINKE",
         "showlegend": true,
         "type": "scatter",
         "x": [
          "2024-09-01T00:00:00.000000000",
          "2024-10-01T00:00:00.000000000",
          "2024-11-01T00:00:00.000000000",
          "2024-12-01T00:00:00.000000000",
          "2025-01-01T00:00:00.000000000",
          "2025-02-01T00:00:00.000000000",
          "2025-03-01T00:00:00.000000000"
         ],
         "xaxis": "x",
         "y": {
          "bdata": "Rwi9CGIK+AcKDzcz4hY=",
          "dtype": "i2"
         },
         "yaxis": "y"
        },
        {
         "legendgroup": "LINKE",
         "line": {
          "color": "#A3488A",
          "width": 2
         },
         "mode": "lines",
         "name": "LINKE",
         "showlegend": false,
         "type": "scatter",
         "x": [
          "2024-09-01T00:00:00.000000000",
          "2024-10-01T00:00:00.000000000",
          "2024-11-01T00:00:00.000000000",
          "2024-12-01T00:00:00.000000000",
          "2025-01-01T00:00:00.000000000",
          "2025-02-01T00:00:00.000000000",
          "2025-03-01T00:00:00.000000000"
         ],
         "xaxis": "x2",
         "y": {
          "bdata": "BhUeQXOKUMCJJRgxTzxNwGmcFKVXiUzARkZGRkYGTsADe8fUwN5MwOFrbcTsbk3AmtxkXkgEU8A=",
          "dtype": "f8"
         },
         "yaxis": "y2"
        },
        {
         "legendgroup": "SPD",
         "line": {
          "color": "#E3000F",
          "width": 2
         },
         "mode": "lines",
         "name": "SPD",
         "showlegend": true,
         "type": "scatter",
         "x": [
          "2024-09-01T00:00:00.000000000",
          "2024-10-01T00:00:00.000000000",
          "2024-11-01T00:00:00.000000000",
          "2024-12-01T00:00:00.000000000",
          "2025-01-01T00:00:00.000000000",
          "2025-02-01T00:00:00.000000000",
          "2025-03-01T00:00:00.000000000"
         ],
         "xaxis": "x",
         "y": {
          "bdata": "rhXFFhwzZBojPqg8fDE=",
          "dtype": "i2"
         },
         "yaxis": "y"
        },
        {
         "legendgroup": "SPD",
         "line": {
          "color": "#E3000F",
          "width": 2
         },
         "mode": "lines",
         "name": "SPD",
         "showlegend": false,
         "type": "scatter",
         "x": [
          "2024-09-01T00:00:00.000000000",
          "2024-10-01T00:00:00.000000000",
          "2024-11-01T00:00:00.000000000",
          "2024-12-01T00:00:00.000000000",
          "2025-01-01T00:00:00.000000000",
          "2025-02-01T00:00:00.000000000",
          "2025-03-01T00:00:00.000000000"
         ],
         "xaxis": "x2",
         "y": {
          "bdata": "gbhQcxIIUsCleIFMihdQwCPbcLIoSFLAvirWMzrAUcBiuDWSIV5SwMNYIyS2z1HAVE4pnxEaVMA=",
          "dtype": "f8"
         },
         "yaxis": "y2"
        }
       ],
       "layout": {
        "annotations": [
         {
          "font": {
           "size": 16
          },
          "showarrow": false,
          "text": "Monthly Tweet Volume (Random)",
          "x": 0.5,
          "xanchor": "center",
          "xref": "paper",
          "y": 1,
          "yanchor": "bottom",
          "yref": "paper"
         },
         {
          "font": {
           "size": 16
          },
          "showarrow": false,
          "text": "Monthly Stance Development (NSI) – Random",
          "x": 0.5,
          "xanchor": "center",
          "xref": "paper",
          "y": 0.46,
          "yanchor": "bottom",
          "yref": "paper"
         },
         {
          "showarrow": false,
          "text": "Federal Election 2025",
          "x": "2025-02-23T00:00:00",
          "xanchor": "left",
          "xref": "x",
          "y": 1.02,
          "yref": "paper"
         }
        ],
        "height": 800,
        "legend": {
         "title": {
          "text": "Party"
         }
        },
        "margin": {
         "b": 60,
         "l": 60,
         "r": 40,
         "t": 80
        },
        "shapes": [
         {
          "line": {
           "color": "black",
           "dash": "dot"
          },
          "type": "line",
          "x0": "2025-02-23T00:00:00",
          "x1": "2025-02-23T00:00:00",
          "xref": "x",
          "y0": 0,
          "y1": 1,
          "yref": "y domain"
         },
         {
          "line": {
           "color": "black",
           "dash": "dot"
          },
          "type": "line",
          "x0": "2025-02-23T00:00:00",
          "x1": "2025-02-23T00:00:00",
          "xref": "x2",
          "y0": 0,
          "y1": 1,
          "yref": "y2 domain"
         }
        ],
        "template": {
         "data": {
          "bar": [
           {
            "error_x": {
             "color": "#2a3f5f"
            },
            "error_y": {
             "color": "#2a3f5f"
            },
            "marker": {
             "line": {
              "color": "#E5ECF6",
              "width": 0.5
             },
             "pattern": {
              "fillmode": "overlay",
              "size": 10,
              "solidity": 0.2
             }
            },
            "type": "bar"
           }
          ],
          "barpolar": [
           {
            "marker": {
             "line": {
              "color": "#E5ECF6",
              "width": 0.5
             },
             "pattern": {
              "fillmode": "overlay",
              "size": 10,
              "solidity": 0.2
             }
            },
            "type": "barpolar"
           }
          ],
          "carpet": [
           {
            "aaxis": {
             "endlinecolor": "#2a3f5f",
             "gridcolor": "white",
             "linecolor": "white",
             "minorgridcolor": "white",
             "startlinecolor": "#2a3f5f"
            },
            "baxis": {
             "endlinecolor": "#2a3f5f",
             "gridcolor": "white",
             "linecolor": "white",
             "minorgridcolor": "white",
             "startlinecolor": "#2a3f5f"
            },
            "type": "carpet"
           }
          ],
          "choropleth": [
           {
            "colorbar": {
             "outlinewidth": 0,
             "ticks": ""
            },
            "type": "choropleth"
           }
          ],
          "contour": [
           {
            "colorbar": {
             "outlinewidth": 0,
             "ticks": ""
            },
            "colorscale": [
             [
              0,
              "#0d0887"
             ],
             [
              0.1111111111111111,
              "#46039f"
             ],
             [
              0.2222222222222222,
              "#7201a8"
             ],
             [
              0.3333333333333333,
              "#9c179e"
             ],
             [
              0.4444444444444444,
              "#bd3786"
             ],
             [
              0.5555555555555556,
              "#d8576b"
             ],
             [
              0.6666666666666666,
              "#ed7953"
             ],
             [
              0.7777777777777778,
              "#fb9f3a"
             ],
             [
              0.8888888888888888,
              "#fdca26"
             ],
             [
              1,
              "#f0f921"
             ]
            ],
            "type": "contour"
           }
          ],
          "contourcarpet": [
           {
            "colorbar": {
             "outlinewidth": 0,
             "ticks": ""
            },
            "type": "contourcarpet"
           }
          ],
          "heatmap": [
           {
            "colorbar": {
             "outlinewidth": 0,
             "ticks": ""
            },
            "colorscale": [
             [
              0,
              "#0d0887"
             ],
             [
              0.1111111111111111,
              "#46039f"
             ],
             [
              0.2222222222222222,
              "#7201a8"
             ],
             [
              0.3333333333333333,
              "#9c179e"
             ],
             [
              0.4444444444444444,
              "#bd3786"
             ],
             [
              0.5555555555555556,
              "#d8576b"
             ],
             [
              0.6666666666666666,
              "#ed7953"
             ],
             [
              0.7777777777777778,
              "#fb9f3a"
             ],
             [
              0.8888888888888888,
              "#fdca26"
             ],
             [
              1,
              "#f0f921"
             ]
            ],
            "type": "heatmap"
           }
          ],
          "histogram": [
           {
            "marker": {
             "pattern": {
              "fillmode": "overlay",
              "size": 10,
              "solidity": 0.2
             }
            },
            "type": "histogram"
           }
          ],
          "histogram2d": [
           {
            "colorbar": {
             "outlinewidth": 0,
             "ticks": ""
            },
            "colorscale": [
             [
              0,
              "#0d0887"
             ],
             [
              0.1111111111111111,
              "#46039f"
             ],
             [
              0.2222222222222222,
              "#7201a8"
             ],
             [
              0.3333333333333333,
              "#9c179e"
             ],
             [
              0.4444444444444444,
              "#bd3786"
             ],
             [
              0.5555555555555556,
              "#d8576b"
             ],
             [
              0.6666666666666666,
              "#ed7953"
             ],
             [
              0.7777777777777778,
              "#fb9f3a"
             ],
             [
              0.8888888888888888,
              "#fdca26"
             ],
             [
              1,
              "#f0f921"
             ]
            ],
            "type": "histogram2d"
           }
          ],
          "histogram2dcontour": [
           {
            "colorbar": {
             "outlinewidth": 0,
             "ticks": ""
            },
            "colorscale": [
             [
              0,
              "#0d0887"
             ],
             [
              0.1111111111111111,
              "#46039f"
             ],
             [
              0.2222222222222222,
              "#7201a8"
             ],
             [
              0.3333333333333333,
              "#9c179e"
             ],
             [
              0.4444444444444444,
              "#bd3786"
             ],
             [
              0.5555555555555556,
              "#d8576b"
             ],
             [
              0.6666666666666666,
              "#ed7953"
             ],
             [
              0.7777777777777778,
              "#fb9f3a"
             ],
             [
              0.8888888888888888,
              "#fdca26"
             ],
             [
              1,
              "#f0f921"
             ]
            ],
            "type": "histogram2dcontour"
           }
          ],
          "mesh3d": [
           {
            "colorbar": {
             "outlinewidth": 0,
             "ticks": ""
            },
            "type": "mesh3d"
           }
          ],
          "parcoords": [
           {
            "line": {
             "colorbar": {
              "outlinewidth": 0,
              "ticks": ""
             }
            },
            "type": "parcoords"
           }
          ],
          "pie": [
           {
            "automargin": true,
            "type": "pie"
           }
          ],
          "scatter": [
           {
            "fillpattern": {
             "fillmode": "overlay",
             "size": 10,
             "solidity": 0.2
            },
            "type": "scatter"
           }
          ],
          "scatter3d": [
           {
            "line": {
             "colorbar": {
              "outlinewidth": 0,
              "ticks": ""
             }
            },
            "marker": {
             "colorbar": {
              "outlinewidth": 0,
              "ticks": ""
             }
            },
            "type": "scatter3d"
           }
          ],
          "scattercarpet": [
           {
            "marker": {
             "colorbar": {
              "outlinewidth": 0,
              "ticks": ""
             }
            },
            "type": "scattercarpet"
           }
          ],
          "scattergeo": [
           {
            "marker": {
             "colorbar": {
              "outlinewidth": 0,
              "ticks": ""
             }
            },
            "type": "scattergeo"
           }
          ],
          "scattergl": [
           {
            "marker": {
             "colorbar": {
              "outlinewidth": 0,
              "ticks": ""
             }
            },
            "type": "scattergl"
           }
          ],
          "scattermap": [
           {
            "marker": {
             "colorbar": {
              "outlinewidth": 0,
              "ticks": ""
             }
            },
            "type": "scattermap"
           }
          ],
          "scattermapbox": [
           {
            "marker": {
             "colorbar": {
              "outlinewidth": 0,
              "ticks": ""
             }
            },
            "type": "scattermapbox"
           }
          ],
          "scatterpolar": [
           {
            "marker": {
             "colorbar": {
              "outlinewidth": 0,
              "ticks": ""
             }
            },
            "type": "scatterpolar"
           }
          ],
          "scatterpolargl": [
           {
            "marker": {
             "colorbar": {
              "outlinewidth": 0,
              "ticks": ""
             }
            },
            "type": "scatterpolargl"
           }
          ],
          "scatterternary": [
           {
            "marker": {
             "colorbar": {
              "outlinewidth": 0,
              "ticks": ""
             }
            },
            "type": "scatterternary"
           }
          ],
          "surface": [
           {
            "colorbar": {
             "outlinewidth": 0,
             "ticks": ""
            },
            "colorscale": [
             [
              0,
              "#0d0887"
             ],
             [
              0.1111111111111111,
              "#46039f"
             ],
             [
              0.2222222222222222,
              "#7201a8"
             ],
             [
              0.3333333333333333,
              "#9c179e"
             ],
             [
              0.4444444444444444,
              "#bd3786"
             ],
             [
              0.5555555555555556,
              "#d8576b"
             ],
             [
              0.6666666666666666,
              "#ed7953"
             ],
             [
              0.7777777777777778,
              "#fb9f3a"
             ],
             [
              0.8888888888888888,
              "#fdca26"
             ],
             [
              1,
              "#f0f921"
             ]
            ],
            "type": "surface"
           }
          ],
          "table": [
           {
            "cells": {
             "fill": {
              "color": "#EBF0F8"
             },
             "line": {
              "color": "white"
             }
            },
            "header": {
             "fill": {
              "color": "#C8D4E3"
             },
             "line": {
              "color": "white"
             }
            },
            "type": "table"
           }
          ]
         },
         "layout": {
          "annotationdefaults": {
           "arrowcolor": "#2a3f5f",
           "arrowhead": 0,
           "arrowwidth": 1
          },
          "autotypenumbers": "strict",
          "coloraxis": {
           "colorbar": {
            "outlinewidth": 0,
            "ticks": ""
           }
          },
          "colorscale": {
           "diverging": [
            [
             0,
             "#8e0152"
            ],
            [
             0.1,
             "#c51b7d"
            ],
            [
             0.2,
             "#de77ae"
            ],
            [
             0.3,
             "#f1b6da"
            ],
            [
             0.4,
             "#fde0ef"
            ],
            [
             0.5,
             "#f7f7f7"
            ],
            [
             0.6,
             "#e6f5d0"
            ],
            [
             0.7,
             "#b8e186"
            ],
            [
             0.8,
             "#7fbc41"
            ],
            [
             0.9,
             "#4d9221"
            ],
            [
             1,
             "#276419"
            ]
           ],
           "sequential": [
            [
             0,
             "#0d0887"
            ],
            [
             0.1111111111111111,
             "#46039f"
            ],
            [
             0.2222222222222222,
             "#7201a8"
            ],
            [
             0.3333333333333333,
             "#9c179e"
            ],
            [
             0.4444444444444444,
             "#bd3786"
            ],
            [
             0.5555555555555556,
             "#d8576b"
            ],
            [
             0.6666666666666666,
             "#ed7953"
            ],
            [
             0.7777777777777778,
             "#fb9f3a"
            ],
            [
             0.8888888888888888,
             "#fdca26"
            ],
            [
             1,
             "#f0f921"
            ]
           ],
           "sequentialminus": [
            [
             0,
             "#0d0887"
            ],
            [
             0.1111111111111111,
             "#46039f"
            ],
            [
             0.2222222222222222,
             "#7201a8"
            ],
            [
             0.3333333333333333,
             "#9c179e"
            ],
            [
             0.4444444444444444,
             "#bd3786"
            ],
            [
             0.5555555555555556,
             "#d8576b"
            ],
            [
             0.6666666666666666,
             "#ed7953"
            ],
            [
             0.7777777777777778,
             "#fb9f3a"
            ],
            [
             0.8888888888888888,
             "#fdca26"
            ],
            [
             1,
             "#f0f921"
            ]
           ]
          },
          "colorway": [
           "#636efa",
           "#EF553B",
           "#00cc96",
           "#ab63fa",
           "#FFA15A",
           "#19d3f3",
           "#FF6692",
           "#B6E880",
           "#FF97FF",
           "#FECB52"
          ],
          "font": {
           "color": "#2a3f5f"
          },
          "geo": {
           "bgcolor": "white",
           "lakecolor": "white",
           "landcolor": "#E5ECF6",
           "showlakes": true,
           "showland": true,
           "subunitcolor": "white"
          },
          "hoverlabel": {
           "align": "left"
          },
          "hovermode": "closest",
          "mapbox": {
           "style": "light"
          },
          "paper_bgcolor": "white",
          "plot_bgcolor": "#E5ECF6",
          "polar": {
           "angularaxis": {
            "gridcolor": "white",
            "linecolor": "white",
            "ticks": ""
           },
           "bgcolor": "#E5ECF6",
           "radialaxis": {
            "gridcolor": "white",
            "linecolor": "white",
            "ticks": ""
           }
          },
          "scene": {
           "xaxis": {
            "backgroundcolor": "#E5ECF6",
            "gridcolor": "white",
            "gridwidth": 2,
            "linecolor": "white",
            "showbackground": true,
            "ticks": "",
            "zerolinecolor": "white"
           },
           "yaxis": {
            "backgroundcolor": "#E5ECF6",
            "gridcolor": "white",
            "gridwidth": 2,
            "linecolor": "white",
            "showbackground": true,
            "ticks": "",
            "zerolinecolor": "white"
           },
           "zaxis": {
            "backgroundcolor": "#E5ECF6",
            "gridcolor": "white",
            "gridwidth": 2,
            "linecolor": "white",
            "showbackground": true,
            "ticks": "",
            "zerolinecolor": "white"
           }
          },
          "shapedefaults": {
           "line": {
            "color": "#2a3f5f"
           }
          },
          "ternary": {
           "aaxis": {
            "gridcolor": "white",
            "linecolor": "white",
            "ticks": ""
           },
           "baxis": {
            "gridcolor": "white",
            "linecolor": "white",
            "ticks": ""
           },
           "bgcolor": "#E5ECF6",
           "caxis": {
            "gridcolor": "white",
            "linecolor": "white",
            "ticks": ""
           }
          },
          "title": {
           "x": 0.05
          },
          "xaxis": {
           "automargin": true,
           "gridcolor": "white",
           "linecolor": "white",
           "ticks": "",
           "title": {
            "standoff": 15
           },
           "zerolinecolor": "white",
           "zerolinewidth": 2
          },
          "yaxis": {
           "automargin": true,
           "gridcolor": "white",
           "linecolor": "white",
           "ticks": "",
           "title": {
            "standoff": 15
           },
           "zerolinecolor": "white",
           "zerolinewidth": 2
          }
         }
        },
        "width": 1100,
        "xaxis": {
         "anchor": "y",
         "domain": [
          0,
          1
         ],
         "dtick": "M1",
         "matches": "x2",
         "range": [
          "2024-09-01T00:00:00",
          "2025-03-01T00:00:00"
         ],
         "showticklabels": false,
         "tickformat": "%b\n%Y"
        },
        "xaxis2": {
         "anchor": "y2",
         "domain": [
          0,
          1
         ],
         "dtick": "M1",
         "range": [
          "2024-09-01T00:00:00",
          "2025-03-01T00:00:00"
         ],
         "tickformat": "%b\n%Y"
        },
        "yaxis": {
         "anchor": "x",
         "domain": [
          0.54,
          1
         ],
         "title": {
          "text": "Tweets"
         }
        },
        "yaxis2": {
         "anchor": "x2",
         "domain": [
          0,
          0.46
         ],
         "title": {
          "text": "Net Stance Index (NSI)"
         }
        }
       }
      }
     },
     "metadata": {},
     "output_type": "display_data"
    },
    {
     "name": "stderr",
     "output_type": "stream",
     "text": [
      "C:\\Users\\Admin\\AppData\\Local\\Temp\\ipykernel_23948\\156088882.py:20: UserWarning:\n",
      "\n",
      "Converting to PeriodArray/Index representation will drop timezone information.\n",
      "\n"
     ]
    },
    {
     "data": {
      "application/vnd.plotly.v1+json": {
       "config": {
        "plotlyServerURL": "https://plot.ly"
       },
       "data": [
        {
         "legendgroup": "AfD",
         "line": {
          "color": "#0056FF",
          "width": 2
         },
         "mode": "lines",
         "name": "AfD",
         "showlegend": true,
         "type": "scatter",
         "x": [
          "2024-09-01T00:00:00.000000000",
          "2024-10-01T00:00:00.000000000",
          "2024-11-01T00:00:00.000000000",
          "2024-12-01T00:00:00.000000000",
          "2025-01-01T00:00:00.000000000",
          "2025-02-01T00:00:00.000000000",
          "2025-03-01T00:00:00.000000000"
         ],
         "xaxis": "x",
         "y": {
          "bdata": "MhmvEGkYCyhFSy9CyCI=",
          "dtype": "i2"
         },
         "yaxis": "y"
        },
        {
         "legendgroup": "AfD",
         "line": {
          "color": "#0056FF",
          "width": 2
         },
         "mode": "lines",
         "name": "AfD",
         "showlegend": false,
         "type": "scatter",
         "x": [
          "2024-09-01T00:00:00.000000000",
          "2024-10-01T00:00:00.000000000",
          "2024-11-01T00:00:00.000000000",
          "2024-12-01T00:00:00.000000000",
          "2025-01-01T00:00:00.000000000",
          "2025-02-01T00:00:00.000000000",
          "2025-03-01T00:00:00.000000000"
         ],
         "xaxis": "x2",
         "y": {
          "bdata": "DnlD3pA3SsC4AEy0wN9LwKS/qvi6TEfARWH7ysCISMAtptQytpZIwG7nxQp5WybAdQAu+PHEScA=",
          "dtype": "f8"
         },
         "yaxis": "y2"
        },
        {
         "legendgroup": "B90/GRÜNE",
         "line": {
          "color": "#1FA12E",
          "width": 2
         },
         "mode": "lines",
         "name": "B90/GRÜNE",
         "showlegend": true,
         "type": "scatter",
         "x": [
          "2024-09-01T00:00:00.000000000",
          "2024-10-01T00:00:00.000000000",
          "2024-11-01T00:00:00.000000000",
          "2024-12-01T00:00:00.000000000",
          "2025-01-01T00:00:00.000000000",
          "2025-02-01T00:00:00.000000000",
          "2025-03-01T00:00:00.000000000"
         ],
         "xaxis": "x",
         "y": {
          "bdata": "fSAPIVRLAjhoP0lBeiM=",
          "dtype": "i2"
         },
         "yaxis": "y"
        },
        {
         "legendgroup": "B90/GRÜNE",
         "line": {
          "color": "#1FA12E",
          "width": 2
         },
         "mode": "lines",
         "name": "B90/GRÜNE",
         "showlegend": false,
         "type": "scatter",
         "x": [
          "2024-09-01T00:00:00.000000000",
          "2024-10-01T00:00:00.000000000",
          "2024-11-01T00:00:00.000000000",
          "2024-12-01T00:00:00.000000000",
          "2025-01-01T00:00:00.000000000",
          "2025-02-01T00:00:00.000000000",
          "2025-03-01T00:00:00.000000000"
         ],
         "xaxis": "x2",
         "y": {
          "bdata": "dUhmKetIUsA3Ql27Up9QwPr81IEnOE7AbQ5sLuwqUcD+oJQ+UBRQwEfuXOVyG1DAh3BEat9pUcA=",
          "dtype": "f8"
         },
         "yaxis": "y2"
        },
        {
         "legendgroup": "BSW",
         "line": {
          "color": "#D77AFF",
          "width": 2
         },
         "mode": "lines",
         "name": "BSW",
         "showlegend": true,
         "type": "scatter",
         "x": [
          "2024-09-01T00:00:00.000000000",
          "2024-10-01T00:00:00.000000000",
          "2024-11-01T00:00:00.000000000",
          "2024-12-01T00:00:00.000000000",
          "2025-01-01T00:00:00.000000000",
          "2025-02-01T00:00:00.000000000",
          "2025-03-01T00:00:00.000000000"
         ],
         "xaxis": "x",
         "y": {
          "bdata": "ShJLC0wIngSYDSwMNAU=",
          "dtype": "i2"
         },
         "yaxis": "y"
        },
        {
         "legendgroup": "BSW",
         "line": {
          "color": "#D77AFF",
          "width": 2
         },
         "mode": "lines",
         "name": "BSW",
         "showlegend": false,
         "type": "scatter",
         "x": [
          "2024-09-01T00:00:00.000000000",
          "2024-10-01T00:00:00.000000000",
          "2024-11-01T00:00:00.000000000",
          "2024-12-01T00:00:00.000000000",
          "2025-01-01T00:00:00.000000000",
          "2025-02-01T00:00:00.000000000",
          "2025-03-01T00:00:00.000000000"
         ],
         "xaxis": "x2",
         "y": {
          "bdata": "2spthKHfTsB7AizN+RFRwMMuxd18r0/AW3KIq0wBUcDiBTIpXsBRwA3Ox+B8DEzAKPyYnX9CRsA=",
          "dtype": "f8"
         },
         "yaxis": "y2"
        },
        {
         "legendgroup": "CDU/CSU",
         "line": {
          "color": "#000000",
          "width": 2
         },
         "mode": "lines",
         "name": "CDU/CSU",
         "showlegend": true,
         "type": "scatter",
         "x": [
          "2024-09-01T00:00:00.000000000",
          "2024-10-01T00:00:00.000000000",
          "2024-11-01T00:00:00.000000000",
          "2024-12-01T00:00:00.000000000",
          "2025-01-01T00:00:00.000000000",
          "2025-02-01T00:00:00.000000000",
          "2025-03-01T00:00:00.000000000"
         ],
         "xaxis": "x",
         "y": {
          "bdata": "qFMAAKYUAAChVQAAVEgAAEPlAACJggAAf0sAAA==",
          "dtype": "i4"
         },
         "yaxis": "y"
        },
        {
         "legendgroup": "CDU/CSU",
         "line": {
          "color": "#000000",
          "width": 2
         },
         "mode": "lines",
         "name": "CDU/CSU",
         "showlegend": false,
         "type": "scatter",
         "x": [
          "2024-09-01T00:00:00.000000000",
          "2024-10-01T00:00:00.000000000",
          "2024-11-01T00:00:00.000000000",
          "2024-12-01T00:00:00.000000000",
          "2025-01-01T00:00:00.000000000",
          "2025-02-01T00:00:00.000000000",
          "2025-03-01T00:00:00.000000000"
         ],
         "xaxis": "x2",
         "y": {
          "bdata": "9pkewKssUsBefJSRO2NQwHkUx8lCCVHARtCigMJ3UsDABmeUc6pRwA2HS1XyN1DAFFnFswTjUsA=",
          "dtype": "f8"
         },
         "yaxis": "y2"
        },
        {
         "legendgroup": "FDP",
         "line": {
          "color": "#FFED00",
          "width": 2
         },
         "mode": "lines",
         "name": "FDP",
         "showlegend": true,
         "type": "scatter",
         "x": [
          "2024-09-01T00:00:00.000000000",
          "2024-10-01T00:00:00.000000000",
          "2024-11-01T00:00:00.000000000",
          "2024-12-01T00:00:00.000000000",
          "2025-01-01T00:00:00.000000000",
          "2025-02-01T00:00:00.000000000",
          "2025-03-01T00:00:00.000000000"
         ],
         "xaxis": "x",
         "y": {
          "bdata": "USOQCdhFBSSvGUsvnAU=",
          "dtype": "i2"
         },
         "yaxis": "y"
        },
        {
         "legendgroup": "FDP",
         "line": {
          "color": "#FFED00",
          "width": 2
         },
         "mode": "lines",
         "name": "FDP",
         "showlegend": false,
         "type": "scatter",
         "x": [
          "2024-09-01T00:00:00.000000000",
          "2024-10-01T00:00:00.000000000",
          "2024-11-01T00:00:00.000000000",
          "2024-12-01T00:00:00.000000000",
          "2025-01-01T00:00:00.000000000",
          "2025-02-01T00:00:00.000000000",
          "2025-03-01T00:00:00.000000000"
         ],
         "xaxis": "x2",
         "y": {
          "bdata": "yr5OMyy3UMCU6D2T6J1OwNj6NmCoJk7A6gG/oHrzTsDT4Sj6SaxQwKv0R/8lEUvAU5RQme+QUcA=",
          "dtype": "f8"
         },
         "yaxis": "y2"
        },
        {
         "legendgroup": "LINKE",
         "line": {
          "color": "#A3488A",
          "width": 2
         },
         "mode": "lines",
         "name": "LINKE",
         "showlegend": true,
         "type": "scatter",
         "x": [
          "2024-09-01T00:00:00.000000000",
          "2024-10-01T00:00:00.000000000",
          "2024-11-01T00:00:00.000000000",
          "2024-12-01T00:00:00.000000000",
          "2025-01-01T00:00:00.000000000",
          "2025-02-01T00:00:00.000000000",
          "2025-03-01T00:00:00.000000000"
         ],
         "xaxis": "x",
         "y": {
          "bdata": "FgpSBQMD8QCUB6sS3hk=",
          "dtype": "i2"
         },
         "yaxis": "y"
        },
        {
         "legendgroup": "LINKE",
         "line": {
          "color": "#A3488A",
          "width": 2
         },
         "mode": "lines",
         "name": "LINKE",
         "showlegend": false,
         "type": "scatter",
         "x": [
          "2024-09-01T00:00:00.000000000",
          "2024-10-01T00:00:00.000000000",
          "2024-11-01T00:00:00.000000000",
          "2024-12-01T00:00:00.000000000",
          "2025-01-01T00:00:00.000000000",
          "2025-02-01T00:00:00.000000000",
          "2025-03-01T00:00:00.000000000"
         ],
         "xaxis": "x2",
         "y": {
          "bdata": "RuDfJWOkT8C6KakOsQFSwK39rP2s/VDA0Pwy0PwyRsAN283yJPJQwEXWINFA0knAd5c339foUMA=",
          "dtype": "f8"
         },
         "yaxis": "y2"
        },
        {
         "legendgroup": "SPD",
         "line": {
          "color": "#E3000F",
          "width": 2
         },
         "mode": "lines",
         "name": "SPD",
         "showlegend": true,
         "type": "scatter",
         "x": [
          "2024-09-01T00:00:00.000000000",
          "2024-10-01T00:00:00.000000000",
          "2024-11-01T00:00:00.000000000",
          "2024-12-01T00:00:00.000000000",
          "2025-01-01T00:00:00.000000000",
          "2025-02-01T00:00:00.000000000",
          "2025-03-01T00:00:00.000000000"
         ],
         "xaxis": "x",
         "y": {
          "bdata": "DyD3C2kx8xmHJgYiEhQ=",
          "dtype": "i2"
         },
         "yaxis": "y"
        },
        {
         "legendgroup": "SPD",
         "line": {
          "color": "#E3000F",
          "width": 2
         },
         "mode": "lines",
         "name": "SPD",
         "showlegend": false,
         "type": "scatter",
         "x": [
          "2024-09-01T00:00:00.000000000",
          "2024-10-01T00:00:00.000000000",
          "2024-11-01T00:00:00.000000000",
          "2024-12-01T00:00:00.000000000",
          "2025-01-01T00:00:00.000000000",
          "2025-02-01T00:00:00.000000000",
          "2025-03-01T00:00:00.000000000"
         ],
         "xaxis": "x2",
         "y": {
          "bdata": "sEMa6mFzUsAK8SRqxpZRwDaKWw2MOFPAqBR43H1KU8AChsOVWjJUwCckM94U31DAQGM8EkGbUsA=",
          "dtype": "f8"
         },
         "yaxis": "y2"
        }
       ],
       "layout": {
        "annotations": [
         {
          "font": {
           "size": 16
          },
          "showarrow": false,
          "text": "Monthly Tweet Volume (Augmentation)",
          "x": 0.5,
          "xanchor": "center",
          "xref": "paper",
          "y": 1,
          "yanchor": "bottom",
          "yref": "paper"
         },
         {
          "font": {
           "size": 16
          },
          "showarrow": false,
          "text": "Monthly Stance Development (NSI) – Augmentation",
          "x": 0.5,
          "xanchor": "center",
          "xref": "paper",
          "y": 0.46,
          "yanchor": "bottom",
          "yref": "paper"
         },
         {
          "showarrow": false,
          "text": "Federal Election 2025",
          "x": "2025-02-23T00:00:00",
          "xanchor": "left",
          "xref": "x",
          "y": 1.02,
          "yref": "paper"
         }
        ],
        "height": 800,
        "legend": {
         "title": {
          "text": "Party"
         }
        },
        "margin": {
         "b": 60,
         "l": 60,
         "r": 40,
         "t": 80
        },
        "shapes": [
         {
          "line": {
           "color": "black",
           "dash": "dot"
          },
          "type": "line",
          "x0": "2025-02-23T00:00:00",
          "x1": "2025-02-23T00:00:00",
          "xref": "x",
          "y0": 0,
          "y1": 1,
          "yref": "y domain"
         },
         {
          "line": {
           "color": "black",
           "dash": "dot"
          },
          "type": "line",
          "x0": "2025-02-23T00:00:00",
          "x1": "2025-02-23T00:00:00",
          "xref": "x2",
          "y0": 0,
          "y1": 1,
          "yref": "y2 domain"
         }
        ],
        "template": {
         "data": {
          "bar": [
           {
            "error_x": {
             "color": "#2a3f5f"
            },
            "error_y": {
             "color": "#2a3f5f"
            },
            "marker": {
             "line": {
              "color": "#E5ECF6",
              "width": 0.5
             },
             "pattern": {
              "fillmode": "overlay",
              "size": 10,
              "solidity": 0.2
             }
            },
            "type": "bar"
           }
          ],
          "barpolar": [
           {
            "marker": {
             "line": {
              "color": "#E5ECF6",
              "width": 0.5
             },
             "pattern": {
              "fillmode": "overlay",
              "size": 10,
              "solidity": 0.2
             }
            },
            "type": "barpolar"
           }
          ],
          "carpet": [
           {
            "aaxis": {
             "endlinecolor": "#2a3f5f",
             "gridcolor": "white",
             "linecolor": "white",
             "minorgridcolor": "white",
             "startlinecolor": "#2a3f5f"
            },
            "baxis": {
             "endlinecolor": "#2a3f5f",
             "gridcolor": "white",
             "linecolor": "white",
             "minorgridcolor": "white",
             "startlinecolor": "#2a3f5f"
            },
            "type": "carpet"
           }
          ],
          "choropleth": [
           {
            "colorbar": {
             "outlinewidth": 0,
             "ticks": ""
            },
            "type": "choropleth"
           }
          ],
          "contour": [
           {
            "colorbar": {
             "outlinewidth": 0,
             "ticks": ""
            },
            "colorscale": [
             [
              0,
              "#0d0887"
             ],
             [
              0.1111111111111111,
              "#46039f"
             ],
             [
              0.2222222222222222,
              "#7201a8"
             ],
             [
              0.3333333333333333,
              "#9c179e"
             ],
             [
              0.4444444444444444,
              "#bd3786"
             ],
             [
              0.5555555555555556,
              "#d8576b"
             ],
             [
              0.6666666666666666,
              "#ed7953"
             ],
             [
              0.7777777777777778,
              "#fb9f3a"
             ],
             [
              0.8888888888888888,
              "#fdca26"
             ],
             [
              1,
              "#f0f921"
             ]
            ],
            "type": "contour"
           }
          ],
          "contourcarpet": [
           {
            "colorbar": {
             "outlinewidth": 0,
             "ticks": ""
            },
            "type": "contourcarpet"
           }
          ],
          "heatmap": [
           {
            "colorbar": {
             "outlinewidth": 0,
             "ticks": ""
            },
            "colorscale": [
             [
              0,
              "#0d0887"
             ],
             [
              0.1111111111111111,
              "#46039f"
             ],
             [
              0.2222222222222222,
              "#7201a8"
             ],
             [
              0.3333333333333333,
              "#9c179e"
             ],
             [
              0.4444444444444444,
              "#bd3786"
             ],
             [
              0.5555555555555556,
              "#d8576b"
             ],
             [
              0.6666666666666666,
              "#ed7953"
             ],
             [
              0.7777777777777778,
              "#fb9f3a"
             ],
             [
              0.8888888888888888,
              "#fdca26"
             ],
             [
              1,
              "#f0f921"
             ]
            ],
            "type": "heatmap"
           }
          ],
          "histogram": [
           {
            "marker": {
             "pattern": {
              "fillmode": "overlay",
              "size": 10,
              "solidity": 0.2
             }
            },
            "type": "histogram"
           }
          ],
          "histogram2d": [
           {
            "colorbar": {
             "outlinewidth": 0,
             "ticks": ""
            },
            "colorscale": [
             [
              0,
              "#0d0887"
             ],
             [
              0.1111111111111111,
              "#46039f"
             ],
             [
              0.2222222222222222,
              "#7201a8"
             ],
             [
              0.3333333333333333,
              "#9c179e"
             ],
             [
              0.4444444444444444,
              "#bd3786"
             ],
             [
              0.5555555555555556,
              "#d8576b"
             ],
             [
              0.6666666666666666,
              "#ed7953"
             ],
             [
              0.7777777777777778,
              "#fb9f3a"
             ],
             [
              0.8888888888888888,
              "#fdca26"
             ],
             [
              1,
              "#f0f921"
             ]
            ],
            "type": "histogram2d"
           }
          ],
          "histogram2dcontour": [
           {
            "colorbar": {
             "outlinewidth": 0,
             "ticks": ""
            },
            "colorscale": [
             [
              0,
              "#0d0887"
             ],
             [
              0.1111111111111111,
              "#46039f"
             ],
             [
              0.2222222222222222,
              "#7201a8"
             ],
             [
              0.3333333333333333,
              "#9c179e"
             ],
             [
              0.4444444444444444,
              "#bd3786"
             ],
             [
              0.5555555555555556,
              "#d8576b"
             ],
             [
              0.6666666666666666,
              "#ed7953"
             ],
             [
              0.7777777777777778,
              "#fb9f3a"
             ],
             [
              0.8888888888888888,
              "#fdca26"
             ],
             [
              1,
              "#f0f921"
             ]
            ],
            "type": "histogram2dcontour"
           }
          ],
          "mesh3d": [
           {
            "colorbar": {
             "outlinewidth": 0,
             "ticks": ""
            },
            "type": "mesh3d"
           }
          ],
          "parcoords": [
           {
            "line": {
             "colorbar": {
              "outlinewidth": 0,
              "ticks": ""
             }
            },
            "type": "parcoords"
           }
          ],
          "pie": [
           {
            "automargin": true,
            "type": "pie"
           }
          ],
          "scatter": [
           {
            "fillpattern": {
             "fillmode": "overlay",
             "size": 10,
             "solidity": 0.2
            },
            "type": "scatter"
           }
          ],
          "scatter3d": [
           {
            "line": {
             "colorbar": {
              "outlinewidth": 0,
              "ticks": ""
             }
            },
            "marker": {
             "colorbar": {
              "outlinewidth": 0,
              "ticks": ""
             }
            },
            "type": "scatter3d"
           }
          ],
          "scattercarpet": [
           {
            "marker": {
             "colorbar": {
              "outlinewidth": 0,
              "ticks": ""
             }
            },
            "type": "scattercarpet"
           }
          ],
          "scattergeo": [
           {
            "marker": {
             "colorbar": {
              "outlinewidth": 0,
              "ticks": ""
             }
            },
            "type": "scattergeo"
           }
          ],
          "scattergl": [
           {
            "marker": {
             "colorbar": {
              "outlinewidth": 0,
              "ticks": ""
             }
            },
            "type": "scattergl"
           }
          ],
          "scattermap": [
           {
            "marker": {
             "colorbar": {
              "outlinewidth": 0,
              "ticks": ""
             }
            },
            "type": "scattermap"
           }
          ],
          "scattermapbox": [
           {
            "marker": {
             "colorbar": {
              "outlinewidth": 0,
              "ticks": ""
             }
            },
            "type": "scattermapbox"
           }
          ],
          "scatterpolar": [
           {
            "marker": {
             "colorbar": {
              "outlinewidth": 0,
              "ticks": ""
             }
            },
            "type": "scatterpolar"
           }
          ],
          "scatterpolargl": [
           {
            "marker": {
             "colorbar": {
              "outlinewidth": 0,
              "ticks": ""
             }
            },
            "type": "scatterpolargl"
           }
          ],
          "scatterternary": [
           {
            "marker": {
             "colorbar": {
              "outlinewidth": 0,
              "ticks": ""
             }
            },
            "type": "scatterternary"
           }
          ],
          "surface": [
           {
            "colorbar": {
             "outlinewidth": 0,
             "ticks": ""
            },
            "colorscale": [
             [
              0,
              "#0d0887"
             ],
             [
              0.1111111111111111,
              "#46039f"
             ],
             [
              0.2222222222222222,
              "#7201a8"
             ],
             [
              0.3333333333333333,
              "#9c179e"
             ],
             [
              0.4444444444444444,
              "#bd3786"
             ],
             [
              0.5555555555555556,
              "#d8576b"
             ],
             [
              0.6666666666666666,
              "#ed7953"
             ],
             [
              0.7777777777777778,
              "#fb9f3a"
             ],
             [
              0.8888888888888888,
              "#fdca26"
             ],
             [
              1,
              "#f0f921"
             ]
            ],
            "type": "surface"
           }
          ],
          "table": [
           {
            "cells": {
             "fill": {
              "color": "#EBF0F8"
             },
             "line": {
              "color": "white"
             }
            },
            "header": {
             "fill": {
              "color": "#C8D4E3"
             },
             "line": {
              "color": "white"
             }
            },
            "type": "table"
           }
          ]
         },
         "layout": {
          "annotationdefaults": {
           "arrowcolor": "#2a3f5f",
           "arrowhead": 0,
           "arrowwidth": 1
          },
          "autotypenumbers": "strict",
          "coloraxis": {
           "colorbar": {
            "outlinewidth": 0,
            "ticks": ""
           }
          },
          "colorscale": {
           "diverging": [
            [
             0,
             "#8e0152"
            ],
            [
             0.1,
             "#c51b7d"
            ],
            [
             0.2,
             "#de77ae"
            ],
            [
             0.3,
             "#f1b6da"
            ],
            [
             0.4,
             "#fde0ef"
            ],
            [
             0.5,
             "#f7f7f7"
            ],
            [
             0.6,
             "#e6f5d0"
            ],
            [
             0.7,
             "#b8e186"
            ],
            [
             0.8,
             "#7fbc41"
            ],
            [
             0.9,
             "#4d9221"
            ],
            [
             1,
             "#276419"
            ]
           ],
           "sequential": [
            [
             0,
             "#0d0887"
            ],
            [
             0.1111111111111111,
             "#46039f"
            ],
            [
             0.2222222222222222,
             "#7201a8"
            ],
            [
             0.3333333333333333,
             "#9c179e"
            ],
            [
             0.4444444444444444,
             "#bd3786"
            ],
            [
             0.5555555555555556,
             "#d8576b"
            ],
            [
             0.6666666666666666,
             "#ed7953"
            ],
            [
             0.7777777777777778,
             "#fb9f3a"
            ],
            [
             0.8888888888888888,
             "#fdca26"
            ],
            [
             1,
             "#f0f921"
            ]
           ],
           "sequentialminus": [
            [
             0,
             "#0d0887"
            ],
            [
             0.1111111111111111,
             "#46039f"
            ],
            [
             0.2222222222222222,
             "#7201a8"
            ],
            [
             0.3333333333333333,
             "#9c179e"
            ],
            [
             0.4444444444444444,
             "#bd3786"
            ],
            [
             0.5555555555555556,
             "#d8576b"
            ],
            [
             0.6666666666666666,
             "#ed7953"
            ],
            [
             0.7777777777777778,
             "#fb9f3a"
            ],
            [
             0.8888888888888888,
             "#fdca26"
            ],
            [
             1,
             "#f0f921"
            ]
           ]
          },
          "colorway": [
           "#636efa",
           "#EF553B",
           "#00cc96",
           "#ab63fa",
           "#FFA15A",
           "#19d3f3",
           "#FF6692",
           "#B6E880",
           "#FF97FF",
           "#FECB52"
          ],
          "font": {
           "color": "#2a3f5f"
          },
          "geo": {
           "bgcolor": "white",
           "lakecolor": "white",
           "landcolor": "#E5ECF6",
           "showlakes": true,
           "showland": true,
           "subunitcolor": "white"
          },
          "hoverlabel": {
           "align": "left"
          },
          "hovermode": "closest",
          "mapbox": {
           "style": "light"
          },
          "paper_bgcolor": "white",
          "plot_bgcolor": "#E5ECF6",
          "polar": {
           "angularaxis": {
            "gridcolor": "white",
            "linecolor": "white",
            "ticks": ""
           },
           "bgcolor": "#E5ECF6",
           "radialaxis": {
            "gridcolor": "white",
            "linecolor": "white",
            "ticks": ""
           }
          },
          "scene": {
           "xaxis": {
            "backgroundcolor": "#E5ECF6",
            "gridcolor": "white",
            "gridwidth": 2,
            "linecolor": "white",
            "showbackground": true,
            "ticks": "",
            "zerolinecolor": "white"
           },
           "yaxis": {
            "backgroundcolor": "#E5ECF6",
            "gridcolor": "white",
            "gridwidth": 2,
            "linecolor": "white",
            "showbackground": true,
            "ticks": "",
            "zerolinecolor": "white"
           },
           "zaxis": {
            "backgroundcolor": "#E5ECF6",
            "gridcolor": "white",
            "gridwidth": 2,
            "linecolor": "white",
            "showbackground": true,
            "ticks": "",
            "zerolinecolor": "white"
           }
          },
          "shapedefaults": {
           "line": {
            "color": "#2a3f5f"
           }
          },
          "ternary": {
           "aaxis": {
            "gridcolor": "white",
            "linecolor": "white",
            "ticks": ""
           },
           "baxis": {
            "gridcolor": "white",
            "linecolor": "white",
            "ticks": ""
           },
           "bgcolor": "#E5ECF6",
           "caxis": {
            "gridcolor": "white",
            "linecolor": "white",
            "ticks": ""
           }
          },
          "title": {
           "x": 0.05
          },
          "xaxis": {
           "automargin": true,
           "gridcolor": "white",
           "linecolor": "white",
           "ticks": "",
           "title": {
            "standoff": 15
           },
           "zerolinecolor": "white",
           "zerolinewidth": 2
          },
          "yaxis": {
           "automargin": true,
           "gridcolor": "white",
           "linecolor": "white",
           "ticks": "",
           "title": {
            "standoff": 15
           },
           "zerolinecolor": "white",
           "zerolinewidth": 2
          }
         }
        },
        "width": 1100,
        "xaxis": {
         "anchor": "y",
         "domain": [
          0,
          1
         ],
         "dtick": "M1",
         "matches": "x2",
         "range": [
          "2024-09-01T00:00:00",
          "2025-03-01T00:00:00"
         ],
         "showticklabels": false,
         "tickformat": "%b\n%Y"
        },
        "xaxis2": {
         "anchor": "y2",
         "domain": [
          0,
          1
         ],
         "dtick": "M1",
         "range": [
          "2024-09-01T00:00:00",
          "2025-03-01T00:00:00"
         ],
         "tickformat": "%b\n%Y"
        },
        "yaxis": {
         "anchor": "x",
         "domain": [
          0.54,
          1
         ],
         "title": {
          "text": "Tweets"
         }
        },
        "yaxis2": {
         "anchor": "x2",
         "domain": [
          0,
          0.46
         ],
         "title": {
          "text": "Net Stance Index (NSI)"
         }
        }
       }
      }
     },
     "metadata": {},
     "output_type": "display_data"
    },
    {
     "name": "stderr",
     "output_type": "stream",
     "text": [
      "C:\\Users\\Admin\\AppData\\Local\\Temp\\ipykernel_23948\\156088882.py:20: UserWarning:\n",
      "\n",
      "Converting to PeriodArray/Index representation will drop timezone information.\n",
      "\n"
     ]
    },
    {
     "data": {
      "application/vnd.plotly.v1+json": {
       "config": {
        "plotlyServerURL": "https://plot.ly"
       },
       "data": [
        {
         "legendgroup": "AfD",
         "line": {
          "color": "#0056FF",
          "width": 2
         },
         "mode": "lines",
         "name": "AfD",
         "showlegend": true,
         "type": "scatter",
         "x": [
          "2024-09-01T00:00:00.000000000",
          "2024-10-01T00:00:00.000000000",
          "2024-11-01T00:00:00.000000000",
          "2024-12-01T00:00:00.000000000",
          "2025-01-01T00:00:00.000000000",
          "2025-02-01T00:00:00.000000000",
          "2025-03-01T00:00:00.000000000"
         ],
         "xaxis": "x",
         "y": {
          "bdata": "7ycAAPIoAADMMgAAkU8AAAOtAAAumgAAjFsAAA==",
          "dtype": "i4"
         },
         "yaxis": "y"
        },
        {
         "legendgroup": "AfD",
         "line": {
          "color": "#0056FF",
          "width": 2
         },
         "mode": "lines",
         "name": "AfD",
         "showlegend": false,
         "type": "scatter",
         "x": [
          "2024-09-01T00:00:00.000000000",
          "2024-10-01T00:00:00.000000000",
          "2024-11-01T00:00:00.000000000",
          "2024-12-01T00:00:00.000000000",
          "2025-01-01T00:00:00.000000000",
          "2025-02-01T00:00:00.000000000",
          "2025-03-01T00:00:00.000000000"
         ],
         "xaxis": "x2",
         "y": {
          "bdata": "iBKkGFjeS8Cf9r9WkN1NwO78vOC+WEfAK47QTvEAScDBZtoiJr5GwL+3jSV3OTbA80SysDwRS8A=",
          "dtype": "f8"
         },
         "yaxis": "y2"
        },
        {
         "legendgroup": "B90/GRÜNE",
         "line": {
          "color": "#1FA12E",
          "width": 2
         },
         "mode": "lines",
         "name": "B90/GRÜNE",
         "showlegend": true,
         "type": "scatter",
         "x": [
          "2024-09-01T00:00:00.000000000",
          "2024-10-01T00:00:00.000000000",
          "2024-11-01T00:00:00.000000000",
          "2024-12-01T00:00:00.000000000",
          "2025-01-01T00:00:00.000000000",
          "2025-02-01T00:00:00.000000000",
          "2025-03-01T00:00:00.000000000"
         ],
         "xaxis": "x",
         "y": {
          "bdata": "wVkAAKtVAADLJQEA1YcAAKC/AADD2wAAq0YAAA==",
          "dtype": "i4"
         },
         "yaxis": "y"
        },
        {
         "legendgroup": "B90/GRÜNE",
         "line": {
          "color": "#1FA12E",
          "width": 2
         },
         "mode": "lines",
         "name": "B90/GRÜNE",
         "showlegend": false,
         "type": "scatter",
         "x": [
          "2024-09-01T00:00:00.000000000",
          "2024-10-01T00:00:00.000000000",
          "2024-11-01T00:00:00.000000000",
          "2024-12-01T00:00:00.000000000",
          "2025-01-01T00:00:00.000000000",
          "2025-02-01T00:00:00.000000000",
          "2025-03-01T00:00:00.000000000"
         ],
         "xaxis": "x2",
         "y": {
          "bdata": "BfPMZQ8aUsCH16CH16BQwMFuD55xVE/AeOxoBIW8UMBcuHDhws1QwAI7yJ9yXlDAOfAQ+b2tUcA=",
          "dtype": "f8"
         },
         "yaxis": "y2"
        },
        {
         "legendgroup": "BSW",
         "line": {
          "color": "#D77AFF",
          "width": 2
         },
         "mode": "lines",
         "name": "BSW",
         "showlegend": true,
         "type": "scatter",
         "x": [
          "2024-09-01T00:00:00.000000000",
          "2024-10-01T00:00:00.000000000",
          "2024-11-01T00:00:00.000000000",
          "2024-12-01T00:00:00.000000000",
          "2025-01-01T00:00:00.000000000",
          "2025-02-01T00:00:00.000000000",
          "2025-03-01T00:00:00.000000000"
         ],
         "xaxis": "x",
         "y": {
          "bdata": "rCHPGNYSuhPsF4wyNR4=",
          "dtype": "i2"
         },
         "yaxis": "y"
        },
        {
         "legendgroup": "BSW",
         "line": {
          "color": "#D77AFF",
          "width": 2
         },
         "mode": "lines",
         "name": "BSW",
         "showlegend": false,
         "type": "scatter",
         "x": [
          "2024-09-01T00:00:00.000000000",
          "2024-10-01T00:00:00.000000000",
          "2024-11-01T00:00:00.000000000",
          "2024-12-01T00:00:00.000000000",
          "2025-01-01T00:00:00.000000000",
          "2025-02-01T00:00:00.000000000",
          "2025-03-01T00:00:00.000000000"
         ],
         "xaxis": "x2",
         "y": {
          "bdata": "c9Mk3pYeUMDVyig0bg5RwOC6YJO8ME/A8yB3/WwxUMCGbYNqGThRwFG+qdX8N0zAwNFAMgocUMA=",
          "dtype": "f8"
         },
         "yaxis": "y2"
        },
        {
         "legendgroup": "CDU/CSU",
         "line": {
          "color": "#000000",
          "width": 2
         },
         "mode": "lines",
         "name": "CDU/CSU",
         "showlegend": true,
         "type": "scatter",
         "x": [
          "2024-09-01T00:00:00.000000000",
          "2024-10-01T00:00:00.000000000",
          "2024-11-01T00:00:00.000000000",
          "2024-12-01T00:00:00.000000000",
          "2025-01-01T00:00:00.000000000",
          "2025-02-01T00:00:00.000000000",
          "2025-03-01T00:00:00.000000000"
         ],
         "xaxis": "x",
         "y": {
          "bdata": "Ln4AAJJiAAAsEAEAtgsBAEHeAQAOIQEAF/cAAA==",
          "dtype": "i4"
         },
         "yaxis": "y"
        },
        {
         "legendgroup": "CDU/CSU",
         "line": {
          "color": "#000000",
          "width": 2
         },
         "mode": "lines",
         "name": "CDU/CSU",
         "showlegend": false,
         "type": "scatter",
         "x": [
          "2024-09-01T00:00:00.000000000",
          "2024-10-01T00:00:00.000000000",
          "2024-11-01T00:00:00.000000000",
          "2024-12-01T00:00:00.000000000",
          "2025-01-01T00:00:00.000000000",
          "2025-02-01T00:00:00.000000000",
          "2025-03-01T00:00:00.000000000"
         ],
         "xaxis": "x2",
         "y": {
          "bdata": "mqceXmKOUcC3FOvO2mBRwO+AEauYxFHACFrXElIiUsCTjYTeTCVRwHhKo7BBxlDA3s5zL0UvU8A=",
          "dtype": "f8"
         },
         "yaxis": "y2"
        },
        {
         "legendgroup": "FDP",
         "line": {
          "color": "#FFED00",
          "width": 2
         },
         "mode": "lines",
         "name": "FDP",
         "showlegend": true,
         "type": "scatter",
         "x": [
          "2024-09-01T00:00:00.000000000",
          "2024-10-01T00:00:00.000000000",
          "2024-11-01T00:00:00.000000000",
          "2024-12-01T00:00:00.000000000",
          "2025-01-01T00:00:00.000000000",
          "2025-02-01T00:00:00.000000000",
          "2025-03-01T00:00:00.000000000"
         ],
         "xaxis": "x",
         "y": {
          "bdata": "nzUAABouAAAmngAAEVQAAAVDAAAnewAAZQwAAA==",
          "dtype": "i4"
         },
         "yaxis": "y"
        },
        {
         "legendgroup": "FDP",
         "line": {
          "color": "#FFED00",
          "width": 2
         },
         "mode": "lines",
         "name": "FDP",
         "showlegend": false,
         "type": "scatter",
         "x": [
          "2024-09-01T00:00:00.000000000",
          "2024-10-01T00:00:00.000000000",
          "2024-11-01T00:00:00.000000000",
          "2024-12-01T00:00:00.000000000",
          "2025-01-01T00:00:00.000000000",
          "2025-02-01T00:00:00.000000000",
          "2025-03-01T00:00:00.000000000"
         ],
         "xaxis": "x2",
         "y": {
          "bdata": "+OhMnN1LUMB0zxpu7qhPwLQ+Fnt53k/AAqeoviT/T8CfEqA4CR5QwKay2UrSOkzAz45e/Ci0TcA=",
          "dtype": "f8"
         },
         "yaxis": "y2"
        },
        {
         "legendgroup": "LINKE",
         "line": {
          "color": "#A3488A",
          "width": 2
         },
         "mode": "lines",
         "name": "LINKE",
         "showlegend": true,
         "type": "scatter",
         "x": [
          "2024-09-01T00:00:00.000000000",
          "2024-10-01T00:00:00.000000000",
          "2024-11-01T00:00:00.000000000",
          "2024-12-01T00:00:00.000000000",
          "2025-01-01T00:00:00.000000000",
          "2025-02-01T00:00:00.000000000",
          "2025-03-01T00:00:00.000000000"
         ],
         "xaxis": "x",
         "y": {
          "bdata": "XRIPDmUN6QieFuJFwDA=",
          "dtype": "i2"
         },
         "yaxis": "y"
        },
        {
         "legendgroup": "LINKE",
         "line": {
          "color": "#A3488A",
          "width": 2
         },
         "mode": "lines",
         "name": "LINKE",
         "showlegend": false,
         "type": "scatter",
         "x": [
          "2024-09-01T00:00:00.000000000",
          "2024-10-01T00:00:00.000000000",
          "2024-11-01T00:00:00.000000000",
          "2024-12-01T00:00:00.000000000",
          "2025-01-01T00:00:00.000000000",
          "2025-02-01T00:00:00.000000000",
          "2025-03-01T00:00:00.000000000"
         ],
         "xaxis": "x2",
         "y": {
          "bdata": "X+X8jD8lUMARI72T7cxPwJzzre7Hwk3AoCgmzJ0yTcAVW+Y9fI1OwIU10j/qd0zAIA3SIA3mUcA=",
          "dtype": "f8"
         },
         "yaxis": "y2"
        },
        {
         "legendgroup": "SPD",
         "line": {
          "color": "#E3000F",
          "width": 2
         },
         "mode": "lines",
         "name": "SPD",
         "showlegend": true,
         "type": "scatter",
         "x": [
          "2024-09-01T00:00:00.000000000",
          "2024-10-01T00:00:00.000000000",
          "2024-11-01T00:00:00.000000000",
          "2024-12-01T00:00:00.000000000",
          "2025-01-01T00:00:00.000000000",
          "2025-02-01T00:00:00.000000000",
          "2025-03-01T00:00:00.000000000"
         ],
         "xaxis": "x",
         "y": {
          "bdata": "vTW8IoVkVzSqZK5ejkU=",
          "dtype": "i2"
         },
         "yaxis": "y"
        },
        {
         "legendgroup": "SPD",
         "line": {
          "color": "#E3000F",
          "width": 2
         },
         "mode": "lines",
         "name": "SPD",
         "showlegend": false,
         "type": "scatter",
         "x": [
          "2024-09-01T00:00:00.000000000",
          "2024-10-01T00:00:00.000000000",
          "2024-11-01T00:00:00.000000000",
          "2024-12-01T00:00:00.000000000",
          "2025-01-01T00:00:00.000000000",
          "2025-02-01T00:00:00.000000000",
          "2025-03-01T00:00:00.000000000"
         ],
         "xaxis": "x2",
         "y": {
          "bdata": "+folExdIUsC5tQpNjZtQwA8llztSvlLAS5UWbrKDUsA8zQ67VRFTwLt0pog9eVHAQRY2IZurU8A=",
          "dtype": "f8"
         },
         "yaxis": "y2"
        }
       ],
       "layout": {
        "annotations": [
         {
          "font": {
           "size": 16
          },
          "showarrow": false,
          "text": "Monthly Tweet Volume (Combined)",
          "x": 0.5,
          "xanchor": "center",
          "xref": "paper",
          "y": 1,
          "yanchor": "bottom",
          "yref": "paper"
         },
         {
          "font": {
           "size": 16
          },
          "showarrow": false,
          "text": "Monthly Stance Development (NSI) – Combined",
          "x": 0.5,
          "xanchor": "center",
          "xref": "paper",
          "y": 0.46,
          "yanchor": "bottom",
          "yref": "paper"
         },
         {
          "showarrow": false,
          "text": "Federal Election 2025",
          "x": "2025-02-23T00:00:00",
          "xanchor": "left",
          "xref": "x",
          "y": 1.02,
          "yref": "paper"
         }
        ],
        "height": 800,
        "legend": {
         "title": {
          "text": "Party"
         }
        },
        "margin": {
         "b": 60,
         "l": 60,
         "r": 40,
         "t": 80
        },
        "shapes": [
         {
          "line": {
           "color": "black",
           "dash": "dot"
          },
          "type": "line",
          "x0": "2025-02-23T00:00:00",
          "x1": "2025-02-23T00:00:00",
          "xref": "x",
          "y0": 0,
          "y1": 1,
          "yref": "y domain"
         },
         {
          "line": {
           "color": "black",
           "dash": "dot"
          },
          "type": "line",
          "x0": "2025-02-23T00:00:00",
          "x1": "2025-02-23T00:00:00",
          "xref": "x2",
          "y0": 0,
          "y1": 1,
          "yref": "y2 domain"
         }
        ],
        "template": {
         "data": {
          "bar": [
           {
            "error_x": {
             "color": "#2a3f5f"
            },
            "error_y": {
             "color": "#2a3f5f"
            },
            "marker": {
             "line": {
              "color": "#E5ECF6",
              "width": 0.5
             },
             "pattern": {
              "fillmode": "overlay",
              "size": 10,
              "solidity": 0.2
             }
            },
            "type": "bar"
           }
          ],
          "barpolar": [
           {
            "marker": {
             "line": {
              "color": "#E5ECF6",
              "width": 0.5
             },
             "pattern": {
              "fillmode": "overlay",
              "size": 10,
              "solidity": 0.2
             }
            },
            "type": "barpolar"
           }
          ],
          "carpet": [
           {
            "aaxis": {
             "endlinecolor": "#2a3f5f",
             "gridcolor": "white",
             "linecolor": "white",
             "minorgridcolor": "white",
             "startlinecolor": "#2a3f5f"
            },
            "baxis": {
             "endlinecolor": "#2a3f5f",
             "gridcolor": "white",
             "linecolor": "white",
             "minorgridcolor": "white",
             "startlinecolor": "#2a3f5f"
            },
            "type": "carpet"
           }
          ],
          "choropleth": [
           {
            "colorbar": {
             "outlinewidth": 0,
             "ticks": ""
            },
            "type": "choropleth"
           }
          ],
          "contour": [
           {
            "colorbar": {
             "outlinewidth": 0,
             "ticks": ""
            },
            "colorscale": [
             [
              0,
              "#0d0887"
             ],
             [
              0.1111111111111111,
              "#46039f"
             ],
             [
              0.2222222222222222,
              "#7201a8"
             ],
             [
              0.3333333333333333,
              "#9c179e"
             ],
             [
              0.4444444444444444,
              "#bd3786"
             ],
             [
              0.5555555555555556,
              "#d8576b"
             ],
             [
              0.6666666666666666,
              "#ed7953"
             ],
             [
              0.7777777777777778,
              "#fb9f3a"
             ],
             [
              0.8888888888888888,
              "#fdca26"
             ],
             [
              1,
              "#f0f921"
             ]
            ],
            "type": "contour"
           }
          ],
          "contourcarpet": [
           {
            "colorbar": {
             "outlinewidth": 0,
             "ticks": ""
            },
            "type": "contourcarpet"
           }
          ],
          "heatmap": [
           {
            "colorbar": {
             "outlinewidth": 0,
             "ticks": ""
            },
            "colorscale": [
             [
              0,
              "#0d0887"
             ],
             [
              0.1111111111111111,
              "#46039f"
             ],
             [
              0.2222222222222222,
              "#7201a8"
             ],
             [
              0.3333333333333333,
              "#9c179e"
             ],
             [
              0.4444444444444444,
              "#bd3786"
             ],
             [
              0.5555555555555556,
              "#d8576b"
             ],
             [
              0.6666666666666666,
              "#ed7953"
             ],
             [
              0.7777777777777778,
              "#fb9f3a"
             ],
             [
              0.8888888888888888,
              "#fdca26"
             ],
             [
              1,
              "#f0f921"
             ]
            ],
            "type": "heatmap"
           }
          ],
          "histogram": [
           {
            "marker": {
             "pattern": {
              "fillmode": "overlay",
              "size": 10,
              "solidity": 0.2
             }
            },
            "type": "histogram"
           }
          ],
          "histogram2d": [
           {
            "colorbar": {
             "outlinewidth": 0,
             "ticks": ""
            },
            "colorscale": [
             [
              0,
              "#0d0887"
             ],
             [
              0.1111111111111111,
              "#46039f"
             ],
             [
              0.2222222222222222,
              "#7201a8"
             ],
             [
              0.3333333333333333,
              "#9c179e"
             ],
             [
              0.4444444444444444,
              "#bd3786"
             ],
             [
              0.5555555555555556,
              "#d8576b"
             ],
             [
              0.6666666666666666,
              "#ed7953"
             ],
             [
              0.7777777777777778,
              "#fb9f3a"
             ],
             [
              0.8888888888888888,
              "#fdca26"
             ],
             [
              1,
              "#f0f921"
             ]
            ],
            "type": "histogram2d"
           }
          ],
          "histogram2dcontour": [
           {
            "colorbar": {
             "outlinewidth": 0,
             "ticks": ""
            },
            "colorscale": [
             [
              0,
              "#0d0887"
             ],
             [
              0.1111111111111111,
              "#46039f"
             ],
             [
              0.2222222222222222,
              "#7201a8"
             ],
             [
              0.3333333333333333,
              "#9c179e"
             ],
             [
              0.4444444444444444,
              "#bd3786"
             ],
             [
              0.5555555555555556,
              "#d8576b"
             ],
             [
              0.6666666666666666,
              "#ed7953"
             ],
             [
              0.7777777777777778,
              "#fb9f3a"
             ],
             [
              0.8888888888888888,
              "#fdca26"
             ],
             [
              1,
              "#f0f921"
             ]
            ],
            "type": "histogram2dcontour"
           }
          ],
          "mesh3d": [
           {
            "colorbar": {
             "outlinewidth": 0,
             "ticks": ""
            },
            "type": "mesh3d"
           }
          ],
          "parcoords": [
           {
            "line": {
             "colorbar": {
              "outlinewidth": 0,
              "ticks": ""
             }
            },
            "type": "parcoords"
           }
          ],
          "pie": [
           {
            "automargin": true,
            "type": "pie"
           }
          ],
          "scatter": [
           {
            "fillpattern": {
             "fillmode": "overlay",
             "size": 10,
             "solidity": 0.2
            },
            "type": "scatter"
           }
          ],
          "scatter3d": [
           {
            "line": {
             "colorbar": {
              "outlinewidth": 0,
              "ticks": ""
             }
            },
            "marker": {
             "colorbar": {
              "outlinewidth": 0,
              "ticks": ""
             }
            },
            "type": "scatter3d"
           }
          ],
          "scattercarpet": [
           {
            "marker": {
             "colorbar": {
              "outlinewidth": 0,
              "ticks": ""
             }
            },
            "type": "scattercarpet"
           }
          ],
          "scattergeo": [
           {
            "marker": {
             "colorbar": {
              "outlinewidth": 0,
              "ticks": ""
             }
            },
            "type": "scattergeo"
           }
          ],
          "scattergl": [
           {
            "marker": {
             "colorbar": {
              "outlinewidth": 0,
              "ticks": ""
             }
            },
            "type": "scattergl"
           }
          ],
          "scattermap": [
           {
            "marker": {
             "colorbar": {
              "outlinewidth": 0,
              "ticks": ""
             }
            },
            "type": "scattermap"
           }
          ],
          "scattermapbox": [
           {
            "marker": {
             "colorbar": {
              "outlinewidth": 0,
              "ticks": ""
             }
            },
            "type": "scattermapbox"
           }
          ],
          "scatterpolar": [
           {
            "marker": {
             "colorbar": {
              "outlinewidth": 0,
              "ticks": ""
             }
            },
            "type": "scatterpolar"
           }
          ],
          "scatterpolargl": [
           {
            "marker": {
             "colorbar": {
              "outlinewidth": 0,
              "ticks": ""
             }
            },
            "type": "scatterpolargl"
           }
          ],
          "scatterternary": [
           {
            "marker": {
             "colorbar": {
              "outlinewidth": 0,
              "ticks": ""
             }
            },
            "type": "scatterternary"
           }
          ],
          "surface": [
           {
            "colorbar": {
             "outlinewidth": 0,
             "ticks": ""
            },
            "colorscale": [
             [
              0,
              "#0d0887"
             ],
             [
              0.1111111111111111,
              "#46039f"
             ],
             [
              0.2222222222222222,
              "#7201a8"
             ],
             [
              0.3333333333333333,
              "#9c179e"
             ],
             [
              0.4444444444444444,
              "#bd3786"
             ],
             [
              0.5555555555555556,
              "#d8576b"
             ],
             [
              0.6666666666666666,
              "#ed7953"
             ],
             [
              0.7777777777777778,
              "#fb9f3a"
             ],
             [
              0.8888888888888888,
              "#fdca26"
             ],
             [
              1,
              "#f0f921"
             ]
            ],
            "type": "surface"
           }
          ],
          "table": [
           {
            "cells": {
             "fill": {
              "color": "#EBF0F8"
             },
             "line": {
              "color": "white"
             }
            },
            "header": {
             "fill": {
              "color": "#C8D4E3"
             },
             "line": {
              "color": "white"
             }
            },
            "type": "table"
           }
          ]
         },
         "layout": {
          "annotationdefaults": {
           "arrowcolor": "#2a3f5f",
           "arrowhead": 0,
           "arrowwidth": 1
          },
          "autotypenumbers": "strict",
          "coloraxis": {
           "colorbar": {
            "outlinewidth": 0,
            "ticks": ""
           }
          },
          "colorscale": {
           "diverging": [
            [
             0,
             "#8e0152"
            ],
            [
             0.1,
             "#c51b7d"
            ],
            [
             0.2,
             "#de77ae"
            ],
            [
             0.3,
             "#f1b6da"
            ],
            [
             0.4,
             "#fde0ef"
            ],
            [
             0.5,
             "#f7f7f7"
            ],
            [
             0.6,
             "#e6f5d0"
            ],
            [
             0.7,
             "#b8e186"
            ],
            [
             0.8,
             "#7fbc41"
            ],
            [
             0.9,
             "#4d9221"
            ],
            [
             1,
             "#276419"
            ]
           ],
           "sequential": [
            [
             0,
             "#0d0887"
            ],
            [
             0.1111111111111111,
             "#46039f"
            ],
            [
             0.2222222222222222,
             "#7201a8"
            ],
            [
             0.3333333333333333,
             "#9c179e"
            ],
            [
             0.4444444444444444,
             "#bd3786"
            ],
            [
             0.5555555555555556,
             "#d8576b"
            ],
            [
             0.6666666666666666,
             "#ed7953"
            ],
            [
             0.7777777777777778,
             "#fb9f3a"
            ],
            [
             0.8888888888888888,
             "#fdca26"
            ],
            [
             1,
             "#f0f921"
            ]
           ],
           "sequentialminus": [
            [
             0,
             "#0d0887"
            ],
            [
             0.1111111111111111,
             "#46039f"
            ],
            [
             0.2222222222222222,
             "#7201a8"
            ],
            [
             0.3333333333333333,
             "#9c179e"
            ],
            [
             0.4444444444444444,
             "#bd3786"
            ],
            [
             0.5555555555555556,
             "#d8576b"
            ],
            [
             0.6666666666666666,
             "#ed7953"
            ],
            [
             0.7777777777777778,
             "#fb9f3a"
            ],
            [
             0.8888888888888888,
             "#fdca26"
            ],
            [
             1,
             "#f0f921"
            ]
           ]
          },
          "colorway": [
           "#636efa",
           "#EF553B",
           "#00cc96",
           "#ab63fa",
           "#FFA15A",
           "#19d3f3",
           "#FF6692",
           "#B6E880",
           "#FF97FF",
           "#FECB52"
          ],
          "font": {
           "color": "#2a3f5f"
          },
          "geo": {
           "bgcolor": "white",
           "lakecolor": "white",
           "landcolor": "#E5ECF6",
           "showlakes": true,
           "showland": true,
           "subunitcolor": "white"
          },
          "hoverlabel": {
           "align": "left"
          },
          "hovermode": "closest",
          "mapbox": {
           "style": "light"
          },
          "paper_bgcolor": "white",
          "plot_bgcolor": "#E5ECF6",
          "polar": {
           "angularaxis": {
            "gridcolor": "white",
            "linecolor": "white",
            "ticks": ""
           },
           "bgcolor": "#E5ECF6",
           "radialaxis": {
            "gridcolor": "white",
            "linecolor": "white",
            "ticks": ""
           }
          },
          "scene": {
           "xaxis": {
            "backgroundcolor": "#E5ECF6",
            "gridcolor": "white",
            "gridwidth": 2,
            "linecolor": "white",
            "showbackground": true,
            "ticks": "",
            "zerolinecolor": "white"
           },
           "yaxis": {
            "backgroundcolor": "#E5ECF6",
            "gridcolor": "white",
            "gridwidth": 2,
            "linecolor": "white",
            "showbackground": true,
            "ticks": "",
            "zerolinecolor": "white"
           },
           "zaxis": {
            "backgroundcolor": "#E5ECF6",
            "gridcolor": "white",
            "gridwidth": 2,
            "linecolor": "white",
            "showbackground": true,
            "ticks": "",
            "zerolinecolor": "white"
           }
          },
          "shapedefaults": {
           "line": {
            "color": "#2a3f5f"
           }
          },
          "ternary": {
           "aaxis": {
            "gridcolor": "white",
            "linecolor": "white",
            "ticks": ""
           },
           "baxis": {
            "gridcolor": "white",
            "linecolor": "white",
            "ticks": ""
           },
           "bgcolor": "#E5ECF6",
           "caxis": {
            "gridcolor": "white",
            "linecolor": "white",
            "ticks": ""
           }
          },
          "title": {
           "x": 0.05
          },
          "xaxis": {
           "automargin": true,
           "gridcolor": "white",
           "linecolor": "white",
           "ticks": "",
           "title": {
            "standoff": 15
           },
           "zerolinecolor": "white",
           "zerolinewidth": 2
          },
          "yaxis": {
           "automargin": true,
           "gridcolor": "white",
           "linecolor": "white",
           "ticks": "",
           "title": {
            "standoff": 15
           },
           "zerolinecolor": "white",
           "zerolinewidth": 2
          }
         }
        },
        "width": 1100,
        "xaxis": {
         "anchor": "y",
         "domain": [
          0,
          1
         ],
         "dtick": "M1",
         "matches": "x2",
         "range": [
          "2024-09-01T00:00:00",
          "2025-03-01T00:00:00"
         ],
         "showticklabels": false,
         "tickformat": "%b\n%Y"
        },
        "xaxis2": {
         "anchor": "y2",
         "domain": [
          0,
          1
         ],
         "dtick": "M1",
         "range": [
          "2024-09-01T00:00:00",
          "2025-03-01T00:00:00"
         ],
         "tickformat": "%b\n%Y"
        },
        "yaxis": {
         "anchor": "x",
         "domain": [
          0.54,
          1
         ],
         "title": {
          "text": "Tweets"
         }
        },
        "yaxis2": {
         "anchor": "x2",
         "domain": [
          0,
          0.46
         ],
         "title": {
          "text": "Net Stance Index (NSI)"
         }
        }
       }
      }
     },
     "metadata": {},
     "output_type": "display_data"
    }
   ],
   "source": [
    "import plotly.graph_objects as go\n",
    "from plotly.subplots import make_subplots\n",
    "import pandas as pd\n",
    "\n",
    "def clean_timestamp_column(df):\n",
    "    df[\"timestamp_clean\"] = (\n",
    "        df[\"timestamp\"]\n",
    "        .str.replace(\"·\", \"\", regex=False)\n",
    "        .str.strip()\n",
    "    )\n",
    "    df[\"timestamp_clean\"] = pd.to_datetime(\n",
    "        df[\"timestamp_clean\"], errors=\"coerce\", utc=True\n",
    "    )\n",
    "    return df\n",
    "\n",
    "def plot_volume_and_stance(df, label):\n",
    "    df = clean_timestamp_column(df)\n",
    "\n",
    "    # ---- Volume counts ----\n",
    "    df[\"month\"] = df[\"timestamp_clean\"].dt.to_period(\"M\")\n",
    "    df[\"month_start\"] = df[\"month\"].dt.to_timestamp()\n",
    "    counts = df.groupby([\"month_start\", \"party\"]).size().reset_index(name=\"count\")\n",
    "\n",
    "    # ---- Stance counts ----\n",
    "    mapping = {\"Zustimmung\": \"Support\", \"Ablehnung\": \"Rejection\", \"Neutral\": \"Neutral\"}\n",
    "    df[\"stance\"] = df[\"pred\"].map(mapping).fillna(df[\"pred\"])\n",
    "    stance_counts = (\n",
    "        df.groupby([\"month_start\", \"party\", \"stance\"])\n",
    "        .size()\n",
    "        .reset_index(name=\"count\")\n",
    "    )\n",
    "    stance_pivot = stance_counts.pivot_table(\n",
    "        index=[\"month_start\", \"party\"], columns=\"stance\", values=\"count\", fill_value=0\n",
    "    ).reset_index()\n",
    "    stance_pivot[\"Total\"] = stance_pivot[[\"Support\",\"Neutral\",\"Rejection\"]].sum(axis=1)\n",
    "    stance_pivot[\"NSI\"] = (\n",
    "        (stance_pivot[\"Support\"] - stance_pivot[\"Rejection\"]) /\n",
    "        stance_pivot[\"Total\"].replace(0,1)\n",
    "    ) * 100\n",
    "\n",
    "    # ---- Subplot ----\n",
    "    fig = make_subplots(\n",
    "        rows=2, cols=1,\n",
    "        shared_xaxes=True,\n",
    "        vertical_spacing=0.08,\n",
    "        subplot_titles=(f\"Monthly Tweet Volume ({label})\",\n",
    "                        f\"Monthly Stance Development (NSI) – {label}\")\n",
    "    )\n",
    "\n",
    "    # Collect parties to ensure same colors\n",
    "    parties = sorted(df[\"party\"].dropna().unique())\n",
    "\n",
    "    # Add traces (both panels)\n",
    "    for party in parties:\n",
    "        color = party_colors.get(party, \"black\")\n",
    "\n",
    "        # Volume\n",
    "        vol_sub = counts[counts[\"party\"] == party]\n",
    "        fig.add_trace(\n",
    "            go.Scatter(\n",
    "                x=vol_sub[\"month_start\"], y=vol_sub[\"count\"],\n",
    "                mode=\"lines\",\n",
    "                name=party,\n",
    "                line=dict(width=2, color=color),\n",
    "                legendgroup=party,\n",
    "                showlegend=True  # show once\n",
    "            ),\n",
    "            row=1, col=1\n",
    "        )\n",
    "\n",
    "        # Stance (NSI)\n",
    "        stance_sub = stance_pivot[stance_pivot[\"party\"] == party]\n",
    "        fig.add_trace(\n",
    "            go.Scatter(\n",
    "                x=stance_sub[\"month_start\"], y=stance_sub[\"NSI\"],\n",
    "                mode=\"lines\",\n",
    "                name=party,\n",
    "                line=dict(width=2, color=color),\n",
    "                legendgroup=party,\n",
    "                showlegend=False  # suppress duplicate legend\n",
    "            ),\n",
    "            row=2, col=1\n",
    "        )\n",
    "\n",
    "    # Election marker\n",
    "    election_day = pd.to_datetime(\"2025-02-23\")\n",
    "    for i in [1, 2]:\n",
    "        fig.add_vline(\n",
    "            x=election_day, line=dict(color=\"black\", dash=\"dot\"),\n",
    "            row=i, col=1\n",
    "        )\n",
    "    fig.add_annotation(\n",
    "        x=election_day, xref=\"x\",\n",
    "        y=1.02, yref=\"paper\",\n",
    "        text=\"Federal Election 2025\", showarrow=False, xanchor=\"left\"\n",
    "    )\n",
    "\n",
    "    # Layout\n",
    "    fig.update_layout(\n",
    "        height=800, width=1100,\n",
    "        legend_title=\"Party\",\n",
    "        margin=dict(l=60, r=40, t=80, b=60)\n",
    "    )\n",
    "    fig.update_xaxes(\n",
    "        range=[pd.to_datetime(\"2024-09-01\"), pd.to_datetime(\"2025-03-01\")],\n",
    "        dtick=\"M1\", tickformat=\"%b\\n%Y\"\n",
    "    )\n",
    "    fig.update_yaxes(title_text=\"Tweets\", row=1, col=1)\n",
    "    fig.update_yaxes(title_text=\"Net Stance Index (NSI)\", row=2, col=1)\n",
    "\n",
    "    fig.show()\n",
    "\n",
    "# ---- Run for each dataset ----\n",
    "for df, label in zip([df_mirror, df_aug, df_all],\n",
    "                     [\"Random\", \"Augmentation\", \"Combined\"]):\n",
    "    plot_volume_and_stance(df, label)\n",
    "\n",
    "\n"
   ]
  },
  {
   "cell_type": "code",
   "execution_count": 10,
   "id": "c00b7c77",
   "metadata": {},
   "outputs": [
    {
     "name": "stdout",
     "output_type": "stream",
     "text": [
      "CSV gespeichert: E:\\Final_Github_1\\MasterThesis_final\\data\\analysis\\Descriptive_Analyis_6_1\\top3_politicians_per_party.csv\n"
     ]
    },
    {
     "data": {
      "text/html": [
       "<div>\n",
       "<style scoped>\n",
       "    .dataframe tbody tr th:only-of-type {\n",
       "        vertical-align: middle;\n",
       "    }\n",
       "\n",
       "    .dataframe tbody tr th {\n",
       "        vertical-align: top;\n",
       "    }\n",
       "\n",
       "    .dataframe thead th {\n",
       "        text-align: right;\n",
       "    }\n",
       "</style>\n",
       "<table border=\"1\" class=\"dataframe\">\n",
       "  <thead>\n",
       "    <tr style=\"text-align: right;\">\n",
       "      <th></th>\n",
       "      <th>Party</th>\n",
       "      <th>Top 3 Politicians</th>\n",
       "      <th>Share of all tweets (%)</th>\n",
       "      <th>Share of party’s politician tweets (%)</th>\n",
       "    </tr>\n",
       "  </thead>\n",
       "  <tbody>\n",
       "    <tr>\n",
       "      <th>0</th>\n",
       "      <td>AfD</td>\n",
       "      <td>Weidel, Alice, Krah, Maximilian, von Storch, B...</td>\n",
       "      <td>8.56</td>\n",
       "      <td>92.08</td>\n",
       "    </tr>\n",
       "    <tr>\n",
       "      <th>1</th>\n",
       "      <td>B90/GRÜNE</td>\n",
       "      <td>roberthabeck, Baerbock, Annalena, Lang, Ricarda</td>\n",
       "      <td>11.55</td>\n",
       "      <td>71.19</td>\n",
       "    </tr>\n",
       "    <tr>\n",
       "      <th>2</th>\n",
       "      <td>BSW</td>\n",
       "      <td>Wagenknecht, Dr., De Masi, Fabio, Pürner, Frie...</td>\n",
       "      <td>2.53</td>\n",
       "      <td>62.13</td>\n",
       "    </tr>\n",
       "    <tr>\n",
       "      <th>3</th>\n",
       "      <td>CDU/CSU</td>\n",
       "      <td>Merz, Joachim-Friedrich, Söder, Markus, Spahn,...</td>\n",
       "      <td>21.32</td>\n",
       "      <td>79.81</td>\n",
       "    </tr>\n",
       "    <tr>\n",
       "      <th>4</th>\n",
       "      <td>FDP</td>\n",
       "      <td>Lindner, Christian, Buschmann, Dr., Strack-Zim...</td>\n",
       "      <td>6.78</td>\n",
       "      <td>84.32</td>\n",
       "    </tr>\n",
       "    <tr>\n",
       "      <th>5</th>\n",
       "      <td>LINKE</td>\n",
       "      <td>Gysi, Gregor, Reichinnek, Heidi, Ramelow, Bodo</td>\n",
       "      <td>2.02</td>\n",
       "      <td>75.89</td>\n",
       "    </tr>\n",
       "    <tr>\n",
       "      <th>6</th>\n",
       "      <td>SPD</td>\n",
       "      <td>Lauterbach, Dr., Scholz, Olaf, Faeser, Nancy</td>\n",
       "      <td>4.61</td>\n",
       "      <td>62.94</td>\n",
       "    </tr>\n",
       "  </tbody>\n",
       "</table>\n",
       "</div>"
      ],
      "text/plain": [
       "       Party                                  Top 3 Politicians  \\\n",
       "0        AfD  Weidel, Alice, Krah, Maximilian, von Storch, B...   \n",
       "1  B90/GRÜNE    roberthabeck, Baerbock, Annalena, Lang, Ricarda   \n",
       "2        BSW  Wagenknecht, Dr., De Masi, Fabio, Pürner, Frie...   \n",
       "3    CDU/CSU  Merz, Joachim-Friedrich, Söder, Markus, Spahn,...   \n",
       "4        FDP  Lindner, Christian, Buschmann, Dr., Strack-Zim...   \n",
       "5      LINKE     Gysi, Gregor, Reichinnek, Heidi, Ramelow, Bodo   \n",
       "6        SPD       Lauterbach, Dr., Scholz, Olaf, Faeser, Nancy   \n",
       "\n",
       "   Share of all tweets (%)  Share of party’s politician tweets (%)  \n",
       "0                     8.56                                   92.08  \n",
       "1                    11.55                                   71.19  \n",
       "2                     2.53                                   62.13  \n",
       "3                    21.32                                   79.81  \n",
       "4                     6.78                                   84.32  \n",
       "5                     2.02                                   75.89  \n",
       "6                     4.61                                   62.94  "
      ]
     },
     "metadata": {},
     "output_type": "display_data"
    }
   ],
   "source": [
    "# Top-3 Politiker pro Partei (Shares)\n",
    "\n",
    "# Exclude-Liste (Partei-/Org-Accounts)\n",
    "exclude_names_clean = sorted(set(n.strip().lower() for n in [\n",
    "    \"spdde\", \"spdbt\", \"jusos\",\n",
    "    \"cdu\", \"cducsubt\", \"junge_union\",\n",
    "    \"csu\",\n",
    "    \"gruene_jugend\", \"die_gruenen\", \"gruenebundestag\",  \n",
    "    \"fdp\", \"fdpbt\", \"fdp_nrw\",\n",
    "    \"afd\", \"afdimbundestag\", \"afdberlin\",\n",
    "    \"dielinke\", \"linksfraktion\", \"dielinkeberlin\"\n",
    "]))\n",
    "\n",
    "# Helper: formatiert Namen \"Nachname, Vorname\"\n",
    "def format_name(raw_name: str) -> str:\n",
    "    s = str(raw_name)\n",
    "    if \",\" in s:\n",
    "        parts = [p.strip() for p in s.split(\",\")]\n",
    "        last = parts[0]\n",
    "        first = parts[1].split()[0] if len(parts) > 1 else \"\"\n",
    "        return f\"{last}, {first}\" if first else last\n",
    "    return s.strip()\n",
    "\n",
    "df = df_all.copy()\n",
    "df[\"name_lc\"] = df[\"name\"].astype(str).str.lower()\n",
    "df[\"party\"] = df[\"party\"].fillna(\"Unbekannt\")\n",
    "\n",
    "# Masken: excluded (Partei/Org) vs. included (Politiker)\n",
    "excluded_mask = df[\"name_lc\"].isin(exclude_names_clean)\n",
    "included_mask = ~excluded_mask\n",
    "total_tweets = len(df)\n",
    "\n",
    "# Gesamt pro Partei (nur Politiker)\n",
    "included_df = df.loc[included_mask, [\"party\", \"name\"]].copy()\n",
    "party_included_totals = (\n",
    "    included_df.groupby(\"party\").size().reset_index(name=\"included_total\")\n",
    ")\n",
    "\n",
    "# Counts pro Politiker\n",
    "counts = (\n",
    "    included_df.groupby([\"party\", \"name\"])\n",
    "    .size().reset_index(name=\"tweets\")\n",
    ")\n",
    "\n",
    "# Top-3 pro Partei\n",
    "top3_per_party = (\n",
    "    counts.sort_values([\"party\", \"tweets\"], ascending=[True, False])\n",
    "    .groupby(\"party\", group_keys=False).head(3)\n",
    ")\n",
    "\n",
    "# Summen der Top-3\n",
    "top3_sums = (\n",
    "    top3_per_party.groupby(\"party\")[\"tweets\"].sum().reset_index(name=\"top3_sum\")\n",
    ")\n",
    "\n",
    "# Shares berechnen\n",
    "res = party_included_totals.merge(top3_sums, on=\"party\", how=\"left\").fillna({\"top3_sum\": 0})\n",
    "res[\"share_all\"] = (res[\"top3_sum\"] / total_tweets * 100).round(2)\n",
    "res[\"share_party\"] = (res[\"top3_sum\"] / res[\"included_total\"] * 100).round(2)\n",
    "\n",
    "# Namen der Top-3 je Partei sammeln\n",
    "name_lists = (\n",
    "    top3_per_party.assign(name_fmt=top3_per_party[\"name\"].map(format_name))\n",
    "    .groupby(\"party\")[\"name_fmt\"].apply(lambda s: \", \".join(s.tolist()))\n",
    "    .reset_index(name=\"Top 3 Politicians\")\n",
    ")\n",
    "\n",
    "# Finale Tabelle\n",
    "final_table = (\n",
    "    res.merge(name_lists, on=\"party\", how=\"left\")\n",
    "      .loc[:, [\"party\", \"Top 3 Politicians\", \"share_all\", \"share_party\"]]\n",
    "      .rename(columns={\n",
    "          \"party\": \"Party\",\n",
    "          \"share_all\": \"Share of all tweets (%)\",\n",
    "          \"share_party\": \"Share of party’s politician tweets (%)\"\n",
    "      })\n",
    "      .sort_values(\"Party\")\n",
    "      .reset_index(drop=True)\n",
    ")\n",
    "\n",
    "# Export\n",
    "out_file_top3 = EXPORT_PATH / \"top3_politicians_per_party.csv\"\n",
    "final_table.to_csv(out_file_top3, sep=\";\", encoding=\"utf-8-sig\", index=False)\n",
    "\n",
    "print(\"CSV gespeichert:\", out_file_top3)\n",
    "display(final_table)\n"
   ]
  },
  {
   "cell_type": "code",
   "execution_count": 11,
   "id": "d3e26a06",
   "metadata": {},
   "outputs": [
    {
     "name": "stdout",
     "output_type": "stream",
     "text": [
      "✅ CSV gespeichert: E:\\Final_Github_1\\MasterThesis_final\\data\\analysis\\Descriptive_Analyis_6_1\\engagement_summary_per_party_all.csv\n",
      "✅ CSV gespeichert: E:\\Final_Github_1\\MasterThesis_final\\data\\analysis\\Descriptive_Analyis_6_1\\engagement_summary_per_party_mirror.csv\n",
      "✅ CSV gespeichert: E:\\Final_Github_1\\MasterThesis_final\\data\\analysis\\Descriptive_Analyis_6_1\\engagement_summary_per_party_augmentation.csv\n"
     ]
    },
    {
     "data": {
      "text/html": [
       "<div>\n",
       "<style scoped>\n",
       "    .dataframe tbody tr th:only-of-type {\n",
       "        vertical-align: middle;\n",
       "    }\n",
       "\n",
       "    .dataframe tbody tr th {\n",
       "        vertical-align: top;\n",
       "    }\n",
       "\n",
       "    .dataframe thead th {\n",
       "        text-align: right;\n",
       "    }\n",
       "</style>\n",
       "<table border=\"1\" class=\"dataframe\">\n",
       "  <thead>\n",
       "    <tr style=\"text-align: right;\">\n",
       "      <th></th>\n",
       "      <th>party</th>\n",
       "      <th>total_comments</th>\n",
       "      <th>avg_comments</th>\n",
       "      <th>total_retweets</th>\n",
       "      <th>avg_retweets</th>\n",
       "      <th>total_quotes</th>\n",
       "      <th>avg_quotes</th>\n",
       "      <th>total_likes</th>\n",
       "      <th>avg_likes</th>\n",
       "      <th>tweet_count</th>\n",
       "      <th>total_engagement</th>\n",
       "      <th>engagement_per_tweet</th>\n",
       "    </tr>\n",
       "  </thead>\n",
       "  <tbody>\n",
       "    <tr>\n",
       "      <th>3</th>\n",
       "      <td>CDU/CSU</td>\n",
       "      <td>533604.0</td>\n",
       "      <td>1.17</td>\n",
       "      <td>530681.0</td>\n",
       "      <td>1.17</td>\n",
       "      <td>721558.0</td>\n",
       "      <td>1.58</td>\n",
       "      <td>380405.0</td>\n",
       "      <td>0.84</td>\n",
       "      <td>455372</td>\n",
       "      <td>2166248.0</td>\n",
       "      <td>4.76</td>\n",
       "    </tr>\n",
       "    <tr>\n",
       "      <th>1</th>\n",
       "      <td>B90/GRÜNE</td>\n",
       "      <td>337926.0</td>\n",
       "      <td>1.21</td>\n",
       "      <td>333204.0</td>\n",
       "      <td>1.20</td>\n",
       "      <td>456059.0</td>\n",
       "      <td>1.64</td>\n",
       "      <td>216820.0</td>\n",
       "      <td>0.78</td>\n",
       "      <td>278280</td>\n",
       "      <td>1344009.0</td>\n",
       "      <td>4.83</td>\n",
       "    </tr>\n",
       "    <tr>\n",
       "      <th>4</th>\n",
       "      <td>FDP</td>\n",
       "      <td>172402.0</td>\n",
       "      <td>1.24</td>\n",
       "      <td>163165.0</td>\n",
       "      <td>1.17</td>\n",
       "      <td>212867.0</td>\n",
       "      <td>1.53</td>\n",
       "      <td>122086.0</td>\n",
       "      <td>0.88</td>\n",
       "      <td>139380</td>\n",
       "      <td>670520.0</td>\n",
       "      <td>4.81</td>\n",
       "    </tr>\n",
       "    <tr>\n",
       "      <th>0</th>\n",
       "      <td>AfD</td>\n",
       "      <td>202716.0</td>\n",
       "      <td>1.26</td>\n",
       "      <td>175120.0</td>\n",
       "      <td>1.09</td>\n",
       "      <td>209107.0</td>\n",
       "      <td>1.30</td>\n",
       "      <td>67625.0</td>\n",
       "      <td>0.42</td>\n",
       "      <td>161263</td>\n",
       "      <td>654568.0</td>\n",
       "      <td>4.06</td>\n",
       "    </tr>\n",
       "    <tr>\n",
       "      <th>6</th>\n",
       "      <td>SPD</td>\n",
       "      <td>141858.0</td>\n",
       "      <td>1.09</td>\n",
       "      <td>134637.0</td>\n",
       "      <td>1.04</td>\n",
       "      <td>181206.0</td>\n",
       "      <td>1.40</td>\n",
       "      <td>86053.0</td>\n",
       "      <td>0.66</td>\n",
       "      <td>129583</td>\n",
       "      <td>543754.0</td>\n",
       "      <td>4.20</td>\n",
       "    </tr>\n",
       "    <tr>\n",
       "      <th>5</th>\n",
       "      <td>LINKE</td>\n",
       "      <td>64740.0</td>\n",
       "      <td>1.29</td>\n",
       "      <td>59865.0</td>\n",
       "      <td>1.19</td>\n",
       "      <td>55154.0</td>\n",
       "      <td>1.10</td>\n",
       "      <td>28084.0</td>\n",
       "      <td>0.56</td>\n",
       "      <td>50166</td>\n",
       "      <td>207843.0</td>\n",
       "      <td>4.14</td>\n",
       "    </tr>\n",
       "    <tr>\n",
       "      <th>2</th>\n",
       "      <td>BSW</td>\n",
       "      <td>66164.0</td>\n",
       "      <td>1.28</td>\n",
       "      <td>51771.0</td>\n",
       "      <td>1.00</td>\n",
       "      <td>61488.0</td>\n",
       "      <td>1.19</td>\n",
       "      <td>23314.0</td>\n",
       "      <td>0.45</td>\n",
       "      <td>51633</td>\n",
       "      <td>202737.0</td>\n",
       "      <td>3.93</td>\n",
       "    </tr>\n",
       "  </tbody>\n",
       "</table>\n",
       "</div>"
      ],
      "text/plain": [
       "       party  total_comments  avg_comments  total_retweets  avg_retweets  \\\n",
       "3    CDU/CSU        533604.0          1.17        530681.0          1.17   \n",
       "1  B90/GRÜNE        337926.0          1.21        333204.0          1.20   \n",
       "4        FDP        172402.0          1.24        163165.0          1.17   \n",
       "0        AfD        202716.0          1.26        175120.0          1.09   \n",
       "6        SPD        141858.0          1.09        134637.0          1.04   \n",
       "5      LINKE         64740.0          1.29         59865.0          1.19   \n",
       "2        BSW         66164.0          1.28         51771.0          1.00   \n",
       "\n",
       "   total_quotes  avg_quotes  total_likes  avg_likes  tweet_count  \\\n",
       "3      721558.0        1.58     380405.0       0.84       455372   \n",
       "1      456059.0        1.64     216820.0       0.78       278280   \n",
       "4      212867.0        1.53     122086.0       0.88       139380   \n",
       "0      209107.0        1.30      67625.0       0.42       161263   \n",
       "6      181206.0        1.40      86053.0       0.66       129583   \n",
       "5       55154.0        1.10      28084.0       0.56        50166   \n",
       "2       61488.0        1.19      23314.0       0.45        51633   \n",
       "\n",
       "   total_engagement  engagement_per_tweet  \n",
       "3         2166248.0                  4.76  \n",
       "1         1344009.0                  4.83  \n",
       "4          670520.0                  4.81  \n",
       "0          654568.0                  4.06  \n",
       "6          543754.0                  4.20  \n",
       "5          207843.0                  4.14  \n",
       "2          202737.0                  3.93  "
      ]
     },
     "metadata": {},
     "output_type": "display_data"
    },
    {
     "data": {
      "text/html": [
       "<div>\n",
       "<style scoped>\n",
       "    .dataframe tbody tr th:only-of-type {\n",
       "        vertical-align: middle;\n",
       "    }\n",
       "\n",
       "    .dataframe tbody tr th {\n",
       "        vertical-align: top;\n",
       "    }\n",
       "\n",
       "    .dataframe thead th {\n",
       "        text-align: right;\n",
       "    }\n",
       "</style>\n",
       "<table border=\"1\" class=\"dataframe\">\n",
       "  <thead>\n",
       "    <tr style=\"text-align: right;\">\n",
       "      <th></th>\n",
       "      <th>party</th>\n",
       "      <th>total_comments</th>\n",
       "      <th>avg_comments</th>\n",
       "      <th>total_retweets</th>\n",
       "      <th>avg_retweets</th>\n",
       "      <th>total_quotes</th>\n",
       "      <th>avg_quotes</th>\n",
       "      <th>total_likes</th>\n",
       "      <th>avg_likes</th>\n",
       "      <th>tweet_count</th>\n",
       "      <th>total_engagement</th>\n",
       "      <th>engagement_per_tweet</th>\n",
       "    </tr>\n",
       "  </thead>\n",
       "  <tbody>\n",
       "    <tr>\n",
       "      <th>3</th>\n",
       "      <td>CDU/CSU</td>\n",
       "      <td>325112.0</td>\n",
       "      <td>1.17</td>\n",
       "      <td>322048.0</td>\n",
       "      <td>1.16</td>\n",
       "      <td>431584.0</td>\n",
       "      <td>1.56</td>\n",
       "      <td>239987.0</td>\n",
       "      <td>0.87</td>\n",
       "      <td>276816</td>\n",
       "      <td>1318731.0</td>\n",
       "      <td>4.76</td>\n",
       "    </tr>\n",
       "    <tr>\n",
       "      <th>1</th>\n",
       "      <td>B90/GRÜNE</td>\n",
       "      <td>222276.0</td>\n",
       "      <td>1.20</td>\n",
       "      <td>214325.0</td>\n",
       "      <td>1.15</td>\n",
       "      <td>294977.0</td>\n",
       "      <td>1.59</td>\n",
       "      <td>144144.0</td>\n",
       "      <td>0.78</td>\n",
       "      <td>185858</td>\n",
       "      <td>875722.0</td>\n",
       "      <td>4.71</td>\n",
       "    </tr>\n",
       "    <tr>\n",
       "      <th>4</th>\n",
       "      <td>FDP</td>\n",
       "      <td>93504.0</td>\n",
       "      <td>1.16</td>\n",
       "      <td>89115.0</td>\n",
       "      <td>1.10</td>\n",
       "      <td>111809.0</td>\n",
       "      <td>1.39</td>\n",
       "      <td>70677.0</td>\n",
       "      <td>0.88</td>\n",
       "      <td>80678</td>\n",
       "      <td>365105.0</td>\n",
       "      <td>4.53</td>\n",
       "    </tr>\n",
       "    <tr>\n",
       "      <th>0</th>\n",
       "      <td>AfD</td>\n",
       "      <td>108103.0</td>\n",
       "      <td>1.22</td>\n",
       "      <td>92759.0</td>\n",
       "      <td>1.04</td>\n",
       "      <td>106692.0</td>\n",
       "      <td>1.20</td>\n",
       "      <td>38041.0</td>\n",
       "      <td>0.43</td>\n",
       "      <td>88931</td>\n",
       "      <td>345595.0</td>\n",
       "      <td>3.89</td>\n",
       "    </tr>\n",
       "    <tr>\n",
       "      <th>6</th>\n",
       "      <td>SPD</td>\n",
       "      <td>85380.0</td>\n",
       "      <td>1.13</td>\n",
       "      <td>77053.0</td>\n",
       "      <td>1.02</td>\n",
       "      <td>104773.0</td>\n",
       "      <td>1.39</td>\n",
       "      <td>49070.0</td>\n",
       "      <td>0.65</td>\n",
       "      <td>75313</td>\n",
       "      <td>316276.0</td>\n",
       "      <td>4.20</td>\n",
       "    </tr>\n",
       "    <tr>\n",
       "      <th>2</th>\n",
       "      <td>BSW</td>\n",
       "      <td>41740.0</td>\n",
       "      <td>1.27</td>\n",
       "      <td>33068.0</td>\n",
       "      <td>1.01</td>\n",
       "      <td>41615.0</td>\n",
       "      <td>1.27</td>\n",
       "      <td>16891.0</td>\n",
       "      <td>0.51</td>\n",
       "      <td>32826</td>\n",
       "      <td>133314.0</td>\n",
       "      <td>4.06</td>\n",
       "    </tr>\n",
       "    <tr>\n",
       "      <th>5</th>\n",
       "      <td>LINKE</td>\n",
       "      <td>41851.0</td>\n",
       "      <td>1.31</td>\n",
       "      <td>38685.0</td>\n",
       "      <td>1.21</td>\n",
       "      <td>32687.0</td>\n",
       "      <td>1.03</td>\n",
       "      <td>19391.0</td>\n",
       "      <td>0.61</td>\n",
       "      <td>31870</td>\n",
       "      <td>132614.0</td>\n",
       "      <td>4.16</td>\n",
       "    </tr>\n",
       "  </tbody>\n",
       "</table>\n",
       "</div>"
      ],
      "text/plain": [
       "       party  total_comments  avg_comments  total_retweets  avg_retweets  \\\n",
       "3    CDU/CSU        325112.0          1.17        322048.0          1.16   \n",
       "1  B90/GRÜNE        222276.0          1.20        214325.0          1.15   \n",
       "4        FDP         93504.0          1.16         89115.0          1.10   \n",
       "0        AfD        108103.0          1.22         92759.0          1.04   \n",
       "6        SPD         85380.0          1.13         77053.0          1.02   \n",
       "2        BSW         41740.0          1.27         33068.0          1.01   \n",
       "5      LINKE         41851.0          1.31         38685.0          1.21   \n",
       "\n",
       "   total_quotes  avg_quotes  total_likes  avg_likes  tweet_count  \\\n",
       "3      431584.0        1.56     239987.0       0.87       276816   \n",
       "1      294977.0        1.59     144144.0       0.78       185858   \n",
       "4      111809.0        1.39      70677.0       0.88        80678   \n",
       "0      106692.0        1.20      38041.0       0.43        88931   \n",
       "6      104773.0        1.39      49070.0       0.65        75313   \n",
       "2       41615.0        1.27      16891.0       0.51        32826   \n",
       "5       32687.0        1.03      19391.0       0.61        31870   \n",
       "\n",
       "   total_engagement  engagement_per_tweet  \n",
       "3         1318731.0                  4.76  \n",
       "1          875722.0                  4.71  \n",
       "4          365105.0                  4.53  \n",
       "0          345595.0                  3.89  \n",
       "6          316276.0                  4.20  \n",
       "2          133314.0                  4.06  \n",
       "5          132614.0                  4.16  "
      ]
     },
     "metadata": {},
     "output_type": "display_data"
    },
    {
     "data": {
      "text/html": [
       "<div>\n",
       "<style scoped>\n",
       "    .dataframe tbody tr th:only-of-type {\n",
       "        vertical-align: middle;\n",
       "    }\n",
       "\n",
       "    .dataframe tbody tr th {\n",
       "        vertical-align: top;\n",
       "    }\n",
       "\n",
       "    .dataframe thead th {\n",
       "        text-align: right;\n",
       "    }\n",
       "</style>\n",
       "<table border=\"1\" class=\"dataframe\">\n",
       "  <thead>\n",
       "    <tr style=\"text-align: right;\">\n",
       "      <th></th>\n",
       "      <th>party</th>\n",
       "      <th>total_comments</th>\n",
       "      <th>avg_comments</th>\n",
       "      <th>total_retweets</th>\n",
       "      <th>avg_retweets</th>\n",
       "      <th>total_quotes</th>\n",
       "      <th>avg_quotes</th>\n",
       "      <th>total_likes</th>\n",
       "      <th>avg_likes</th>\n",
       "      <th>tweet_count</th>\n",
       "      <th>total_engagement</th>\n",
       "      <th>engagement_per_tweet</th>\n",
       "    </tr>\n",
       "  </thead>\n",
       "  <tbody>\n",
       "    <tr>\n",
       "      <th>3</th>\n",
       "      <td>CDU/CSU</td>\n",
       "      <td>208492.0</td>\n",
       "      <td>1.17</td>\n",
       "      <td>208633.0</td>\n",
       "      <td>1.17</td>\n",
       "      <td>289974.0</td>\n",
       "      <td>1.62</td>\n",
       "      <td>140418.0</td>\n",
       "      <td>0.79</td>\n",
       "      <td>178556</td>\n",
       "      <td>847517.0</td>\n",
       "      <td>4.75</td>\n",
       "    </tr>\n",
       "    <tr>\n",
       "      <th>1</th>\n",
       "      <td>B90/GRÜNE</td>\n",
       "      <td>115650.0</td>\n",
       "      <td>1.25</td>\n",
       "      <td>118879.0</td>\n",
       "      <td>1.29</td>\n",
       "      <td>161082.0</td>\n",
       "      <td>1.74</td>\n",
       "      <td>72676.0</td>\n",
       "      <td>0.79</td>\n",
       "      <td>92422</td>\n",
       "      <td>468287.0</td>\n",
       "      <td>5.07</td>\n",
       "    </tr>\n",
       "    <tr>\n",
       "      <th>0</th>\n",
       "      <td>AfD</td>\n",
       "      <td>94613.0</td>\n",
       "      <td>1.31</td>\n",
       "      <td>82361.0</td>\n",
       "      <td>1.14</td>\n",
       "      <td>102415.0</td>\n",
       "      <td>1.42</td>\n",
       "      <td>29584.0</td>\n",
       "      <td>0.41</td>\n",
       "      <td>72332</td>\n",
       "      <td>308973.0</td>\n",
       "      <td>4.27</td>\n",
       "    </tr>\n",
       "    <tr>\n",
       "      <th>4</th>\n",
       "      <td>FDP</td>\n",
       "      <td>78898.0</td>\n",
       "      <td>1.34</td>\n",
       "      <td>74050.0</td>\n",
       "      <td>1.26</td>\n",
       "      <td>101058.0</td>\n",
       "      <td>1.72</td>\n",
       "      <td>51409.0</td>\n",
       "      <td>0.88</td>\n",
       "      <td>58702</td>\n",
       "      <td>305415.0</td>\n",
       "      <td>5.20</td>\n",
       "    </tr>\n",
       "    <tr>\n",
       "      <th>6</th>\n",
       "      <td>SPD</td>\n",
       "      <td>56478.0</td>\n",
       "      <td>1.04</td>\n",
       "      <td>57584.0</td>\n",
       "      <td>1.06</td>\n",
       "      <td>76433.0</td>\n",
       "      <td>1.41</td>\n",
       "      <td>36983.0</td>\n",
       "      <td>0.68</td>\n",
       "      <td>54270</td>\n",
       "      <td>227478.0</td>\n",
       "      <td>4.19</td>\n",
       "    </tr>\n",
       "    <tr>\n",
       "      <th>5</th>\n",
       "      <td>LINKE</td>\n",
       "      <td>22889.0</td>\n",
       "      <td>1.25</td>\n",
       "      <td>21180.0</td>\n",
       "      <td>1.16</td>\n",
       "      <td>22467.0</td>\n",
       "      <td>1.23</td>\n",
       "      <td>8693.0</td>\n",
       "      <td>0.48</td>\n",
       "      <td>18296</td>\n",
       "      <td>75229.0</td>\n",
       "      <td>4.11</td>\n",
       "    </tr>\n",
       "    <tr>\n",
       "      <th>2</th>\n",
       "      <td>BSW</td>\n",
       "      <td>24424.0</td>\n",
       "      <td>1.30</td>\n",
       "      <td>18703.0</td>\n",
       "      <td>0.99</td>\n",
       "      <td>19873.0</td>\n",
       "      <td>1.06</td>\n",
       "      <td>6423.0</td>\n",
       "      <td>0.34</td>\n",
       "      <td>18807</td>\n",
       "      <td>69423.0</td>\n",
       "      <td>3.69</td>\n",
       "    </tr>\n",
       "  </tbody>\n",
       "</table>\n",
       "</div>"
      ],
      "text/plain": [
       "       party  total_comments  avg_comments  total_retweets  avg_retweets  \\\n",
       "3    CDU/CSU        208492.0          1.17        208633.0          1.17   \n",
       "1  B90/GRÜNE        115650.0          1.25        118879.0          1.29   \n",
       "0        AfD         94613.0          1.31         82361.0          1.14   \n",
       "4        FDP         78898.0          1.34         74050.0          1.26   \n",
       "6        SPD         56478.0          1.04         57584.0          1.06   \n",
       "5      LINKE         22889.0          1.25         21180.0          1.16   \n",
       "2        BSW         24424.0          1.30         18703.0          0.99   \n",
       "\n",
       "   total_quotes  avg_quotes  total_likes  avg_likes  tweet_count  \\\n",
       "3      289974.0        1.62     140418.0       0.79       178556   \n",
       "1      161082.0        1.74      72676.0       0.79        92422   \n",
       "0      102415.0        1.42      29584.0       0.41        72332   \n",
       "4      101058.0        1.72      51409.0       0.88        58702   \n",
       "6       76433.0        1.41      36983.0       0.68        54270   \n",
       "5       22467.0        1.23       8693.0       0.48        18296   \n",
       "2       19873.0        1.06       6423.0       0.34        18807   \n",
       "\n",
       "   total_engagement  engagement_per_tweet  \n",
       "3          847517.0                  4.75  \n",
       "1          468287.0                  5.07  \n",
       "0          308973.0                  4.27  \n",
       "4          305415.0                  5.20  \n",
       "6          227478.0                  4.19  \n",
       "5           75229.0                  4.11  \n",
       "2           69423.0                  3.69  "
      ]
     },
     "metadata": {},
     "output_type": "display_data"
    }
   ],
   "source": [
    "import pandas as pd\n",
    "from pathlib import Path\n",
    "\n",
    "# --- Paths ---\n",
    "EXPORT_PATH = Path(r\"E:\\Final_Github_1\\MasterThesis_final\\data\\analysis\\Descriptive_Analyis_6_1\")\n",
    "\n",
    "# Make sure the directory exists\n",
    "EXPORT_PATH.mkdir(parents=True, exist_ok=True)\n",
    "\n",
    "# --- Helper Function to Aggregate Engagement ---\n",
    "def engagement_summary_func(df: pd.DataFrame, name: str) -> pd.DataFrame:\n",
    "    summary = (\n",
    "        df.groupby(\"party\")\n",
    "        .agg(\n",
    "            total_comments=(\"comments\", \"sum\"),\n",
    "            avg_comments=(\"comments\", \"mean\"),\n",
    "            total_retweets=(\"retweets\", \"sum\"),\n",
    "            avg_retweets=(\"retweets\", \"mean\"),\n",
    "            total_quotes=(\"quotes\", \"sum\"),\n",
    "            avg_quotes=(\"quotes\", \"mean\"),\n",
    "            total_likes=(\"likes\", \"sum\"),\n",
    "            avg_likes=(\"likes\", \"mean\"),\n",
    "            tweet_count=(\"comments\", \"count\")\n",
    "        )\n",
    "        .reset_index()\n",
    "    )\n",
    "\n",
    "    # Gesamt-Engagement\n",
    "    summary[\"total_engagement\"] = (\n",
    "        summary[\"total_comments\"]\n",
    "        + summary[\"total_retweets\"]\n",
    "        + summary[\"total_quotes\"]\n",
    "        + summary[\"total_likes\"]\n",
    "    )\n",
    "\n",
    "    # Durchschnittliches Engagement pro Tweet\n",
    "    summary[\"engagement_per_tweet\"] = (\n",
    "        summary[\"total_engagement\"] / summary[\"tweet_count\"]\n",
    "    ).round(2)\n",
    "\n",
    "    # Runden\n",
    "    summary = summary.round({\n",
    "        \"avg_comments\": 2,\n",
    "        \"avg_retweets\": 2,\n",
    "        \"avg_quotes\": 2,\n",
    "        \"avg_likes\": 2\n",
    "    })\n",
    "\n",
    "    # Sortieren nach Gesamt-Engagement\n",
    "    summary = summary.sort_values(by=\"total_engagement\", ascending=False)\n",
    "\n",
    "    # Exportieren\n",
    "    out_file = EXPORT_PATH / f\"engagement_summary_per_party_{name}.csv\"\n",
    "    summary.to_csv(out_file, sep=\";\", encoding=\"utf-8-sig\", index=False)\n",
    "    print(f\"✅ CSV gespeichert: {out_file}\")\n",
    "\n",
    "    return summary\n",
    "\n",
    "\n",
    "# --- Run for all datasets ---\n",
    "summary_all = engagement_summary_func(df_all, \"all\")\n",
    "summary_mirror = engagement_summary_func(df_mirror, \"mirror\")\n",
    "summary_aug = engagement_summary_func(df_aug, \"augmentation\")\n",
    "\n",
    "# Optional: Display in Jupyter\n",
    "display(summary_all)\n",
    "display(summary_mirror)\n",
    "display(summary_aug)\n",
    "\n"
   ]
  }
 ],
 "metadata": {
  "kernelspec": {
   "display_name": "Python 3",
   "language": "python",
   "name": "python3"
  },
  "language_info": {
   "codemirror_mode": {
    "name": "ipython",
    "version": 3
   },
   "file_extension": ".py",
   "mimetype": "text/x-python",
   "name": "python",
   "nbconvert_exporter": "python",
   "pygments_lexer": "ipython3",
   "version": "3.10.9"
  }
 },
 "nbformat": 4,
 "nbformat_minor": 5
}
