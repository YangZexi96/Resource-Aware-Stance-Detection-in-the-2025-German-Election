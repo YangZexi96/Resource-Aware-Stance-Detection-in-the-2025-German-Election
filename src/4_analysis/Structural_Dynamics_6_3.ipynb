{
 "cells": [
  {
   "cell_type": "code",
   "execution_count": 2,
   "id": "61b61351",
   "metadata": {},
   "outputs": [
    {
     "name": "stdout",
     "output_type": "stream",
     "text": [
      "✅ Initialisierung abgeschlossen\n",
      "Shape Gesamt: (1265804, 15)\n",
      "Beispielspalten: ['tweet_id', 'username', 'X_handle', 'name', 'timestamp', 'party', 'tweet_text', 'pred', 'pred_short', 'raw']\n",
      "                           tweet_id        username   X_handle  \\\n",
      "0  5db02195065a5bfb8f78b64f3ee9029e     @konrad_flo  ABaerbock   \n",
      "1  a3fe4ee79dcb56d6843bc40bfe7f061c     @8_dennis_2  ABaerbock   \n",
      "2  9be69ce59eea51559a1f63a11f3ffc51  @lebensretter3  ABaerbock   \n",
      "\n",
      "                                name                   timestamp      party  \\\n",
      "0  Baerbock, Annalena Charlotte Alma  Sep 4, 2024 · 11:56 PM UTC  B90/GRÜNE   \n",
      "1  Baerbock, Annalena Charlotte Alma  Sep 4, 2024 · 11:53 PM UTC  B90/GRÜNE   \n",
      "2  Baerbock, Annalena Charlotte Alma  Sep 4, 2024 · 11:50 PM UTC  B90/GRÜNE   \n",
      "\n",
      "                                          tweet_text       pred pred_short  \\\n",
      "0  Hää?? Ja was glauben Sie denn was in einem Kri...  Ablehnung         Ab   \n",
      "1  Ich bin sicher, dass dieser Unterschied gemach...    Neutral         Ne   \n",
      "2                   Gibts auch wieder schöne Bilder?    Neutral         Ne   \n",
      "\n",
      "  raw  comments  retweets  quotes  likes  n_tweets  \n",
      "0  Ab       0.0       0.0     0.0    0.0         4  \n",
      "1  Ne       0.0       0.0     0.0    0.0       154  \n",
      "2  Ne       0.0       0.0     0.0    0.0        62  \n",
      "Export-Pfad: E:\\Final_Github_1\\MasterThesis_final\\data\\analysis\\Structural_Dynamics_6_3\n"
     ]
    }
   ],
   "source": [
    "# ================================\n",
    "# Initialisierung für 6.3 Structural Alignment\n",
    "# ================================\n",
    "\n",
    "import pandas as pd\n",
    "import numpy as np\n",
    "from pathlib import Path\n",
    "\n",
    "# Farbdefinitionen für Plots\n",
    "party_colors = {\n",
    "    \"CDU/CSU\": \"#000000\",\n",
    "    \"AfD\": \"#0056FF\",\n",
    "    \"SPD\": \"#E3000F\",\n",
    "    \"B90/GRÜNE\": \"#1FA12E\",\n",
    "    \"LINKE\": \"#A3488A\",\n",
    "    \"BSW\": \"#D77AFF\",\n",
    "    \"FDP\": \"#FFED00\",\n",
    "    \"FW\": \"#FF9900\",\n",
    "    \"Sonstige\": \"#B0B0B0\"\n",
    "}\n",
    "\n",
    "# Daten laden\n",
    "DATA_PATH1 = r\"E:\\Final_Github_1\\MasterThesis_final\\data\\processed\\preprocessing\\mirror\\mirror_llama_final.csv\"\n",
    "DATA_PATH2 = r\"E:\\Final_Github_1\\MasterThesis_final\\data\\processed\\preprocessing\\augmentation\\augmentation_llama_final.csv\"\n",
    "\n",
    "df_mirror = pd.read_csv(DATA_PATH1, sep=\";\", encoding=\"utf-8-sig\", dtype={\"timestamp\": str})\n",
    "df_aug    = pd.read_csv(DATA_PATH2, sep=\";\", encoding=\"utf-8-sig\", dtype={\"timestamp\": str})\n",
    "\n",
    "# CDU/CSU normalisieren\n",
    "cdu_variants = [\"CDU\", \"CSU\", \"CDU/CSU\"]\n",
    "for df in [df_mirror, df_aug]:\n",
    "    if \"party\" in df.columns:\n",
    "        df[\"party\"] = df[\"party\"].replace(cdu_variants, \"CDU/CSU\")\n",
    "\n",
    "# Daten kombinieren\n",
    "df_all = pd.concat([df_mirror, df_aug], ignore_index=True)\n",
    "\n",
    "# Erwartete Kernspalten für 6.3:\n",
    "# username (user_id), party, interaction_party, pred (stance), n_tweets\n",
    "if \"n_tweets\" not in df_all.columns:\n",
    "    user_counts = df_all.groupby(\"username\").size().reset_index(name=\"n_tweets\")\n",
    "    df_all = df_all.merge(user_counts, on=\"username\", how=\"left\")\n",
    "\n",
    "# Output-Pfad definieren\n",
    "EXPORT_PATH = Path(r\"E:\\Final_Github_1\\MasterThesis_final\\data\\analysis\\Structural_Dynamics_6_3\")\n",
    "EXPORT_PATH.mkdir(parents=True, exist_ok=True)\n",
    "\n",
    "print(\"✅ Initialisierung abgeschlossen\")\n",
    "print(\"Shape Gesamt:\", df_all.shape)\n",
    "print(\"Beispielspalten:\", df_all.columns.tolist()[:10])\n",
    "print(df_all.head(3))\n",
    "print(\"Export-Pfad:\", EXPORT_PATH)\n"
   ]
  },
  {
   "cell_type": "code",
   "execution_count": 3,
   "id": "5ea62073",
   "metadata": {},
   "outputs": [
    {
     "name": "stdout",
     "output_type": "stream",
     "text": [
      "Assigned Users insgesamt: 10025\n",
      "\n",
      "Cross-Partisan Index (CPI) pro Partei:\n"
     ]
    },
    {
     "data": {
      "text/html": [
       "<div>\n",
       "<style scoped>\n",
       "    .dataframe tbody tr th:only-of-type {\n",
       "        vertical-align: middle;\n",
       "    }\n",
       "\n",
       "    .dataframe tbody tr th {\n",
       "        vertical-align: top;\n",
       "    }\n",
       "\n",
       "    .dataframe thead th {\n",
       "        text-align: right;\n",
       "    }\n",
       "</style>\n",
       "<table border=\"1\" class=\"dataframe\">\n",
       "  <thead>\n",
       "    <tr style=\"text-align: right;\">\n",
       "      <th></th>\n",
       "      <th>user_party</th>\n",
       "      <th>total_interactions</th>\n",
       "      <th>cross_interactions</th>\n",
       "      <th>CPI</th>\n",
       "    </tr>\n",
       "  </thead>\n",
       "  <tbody>\n",
       "    <tr>\n",
       "      <th>6</th>\n",
       "      <td>SPD</td>\n",
       "      <td>11161</td>\n",
       "      <td>7009</td>\n",
       "      <td>0.627990</td>\n",
       "    </tr>\n",
       "    <tr>\n",
       "      <th>4</th>\n",
       "      <td>FDP</td>\n",
       "      <td>35470</td>\n",
       "      <td>22161</td>\n",
       "      <td>0.624782</td>\n",
       "    </tr>\n",
       "    <tr>\n",
       "      <th>1</th>\n",
       "      <td>B90/GRÜNE</td>\n",
       "      <td>98588</td>\n",
       "      <td>60992</td>\n",
       "      <td>0.618655</td>\n",
       "    </tr>\n",
       "    <tr>\n",
       "      <th>5</th>\n",
       "      <td>LINKE</td>\n",
       "      <td>11763</td>\n",
       "      <td>7220</td>\n",
       "      <td>0.613789</td>\n",
       "    </tr>\n",
       "    <tr>\n",
       "      <th>0</th>\n",
       "      <td>AfD</td>\n",
       "      <td>84711</td>\n",
       "      <td>51980</td>\n",
       "      <td>0.613616</td>\n",
       "    </tr>\n",
       "    <tr>\n",
       "      <th>2</th>\n",
       "      <td>BSW</td>\n",
       "      <td>11612</td>\n",
       "      <td>6080</td>\n",
       "      <td>0.523596</td>\n",
       "    </tr>\n",
       "    <tr>\n",
       "      <th>3</th>\n",
       "      <td>CDU/CSU</td>\n",
       "      <td>160686</td>\n",
       "      <td>78570</td>\n",
       "      <td>0.488966</td>\n",
       "    </tr>\n",
       "  </tbody>\n",
       "</table>\n",
       "</div>"
      ],
      "text/plain": [
       "  user_party  total_interactions  cross_interactions       CPI\n",
       "6        SPD               11161                7009  0.627990\n",
       "4        FDP               35470               22161  0.624782\n",
       "1  B90/GRÜNE               98588               60992  0.618655\n",
       "5      LINKE               11763                7220  0.613789\n",
       "0        AfD               84711               51980  0.613616\n",
       "2        BSW               11612                6080  0.523596\n",
       "3    CDU/CSU              160686               78570  0.488966"
      ]
     },
     "metadata": {},
     "output_type": "display_data"
    },
    {
     "data": {
      "image/png": "[encoded data removed]",
      "text/plain": [
       "<Figure size 800x600 with 2 Axes>"
      ]
     },
     "metadata": {},
     "output_type": "display_data"
    },
    {
     "data": {
      "image/png": "[encoded data removed]",
      "text/plain": [
       "<Figure size 800x600 with 2 Axes>"
      ]
     },
     "metadata": {},
     "output_type": "display_data"
    },
    {
     "name": "stdout",
     "output_type": "stream",
     "text": [
      "[OK] CPI gespeichert: E:\\Final_Github_1\\MasterThesis_final\\data\\analysis\\Structural_Dynamics_6_3\\cpi_per_party.csv\n",
      "[OK] Matrix gespeichert: E:\\Final_Github_1\\MasterThesis_final\\data\\analysis\\Structural_Dynamics_6_3\\interaction_matrix.csv\n",
      "[OK] Matrix (%) gespeichert: E:\\Final_Github_1\\MasterThesis_final\\data\\analysis\\Structural_Dynamics_6_3\\interaction_matrix_percent.csv\n",
      "[OK] Heatmaps gespeichert: E:\\Final_Github_1\\MasterThesis_final\\data\\analysis\\Structural_Dynamics_6_3\\heatmap_counts.png, E:\\Final_Github_1\\MasterThesis_final\\data\\analysis\\Structural_Dynamics_6_3\\heatmap_percent.png\n"
     ]
    }
   ],
   "source": [
    "# ============================================\n",
    "# Assigned Users (ASI) + Cross-Partisan Index (CPI) + Heatmap\n",
    "# ============================================\n",
    "\n",
    "import matplotlib.pyplot as plt\n",
    "import seaborn as sns\n",
    "\n",
    "# 1. Zustimmung-Tweets filtern\n",
    "df_support = df_all[df_all[\"pred\"] == \"Zustimmung\"]\n",
    "\n",
    "# 2. Zustimmung pro User und Partei zählen\n",
    "user_party_counts = (\n",
    "    df_support.groupby([\"username\", \"party\"])\n",
    "    .size()\n",
    "    .reset_index(name=\"support_count\")\n",
    ")\n",
    "\n",
    "# 3. Nur User mit ≥3 Zustimmungen (ASI-Definition)\n",
    "user_party_assigned = user_party_counts[user_party_counts[\"support_count\"] >= 3]\n",
    "\n",
    "# 4. Jeder User → Partei mit den meisten Zustimmungen\n",
    "user_max_party = (\n",
    "    user_party_assigned.sort_values([\"username\", \"support_count\"], ascending=[True, False])\n",
    "    .drop_duplicates(subset=\"username\", keep=\"first\")\n",
    ")\n",
    "\n",
    "# 5. Liste eindeutig zugewiesener User\n",
    "assigned_users = user_max_party.rename(columns={\"party\": \"user_party\"})[[\"username\", \"user_party\"]]\n",
    "print(\"Assigned Users insgesamt:\", assigned_users.shape[0])\n",
    "\n",
    "# 6. Merge: nur Tweets dieser assigned users\n",
    "df_assigned = df_all.merge(assigned_users, on=\"username\", how=\"inner\")\n",
    "\n",
    "# 7. Interaktionstyp bestimmen\n",
    "df_assigned[\"interaction_type\"] = np.where(\n",
    "    df_assigned[\"user_party\"] == df_assigned[\"party\"], \"Echo\", \"Cross\"\n",
    ")\n",
    "\n",
    "# 8. CPI pro Partei berechnen\n",
    "cpi_df = (\n",
    "    df_assigned.groupby(\"user_party\")\n",
    "      .agg(\n",
    "          total_interactions=(\"interaction_type\", \"count\"),\n",
    "          cross_interactions=(\"interaction_type\", lambda x: (x == \"Cross\").sum())\n",
    "      )\n",
    "      .reset_index()\n",
    ")\n",
    "cpi_df[\"CPI\"] = cpi_df[\"cross_interactions\"] / cpi_df[\"total_interactions\"]\n",
    "\n",
    "print(\"\\nCross-Partisan Index (CPI) pro Partei:\")\n",
    "display(cpi_df.sort_values(\"CPI\", ascending=False))\n",
    "\n",
    "# 9. Heatmap: Partei → Partei Interaktionen\n",
    "matrix = (\n",
    "    df_assigned.groupby([\"user_party\", \"party\"])\n",
    "      .size()\n",
    "      .reset_index(name=\"count\")\n",
    "      .pivot(index=\"user_party\", columns=\"party\", values=\"count\")\n",
    "      .fillna(0)\n",
    ")\n",
    "\n",
    "plt.figure(figsize=(8,6))\n",
    "sns.heatmap(matrix, annot=True, fmt=\".0f\", cmap=\"Blues\")\n",
    "plt.title(\"Interaktions-Matrix (Assigned Users: User-Partei → Ziel-Partei)\")\n",
    "plt.ylabel(\"User-Partei\")\n",
    "plt.xlabel(\"Adressierte Partei\")\n",
    "heatmap_counts_path = EXPORT_PATH / \"heatmap_counts.png\"\n",
    "plt.savefig(heatmap_counts_path, dpi=300, bbox_inches=\"tight\")\n",
    "plt.show()\n",
    "\n",
    "# Interaktionsmatrix in Prozent (Zeilen-normalisiert)\n",
    "matrix_percent = matrix.div(matrix.sum(axis=1), axis=0) * 100\n",
    "\n",
    "plt.figure(figsize=(8,6))\n",
    "sns.heatmap(matrix_percent, annot=True, fmt=\".1f\", cmap=\"Blues\", cbar_kws={'label': '%'})\n",
    "plt.title(\"Interaktions-Matrix (% Anteile, User-Partei → Ziel-Partei)\")\n",
    "plt.ylabel(\"User-Partei (Sender)\")\n",
    "plt.xlabel(\"Adressierte Partei (Ziel)\")\n",
    "heatmap_percent_path = EXPORT_PATH / \"heatmap_percent.png\"\n",
    "plt.savefig(heatmap_percent_path, dpi=300, bbox_inches=\"tight\")\n",
    "plt.show()\n",
    "\n",
    "# --- Ergebnisse exportieren ---\n",
    "cpi_path = EXPORT_PATH / \"cpi_per_party.csv\"\n",
    "matrix_path = EXPORT_PATH / \"interaction_matrix.csv\"\n",
    "matrix_percent_path = EXPORT_PATH / \"interaction_matrix_percent.csv\"\n",
    "\n",
    "cpi_df.to_csv(cpi_path, sep=\";\", index=False, encoding=\"utf-8-sig\")\n",
    "matrix.to_csv(matrix_path, sep=\";\", encoding=\"utf-8-sig\")\n",
    "matrix_percent.to_csv(matrix_percent_path, sep=\";\", encoding=\"utf-8-sig\")\n",
    "\n",
    "print(f\"[OK] CPI gespeichert: {cpi_path}\")\n",
    "print(f\"[OK] Matrix gespeichert: {matrix_path}\")\n",
    "print(f\"[OK] Matrix (%) gespeichert: {matrix_percent_path}\")\n",
    "print(f\"[OK] Heatmaps gespeichert: {heatmap_counts_path}, {heatmap_percent_path}\")\n"
   ]
  },
  {
   "cell_type": "code",
   "execution_count": 4,
   "id": "09f30ad2",
   "metadata": {},
   "outputs": [
    {
     "data": {
      "application/vnd.plotly.v1+json": {
       "config": {
        "plotlyServerURL": "https://plot.ly"
       },
       "data": [
        {
         "coloraxis": "coloraxis",
         "text": {
          "bdata": "yQEAAE8HAACYAQAAdgsAABYEAAAlAQAAOBAAAOoBAACrBQAAiwIAAEgKAAAuBAAAvxEAAJ4DAABqBQAADBcAAMQDAADUJAAA/TMAAPwEAACHDAAA6SIAADtxAADBDgAAxEABAKJBAAD7DwAAZz4AAHkDAAAPBQAAnBUAADwHAACqAgAA9gEAAFwDAADlEQAA3JIAANAJAACJegAAuykAACYLAAAhIwAA238AABkwAAD+CQAAGl0AAJ0TAAD+BwAAQBgAAA==",
          "dtype": "i4",
          "shape": "7, 7"
         },
         "texttemplate": "%{text:.0f}",
         "type": "heatmap",
         "x": [
          "AfD",
          "B90/GRÜNE",
          "BSW",
          "CDU/CSU",
          "FDP",
          "LINKE",
          "SPD"
         ],
         "xaxis": "x",
         "y": [
          "SPD",
          "LINKE",
          "FDP",
          "CDU/CSU",
          "BSW",
          "B90/GRÜNE",
          "AfD"
         ],
         "yaxis": "y",
         "z": {
          "bdata": "yQEAAE8HAACYAQAAdgsAABYEAAAlAQAAOBAAAOoBAACrBQAAiwIAAEgKAAAuBAAAvxEAAJ4DAABqBQAADBcAAMQDAADUJAAA/TMAAPwEAACHDAAA6SIAADtxAADBDgAAxEABAKJBAAD7DwAAZz4AAHkDAAAPBQAAnBUAADwHAACqAgAA9gEAAFwDAADlEQAA3JIAANAJAACJegAAuykAACYLAAAhIwAA238AABkwAAD+CQAAGl0AAJ0TAAD+BwAAQBgAAA==",
          "dtype": "i4",
          "shape": "7, 7"
         }
        },
        {
         "coloraxis": "coloraxis2",
         "text": {
          "bdata": "ZmZmZmZmEEDNzMzMzMwwQJqZmZmZmQ1AzczMzMxMOkDNzMzMzMwiQM3MzMzMzARAmpmZmZmZQkDNzMzMzMwQQJqZmZmZmShAAAAAAAAAFkBmZmZmZmY2QDMzMzMzMyJAzczMzMxMQ0CamZmZmZkfQDMzMzMzMw9AmpmZmZmZMECamZmZmZkFQJqZmZmZmTpAAAAAAADAQkDNzMzMzMwMQAAAAAAAACJAZmZmZmZmFkAAAAAAAAAyQDMzMzMzMwNAzczMzMyMSUAAAAAAAAAlQAAAAAAAAARAzczMzMzMI0DNzMzMzMweQGZmZmZmZiZAzczMzMzMR0DNzMzMzMwvQJqZmZmZmRdAMzMzMzMzEUCamZmZmZkdQGZmZmZmZhJAzczMzMwMQ0AAAAAAAAAEQM3MzMzMzD9AmpmZmZmZJUAzMzMzMzMHQDMzMzMzMyJAzczMzMxMQ0AAAAAAAAAtQAAAAAAAAAhAmpmZmZkZPECamZmZmZkXQDMzMzMzMwNAMzMzMzMzHUA=",
          "dtype": "f8",
          "shape": "7, 7"
         },
         "texttemplate": "%{text:.1f}%",
         "type": "heatmap",
         "x": [
          "AfD",
          "B90/GRÜNE",
          "BSW",
          "CDU/CSU",
          "FDP",
          "LINKE",
          "SPD"
         ],
         "xaxis": "x2",
         "y": [
          "SPD",
          "LINKE",
          "FDP",
          "CDU/CSU",
          "BSW",
          "B90/GRÜNE",
          "AfD"
         ],
         "yaxis": "y2",
         "z": {
          "bdata": "Ck8azeJgEEBLNmndg8MwQBNQZRekPg1AksYHNbhJOkAMvf5ObL4iQA4mzZBvAAVADGHhTrmZQkBRgCgZlKkQQMotGPOqqyhAiJQNMCAjFkAy2IYEEGA2QLcONLhQMSJADZHtNIBPQ0D0iKmmEn0fQHgRisWdQg9AgNZsFD+iMEBz3ziECL4FQA7cdY2IlDpAgBt59svCQkBWIMDufMcMQJRoNRQ4FSJAr4LTCEw/FkCt1XgHJgoyQGReP0XzzQJAAFVCcUaNSUBdZt4puOkkQDUH/ykoXgRAjz/tITXiI0CrdLM7nZ8eQIsdN4n0TSZAmMbstffRR0CkCJK45eUvQEa8/zQxfhdA48LSZt5KEUARi4H14J8dQAAznvcglhJAz8Ab8DURQ0BkmTD/QWIEQHb7Imh60T9A+ucuxAisJUCL/MqPtCgHQOQejotcPiJAaM6sDrhRQ0ARDFgnExItQIDsq0pNKAhA64oQsroiPEAYEtvjdrUXQF7CxXd5UgNAb1+TLlRQHUA=",
          "dtype": "f8",
          "shape": "7, 7"
         }
        }
       ],
       "layout": {
        "annotations": [
         {
          "font": {
           "size": 16
          },
          "showarrow": false,
          "text": "Interaction Matrix (Absolute Counts)",
          "x": 0.1875,
          "xanchor": "center",
          "xref": "paper",
          "y": 1,
          "yanchor": "bottom",
          "yref": "paper"
         },
         {
          "font": {
           "size": 16
          },
          "showarrow": false,
          "text": "Interaction Matrix (Row %)",
          "x": 0.8125,
          "xanchor": "center",
          "xref": "paper",
          "y": 1,
          "yanchor": "bottom",
          "yref": "paper"
         }
        ],
        "coloraxis": {
         "colorbar": {
          "title": {
           "text": "Count"
          },
          "x": 0.41
         },
         "colorscale": [
          [
           0,
           "rgb(247,251,255)"
          ],
          [
           0.125,
           "rgb(222,235,247)"
          ],
          [
           0.25,
           "rgb(198,219,239)"
          ],
          [
           0.375,
           "rgb(158,202,225)"
          ],
          [
           0.5,
           "rgb(107,174,214)"
          ],
          [
           0.625,
           "rgb(66,146,198)"
          ],
          [
           0.75,
           "rgb(33,113,181)"
          ],
          [
           0.875,
           "rgb(8,81,156)"
          ],
          [
           1,
           "rgb(8,48,107)"
          ]
         ]
        },
        "coloraxis2": {
         "colorbar": {
          "title": {
           "text": "%"
          },
          "x": 1.02
         },
         "colorscale": [
          [
           0,
           "rgb(247,251,255)"
          ],
          [
           0.125,
           "rgb(222,235,247)"
          ],
          [
           0.25,
           "rgb(198,219,239)"
          ],
          [
           0.375,
           "rgb(158,202,225)"
          ],
          [
           0.5,
           "rgb(107,174,214)"
          ],
          [
           0.625,
           "rgb(66,146,198)"
          ],
          [
           0.75,
           "rgb(33,113,181)"
          ],
          [
           0.875,
           "rgb(8,81,156)"
          ],
          [
           1,
           "rgb(8,48,107)"
          ]
         ]
        },
        "height": 600,
        "margin": {
         "b": 50,
         "l": 50,
         "r": 50,
         "t": 50
        },
        "template": {
         "data": {
          "bar": [
           {
            "error_x": {
             "color": "#2a3f5f"
            },
            "error_y": {
             "color": "#2a3f5f"
            },
            "marker": {
             "line": {
              "color": "#E5ECF6",
              "width": 0.5
             },
             "pattern": {
              "fillmode": "overlay",
              "size": 10,
              "solidity": 0.2
             }
            },
            "type": "bar"
           }
          ],
          "barpolar": [
           {
            "marker": {
             "line": {
              "color": "#E5ECF6",
              "width": 0.5
             },
             "pattern": {
              "fillmode": "overlay",
              "size": 10,
              "solidity": 0.2
             }
            },
            "type": "barpolar"
           }
          ],
          "carpet": [
           {
            "aaxis": {
             "endlinecolor": "#2a3f5f",
             "gridcolor": "white",
             "linecolor": "white",
             "minorgridcolor": "white",
             "startlinecolor": "#2a3f5f"
            },
            "baxis": {
             "endlinecolor": "#2a3f5f",
             "gridcolor": "white",
             "linecolor": "white",
             "minorgridcolor": "white",
             "startlinecolor": "#2a3f5f"
            },
            "type": "carpet"
           }
          ],
          "choropleth": [
           {
            "colorbar": {
             "outlinewidth": 0,
             "ticks": ""
            },
            "type": "choropleth"
           }
          ],
          "contour": [
           {
            "colorbar": {
             "outlinewidth": 0,
             "ticks": ""
            },
            "colorscale": [
             [
              0,
              "#0d0887"
             ],
             [
              0.1111111111111111,
              "#46039f"
             ],
             [
              0.2222222222222222,
              "#7201a8"
             ],
             [
              0.3333333333333333,
              "#9c179e"
             ],
             [
              0.4444444444444444,
              "#bd3786"
             ],
             [
              0.5555555555555556,
              "#d8576b"
             ],
             [
              0.6666666666666666,
              "#ed7953"
             ],
             [
              0.7777777777777778,
              "#fb9f3a"
             ],
             [
              0.8888888888888888,
              "#fdca26"
             ],
             [
              1,
              "#f0f921"
             ]
            ],
            "type": "contour"
           }
          ],
          "contourcarpet": [
           {
            "colorbar": {
             "outlinewidth": 0,
             "ticks": ""
            },
            "type": "contourcarpet"
           }
          ],
          "heatmap": [
           {
            "colorbar": {
             "outlinewidth": 0,
             "ticks": ""
            },
            "colorscale": [
             [
              0,
              "#0d0887"
             ],
             [
              0.1111111111111111,
              "#46039f"
             ],
             [
              0.2222222222222222,
              "#7201a8"
             ],
             [
              0.3333333333333333,
              "#9c179e"
             ],
             [
              0.4444444444444444,
              "#bd3786"
             ],
             [
              0.5555555555555556,
              "#d8576b"
             ],
             [
              0.6666666666666666,
              "#ed7953"
             ],
             [
              0.7777777777777778,
              "#fb9f3a"
             ],
             [
              0.8888888888888888,
              "#fdca26"
             ],
             [
              1,
              "#f0f921"
             ]
            ],
            "type": "heatmap"
           }
          ],
          "histogram": [
           {
            "marker": {
             "pattern": {
              "fillmode": "overlay",
              "size": 10,
              "solidity": 0.2
             }
            },
            "type": "histogram"
           }
          ],
          "histogram2d": [
           {
            "colorbar": {
             "outlinewidth": 0,
             "ticks": ""
            },
            "colorscale": [
             [
              0,
              "#0d0887"
             ],
             [
              0.1111111111111111,
              "#46039f"
             ],
             [
              0.2222222222222222,
              "#7201a8"
             ],
             [
              0.3333333333333333,
              "#9c179e"
             ],
             [
              0.4444444444444444,
              "#bd3786"
             ],
             [
              0.5555555555555556,
              "#d8576b"
             ],
             [
              0.6666666666666666,
              "#ed7953"
             ],
             [
              0.7777777777777778,
              "#fb9f3a"
             ],
             [
              0.8888888888888888,
              "#fdca26"
             ],
             [
              1,
              "#f0f921"
             ]
            ],
            "type": "histogram2d"
           }
          ],
          "histogram2dcontour": [
           {
            "colorbar": {
             "outlinewidth": 0,
             "ticks": ""
            },
            "colorscale": [
             [
              0,
              "#0d0887"
             ],
             [
              0.1111111111111111,
              "#46039f"
             ],
             [
              0.2222222222222222,
              "#7201a8"
             ],
             [
              0.3333333333333333,
              "#9c179e"
             ],
             [
              0.4444444444444444,
              "#bd3786"
             ],
             [
              0.5555555555555556,
              "#d8576b"
             ],
             [
              0.6666666666666666,
              "#ed7953"
             ],
             [
              0.7777777777777778,
              "#fb9f3a"
             ],
             [
              0.8888888888888888,
              "#fdca26"
             ],
             [
              1,
              "#f0f921"
             ]
            ],
            "type": "histogram2dcontour"
           }
          ],
          "mesh3d": [
           {
            "colorbar": {
             "outlinewidth": 0,
             "ticks": ""
            },
            "type": "mesh3d"
           }
          ],
          "parcoords": [
           {
            "line": {
             "colorbar": {
              "outlinewidth": 0,
              "ticks": ""
             }
            },
            "type": "parcoords"
           }
          ],
          "pie": [
           {
            "automargin": true,
            "type": "pie"
           }
          ],
          "scatter": [
           {
            "fillpattern": {
             "fillmode": "overlay",
             "size": 10,
             "solidity": 0.2
            },
            "type": "scatter"
           }
          ],
          "scatter3d": [
           {
            "line": {
             "colorbar": {
              "outlinewidth": 0,
              "ticks": ""
             }
            },
            "marker": {
             "colorbar": {
              "outlinewidth": 0,
              "ticks": ""
             }
            },
            "type": "scatter3d"
           }
          ],
          "scattercarpet": [
           {
            "marker": {
             "colorbar": {
              "outlinewidth": 0,
              "ticks": ""
             }
            },
            "type": "scattercarpet"
           }
          ],
          "scattergeo": [
           {
            "marker": {
             "colorbar": {
              "outlinewidth": 0,
              "ticks": ""
             }
            },
            "type": "scattergeo"
           }
          ],
          "scattergl": [
           {
            "marker": {
             "colorbar": {
              "outlinewidth": 0,
              "ticks": ""
             }
            },
            "type": "scattergl"
           }
          ],
          "scattermap": [
           {
            "marker": {
             "colorbar": {
              "outlinewidth": 0,
              "ticks": ""
             }
            },
            "type": "scattermap"
           }
          ],
          "scattermapbox": [
           {
            "marker": {
             "colorbar": {
              "outlinewidth": 0,
              "ticks": ""
             }
            },
            "type": "scattermapbox"
           }
          ],
          "scatterpolar": [
           {
            "marker": {
             "colorbar": {
              "outlinewidth": 0,
              "ticks": ""
             }
            },
            "type": "scatterpolar"
           }
          ],
          "scatterpolargl": [
           {
            "marker": {
             "colorbar": {
              "outlinewidth": 0,
              "ticks": ""
             }
            },
            "type": "scatterpolargl"
           }
          ],
          "scatterternary": [
           {
            "marker": {
             "colorbar": {
              "outlinewidth": 0,
              "ticks": ""
             }
            },
            "type": "scatterternary"
           }
          ],
          "surface": [
           {
            "colorbar": {
             "outlinewidth": 0,
             "ticks": ""
            },
            "colorscale": [
             [
              0,
              "#0d0887"
             ],
             [
              0.1111111111111111,
              "#46039f"
             ],
             [
              0.2222222222222222,
              "#7201a8"
             ],
             [
              0.3333333333333333,
              "#9c179e"
             ],
             [
              0.4444444444444444,
              "#bd3786"
             ],
             [
              0.5555555555555556,
              "#d8576b"
             ],
             [
              0.6666666666666666,
              "#ed7953"
             ],
             [
              0.7777777777777778,
              "#fb9f3a"
             ],
             [
              0.8888888888888888,
              "#fdca26"
             ],
             [
              1,
              "#f0f921"
             ]
            ],
            "type": "surface"
           }
          ],
          "table": [
           {
            "cells": {
             "fill": {
              "color": "#EBF0F8"
             },
             "line": {
              "color": "white"
             }
            },
            "header": {
             "fill": {
              "color": "#C8D4E3"
             },
             "line": {
              "color": "white"
             }
            },
            "type": "table"
           }
          ]
         },
         "layout": {
          "annotationdefaults": {
           "arrowcolor": "#2a3f5f",
           "arrowhead": 0,
           "arrowwidth": 1
          },
          "autotypenumbers": "strict",
          "coloraxis": {
           "colorbar": {
            "outlinewidth": 0,
            "ticks": ""
           }
          },
          "colorscale": {
           "diverging": [
            [
             0,
             "#8e0152"
            ],
            [
             0.1,
             "#c51b7d"
            ],
            [
             0.2,
             "#de77ae"
            ],
            [
             0.3,
             "#f1b6da"
            ],
            [
             0.4,
             "#fde0ef"
            ],
            [
             0.5,
             "#f7f7f7"
            ],
            [
             0.6,
             "#e6f5d0"
            ],
            [
             0.7,
             "#b8e186"
            ],
            [
             0.8,
             "#7fbc41"
            ],
            [
             0.9,
             "#4d9221"
            ],
            [
             1,
             "#276419"
            ]
           ],
           "sequential": [
            [
             0,
             "#0d0887"
            ],
            [
             0.1111111111111111,
             "#46039f"
            ],
            [
             0.2222222222222222,
             "#7201a8"
            ],
            [
             0.3333333333333333,
             "#9c179e"
            ],
            [
             0.4444444444444444,
             "#bd3786"
            ],
            [
             0.5555555555555556,
             "#d8576b"
            ],
            [
             0.6666666666666666,
             "#ed7953"
            ],
            [
             0.7777777777777778,
             "#fb9f3a"
            ],
            [
             0.8888888888888888,
             "#fdca26"
            ],
            [
             1,
             "#f0f921"
            ]
           ],
           "sequentialminus": [
            [
             0,
             "#0d0887"
            ],
            [
             0.1111111111111111,
             "#46039f"
            ],
            [
             0.2222222222222222,
             "#7201a8"
            ],
            [
             0.3333333333333333,
             "#9c179e"
            ],
            [
             0.4444444444444444,
             "#bd3786"
            ],
            [
             0.5555555555555556,
             "#d8576b"
            ],
            [
             0.6666666666666666,
             "#ed7953"
            ],
            [
             0.7777777777777778,
             "#fb9f3a"
            ],
            [
             0.8888888888888888,
             "#fdca26"
            ],
            [
             1,
             "#f0f921"
            ]
           ]
          },
          "colorway": [
           "#636efa",
           "#EF553B",
           "#00cc96",
           "#ab63fa",
           "#FFA15A",
           "#19d3f3",
           "#FF6692",
           "#B6E880",
           "#FF97FF",
           "#FECB52"
          ],
          "font": {
           "color": "#2a3f5f"
          },
          "geo": {
           "bgcolor": "white",
           "lakecolor": "white",
           "landcolor": "#E5ECF6",
           "showlakes": true,
           "showland": true,
           "subunitcolor": "white"
          },
          "hoverlabel": {
           "align": "left"
          },
          "hovermode": "closest",
          "mapbox": {
           "style": "light"
          },
          "paper_bgcolor": "white",
          "plot_bgcolor": "#E5ECF6",
          "polar": {
           "angularaxis": {
            "gridcolor": "white",
            "linecolor": "white",
            "ticks": ""
           },
           "bgcolor": "#E5ECF6",
           "radialaxis": {
            "gridcolor": "white",
            "linecolor": "white",
            "ticks": ""
           }
          },
          "scene": {
           "xaxis": {
            "backgroundcolor": "#E5ECF6",
            "gridcolor": "white",
            "gridwidth": 2,
            "linecolor": "white",
            "showbackground": true,
            "ticks": "",
            "zerolinecolor": "white"
           },
           "yaxis": {
            "backgroundcolor": "#E5ECF6",
            "gridcolor": "white",
            "gridwidth": 2,
            "linecolor": "white",
            "showbackground": true,
            "ticks": "",
            "zerolinecolor": "white"
           },
           "zaxis": {
            "backgroundcolor": "#E5ECF6",
            "gridcolor": "white",
            "gridwidth": 2,
            "linecolor": "white",
            "showbackground": true,
            "ticks": "",
            "zerolinecolor": "white"
           }
          },
          "shapedefaults": {
           "line": {
            "color": "#2a3f5f"
           }
          },
          "ternary": {
           "aaxis": {
            "gridcolor": "white",
            "linecolor": "white",
            "ticks": ""
           },
           "baxis": {
            "gridcolor": "white",
            "linecolor": "white",
            "ticks": ""
           },
           "bgcolor": "#E5ECF6",
           "caxis": {
            "gridcolor": "white",
            "linecolor": "white",
            "ticks": ""
           }
          },
          "title": {
           "x": 0.05
          },
          "xaxis": {
           "automargin": true,
           "gridcolor": "white",
           "linecolor": "white",
           "ticks": "",
           "title": {
            "standoff": 15
           },
           "zerolinecolor": "white",
           "zerolinewidth": 2
          },
          "yaxis": {
           "automargin": true,
           "gridcolor": "white",
           "linecolor": "white",
           "ticks": "",
           "title": {
            "standoff": 15
           },
           "zerolinecolor": "white",
           "zerolinewidth": 2
          }
         }
        },
        "width": 1400,
        "xaxis": {
         "anchor": "y",
         "domain": [
          0,
          0.375
         ],
         "title": {
          "text": "Target Party"
         }
        },
        "xaxis2": {
         "anchor": "y2",
         "domain": [
          0.625,
          1
         ],
         "title": {
          "text": "Target Party"
         }
        },
        "yaxis": {
         "anchor": "x",
         "domain": [
          0,
          1
         ],
         "title": {
          "text": "User Party"
         }
        },
        "yaxis2": {
         "anchor": "x2",
         "domain": [
          0,
          1
         ],
         "title": {
          "text": "User Party"
         }
        }
       }
      }
     },
     "metadata": {},
     "output_type": "display_data"
    },
    {
     "name": "stdout",
     "output_type": "stream",
     "text": [
      "[OK] Interaktive Heatmaps gespeichert: E:\\Final_Github_1\\MasterThesis_final\\data\\analysis\\Structural_Dynamics_6_3\\interaction_matrices_plotly.html\n",
      "[OK] Statische Heatmaps gespeichert: E:\\Final_Github_1\\MasterThesis_final\\data\\analysis\\Structural_Dynamics_6_3\\interaction_matrices_plotly.png\n"
     ]
    }
   ],
   "source": [
    "import plotly.graph_objects as go\n",
    "from plotly.subplots import make_subplots\n",
    "\n",
    "# Subplots mit extra Spacing\n",
    "fig = make_subplots(\n",
    "    rows=1, cols=2,\n",
    "    subplot_titles=(\"Interaction Matrix (Absolute Counts)\", \"Interaction Matrix (Row %)\"),\n",
    "    horizontal_spacing=0.25\n",
    ")\n",
    "\n",
    "# Heatmap 1: absolute counts\n",
    "fig.add_trace(\n",
    "    go.Heatmap(\n",
    "        z=matrix.values[::-1],                   # invert rows\n",
    "        x=matrix.columns,\n",
    "        y=matrix.index[::-1],                   # invert y labels\n",
    "        text=matrix.values[::-1],\n",
    "        texttemplate=\"%{text:.0f}\",\n",
    "        coloraxis=\"coloraxis1\"\n",
    "    ),\n",
    "    row=1, col=1\n",
    ")\n",
    "\n",
    "# Heatmap 2: row percentages\n",
    "fig.add_trace(\n",
    "    go.Heatmap(\n",
    "        z=matrix_percent.values[::-1],\n",
    "        x=matrix_percent.columns,\n",
    "        y=matrix_percent.index[::-1],\n",
    "        text=matrix_percent.round(1).values[::-1],\n",
    "        texttemplate=\"%{text:.1f}%\",\n",
    "        coloraxis=\"coloraxis2\"\n",
    "    ),\n",
    "    row=1, col=2\n",
    ")\n",
    "\n",
    "# Layout anpassen\n",
    "fig.update_layout(\n",
    "    height=600,\n",
    "    width=1400,\n",
    "    margin=dict(l=50, r=50, t=50, b=50),\n",
    "    coloraxis1=dict(colorscale=\"Blues\", colorbar=dict(title=\"Count\", x=0.41)),  # dichter an Plot\n",
    "    coloraxis2=dict(colorscale=\"Blues\", colorbar=dict(title=\"%\", x=1.02))\n",
    ")\n",
    "\n",
    "# Achsentitel\n",
    "fig.update_xaxes(title_text=\"Target Party\", row=1, col=1)\n",
    "fig.update_yaxes(title_text=\"User Party\", row=1, col=1)\n",
    "\n",
    "fig.update_xaxes(title_text=\"Target Party\", row=1, col=2)\n",
    "fig.update_yaxes(title_text=\"User Party\", row=1, col=2)\n",
    "\n",
    "# Anzeigen\n",
    "fig.show()\n",
    "\n",
    "# --- Export ---\n",
    "plot_html = EXPORT_PATH / \"interaction_matrices_plotly.html\"\n",
    "plot_png  = EXPORT_PATH / \"interaction_matrices_plotly.png\"\n",
    "\n",
    "fig.write_html(plot_html)\n",
    "fig.write_image(plot_png, scale=2)  # benötigt 'kaleido'\n",
    "\n",
    "print(f\"[OK] Interaktive Heatmaps gespeichert: {plot_html}\")\n",
    "print(f\"[OK] Statische Heatmaps gespeichert: {plot_png}\")\n"
   ]
  },
  {
   "cell_type": "code",
   "execution_count": 6,
   "id": "a6fee7ca",
   "metadata": {},
   "outputs": [
    {
     "data": {
      "text/html": [
       "<div>\n",
       "<style scoped>\n",
       "    .dataframe tbody tr th:only-of-type {\n",
       "        vertical-align: middle;\n",
       "    }\n",
       "\n",
       "    .dataframe tbody tr th {\n",
       "        vertical-align: top;\n",
       "    }\n",
       "\n",
       "    .dataframe thead th {\n",
       "        text-align: right;\n",
       "    }\n",
       "</style>\n",
       "<table border=\"1\" class=\"dataframe\">\n",
       "  <thead>\n",
       "    <tr style=\"text-align: right;\">\n",
       "      <th></th>\n",
       "      <th>party</th>\n",
       "      <th>chi2</th>\n",
       "      <th>p_value</th>\n",
       "      <th>dof</th>\n",
       "      <th>n_total</th>\n",
       "      <th>cross_distribution</th>\n",
       "      <th>within_distribution</th>\n",
       "    </tr>\n",
       "  </thead>\n",
       "  <tbody>\n",
       "    <tr>\n",
       "      <th>0</th>\n",
       "      <td>FDP</td>\n",
       "      <td>3189.78</td>\n",
       "      <td>0.0</td>\n",
       "      <td>2</td>\n",
       "      <td>35470</td>\n",
       "      <td>{'Ablehnung': 75.41, 'Neutral': 14.84, 'Zustimmung': 9.75}</td>\n",
       "      <td>{'Ablehnung': 52.1, 'Neutral': 14.41, 'Zustimmung': 33.49}</td>\n",
       "    </tr>\n",
       "    <tr>\n",
       "      <th>1</th>\n",
       "      <td>AfD</td>\n",
       "      <td>13122.46</td>\n",
       "      <td>0.0</td>\n",
       "      <td>2</td>\n",
       "      <td>84711</td>\n",
       "      <td>{'Ablehnung': 81.96, 'Neutral': 9.29, 'Zustimmung': 8.75}</td>\n",
       "      <td>{'Ablehnung': 48.06, 'Neutral': 11.33, 'Zustimmung': 40.62}</td>\n",
       "    </tr>\n",
       "    <tr>\n",
       "      <th>2</th>\n",
       "      <td>CDU/CSU</td>\n",
       "      <td>2963.18</td>\n",
       "      <td>0.0</td>\n",
       "      <td>2</td>\n",
       "      <td>160686</td>\n",
       "      <td>{'Ablehnung': 76.11, 'Neutral': 11.96, 'Zustimmung': 11.92}</td>\n",
       "      <td>{'Ablehnung': 66.2, 'Neutral': 11.76, 'Zustimmung': 22.04}</td>\n",
       "    </tr>\n",
       "    <tr>\n",
       "      <th>3</th>\n",
       "      <td>B90/GRÜNE</td>\n",
       "      <td>6258.85</td>\n",
       "      <td>0.0</td>\n",
       "      <td>2</td>\n",
       "      <td>98588</td>\n",
       "      <td>{'Ablehnung': 77.53, 'Neutral': 12.46, 'Zustimmung': 10.01}</td>\n",
       "      <td>{'Ablehnung': 58.18, 'Neutral': 12.43, 'Zustimmung': 29.38}</td>\n",
       "    </tr>\n",
       "    <tr>\n",
       "      <th>4</th>\n",
       "      <td>SPD</td>\n",
       "      <td>696.02</td>\n",
       "      <td>0.0</td>\n",
       "      <td>2</td>\n",
       "      <td>11161</td>\n",
       "      <td>{'Ablehnung': 75.89, 'Neutral': 13.44, 'Zustimmung': 10.67}</td>\n",
       "      <td>{'Ablehnung': 55.83, 'Neutral': 14.26, 'Zustimmung': 29.91}</td>\n",
       "    </tr>\n",
       "    <tr>\n",
       "      <th>5</th>\n",
       "      <td>BSW</td>\n",
       "      <td>671.02</td>\n",
       "      <td>0.0</td>\n",
       "      <td>2</td>\n",
       "      <td>11612</td>\n",
       "      <td>{'Ablehnung': 75.97, 'Neutral': 13.47, 'Zustimmung': 10.56}</td>\n",
       "      <td>{'Ablehnung': 55.48, 'Neutral': 16.45, 'Zustimmung': 28.07}</td>\n",
       "    </tr>\n",
       "    <tr>\n",
       "      <th>6</th>\n",
       "      <td>LINKE</td>\n",
       "      <td>2182.69</td>\n",
       "      <td>0.0</td>\n",
       "      <td>2</td>\n",
       "      <td>11763</td>\n",
       "      <td>{'Ablehnung': 76.36, 'Neutral': 14.86, 'Zustimmung': 8.78}</td>\n",
       "      <td>{'Ablehnung': 40.15, 'Neutral': 15.01, 'Zustimmung': 44.84}</td>\n",
       "    </tr>\n",
       "  </tbody>\n",
       "</table>\n",
       "</div>"
      ],
      "text/plain": [
       "       party      chi2  p_value  dof  n_total  \\\n",
       "0        FDP   3189.78      0.0    2    35470   \n",
       "1        AfD  13122.46      0.0    2    84711   \n",
       "2    CDU/CSU   2963.18      0.0    2   160686   \n",
       "3  B90/GRÜNE   6258.85      0.0    2    98588   \n",
       "4        SPD    696.02      0.0    2    11161   \n",
       "5        BSW    671.02      0.0    2    11612   \n",
       "6      LINKE   2182.69      0.0    2    11763   \n",
       "\n",
       "                                            cross_distribution  \\\n",
       "0   {'Ablehnung': 75.41, 'Neutral': 14.84, 'Zustimmung': 9.75}   \n",
       "1    {'Ablehnung': 81.96, 'Neutral': 9.29, 'Zustimmung': 8.75}   \n",
       "2  {'Ablehnung': 76.11, 'Neutral': 11.96, 'Zustimmung': 11.92}   \n",
       "3  {'Ablehnung': 77.53, 'Neutral': 12.46, 'Zustimmung': 10.01}   \n",
       "4  {'Ablehnung': 75.89, 'Neutral': 13.44, 'Zustimmung': 10.67}   \n",
       "5  {'Ablehnung': 75.97, 'Neutral': 13.47, 'Zustimmung': 10.56}   \n",
       "6   {'Ablehnung': 76.36, 'Neutral': 14.86, 'Zustimmung': 8.78}   \n",
       "\n",
       "                                           within_distribution  \n",
       "0   {'Ablehnung': 52.1, 'Neutral': 14.41, 'Zustimmung': 33.49}  \n",
       "1  {'Ablehnung': 48.06, 'Neutral': 11.33, 'Zustimmung': 40.62}  \n",
       "2   {'Ablehnung': 66.2, 'Neutral': 11.76, 'Zustimmung': 22.04}  \n",
       "3  {'Ablehnung': 58.18, 'Neutral': 12.43, 'Zustimmung': 29.38}  \n",
       "4  {'Ablehnung': 55.83, 'Neutral': 14.26, 'Zustimmung': 29.91}  \n",
       "5  {'Ablehnung': 55.48, 'Neutral': 16.45, 'Zustimmung': 28.07}  \n",
       "6  {'Ablehnung': 40.15, 'Neutral': 15.01, 'Zustimmung': 44.84}  "
      ]
     },
     "metadata": {},
     "output_type": "display_data"
    },
    {
     "name": "stdout",
     "output_type": "stream",
     "text": [
      "[OK] Chi²-Ergebnisse gespeichert: E:\\Final_Github_1\\MasterThesis_final\\data\\analysis\\Structural_Dynamics_6_3\\chi2_results.csv\n"
     ]
    }
   ],
   "source": [
    "import pandas as pd\n",
    "import numpy as np\n",
    "from scipy.stats import chi2_contingency\n",
    "\n",
    "results = []\n",
    "\n",
    "# 1. Interaktionstyp definieren\n",
    "df_assigned[\"interaction_type\"] = np.where(\n",
    "    df_assigned[\"user_party\"] == df_assigned[\"party\"], \"Within\", \"Cross\"\n",
    ")\n",
    "\n",
    "# 2. Pro Partei: Kontingenztabelle & Chi²-Test\n",
    "for party in df_assigned[\"user_party\"].unique():\n",
    "    subset = df_assigned[df_assigned[\"user_party\"] == party]\n",
    "    \n",
    "    # Kreuztabelle: Stance x Interaction\n",
    "    contingency = pd.crosstab(subset[\"pred\"], subset[\"interaction_type\"])\n",
    "    \n",
    "    # Chi²-Test\n",
    "    chi2, p, dof, expected = chi2_contingency(contingency)\n",
    "    \n",
    "    # Relative Verteilungen (Prozent, gerundet auf 2 Nachkommastellen)\n",
    "    proportions = contingency.div(contingency.sum(axis=0), axis=1) * 100\n",
    "    proportions = proportions.round(2)\n",
    "    \n",
    "    # Ergebnisse speichern\n",
    "    results.append({\n",
    "        \"party\": party,\n",
    "        \"chi2\": round(chi2, 2),\n",
    "        \"p_value\": round(p, 4),\n",
    "        \"dof\": dof,\n",
    "        \"n_total\": int(contingency.values.sum()),\n",
    "        \"cross_distribution\": proportions[\"Cross\"].to_dict() if \"Cross\" in proportions else {},\n",
    "        \"within_distribution\": proportions[\"Within\"].to_dict() if \"Within\" in proportions else {}\n",
    "    })\n",
    "\n",
    "# Ergebnis-Tabelle\n",
    "chi2_results = pd.DataFrame(results)\n",
    "pd.set_option(\"display.max_colwidth\", None)\n",
    "display(chi2_results)\n",
    "\n",
    "# --- Export Tabelle ---\n",
    "chi2_csv_path = EXPORT_PATH / \"chi2_results.csv\"\n",
    "chi2_results.to_csv(chi2_csv_path, sep=\";\", index=False, encoding=\"utf-8-sig\")\n",
    "print(f\"[OK] Chi²-Ergebnisse gespeichert: {chi2_csv_path}\")\n",
    "\n"
   ]
  },
  {
   "cell_type": "code",
   "execution_count": 7,
   "id": "2ffa361e",
   "metadata": {},
   "outputs": [
    {
     "data": {
      "text/html": [
       "<div>\n",
       "<style scoped>\n",
       "    .dataframe tbody tr th:only-of-type {\n",
       "        vertical-align: middle;\n",
       "    }\n",
       "\n",
       "    .dataframe tbody tr th {\n",
       "        vertical-align: top;\n",
       "    }\n",
       "\n",
       "    .dataframe thead th {\n",
       "        text-align: right;\n",
       "    }\n",
       "</style>\n",
       "<table border=\"1\" class=\"dataframe\">\n",
       "  <thead>\n",
       "    <tr style=\"text-align: right;\">\n",
       "      <th></th>\n",
       "      <th>user_party</th>\n",
       "      <th>gini_activity</th>\n",
       "    </tr>\n",
       "  </thead>\n",
       "  <tbody>\n",
       "    <tr>\n",
       "      <th>0</th>\n",
       "      <td>AfD</td>\n",
       "      <td>0.509250</td>\n",
       "    </tr>\n",
       "    <tr>\n",
       "      <th>1</th>\n",
       "      <td>B90/GRÜNE</td>\n",
       "      <td>0.486847</td>\n",
       "    </tr>\n",
       "    <tr>\n",
       "      <th>2</th>\n",
       "      <td>BSW</td>\n",
       "      <td>0.489109</td>\n",
       "    </tr>\n",
       "    <tr>\n",
       "      <th>3</th>\n",
       "      <td>CDU/CSU</td>\n",
       "      <td>0.511676</td>\n",
       "    </tr>\n",
       "    <tr>\n",
       "      <th>4</th>\n",
       "      <td>FDP</td>\n",
       "      <td>0.491838</td>\n",
       "    </tr>\n",
       "    <tr>\n",
       "      <th>5</th>\n",
       "      <td>LINKE</td>\n",
       "      <td>0.566263</td>\n",
       "    </tr>\n",
       "    <tr>\n",
       "      <th>6</th>\n",
       "      <td>SPD</td>\n",
       "      <td>0.465989</td>\n",
       "    </tr>\n",
       "  </tbody>\n",
       "</table>\n",
       "</div>"
      ],
      "text/plain": [
       "  user_party  gini_activity\n",
       "0        AfD       0.509250\n",
       "1  B90/GRÜNE       0.486847\n",
       "2        BSW       0.489109\n",
       "3    CDU/CSU       0.511676\n",
       "4        FDP       0.491838\n",
       "5      LINKE       0.566263\n",
       "6        SPD       0.465989"
      ]
     },
     "metadata": {},
     "output_type": "display_data"
    },
    {
     "name": "stdout",
     "output_type": "stream",
     "text": [
      "Overall Gini across all assigned users: 0.511\n",
      "[OK] Gini pro Partei gespeichert: E:\\Final_Github_1\\MasterThesis_final\\data\\analysis\\Structural_Dynamics_6_3\\gini_results.csv\n",
      "[OK] Gesamt-Gini gespeichert: E:\\Final_Github_1\\MasterThesis_final\\data\\analysis\\Structural_Dynamics_6_3\\gini_overall.csv\n"
     ]
    }
   ],
   "source": [
    "import pandas as pd\n",
    "import numpy as np\n",
    "\n",
    "def gini_coefficient(x):\n",
    "    \"\"\"\n",
    "    Berechnet den Gini-Koeffizienten für ein Array von Werten.\n",
    "    Formel: G = sum_i sum_j |x_i - x_j| / (2 n^2 mean(x))\n",
    "    \"\"\"\n",
    "    x = np.array(x, dtype=np.float64)\n",
    "    n = len(x)\n",
    "    if n == 0:\n",
    "        return np.nan\n",
    "    mean_x = np.mean(x)\n",
    "    if mean_x == 0:\n",
    "        return 0\n",
    "    diff_sum = np.abs(x[:, None] - x).sum()\n",
    "    return diff_sum / (2 * n**2 * mean_x)\n",
    "\n",
    "# 1. Tweets pro User & Partei zählen\n",
    "user_activity = (\n",
    "    df_assigned.groupby([\"user_party\", \"username\"])\n",
    "    .size()\n",
    "    .reset_index(name=\"tweet_count\")\n",
    ")\n",
    "\n",
    "# 2. Gini pro Partei berechnen\n",
    "gini_results = (\n",
    "    user_activity.groupby(\"user_party\")[\"tweet_count\"]\n",
    "    .apply(gini_coefficient)\n",
    "    .reset_index(name=\"gini_activity\")\n",
    ")\n",
    "\n",
    "# 3. Gesamten Gini berechnen (über alle Parteien hinweg)\n",
    "overall_gini = gini_coefficient(user_activity[\"tweet_count\"].values)\n",
    "overall_df = pd.DataFrame([{\"overall_gini\": overall_gini}])\n",
    "\n",
    "# 4. Ausgabe\n",
    "display(gini_results)\n",
    "print(f\"Overall Gini across all assigned users: {overall_gini:.3f}\")\n",
    "\n",
    "# 5. Export\n",
    "gini_results_path = EXPORT_PATH / \"gini_results.csv\"\n",
    "overall_gini_path = EXPORT_PATH / \"gini_overall.csv\"\n",
    "\n",
    "gini_results.to_csv(gini_results_path, sep=\";\", index=False, encoding=\"utf-8-sig\")\n",
    "overall_df.to_csv(overall_gini_path, sep=\";\", index=False, encoding=\"utf-8-sig\")\n",
    "\n",
    "print(f\"[OK] Gini pro Partei gespeichert: {gini_results_path}\")\n",
    "print(f\"[OK] Gesamt-Gini gespeichert: {overall_gini_path}\")\n"
   ]
  }
 ],
 "metadata": {
  "kernelspec": {
   "display_name": "Python 3",
   "language": "python",
   "name": "python3"
  },
  "language_info": {
   "codemirror_mode": {
    "name": "ipython",
    "version": 3
   },
   "file_extension": ".py",
   "mimetype": "text/x-python",
   "name": "python",
   "nbconvert_exporter": "python",
   "pygments_lexer": "ipython3",
   "version": "3.10.9"
  }
 },
 "nbformat": 4,
 "nbformat_minor": 5
}
